{
 "cells": [
  {
   "cell_type": "code",
   "execution_count": 1,
   "metadata": {},
   "outputs": [],
   "source": [
    "import pandas as pd\n",
    "import numpy as np"
   ]
  },
  {
   "cell_type": "code",
   "execution_count": 2,
   "metadata": {},
   "outputs": [],
   "source": [
    "import requests\n",
    "import urllib.parse\n",
    "def getCoordinates(address):\n",
    "\n",
    "    url = 'https://nominatim.openstreetmap.org/search/' + urllib.parse.quote(address) +'?format=json'\n",
    "    response = requests.get(url).json()\n",
    "    # print(response)\n",
    "    if(len(response)>0):\n",
    "        return response[0][\"lat\"],response[0][\"lon\"]\n",
    "    else:\n",
    "        return np.NaN,np.NaN;"
   ]
  },
  {
   "cell_type": "code",
   "execution_count": 3,
   "metadata": {},
   "outputs": [],
   "source": [
    "df=pd.read_csv(\"tripadvisor_dataset/restaurant_listings.csv\")"
   ]
  },
  {
   "cell_type": "code",
   "execution_count": 5,
   "metadata": {},
   "outputs": [],
   "source": [
    "df['city'] = df[\"address\"].str.split(', ').str[-1].str.split(\" \").str[0]\n",
    "eerste=df[:500]\n",
    "tweede=df[500:1000]\n",
    "derde=df[1000:1500]\n",
    "vierde=df[1500:2000]\n",
    "vijfde=df[2000:]"
   ]
  },
  {
   "cell_type": "code",
   "execution_count": 6,
   "metadata": {},
   "outputs": [],
   "source": [
    "coords_eerste=eerste.apply(lambda row : getCoordinates(row[\"address\"]),axis=1)"
   ]
  },
  {
   "cell_type": "code",
   "execution_count": 17,
   "metadata": {},
   "outputs": [],
   "source": [
    "coords_eerste.to_csv(\"coords_eerste.csv\")"
   ]
  },
  {
   "cell_type": "code",
   "execution_count": 18,
   "metadata": {},
   "outputs": [],
   "source": [
    "coords_tweede=tweede.apply(lambda row : getCoordinates(row[\"address\"]),axis=1)"
   ]
  },
  {
   "cell_type": "code",
   "execution_count": 19,
   "metadata": {},
   "outputs": [],
   "source": [
    "coords_tweede.to_csv(\"coords_tweede.csv\")"
   ]
  },
  {
   "cell_type": "code",
   "execution_count": 20,
   "metadata": {},
   "outputs": [],
   "source": [
    "coords_derde=derde.apply(lambda row : getCoordinates(row[\"address\"]),axis=1)"
   ]
  },
  {
   "cell_type": "code",
   "execution_count": 21,
   "metadata": {},
   "outputs": [],
   "source": [
    "coords_derde.to_csv(\"coords_derde.csv\")"
   ]
  },
  {
   "cell_type": "code",
   "execution_count": 22,
   "metadata": {},
   "outputs": [],
   "source": [
    "coords_vierde=vierde.apply(lambda row : getCoordinates(row[\"address\"]),axis=1)"
   ]
  },
  {
   "cell_type": "code",
   "execution_count": 23,
   "metadata": {},
   "outputs": [],
   "source": [
    "coords_vierde.to_csv(\"coords_vierde.csv\")"
   ]
  },
  {
   "cell_type": "code",
   "execution_count": 24,
   "metadata": {},
   "outputs": [],
   "source": [
    "coords_vijfde=vijfde.apply(lambda row : getCoordinates(row[\"address\"]),axis=1)"
   ]
  },
  {
   "cell_type": "code",
   "execution_count": 25,
   "metadata": {},
   "outputs": [],
   "source": [
    "coords_vijfde.to_csv(\"coords_vijfde.csv\")"
   ]
  },
  {
   "cell_type": "code",
   "execution_count": 7,
   "metadata": {},
   "outputs": [
    {
     "data": {
      "text/plain": [
       "0                     (51.0548994, 3.7223248)\n",
       "1             (50.7887051, 4.052819574178704)\n",
       "2                                  (nan, nan)\n",
       "3                     (51.0582196, 3.7222621)\n",
       "4                     (51.0268308, 4.1005587)\n",
       "5              (51.054784, 3.715147529390401)\n",
       "6                     (51.0563899, 3.7200107)\n",
       "7                     (51.0172842, 3.7352118)\n",
       "8                                  (nan, nan)\n",
       "9     (51.057872950000004, 3.723593150457762)\n",
       "10           (51.0579981, 3.7233312548638184)\n",
       "11                                 (nan, nan)\n",
       "12                    (50.9238167, 3.4470247)\n",
       "13                    (51.1690027, 4.1391715)\n",
       "14            (50.9036447, 3.509640294271243)\n",
       "15                    (50.9196162, 3.6129843)\n",
       "16    (50.930108950000005, 4.041852779124971)\n",
       "17                    (51.0548744, 3.7136199)\n",
       "18                    (51.0542464, 3.7173773)\n",
       "19                    (50.7458853, 3.6023023)\n",
       "dtype: object"
      ]
     },
     "execution_count": 7,
     "metadata": {},
     "output_type": "execute_result"
    }
   ],
   "source": [
    "coords_eerste"
   ]
  },
  {
   "cell_type": "code",
   "execution_count": 28,
   "metadata": {},
   "outputs": [
    {
     "data": {
      "text/plain": [
       "500                    (51.1064198, 3.6303079)\n",
       "501           (51.22722365, 3.752044665562572)\n",
       "502    (51.026329399999995, 4.216531067236005)\n",
       "503          (50.96607025, 4.0370028243320615)\n",
       "504           (51.05699085, 3.722443696061501)\n",
       "                        ...                   \n",
       "995    (50.937662450000005, 4.034754187149829)\n",
       "996                    (51.1857364, 3.5590313)\n",
       "997                                 (nan, nan)\n",
       "998            (51.1605344, 4.150798994457261)\n",
       "999                    (51.2797327, 3.6260755)\n",
       "Length: 500, dtype: object"
      ]
     },
     "execution_count": 28,
     "metadata": {},
     "output_type": "execute_result"
    }
   ],
   "source": [
    "coords_tweede"
   ]
  },
  {
   "cell_type": "code",
   "execution_count": 42,
   "metadata": {},
   "outputs": [],
   "source": [
    "a=pd.concat([coords_eerste,coords_tweede,coords_derde,coords_vierde,coords_vijfde])"
   ]
  },
  {
   "cell_type": "code",
   "execution_count": 43,
   "metadata": {},
   "outputs": [],
   "source": [
    "a=pd.DataFrame({\"coord\":a,\"id\":df.id})"
   ]
  },
  {
   "cell_type": "code",
   "execution_count": 50,
   "metadata": {},
   "outputs": [],
   "source": [
    "a.to_csv(\"coordinates.csv\")"
   ]
  },
  {
   "cell_type": "code",
   "execution_count": 53,
   "metadata": {},
   "outputs": [],
   "source": [
    "a.set_index(\"id\").to_csv(\"coordinates.csv\")"
   ]
  },
  {
   "cell_type": "code",
   "execution_count": 54,
   "metadata": {},
   "outputs": [
    {
     "data": {
      "text/html": [
       "<div>\n",
       "<style scoped>\n",
       "    .dataframe tbody tr th:only-of-type {\n",
       "        vertical-align: middle;\n",
       "    }\n",
       "\n",
       "    .dataframe tbody tr th {\n",
       "        vertical-align: top;\n",
       "    }\n",
       "\n",
       "    .dataframe thead th {\n",
       "        text-align: right;\n",
       "    }\n",
       "</style>\n",
       "<table border=\"1\" class=\"dataframe\">\n",
       "  <thead>\n",
       "    <tr style=\"text-align: right;\">\n",
       "      <th></th>\n",
       "      <th>coord</th>\n",
       "      <th>id</th>\n",
       "    </tr>\n",
       "  </thead>\n",
       "  <tbody>\n",
       "    <tr>\n",
       "      <th>0</th>\n",
       "      <td>(51.0548994, 3.7223248)</td>\n",
       "      <td>13969825</td>\n",
       "    </tr>\n",
       "    <tr>\n",
       "      <th>1</th>\n",
       "      <td>(50.7887051, 4.052819574178704)</td>\n",
       "      <td>740727</td>\n",
       "    </tr>\n",
       "    <tr>\n",
       "      <th>2</th>\n",
       "      <td>(nan, nan)</td>\n",
       "      <td>12188645</td>\n",
       "    </tr>\n",
       "    <tr>\n",
       "      <th>3</th>\n",
       "      <td>(51.0582196, 3.7222621)</td>\n",
       "      <td>9710340</td>\n",
       "    </tr>\n",
       "    <tr>\n",
       "      <th>4</th>\n",
       "      <td>(51.0268308, 4.1005587)</td>\n",
       "      <td>8298124</td>\n",
       "    </tr>\n",
       "    <tr>\n",
       "      <th>...</th>\n",
       "      <td>...</td>\n",
       "      <td>...</td>\n",
       "    </tr>\n",
       "    <tr>\n",
       "      <th>2576</th>\n",
       "      <td>(50.8528124, 3.7866609)</td>\n",
       "      <td>18220557</td>\n",
       "    </tr>\n",
       "    <tr>\n",
       "      <th>2577</th>\n",
       "      <td>(50.9032568, 3.5050821)</td>\n",
       "      <td>23571474</td>\n",
       "    </tr>\n",
       "    <tr>\n",
       "      <th>2578</th>\n",
       "      <td>(50.947908850000005, 4.097626326789348)</td>\n",
       "      <td>3956680</td>\n",
       "    </tr>\n",
       "    <tr>\n",
       "      <th>2579</th>\n",
       "      <td>(50.9478251, 4.098753863305806)</td>\n",
       "      <td>23363568</td>\n",
       "    </tr>\n",
       "    <tr>\n",
       "      <th>2580</th>\n",
       "      <td>(50.9999861, 3.548880282553289)</td>\n",
       "      <td>24027867</td>\n",
       "    </tr>\n",
       "  </tbody>\n",
       "</table>\n",
       "<p>2581 rows × 2 columns</p>\n",
       "</div>"
      ],
      "text/plain": [
       "                                        coord        id\n",
       "0                     (51.0548994, 3.7223248)  13969825\n",
       "1             (50.7887051, 4.052819574178704)    740727\n",
       "2                                  (nan, nan)  12188645\n",
       "3                     (51.0582196, 3.7222621)   9710340\n",
       "4                     (51.0268308, 4.1005587)   8298124\n",
       "...                                       ...       ...\n",
       "2576                  (50.8528124, 3.7866609)  18220557\n",
       "2577                  (50.9032568, 3.5050821)  23571474\n",
       "2578  (50.947908850000005, 4.097626326789348)   3956680\n",
       "2579          (50.9478251, 4.098753863305806)  23363568\n",
       "2580          (50.9999861, 3.548880282553289)  24027867\n",
       "\n",
       "[2581 rows x 2 columns]"
      ]
     },
     "execution_count": 54,
     "metadata": {},
     "output_type": "execute_result"
    }
   ],
   "source": [
    "a"
   ]
  },
  {
   "cell_type": "code",
   "execution_count": 22,
   "metadata": {},
   "outputs": [
    {
     "data": {
      "text/plain": [
       "0     13969825\n",
       "1       740727\n",
       "2     12188645\n",
       "3      9710340\n",
       "4      8298124\n",
       "5      2313967\n",
       "6     10032417\n",
       "7     23486686\n",
       "8      1755070\n",
       "9      1557772\n",
       "10      740670\n",
       "11     6943054\n",
       "12    21182656\n",
       "13     6959268\n",
       "14      967590\n",
       "15     2602975\n",
       "16      740625\n",
       "17      784367\n",
       "18     1072090\n",
       "19     3792504\n",
       "20    12902687\n",
       "21     2720670\n",
       "22     4439470\n",
       "23     1057733\n",
       "24      740681\n",
       "25     4014169\n",
       "26     3351157\n",
       "27      814598\n",
       "28     7214432\n",
       "29     6578428\n",
       "30     6878996\n",
       "31     6412828\n",
       "32     1757529\n",
       "33     1751252\n",
       "34     3595923\n",
       "35    10464254\n",
       "36    12233896\n",
       "37     8423272\n",
       "38    24077843\n",
       "39     4895257\n",
       "Name: id, dtype: int64"
      ]
     },
     "execution_count": 22,
     "metadata": {},
     "output_type": "execute_result"
    }
   ],
   "source": [
    "df.id[:40]"
   ]
  },
  {
   "cell_type": "code",
   "execution_count": 8,
   "metadata": {},
   "outputs": [
    {
     "data": {
      "text/plain": [
       "0                     (51.0548994, 3.7223248)\n",
       "1             (50.7887051, 4.052819574178704)\n",
       "2                                  (nan, nan)\n",
       "3                     (51.0582196, 3.7222621)\n",
       "4                     (51.0268308, 4.1005587)\n",
       "5              (51.054784, 3.715147529390401)\n",
       "6                     (51.0563899, 3.7200107)\n",
       "7                     (51.0172842, 3.7352118)\n",
       "8                                  (nan, nan)\n",
       "9     (51.057872950000004, 3.723593150457762)\n",
       "10           (51.0579981, 3.7233312548638184)\n",
       "11                                 (nan, nan)\n",
       "12                    (50.9238167, 3.4470247)\n",
       "13                    (51.1690027, 4.1391715)\n",
       "14            (50.9036447, 3.509640294271243)\n",
       "15                    (50.9196162, 3.6129843)\n",
       "16    (50.930108950000005, 4.041852779124971)\n",
       "17                    (51.0548744, 3.7136199)\n",
       "18                    (51.0542464, 3.7173773)\n",
       "19                    (50.7458853, 3.6023023)\n",
       "dtype: object"
      ]
     },
     "execution_count": 8,
     "metadata": {},
     "output_type": "execute_result"
    }
   ],
   "source": [
    "df_coo[\"coord\"] = df_coo[\"coord\"].str.replace(\"(\",\"\").str.replace(\")\",\"\").str.replace(\"\\'\", \"\").str.replace(\"nan\",\"0\")\n",
    "df_coo[[\"latitude\", \"longitude\"]]  = df_coo[\"coord\"].str.split(\",\",1, expand=True)\n",
    "\n",
    "df_coo['latitude'] = pd.to_numeric(df_coo['latitude'])\n",
    "df_coo['longitude'] = pd.to_numeric(df_coo['longitude'])\n",
    "df_coo.drop(columns=[\"coord\"],inplace=True)"
   ]
  },
  {
   "cell_type": "code",
   "execution_count": null,
   "metadata": {},
   "outputs": [],
   "source": []
  }
 ],
 "metadata": {
  "kernelspec": {
   "display_name": "Python 3.9.12 ('base')",
   "language": "python",
   "name": "python3"
  },
  "language_info": {
   "codemirror_mode": {
    "name": "ipython",
    "version": 3
   },
   "file_extension": ".py",
   "mimetype": "text/x-python",
   "name": "python",
   "nbconvert_exporter": "python",
   "pygments_lexer": "ipython3",
   "version": "3.9.12"
  },
  "orig_nbformat": 4,
  "vscode": {
   "interpreter": {
    "hash": "b781f973879b6653a182b86dce637bbad8607b90046e75a81b5febd27741eaed"
   }
  }
 },
 "nbformat": 4,
 "nbformat_minor": 2
}

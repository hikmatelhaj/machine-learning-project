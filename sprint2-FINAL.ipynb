{
 "cells": [
  {
   "cell_type": "markdown",
   "metadata": {},
   "source": [
    "\n",
    "inladen images\n",
    "resizen\n",
    "bekijken van voorbeeld\n",
    "hog RIDEEEEEEER, concluderen dat hog slecht is\n",
    "surf uitproberen, en zeggen dat dat niet lukte omdat gepatenteerd\n",
    "sift (xander zijn comments)\n",
    "recommendation system HIKMAT, input image output restaurnat\n",
    "ram deel, classifciatie\n",
    "regressie op iets\n",
    "nog extra ideeen"
   ]
  }
 ],
 "metadata": {
  "kernelspec": {
   "display_name": "Python 3.10.2 64-bit",
   "language": "python",
   "name": "python3"
  },
  "language_info": {
   "name": "python",
   "version": "3.10.2"
  },
  "orig_nbformat": 4,
  "vscode": {
   "interpreter": {
    "hash": "218548c374b4bbf341f954c1c86cc69d1fe99eef78085dfb9916d33ba2c70687"
   }
  }
 },
 "nbformat": 4,
 "nbformat_minor": 2
}

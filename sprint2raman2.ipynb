{
 "cells": [
  {
   "cell_type": "markdown",
   "metadata": {},
   "source": [
    "# sprint 2"
   ]
  },
  {
   "cell_type": "markdown",
   "metadata": {},
   "source": [
    "## classification of resaurant\n",
    "When you get restaurant recommendations as a user you might want a functionality to filter out restaurants on price range. As a restaurant owner you might want to know what other restaurant features influence your price tag. That's why we want to create a classification model that classifies restaurants into cheap, medium of expensive categories.\n",
    "\n",
    "To do this we will try out different clasifiers on default settings and then do a gridsearch on the most promising ones to get the best model"
   ]
  },
  {
   "cell_type": "code",
   "execution_count": 295,
   "metadata": {},
   "outputs": [],
   "source": [
    "from fastai.imports import *\n",
    "\n",
    "original_df = pd.read_csv(\"tripadvisor_dataset/restaurant_listings.csv\")\n",
    "pd.set_option(\"display.max_columns\", None)\n"
   ]
  },
  {
   "cell_type": "markdown",
   "metadata": {},
   "source": [
    "in short, we will do the same preprocessing as we did in sprint 1"
   ]
  },
  {
   "cell_type": "code",
   "execution_count": 296,
   "metadata": {},
   "outputs": [],
   "source": [
    "#see notebook sprint 1 for details on how we got this\n",
    "coords=pd.read_csv(\"tripadvisor_dataset\\coordinaten2.csv\").replace(0,np.nan)"
   ]
  },
  {
   "cell_type": "code",
   "execution_count": 297,
   "metadata": {},
   "outputs": [],
   "source": [
    "original_df[\"rank\"]=original_df[\"rank\"].str.replace(\"#\",\"\").astype(float)\n",
    "original_df[\"general rating\"]=original_df[\"general rating\"].map(lambda x: x.split(\" \")[0]).astype(float)\n",
    "original_df[\"number of reviews\"]=original_df[\"number of reviews\"].map(lambda x: x.split(\" \")[0].replace(\",\",\"\")).astype(float)\n",
    "original_df['city'] = original_df[\"address\"].str.split(', ').str[-1].str.split(\" \").str[0]\n",
    "first_tag=original_df.tags.str.split(\"|\",expand=True)[0].dropna()\n",
    "ranges=first_tag[first_tag.str.find(\"$\")!=-1]\n",
    "original_df[\"price_tag\"]=ranges\n",
    "original_df=original_df.merge(coords,on=\"id\")\n",
    "original_df.drop(columns=[\"food rating\", \"service rating\",\"price range\"], inplace=True)"
   ]
  },
  {
   "cell_type": "markdown",
   "metadata": {},
   "source": [
    "*NOTE* we can do this preprocessing on the original df because we are not aggregating data, each row is preprocessed individually (we are not using mean/mode/median/...)"
   ]
  },
  {
   "cell_type": "code",
   "execution_count": 298,
   "metadata": {},
   "outputs": [
    {
     "data": {
      "text/plain": [
       "Index(['rank', 'restaurant name', 'general rating', 'number of reviews',\n",
       "       'tags', 'address', 'phone number', 'website url', 'menu url',\n",
       "       'timetable', 'email address', 'travelers choice', 'michelin',\n",
       "       'value rating', 'atmosphere rating', 'description', 'dutch description',\n",
       "       'cuisines', 'special diets', 'meals', 'restaurant features', 'id',\n",
       "       'city', 'price_tag', 'latitude', 'longitude'],\n",
       "      dtype='object')"
      ]
     },
     "execution_count": 298,
     "metadata": {},
     "output_type": "execute_result"
    }
   ],
   "source": [
    "original_df.columns"
   ]
  },
  {
   "cell_type": "markdown",
   "metadata": {},
   "source": [
    "now we will split the data and use a seed ;) but because we want to actually have price tags (our labels) we will remove them from our data first before making the train test split. In the end we can use out model to actually fill in the missing price tags "
   ]
  },
  {
   "cell_type": "code",
   "execution_count": 299,
   "metadata": {},
   "outputs": [],
   "source": [
    "df_with_price_tag=original_df[~original_df.price_tag.isna()].copy()"
   ]
  },
  {
   "cell_type": "code",
   "execution_count": 300,
   "metadata": {},
   "outputs": [
    {
     "data": {
      "text/plain": [
       "0       $$ - $$$\n",
       "1           $$$$\n",
       "2       $$ - $$$\n",
       "3       $$ - $$$\n",
       "4       $$ - $$$\n",
       "          ...   \n",
       "2563           $\n",
       "2564           $\n",
       "2566           $\n",
       "2568    $$ - $$$\n",
       "2574    $$ - $$$\n",
       "Name: price_tag, Length: 1943, dtype: object"
      ]
     },
     "execution_count": 300,
     "metadata": {},
     "output_type": "execute_result"
    }
   ],
   "source": [
    "df_with_price_tag.price_tag"
   ]
  },
  {
   "cell_type": "markdown",
   "metadata": {},
   "source": [
    "we will also remove features that won't help with the classification\n"
   ]
  },
  {
   "cell_type": "code",
   "execution_count": 301,
   "metadata": {},
   "outputs": [],
   "source": [
    "df_with_price_tag.drop(columns=[\"restaurant name\",\"address\",\"phone number\",\"website url\",\"menu url\",\"timetable\",\"email address\",\"id\",\"tags\"],inplace=True)"
   ]
  },
  {
   "cell_type": "code",
   "execution_count": 302,
   "metadata": {},
   "outputs": [],
   "source": [
    "from sklearn.model_selection import train_test_split\n",
    "\n",
    "df_train, df_test = train_test_split(df_with_price_tag,test_size=0.2,train_size=0.8,shuffle=True,random_state=42)\n"
   ]
  },
  {
   "cell_type": "markdown",
   "metadata": {},
   "source": [
    "Before we start with the feature engineering part I would start by making a baseline classifier, the random forest. I chose to do this because it is very difficult to do something wrong here and also hard to overfit (possible if your trees are very deep and you only have a few of them). The results are also interpretable, we can see which features are used to split our data (the most important features) and we can focus on those in our other classifier models.\n",
    "\n",
    "\n",
    "inspiration from [this](https://www.kaggle.com/code/jhoward/how-random-forests-really-work) notebook used in the course [Practical Deep Learning for Coders 2022](https://www.youtube.com/watch?v=8SF_h3xF3cE&list=PLfYUBJiXbdtSvpQjSnJJ_PmDQB_VyT5iU&ab_channel=JeremyHoward)"
   ]
  },
  {
   "cell_type": "code",
   "execution_count": 303,
   "metadata": {},
   "outputs": [],
   "source": [
    "# from sklearn.ensemble import RandomForestClassifier\n",
    "\n",
    "# rf = RandomForestClassifier(100, min_samples_leaf=5)\n",
    "# rf.fit(trn_xs, trn_y);\n",
    "# mean_absolute_error(val_y, rf.predict(val_xs))"
   ]
  },
  {
   "cell_type": "markdown",
   "metadata": {},
   "source": [
    "now let's start with the feature engineering part, as we've learned our model can only interpret numbers so as input we must turn all our attributes into numerical values\n",
    "\n",
    "for the attributes that are already numerical we can look for feature scaling methods."
   ]
  },
  {
   "cell_type": "markdown",
   "metadata": {},
   "source": [
    "### numerical values"
   ]
  },
  {
   "cell_type": "code",
   "execution_count": 304,
   "metadata": {},
   "outputs": [],
   "source": [
    "numerics = ['int16', 'int32', 'int64', 'float16', 'float32', 'float64']\n",
    "numerical_cols=df_train.select_dtypes(numerics).columns"
   ]
  },
  {
   "cell_type": "code",
   "execution_count": 305,
   "metadata": {},
   "outputs": [
    {
     "data": {
      "image/png": "[encoded data removed]",
      "text/plain": [
       "<Figure size 1000x1500 with 7 Axes>"
      ]
     },
     "metadata": {},
     "output_type": "display_data"
    }
   ],
   "source": [
    "fig=plt.figure(figsize=(10,15))\n",
    "for i, col in enumerate(numerical_cols):\n",
    "    plt.subplot(4,2,i+1)\n",
    "    sns.histplot(df_train[col])\n",
    "fig.tight_layout()\n",
    "plt.show()"
   ]
  },
  {
   "cell_type": "markdown",
   "metadata": {},
   "source": [
    "#### rank and number of reviews"
   ]
  },
  {
   "cell_type": "markdown",
   "metadata": {},
   "source": [
    "we can see the rank and number of reviews have along tail distribution so I would take the log of the data first, and then apply standardization."
   ]
  },
  {
   "cell_type": "code",
   "execution_count": 306,
   "metadata": {},
   "outputs": [
    {
     "name": "stderr",
     "output_type": "stream",
     "text": [
      "d:\\programmas_unif\\miniconda\\lib\\site-packages\\pandas\\core\\arraylike.py:397: RuntimeWarning: divide by zero encountered in log\n",
      "  result = getattr(ufunc, method)(*inputs, **kwargs)\n"
     ]
    },
    {
     "data": {
      "image/png": "[encoded data removed]",
      "text/plain": [
       "<Figure size 1000x400 with 4 Axes>"
      ]
     },
     "metadata": {},
     "output_type": "display_data"
    }
   ],
   "source": [
    "fig=plt.figure(figsize=(10,4))\n",
    "plt.subplot(2,2,1)\n",
    "sns.histplot(df_train[\"rank\"])\n",
    "plt.subplot(2,2,2)\n",
    "sns.histplot(np.log(df_train[\"rank\"]))\n",
    "plt.subplot(2,2,3)\n",
    "sns.histplot(df_train[\"number of reviews\"])\n",
    "plt.subplot(2,2,4)\n",
    "sns.histplot(np.log(df_train[\"number of reviews\"]))\n",
    "fig.tight_layout()\n",
    "plt.show()\n"
   ]
  },
  {
   "cell_type": "markdown",
   "metadata": {},
   "source": [
    "It already looks so much better! we will keep this but because sometimes the number of reviews is zero we will add a +1"
   ]
  },
  {
   "cell_type": "code",
   "execution_count": 307,
   "metadata": {},
   "outputs": [],
   "source": [
    "##WE WILL DO THIS AFTER IMPUTATION\n",
    "# df_train[\"lg_rank\"]=np.log(df_train[\"rank\"])\n",
    "# df_train[\"lg_reviews\"]=np.log(df_train[\"number of reviews\"]+1)"
   ]
  },
  {
   "cell_type": "markdown",
   "metadata": {},
   "source": [
    "#### general rating, atmosphere rating and value rating\n",
    "\n",
    "look at these three again without the -1's"
   ]
  },
  {
   "cell_type": "code",
   "execution_count": 308,
   "metadata": {},
   "outputs": [
    {
     "data": {
      "image/png": "[encoded data removed]",
      "text/plain": [
       "<Figure size 1000x400 with 3 Axes>"
      ]
     },
     "metadata": {},
     "output_type": "display_data"
    }
   ],
   "source": [
    "fig=plt.figure(figsize=(10,4))\n",
    "plt.subplot(2,2,1)\n",
    "sns.histplot(df_train[\"general rating\"].replace(-1,np.nan))\n",
    "plt.subplot(2,2,2)\n",
    "sns.histplot(df_train[\"atmosphere rating\"].replace(-1,np.nan))\n",
    "plt.subplot(2,2,3)\n",
    "sns.histplot(df_train[\"value rating\"].replace(-1,np.nan))\n",
    "fig.tight_layout()\n",
    "plt.show()"
   ]
  },
  {
   "cell_type": "markdown",
   "metadata": {},
   "source": [
    "this already looks acceptable"
   ]
  },
  {
   "cell_type": "markdown",
   "metadata": {},
   "source": [
    "#### lat & lon\n",
    "for the coordinates we think it's best just to apply standardization to them\n",
    "\n",
    "and for the missing data we wrote a script that derives the center latitude and longitude from the city and we will fill it in with those coordinates"
   ]
  },
  {
   "cell_type": "markdown",
   "metadata": {},
   "source": [
    "#### Missing values\n",
    "Because our model won't like NANs we have to replace them by something. We decided to replace them with the median of the corresponding feature. But  we also think having a missing value can actually be a very good predictor. Thats why we will ad a \"missing\" column when we have a missing value"
   ]
  },
  {
   "cell_type": "code",
   "execution_count": 309,
   "metadata": {},
   "outputs": [],
   "source": [
    "df_train[\"rank_missing\"]=0\n",
    "df_train[\"atmosphere_missing\"]=0\n",
    "df_train[\"value_missing\"]=0\n",
    "df_train[\"general_missing\"]=0"
   ]
  },
  {
   "cell_type": "code",
   "execution_count": 310,
   "metadata": {},
   "outputs": [],
   "source": [
    "# df_train.loc[df_train[\"atmosphere rating\"]==-1,\"atmosphere rating\"] = np.nan\n",
    "df_train[\"atmosphere rating\"]=df_train[\"atmosphere rating\"].replace(-1,np.nan)\n",
    "df_train[\"value rating\"]=df_train[\"value rating\"].replace(-1,np.nan)\n",
    "df_train[\"general rating\"]=df_train[\"general rating\"].replace(-1,np.nan)"
   ]
  },
  {
   "cell_type": "code",
   "execution_count": 311,
   "metadata": {},
   "outputs": [],
   "source": [
    "df_train.loc[df_train[\"rank\"].isna(),\"rank_missing\"] = 1\n",
    "df_train.loc[df_train[\"atmosphere rating\"].isna(),\"atmosphere_missing\"] = 1\n",
    "df_train.loc[df_train[\"value rating\"].isna(),\"value_missing\"] = 1\n",
    "df_train.loc[df_train[\"general rating\"].isna(),\"general_missing\"] = 1"
   ]
  },
  {
   "cell_type": "markdown",
   "metadata": {},
   "source": [
    "imputing our missing values with the median"
   ]
  },
  {
   "cell_type": "code",
   "execution_count": 312,
   "metadata": {},
   "outputs": [
    {
     "data": {
      "text/plain": [
       "array([[  4. ,   3.5,   3. ,   4. ],\n",
       "       [  6. ,   4. ,   4. ,   4. ],\n",
       "       [241. ,   5. ,   4. ,   4. ],\n",
       "       ...,\n",
       "       [  4. ,   4.5,   4. ,   4. ],\n",
       "       [ 26. ,   4.5,   4. ,   4. ],\n",
       "       [ 58. ,   4. ,   4. ,   4. ]])"
      ]
     },
     "execution_count": 312,
     "metadata": {},
     "output_type": "execute_result"
    }
   ],
   "source": [
    "import numpy as np\n",
    "from sklearn.impute import SimpleImputer\n",
    "imp_mean = SimpleImputer(missing_values=np.nan, strategy='median')\n",
    "imputed_data=imp_mean.fit_transform(df_train[[\"rank\",\"general rating\",\"value rating\",\"atmosphere rating\"]])\n",
    "imputed_data"
   ]
  },
  {
   "cell_type": "code",
   "execution_count": 313,
   "metadata": {},
   "outputs": [],
   "source": [
    "df_train[\"rank\"]=imputed_data[:,0]\n",
    "df_train[\"general rating\"]=imputed_data[:,1]\n",
    "df_train[\"value rating\"]=imputed_data[:,2]\n",
    "df_train[\"atmosphere rating\"]=imputed_data[:,3]"
   ]
  },
  {
   "cell_type": "markdown",
   "metadata": {},
   "source": [
    "scaling and then standardising"
   ]
  },
  {
   "cell_type": "code",
   "execution_count": 314,
   "metadata": {},
   "outputs": [],
   "source": [
    "df_train[\"lg_rank\"]=np.log(df_train[\"rank\"])\n",
    "df_train[\"lg_reviews\"]=np.log(df_train[\"number of reviews\"]+1)\n",
    "df_train.drop(columns=[\"rank\",\"number of reviews\"],inplace=True)"
   ]
  },
  {
   "cell_type": "code",
   "execution_count": 315,
   "metadata": {},
   "outputs": [
    {
     "data": {
      "text/html": [
       "<div>\n",
       "<style scoped>\n",
       "    .dataframe tbody tr th:only-of-type {\n",
       "        vertical-align: middle;\n",
       "    }\n",
       "\n",
       "    .dataframe tbody tr th {\n",
       "        vertical-align: top;\n",
       "    }\n",
       "\n",
       "    .dataframe thead th {\n",
       "        text-align: right;\n",
       "    }\n",
       "</style>\n",
       "<table border=\"1\" class=\"dataframe\">\n",
       "  <thead>\n",
       "    <tr style=\"text-align: right;\">\n",
       "      <th></th>\n",
       "      <th>general rating</th>\n",
       "      <th>travelers choice</th>\n",
       "      <th>michelin</th>\n",
       "      <th>value rating</th>\n",
       "      <th>atmosphere rating</th>\n",
       "      <th>description</th>\n",
       "      <th>dutch description</th>\n",
       "      <th>cuisines</th>\n",
       "      <th>special diets</th>\n",
       "      <th>meals</th>\n",
       "      <th>restaurant features</th>\n",
       "      <th>city</th>\n",
       "      <th>price_tag</th>\n",
       "      <th>latitude</th>\n",
       "      <th>longitude</th>\n",
       "      <th>rank_missing</th>\n",
       "      <th>atmosphere_missing</th>\n",
       "      <th>value_missing</th>\n",
       "      <th>general_missing</th>\n",
       "      <th>lg_rank</th>\n",
       "      <th>lg_reviews</th>\n",
       "    </tr>\n",
       "  </thead>\n",
       "  <tbody>\n",
       "    <tr>\n",
       "      <th>1817</th>\n",
       "      <td>3.5</td>\n",
       "      <td>False</td>\n",
       "      <td>False</td>\n",
       "      <td>3.0</td>\n",
       "      <td>4.0</td>\n",
       "      <td>NaN</td>\n",
       "      <td>NaN</td>\n",
       "      <td>Seafood, Belgian, European</td>\n",
       "      <td>NaN</td>\n",
       "      <td>Dinner</td>\n",
       "      <td>Reservations, Seating, Table Service, Wheelchair Accessible</td>\n",
       "      <td>Denderleeuw</td>\n",
       "      <td>$$ - $$$</td>\n",
       "      <td>50.888222</td>\n",
       "      <td>4.076788</td>\n",
       "      <td>0</td>\n",
       "      <td>1</td>\n",
       "      <td>0</td>\n",
       "      <td>0</td>\n",
       "      <td>1.386294</td>\n",
       "      <td>3.091042</td>\n",
       "    </tr>\n",
       "    <tr>\n",
       "      <th>867</th>\n",
       "      <td>4.0</td>\n",
       "      <td>False</td>\n",
       "      <td>False</td>\n",
       "      <td>4.0</td>\n",
       "      <td>4.0</td>\n",
       "      <td>NaN</td>\n",
       "      <td>NaN</td>\n",
       "      <td>Belgian, Dutch, European</td>\n",
       "      <td>Vegetarian Friendly</td>\n",
       "      <td>Dinner, Drinks</td>\n",
       "      <td>Reservations, Seating, Serves Alcohol, Table Service</td>\n",
       "      <td>Brakel</td>\n",
       "      <td>$$ - $$$</td>\n",
       "      <td>NaN</td>\n",
       "      <td>NaN</td>\n",
       "      <td>0</td>\n",
       "      <td>1</td>\n",
       "      <td>0</td>\n",
       "      <td>0</td>\n",
       "      <td>1.791759</td>\n",
       "      <td>3.806662</td>\n",
       "    </tr>\n",
       "    <tr>\n",
       "      <th>536</th>\n",
       "      <td>5.0</td>\n",
       "      <td>False</td>\n",
       "      <td>False</td>\n",
       "      <td>4.0</td>\n",
       "      <td>4.0</td>\n",
       "      <td>A place to buy your home-made chocolate in the center of Ghent while enjoying a coffee, breakfast or lunch in a beautiful setting. We work with local products and have vegetarian dishes. All-day brunch every Saturday and every first Sunday of the month. Come and relax on our quiet and peaceful walled back terrace.</td>\n",
       "      <td>NaN</td>\n",
       "      <td>Dutch, European</td>\n",
       "      <td>NaN</td>\n",
       "      <td>Breakfast, Lunch, Brunch, Dinner, Drinks</td>\n",
       "      <td>Reservations, Table Service, Takeout, Seating, Wheelchair Accessible, Accepts Credit Cards</td>\n",
       "      <td>Ghent</td>\n",
       "      <td>$$ - $$$</td>\n",
       "      <td>NaN</td>\n",
       "      <td>NaN</td>\n",
       "      <td>0</td>\n",
       "      <td>1</td>\n",
       "      <td>1</td>\n",
       "      <td>0</td>\n",
       "      <td>5.484797</td>\n",
       "      <td>2.772589</td>\n",
       "    </tr>\n",
       "    <tr>\n",
       "      <th>1869</th>\n",
       "      <td>3.5</td>\n",
       "      <td>False</td>\n",
       "      <td>False</td>\n",
       "      <td>2.5</td>\n",
       "      <td>4.5</td>\n",
       "      <td>NaN</td>\n",
       "      <td>NaN</td>\n",
       "      <td>NaN</td>\n",
       "      <td>NaN</td>\n",
       "      <td>Drinks</td>\n",
       "      <td>Outdoor Seating, Serves Alcohol, Seating</td>\n",
       "      <td>Ghent</td>\n",
       "      <td>$$ - $$$</td>\n",
       "      <td>51.058388</td>\n",
       "      <td>3.723831</td>\n",
       "      <td>0</td>\n",
       "      <td>0</td>\n",
       "      <td>0</td>\n",
       "      <td>0</td>\n",
       "      <td>6.418365</td>\n",
       "      <td>4.317488</td>\n",
       "    </tr>\n",
       "    <tr>\n",
       "      <th>1500</th>\n",
       "      <td>4.5</td>\n",
       "      <td>False</td>\n",
       "      <td>False</td>\n",
       "      <td>4.0</td>\n",
       "      <td>4.0</td>\n",
       "      <td>NaN</td>\n",
       "      <td>NaN</td>\n",
       "      <td>NaN</td>\n",
       "      <td>NaN</td>\n",
       "      <td>NaN</td>\n",
       "      <td>NaN</td>\n",
       "      <td>Temse</td>\n",
       "      <td>$</td>\n",
       "      <td>51.115005</td>\n",
       "      <td>4.138048</td>\n",
       "      <td>0</td>\n",
       "      <td>1</td>\n",
       "      <td>1</td>\n",
       "      <td>0</td>\n",
       "      <td>2.890372</td>\n",
       "      <td>1.609438</td>\n",
       "    </tr>\n",
       "    <tr>\n",
       "      <th>...</th>\n",
       "      <td>...</td>\n",
       "      <td>...</td>\n",
       "      <td>...</td>\n",
       "      <td>...</td>\n",
       "      <td>...</td>\n",
       "      <td>...</td>\n",
       "      <td>...</td>\n",
       "      <td>...</td>\n",
       "      <td>...</td>\n",
       "      <td>...</td>\n",
       "      <td>...</td>\n",
       "      <td>...</td>\n",
       "      <td>...</td>\n",
       "      <td>...</td>\n",
       "      <td>...</td>\n",
       "      <td>...</td>\n",
       "      <td>...</td>\n",
       "      <td>...</td>\n",
       "      <td>...</td>\n",
       "      <td>...</td>\n",
       "      <td>...</td>\n",
       "    </tr>\n",
       "    <tr>\n",
       "      <th>1149</th>\n",
       "      <td>4.0</td>\n",
       "      <td>False</td>\n",
       "      <td>False</td>\n",
       "      <td>4.0</td>\n",
       "      <td>4.0</td>\n",
       "      <td>Typical italian pizzeria restaurant. Simple and genuine cuisine</td>\n",
       "      <td>NaN</td>\n",
       "      <td>Italian, European</td>\n",
       "      <td>Vegetarian Friendly</td>\n",
       "      <td>Dinner, Lunch</td>\n",
       "      <td>Takeout, Reservations, Seating, Table Service</td>\n",
       "      <td>Lokeren</td>\n",
       "      <td>$$ - $$$</td>\n",
       "      <td>51.142606</td>\n",
       "      <td>3.956006</td>\n",
       "      <td>0</td>\n",
       "      <td>1</td>\n",
       "      <td>0</td>\n",
       "      <td>0</td>\n",
       "      <td>3.044522</td>\n",
       "      <td>3.401197</td>\n",
       "    </tr>\n",
       "    <tr>\n",
       "      <th>1337</th>\n",
       "      <td>4.0</td>\n",
       "      <td>False</td>\n",
       "      <td>False</td>\n",
       "      <td>4.0</td>\n",
       "      <td>4.0</td>\n",
       "      <td>NaN</td>\n",
       "      <td>NaN</td>\n",
       "      <td>Spanish, European</td>\n",
       "      <td>NaN</td>\n",
       "      <td>Dinner</td>\n",
       "      <td>Reservations, Table Service, Seating, Wheelchair Accessible</td>\n",
       "      <td>Zottegem</td>\n",
       "      <td>$$ - $$$</td>\n",
       "      <td>50.872406</td>\n",
       "      <td>3.810749</td>\n",
       "      <td>0</td>\n",
       "      <td>1</td>\n",
       "      <td>1</td>\n",
       "      <td>0</td>\n",
       "      <td>2.944439</td>\n",
       "      <td>2.772589</td>\n",
       "    </tr>\n",
       "    <tr>\n",
       "      <th>865</th>\n",
       "      <td>4.5</td>\n",
       "      <td>False</td>\n",
       "      <td>False</td>\n",
       "      <td>4.0</td>\n",
       "      <td>4.0</td>\n",
       "      <td>NaN</td>\n",
       "      <td>NaN</td>\n",
       "      <td>Belgian, Dutch, European</td>\n",
       "      <td>NaN</td>\n",
       "      <td>Lunch, Dinner, Brunch</td>\n",
       "      <td>Reservations, Seating, Table Service, Wheelchair Accessible</td>\n",
       "      <td>Astene</td>\n",
       "      <td>$$ - $$$</td>\n",
       "      <td>NaN</td>\n",
       "      <td>NaN</td>\n",
       "      <td>0</td>\n",
       "      <td>1</td>\n",
       "      <td>0</td>\n",
       "      <td>0</td>\n",
       "      <td>1.386294</td>\n",
       "      <td>2.890372</td>\n",
       "    </tr>\n",
       "    <tr>\n",
       "      <th>1552</th>\n",
       "      <td>4.5</td>\n",
       "      <td>False</td>\n",
       "      <td>False</td>\n",
       "      <td>4.0</td>\n",
       "      <td>4.0</td>\n",
       "      <td>Café Inn est ouvert du mardi au mercredi de 10h à 20h. La cuisine de 12h a 18h30 non stop. Produits de saison. Pour le menu: voir la page café Inn sur FB</td>\n",
       "      <td>NaN</td>\n",
       "      <td>Bar, Cafe, Fast Food, Pub</td>\n",
       "      <td>NaN</td>\n",
       "      <td>Lunch, Dinner, Drinks</td>\n",
       "      <td>Serves Alcohol, Full Bar, Wine and Beer, Gift Cards Available</td>\n",
       "      <td>Ronse</td>\n",
       "      <td>$$ - $$$</td>\n",
       "      <td>NaN</td>\n",
       "      <td>NaN</td>\n",
       "      <td>0</td>\n",
       "      <td>1</td>\n",
       "      <td>1</td>\n",
       "      <td>0</td>\n",
       "      <td>3.258097</td>\n",
       "      <td>1.791759</td>\n",
       "    </tr>\n",
       "    <tr>\n",
       "      <th>1145</th>\n",
       "      <td>4.0</td>\n",
       "      <td>False</td>\n",
       "      <td>False</td>\n",
       "      <td>4.0</td>\n",
       "      <td>4.0</td>\n",
       "      <td>NaN</td>\n",
       "      <td>Frans-Belgische keuken, zowel vis als vleesgerechten, zuiderse keuken, gerechten uit de Franse keuken, uitzonderlijk lekker gerijpt vlees, dry aged meat, steakrestaurant, lunch en diner, oprechte, pure ingrediënten</td>\n",
       "      <td>French, Belgian, Seafood, European</td>\n",
       "      <td>NaN</td>\n",
       "      <td>Dinner, Lunch</td>\n",
       "      <td>Reservations, Table Service, Seating</td>\n",
       "      <td>Aalst</td>\n",
       "      <td>$$ - $$$</td>\n",
       "      <td>50.939548</td>\n",
       "      <td>4.033844</td>\n",
       "      <td>0</td>\n",
       "      <td>1</td>\n",
       "      <td>0</td>\n",
       "      <td>0</td>\n",
       "      <td>4.060443</td>\n",
       "      <td>3.178054</td>\n",
       "    </tr>\n",
       "  </tbody>\n",
       "</table>\n",
       "<p>1554 rows × 21 columns</p>\n",
       "</div>"
      ],
      "text/plain": [
       "      general rating  travelers choice  michelin  value rating  \\\n",
       "1817             3.5             False     False           3.0   \n",
       "867              4.0             False     False           4.0   \n",
       "536              5.0             False     False           4.0   \n",
       "1869             3.5             False     False           2.5   \n",
       "1500             4.5             False     False           4.0   \n",
       "...              ...               ...       ...           ...   \n",
       "1149             4.0             False     False           4.0   \n",
       "1337             4.0             False     False           4.0   \n",
       "865              4.5             False     False           4.0   \n",
       "1552             4.5             False     False           4.0   \n",
       "1145             4.0             False     False           4.0   \n",
       "\n",
       "      atmosphere rating  \\\n",
       "1817                4.0   \n",
       "867                 4.0   \n",
       "536                 4.0   \n",
       "1869                4.5   \n",
       "1500                4.0   \n",
       "...                 ...   \n",
       "1149                4.0   \n",
       "1337                4.0   \n",
       "865                 4.0   \n",
       "1552                4.0   \n",
       "1145                4.0   \n",
       "\n",
       "                                                                                                                                                                                                                                                                                                                      description  \\\n",
       "1817                                                                                                                                                                                                                                                                                                                          NaN   \n",
       "867                                                                                                                                                                                                                                                                                                                           NaN   \n",
       "536   A place to buy your home-made chocolate in the center of Ghent while enjoying a coffee, breakfast or lunch in a beautiful setting. We work with local products and have vegetarian dishes. All-day brunch every Saturday and every first Sunday of the month. Come and relax on our quiet and peaceful walled back terrace.   \n",
       "1869                                                                                                                                                                                                                                                                                                                          NaN   \n",
       "1500                                                                                                                                                                                                                                                                                                                          NaN   \n",
       "...                                                                                                                                                                                                                                                                                                                           ...   \n",
       "1149                                                                                                                                                                                                                                                              Typical italian pizzeria restaurant. Simple and genuine cuisine   \n",
       "1337                                                                                                                                                                                                                                                                                                                          NaN   \n",
       "865                                                                                                                                                                                                                                                                                                                           NaN   \n",
       "1552                                                                                                                                                                    Café Inn est ouvert du mardi au mercredi de 10h à 20h. La cuisine de 12h a 18h30 non stop. Produits de saison. Pour le menu: voir la page café Inn sur FB   \n",
       "1145                                                                                                                                                                                                                                                                                                                          NaN   \n",
       "\n",
       "                                                                                                                                                                                                           dutch description  \\\n",
       "1817                                                                                                                                                                                                                     NaN   \n",
       "867                                                                                                                                                                                                                      NaN   \n",
       "536                                                                                                                                                                                                                      NaN   \n",
       "1869                                                                                                                                                                                                                     NaN   \n",
       "1500                                                                                                                                                                                                                     NaN   \n",
       "...                                                                                                                                                                                                                      ...   \n",
       "1149                                                                                                                                                                                                                     NaN   \n",
       "1337                                                                                                                                                                                                                     NaN   \n",
       "865                                                                                                                                                                                                                      NaN   \n",
       "1552                                                                                                                                                                                                                     NaN   \n",
       "1145  Frans-Belgische keuken, zowel vis als vleesgerechten, zuiderse keuken, gerechten uit de Franse keuken, uitzonderlijk lekker gerijpt vlees, dry aged meat, steakrestaurant, lunch en diner, oprechte, pure ingrediënten   \n",
       "\n",
       "                                cuisines        special diets  \\\n",
       "1817          Seafood, Belgian, European                  NaN   \n",
       "867             Belgian, Dutch, European  Vegetarian Friendly   \n",
       "536                      Dutch, European                  NaN   \n",
       "1869                                 NaN                  NaN   \n",
       "1500                                 NaN                  NaN   \n",
       "...                                  ...                  ...   \n",
       "1149                   Italian, European  Vegetarian Friendly   \n",
       "1337                   Spanish, European                  NaN   \n",
       "865             Belgian, Dutch, European                  NaN   \n",
       "1552           Bar, Cafe, Fast Food, Pub                  NaN   \n",
       "1145  French, Belgian, Seafood, European                  NaN   \n",
       "\n",
       "                                         meals  \\\n",
       "1817                                    Dinner   \n",
       "867                             Dinner, Drinks   \n",
       "536   Breakfast, Lunch, Brunch, Dinner, Drinks   \n",
       "1869                                    Drinks   \n",
       "1500                                       NaN   \n",
       "...                                        ...   \n",
       "1149                             Dinner, Lunch   \n",
       "1337                                    Dinner   \n",
       "865                      Lunch, Dinner, Brunch   \n",
       "1552                     Lunch, Dinner, Drinks   \n",
       "1145                             Dinner, Lunch   \n",
       "\n",
       "                                                                             restaurant features  \\\n",
       "1817                                 Reservations, Seating, Table Service, Wheelchair Accessible   \n",
       "867                                         Reservations, Seating, Serves Alcohol, Table Service   \n",
       "536   Reservations, Table Service, Takeout, Seating, Wheelchair Accessible, Accepts Credit Cards   \n",
       "1869                                                    Outdoor Seating, Serves Alcohol, Seating   \n",
       "1500                                                                                         NaN   \n",
       "...                                                                                          ...   \n",
       "1149                                               Takeout, Reservations, Seating, Table Service   \n",
       "1337                                 Reservations, Table Service, Seating, Wheelchair Accessible   \n",
       "865                                  Reservations, Seating, Table Service, Wheelchair Accessible   \n",
       "1552                               Serves Alcohol, Full Bar, Wine and Beer, Gift Cards Available   \n",
       "1145                                                        Reservations, Table Service, Seating   \n",
       "\n",
       "             city price_tag   latitude  longitude  rank_missing  \\\n",
       "1817  Denderleeuw  $$ - $$$  50.888222   4.076788             0   \n",
       "867        Brakel  $$ - $$$        NaN        NaN             0   \n",
       "536         Ghent  $$ - $$$        NaN        NaN             0   \n",
       "1869        Ghent  $$ - $$$  51.058388   3.723831             0   \n",
       "1500        Temse         $  51.115005   4.138048             0   \n",
       "...           ...       ...        ...        ...           ...   \n",
       "1149      Lokeren  $$ - $$$  51.142606   3.956006             0   \n",
       "1337     Zottegem  $$ - $$$  50.872406   3.810749             0   \n",
       "865        Astene  $$ - $$$        NaN        NaN             0   \n",
       "1552        Ronse  $$ - $$$        NaN        NaN             0   \n",
       "1145        Aalst  $$ - $$$  50.939548   4.033844             0   \n",
       "\n",
       "      atmosphere_missing  value_missing  general_missing   lg_rank  lg_reviews  \n",
       "1817                   1              0                0  1.386294    3.091042  \n",
       "867                    1              0                0  1.791759    3.806662  \n",
       "536                    1              1                0  5.484797    2.772589  \n",
       "1869                   0              0                0  6.418365    4.317488  \n",
       "1500                   1              1                0  2.890372    1.609438  \n",
       "...                  ...            ...              ...       ...         ...  \n",
       "1149                   1              0                0  3.044522    3.401197  \n",
       "1337                   1              1                0  2.944439    2.772589  \n",
       "865                    1              0                0  1.386294    2.890372  \n",
       "1552                   1              1                0  3.258097    1.791759  \n",
       "1145                   1              0                0  4.060443    3.178054  \n",
       "\n",
       "[1554 rows x 21 columns]"
      ]
     },
     "execution_count": 315,
     "metadata": {},
     "output_type": "execute_result"
    }
   ],
   "source": [
    "df_train"
   ]
  },
  {
   "cell_type": "markdown",
   "metadata": {},
   "source": [
    "### booleans"
   ]
  },
  {
   "cell_type": "code",
   "execution_count": 316,
   "metadata": {},
   "outputs": [
    {
     "data": {
      "text/html": [
       "<div>\n",
       "<style scoped>\n",
       "    .dataframe tbody tr th:only-of-type {\n",
       "        vertical-align: middle;\n",
       "    }\n",
       "\n",
       "    .dataframe tbody tr th {\n",
       "        vertical-align: top;\n",
       "    }\n",
       "\n",
       "    .dataframe thead th {\n",
       "        text-align: right;\n",
       "    }\n",
       "</style>\n",
       "<table border=\"1\" class=\"dataframe\">\n",
       "  <thead>\n",
       "    <tr style=\"text-align: right;\">\n",
       "      <th></th>\n",
       "      <th>travelers choice</th>\n",
       "      <th>michelin</th>\n",
       "    </tr>\n",
       "  </thead>\n",
       "  <tbody>\n",
       "    <tr>\n",
       "      <th>1817</th>\n",
       "      <td>False</td>\n",
       "      <td>False</td>\n",
       "    </tr>\n",
       "    <tr>\n",
       "      <th>867</th>\n",
       "      <td>False</td>\n",
       "      <td>False</td>\n",
       "    </tr>\n",
       "    <tr>\n",
       "      <th>536</th>\n",
       "      <td>False</td>\n",
       "      <td>False</td>\n",
       "    </tr>\n",
       "    <tr>\n",
       "      <th>1869</th>\n",
       "      <td>False</td>\n",
       "      <td>False</td>\n",
       "    </tr>\n",
       "    <tr>\n",
       "      <th>1500</th>\n",
       "      <td>False</td>\n",
       "      <td>False</td>\n",
       "    </tr>\n",
       "    <tr>\n",
       "      <th>...</th>\n",
       "      <td>...</td>\n",
       "      <td>...</td>\n",
       "    </tr>\n",
       "    <tr>\n",
       "      <th>1149</th>\n",
       "      <td>False</td>\n",
       "      <td>False</td>\n",
       "    </tr>\n",
       "    <tr>\n",
       "      <th>1337</th>\n",
       "      <td>False</td>\n",
       "      <td>False</td>\n",
       "    </tr>\n",
       "    <tr>\n",
       "      <th>865</th>\n",
       "      <td>False</td>\n",
       "      <td>False</td>\n",
       "    </tr>\n",
       "    <tr>\n",
       "      <th>1552</th>\n",
       "      <td>False</td>\n",
       "      <td>False</td>\n",
       "    </tr>\n",
       "    <tr>\n",
       "      <th>1145</th>\n",
       "      <td>False</td>\n",
       "      <td>False</td>\n",
       "    </tr>\n",
       "  </tbody>\n",
       "</table>\n",
       "<p>1554 rows × 2 columns</p>\n",
       "</div>"
      ],
      "text/plain": [
       "      travelers choice  michelin\n",
       "1817             False     False\n",
       "867              False     False\n",
       "536              False     False\n",
       "1869             False     False\n",
       "1500             False     False\n",
       "...                ...       ...\n",
       "1149             False     False\n",
       "1337             False     False\n",
       "865              False     False\n",
       "1552             False     False\n",
       "1145             False     False\n",
       "\n",
       "[1554 rows x 2 columns]"
      ]
     },
     "execution_count": 316,
     "metadata": {},
     "output_type": "execute_result"
    }
   ],
   "source": [
    "df_train.select_dtypes(bool)"
   ]
  },
  {
   "cell_type": "code",
   "execution_count": 317,
   "metadata": {},
   "outputs": [
    {
     "data": {
      "text/plain": [
       "travelers choice    0\n",
       "michelin            0\n",
       "dtype: int64"
      ]
     },
     "execution_count": 317,
     "metadata": {},
     "output_type": "execute_result"
    }
   ],
   "source": [
    "df_train.select_dtypes(bool).isna().sum()"
   ]
  },
  {
   "cell_type": "markdown",
   "metadata": {},
   "source": [
    "no missing values! turn these into zeros and ones"
   ]
  },
  {
   "cell_type": "code",
   "execution_count": 318,
   "metadata": {},
   "outputs": [],
   "source": [
    "df_train[\"travelers choice\"]=df_train[\"travelers choice\"].astype(int)\n",
    "df_train[\"michelin\"]=df_train[\"michelin\"].astype(int)"
   ]
  },
  {
   "cell_type": "markdown",
   "metadata": {},
   "source": [
    "### encoding categorical variables\n",
    "\n",
    "we already explained how we did this and used it in our sprint 1 notebook so excuse us for just copy pasting the code 😅"
   ]
  },
  {
   "cell_type": "code",
   "execution_count": 319,
   "metadata": {},
   "outputs": [],
   "source": [
    "#multi hot encoding of the meals, restaurant features ,cuisines and diets\n",
    "from sklearn.preprocessing import MultiLabelBinarizer\n",
    "\n",
    "mlbs=[]\n",
    "columns=[\"meals\",\"restaurant features\",\"cuisines\",\"special diets\"]\n",
    "mh_encodings=[]\n",
    "for col in columns:\n",
    "    mlb= MultiLabelBinarizer()\n",
    "    mlbs.append(mlb)\n",
    "    X=df_train[col].str.replace(\" \",\"\").str.split(\",\").fillna(\"X\").to_list()\n",
    "    #I want a list of sets that i can then pass to the MultiLabelBinarizer\n",
    "    lijst=[set(i) for i in X]\n",
    "    mh_encodings.append(mlb.fit_transform(lijst))\n"
   ]
  },
  {
   "cell_type": "code",
   "execution_count": 320,
   "metadata": {},
   "outputs": [
    {
     "name": "stdout",
     "output_type": "stream",
     "text": [
      "(1554, 7)\n",
      "(1554, 39)\n",
      "(1554, 91)\n",
      "(1554, 5)\n"
     ]
    }
   ],
   "source": [
    "for i in mh_encodings:\n",
    "    print(i.shape)"
   ]
  },
  {
   "cell_type": "markdown",
   "metadata": {},
   "source": [
    "one hot encode the city"
   ]
  },
  {
   "cell_type": "code",
   "execution_count": 321,
   "metadata": {},
   "outputs": [
    {
     "data": {
      "text/plain": [
       "array([[0., 0., 0., ..., 0., 0., 0.],\n",
       "       [0., 0., 0., ..., 0., 0., 0.],\n",
       "       [0., 0., 0., ..., 0., 0., 0.],\n",
       "       ...,\n",
       "       [0., 0., 0., ..., 0., 0., 0.],\n",
       "       [0., 0., 0., ..., 0., 0., 0.],\n",
       "       [0., 1., 0., ..., 0., 0., 0.]])"
      ]
     },
     "execution_count": 321,
     "metadata": {},
     "output_type": "execute_result"
    }
   ],
   "source": [
    "from sklearn.preprocessing import OneHotEncoder\n",
    "enc=OneHotEncoder(sparse=False,handle_unknown=\"infrequent_if_exist\")\n",
    "enc.fit(np.array(df_train[\"city\"]).reshape(-1,1))\n",
    "oh_cities=enc.transform(np.array(df_train[\"city\"]).reshape(-1,1))\n",
    "# df['city_OHE_encoded']=d\n",
    "oh_cities"
   ]
  },
  {
   "cell_type": "code",
   "execution_count": 322,
   "metadata": {},
   "outputs": [
    {
     "data": {
      "text/html": [
       "<div>\n",
       "<style scoped>\n",
       "    .dataframe tbody tr th:only-of-type {\n",
       "        vertical-align: middle;\n",
       "    }\n",
       "\n",
       "    .dataframe tbody tr th {\n",
       "        vertical-align: top;\n",
       "    }\n",
       "\n",
       "    .dataframe thead th {\n",
       "        text-align: right;\n",
       "    }\n",
       "</style>\n",
       "<table border=\"1\" class=\"dataframe\">\n",
       "  <thead>\n",
       "    <tr style=\"text-align: right;\">\n",
       "      <th></th>\n",
       "      <th>general rating</th>\n",
       "      <th>travelers choice</th>\n",
       "      <th>michelin</th>\n",
       "      <th>value rating</th>\n",
       "      <th>atmosphere rating</th>\n",
       "      <th>description</th>\n",
       "      <th>dutch description</th>\n",
       "      <th>price_tag</th>\n",
       "      <th>latitude</th>\n",
       "      <th>longitude</th>\n",
       "      <th>rank_missing</th>\n",
       "      <th>atmosphere_missing</th>\n",
       "      <th>value_missing</th>\n",
       "      <th>general_missing</th>\n",
       "      <th>lg_rank</th>\n",
       "      <th>lg_reviews</th>\n",
       "    </tr>\n",
       "  </thead>\n",
       "  <tbody>\n",
       "    <tr>\n",
       "      <th>1817</th>\n",
       "      <td>3.5</td>\n",
       "      <td>0</td>\n",
       "      <td>0</td>\n",
       "      <td>3.0</td>\n",
       "      <td>4.0</td>\n",
       "      <td>NaN</td>\n",
       "      <td>NaN</td>\n",
       "      <td>$$ - $$$</td>\n",
       "      <td>50.888222</td>\n",
       "      <td>4.076788</td>\n",
       "      <td>0</td>\n",
       "      <td>1</td>\n",
       "      <td>0</td>\n",
       "      <td>0</td>\n",
       "      <td>1.386294</td>\n",
       "      <td>3.091042</td>\n",
       "    </tr>\n",
       "    <tr>\n",
       "      <th>867</th>\n",
       "      <td>4.0</td>\n",
       "      <td>0</td>\n",
       "      <td>0</td>\n",
       "      <td>4.0</td>\n",
       "      <td>4.0</td>\n",
       "      <td>NaN</td>\n",
       "      <td>NaN</td>\n",
       "      <td>$$ - $$$</td>\n",
       "      <td>NaN</td>\n",
       "      <td>NaN</td>\n",
       "      <td>0</td>\n",
       "      <td>1</td>\n",
       "      <td>0</td>\n",
       "      <td>0</td>\n",
       "      <td>1.791759</td>\n",
       "      <td>3.806662</td>\n",
       "    </tr>\n",
       "    <tr>\n",
       "      <th>536</th>\n",
       "      <td>5.0</td>\n",
       "      <td>0</td>\n",
       "      <td>0</td>\n",
       "      <td>4.0</td>\n",
       "      <td>4.0</td>\n",
       "      <td>A place to buy your home-made chocolate in the center of Ghent while enjoying a coffee, breakfast or lunch in a beautiful setting. We work with local products and have vegetarian dishes. All-day brunch every Saturday and every first Sunday of the month. Come and relax on our quiet and peaceful walled back terrace.</td>\n",
       "      <td>NaN</td>\n",
       "      <td>$$ - $$$</td>\n",
       "      <td>NaN</td>\n",
       "      <td>NaN</td>\n",
       "      <td>0</td>\n",
       "      <td>1</td>\n",
       "      <td>1</td>\n",
       "      <td>0</td>\n",
       "      <td>5.484797</td>\n",
       "      <td>2.772589</td>\n",
       "    </tr>\n",
       "    <tr>\n",
       "      <th>1869</th>\n",
       "      <td>3.5</td>\n",
       "      <td>0</td>\n",
       "      <td>0</td>\n",
       "      <td>2.5</td>\n",
       "      <td>4.5</td>\n",
       "      <td>NaN</td>\n",
       "      <td>NaN</td>\n",
       "      <td>$$ - $$$</td>\n",
       "      <td>51.058388</td>\n",
       "      <td>3.723831</td>\n",
       "      <td>0</td>\n",
       "      <td>0</td>\n",
       "      <td>0</td>\n",
       "      <td>0</td>\n",
       "      <td>6.418365</td>\n",
       "      <td>4.317488</td>\n",
       "    </tr>\n",
       "    <tr>\n",
       "      <th>1500</th>\n",
       "      <td>4.5</td>\n",
       "      <td>0</td>\n",
       "      <td>0</td>\n",
       "      <td>4.0</td>\n",
       "      <td>4.0</td>\n",
       "      <td>NaN</td>\n",
       "      <td>NaN</td>\n",
       "      <td>$</td>\n",
       "      <td>51.115005</td>\n",
       "      <td>4.138048</td>\n",
       "      <td>0</td>\n",
       "      <td>1</td>\n",
       "      <td>1</td>\n",
       "      <td>0</td>\n",
       "      <td>2.890372</td>\n",
       "      <td>1.609438</td>\n",
       "    </tr>\n",
       "    <tr>\n",
       "      <th>...</th>\n",
       "      <td>...</td>\n",
       "      <td>...</td>\n",
       "      <td>...</td>\n",
       "      <td>...</td>\n",
       "      <td>...</td>\n",
       "      <td>...</td>\n",
       "      <td>...</td>\n",
       "      <td>...</td>\n",
       "      <td>...</td>\n",
       "      <td>...</td>\n",
       "      <td>...</td>\n",
       "      <td>...</td>\n",
       "      <td>...</td>\n",
       "      <td>...</td>\n",
       "      <td>...</td>\n",
       "      <td>...</td>\n",
       "    </tr>\n",
       "    <tr>\n",
       "      <th>1149</th>\n",
       "      <td>4.0</td>\n",
       "      <td>0</td>\n",
       "      <td>0</td>\n",
       "      <td>4.0</td>\n",
       "      <td>4.0</td>\n",
       "      <td>Typical italian pizzeria restaurant. Simple and genuine cuisine</td>\n",
       "      <td>NaN</td>\n",
       "      <td>$$ - $$$</td>\n",
       "      <td>51.142606</td>\n",
       "      <td>3.956006</td>\n",
       "      <td>0</td>\n",
       "      <td>1</td>\n",
       "      <td>0</td>\n",
       "      <td>0</td>\n",
       "      <td>3.044522</td>\n",
       "      <td>3.401197</td>\n",
       "    </tr>\n",
       "    <tr>\n",
       "      <th>1337</th>\n",
       "      <td>4.0</td>\n",
       "      <td>0</td>\n",
       "      <td>0</td>\n",
       "      <td>4.0</td>\n",
       "      <td>4.0</td>\n",
       "      <td>NaN</td>\n",
       "      <td>NaN</td>\n",
       "      <td>$$ - $$$</td>\n",
       "      <td>50.872406</td>\n",
       "      <td>3.810749</td>\n",
       "      <td>0</td>\n",
       "      <td>1</td>\n",
       "      <td>1</td>\n",
       "      <td>0</td>\n",
       "      <td>2.944439</td>\n",
       "      <td>2.772589</td>\n",
       "    </tr>\n",
       "    <tr>\n",
       "      <th>865</th>\n",
       "      <td>4.5</td>\n",
       "      <td>0</td>\n",
       "      <td>0</td>\n",
       "      <td>4.0</td>\n",
       "      <td>4.0</td>\n",
       "      <td>NaN</td>\n",
       "      <td>NaN</td>\n",
       "      <td>$$ - $$$</td>\n",
       "      <td>NaN</td>\n",
       "      <td>NaN</td>\n",
       "      <td>0</td>\n",
       "      <td>1</td>\n",
       "      <td>0</td>\n",
       "      <td>0</td>\n",
       "      <td>1.386294</td>\n",
       "      <td>2.890372</td>\n",
       "    </tr>\n",
       "    <tr>\n",
       "      <th>1552</th>\n",
       "      <td>4.5</td>\n",
       "      <td>0</td>\n",
       "      <td>0</td>\n",
       "      <td>4.0</td>\n",
       "      <td>4.0</td>\n",
       "      <td>Café Inn est ouvert du mardi au mercredi de 10h à 20h. La cuisine de 12h a 18h30 non stop. Produits de saison. Pour le menu: voir la page café Inn sur FB</td>\n",
       "      <td>NaN</td>\n",
       "      <td>$$ - $$$</td>\n",
       "      <td>NaN</td>\n",
       "      <td>NaN</td>\n",
       "      <td>0</td>\n",
       "      <td>1</td>\n",
       "      <td>1</td>\n",
       "      <td>0</td>\n",
       "      <td>3.258097</td>\n",
       "      <td>1.791759</td>\n",
       "    </tr>\n",
       "    <tr>\n",
       "      <th>1145</th>\n",
       "      <td>4.0</td>\n",
       "      <td>0</td>\n",
       "      <td>0</td>\n",
       "      <td>4.0</td>\n",
       "      <td>4.0</td>\n",
       "      <td>NaN</td>\n",
       "      <td>Frans-Belgische keuken, zowel vis als vleesgerechten, zuiderse keuken, gerechten uit de Franse keuken, uitzonderlijk lekker gerijpt vlees, dry aged meat, steakrestaurant, lunch en diner, oprechte, pure ingrediënten</td>\n",
       "      <td>$$ - $$$</td>\n",
       "      <td>50.939548</td>\n",
       "      <td>4.033844</td>\n",
       "      <td>0</td>\n",
       "      <td>1</td>\n",
       "      <td>0</td>\n",
       "      <td>0</td>\n",
       "      <td>4.060443</td>\n",
       "      <td>3.178054</td>\n",
       "    </tr>\n",
       "  </tbody>\n",
       "</table>\n",
       "<p>1554 rows × 16 columns</p>\n",
       "</div>"
      ],
      "text/plain": [
       "      general rating  travelers choice  michelin  value rating  \\\n",
       "1817             3.5                 0         0           3.0   \n",
       "867              4.0                 0         0           4.0   \n",
       "536              5.0                 0         0           4.0   \n",
       "1869             3.5                 0         0           2.5   \n",
       "1500             4.5                 0         0           4.0   \n",
       "...              ...               ...       ...           ...   \n",
       "1149             4.0                 0         0           4.0   \n",
       "1337             4.0                 0         0           4.0   \n",
       "865              4.5                 0         0           4.0   \n",
       "1552             4.5                 0         0           4.0   \n",
       "1145             4.0                 0         0           4.0   \n",
       "\n",
       "      atmosphere rating  \\\n",
       "1817                4.0   \n",
       "867                 4.0   \n",
       "536                 4.0   \n",
       "1869                4.5   \n",
       "1500                4.0   \n",
       "...                 ...   \n",
       "1149                4.0   \n",
       "1337                4.0   \n",
       "865                 4.0   \n",
       "1552                4.0   \n",
       "1145                4.0   \n",
       "\n",
       "                                                                                                                                                                                                                                                                                                                      description  \\\n",
       "1817                                                                                                                                                                                                                                                                                                                          NaN   \n",
       "867                                                                                                                                                                                                                                                                                                                           NaN   \n",
       "536   A place to buy your home-made chocolate in the center of Ghent while enjoying a coffee, breakfast or lunch in a beautiful setting. We work with local products and have vegetarian dishes. All-day brunch every Saturday and every first Sunday of the month. Come and relax on our quiet and peaceful walled back terrace.   \n",
       "1869                                                                                                                                                                                                                                                                                                                          NaN   \n",
       "1500                                                                                                                                                                                                                                                                                                                          NaN   \n",
       "...                                                                                                                                                                                                                                                                                                                           ...   \n",
       "1149                                                                                                                                                                                                                                                              Typical italian pizzeria restaurant. Simple and genuine cuisine   \n",
       "1337                                                                                                                                                                                                                                                                                                                          NaN   \n",
       "865                                                                                                                                                                                                                                                                                                                           NaN   \n",
       "1552                                                                                                                                                                    Café Inn est ouvert du mardi au mercredi de 10h à 20h. La cuisine de 12h a 18h30 non stop. Produits de saison. Pour le menu: voir la page café Inn sur FB   \n",
       "1145                                                                                                                                                                                                                                                                                                                          NaN   \n",
       "\n",
       "                                                                                                                                                                                                           dutch description  \\\n",
       "1817                                                                                                                                                                                                                     NaN   \n",
       "867                                                                                                                                                                                                                      NaN   \n",
       "536                                                                                                                                                                                                                      NaN   \n",
       "1869                                                                                                                                                                                                                     NaN   \n",
       "1500                                                                                                                                                                                                                     NaN   \n",
       "...                                                                                                                                                                                                                      ...   \n",
       "1149                                                                                                                                                                                                                     NaN   \n",
       "1337                                                                                                                                                                                                                     NaN   \n",
       "865                                                                                                                                                                                                                      NaN   \n",
       "1552                                                                                                                                                                                                                     NaN   \n",
       "1145  Frans-Belgische keuken, zowel vis als vleesgerechten, zuiderse keuken, gerechten uit de Franse keuken, uitzonderlijk lekker gerijpt vlees, dry aged meat, steakrestaurant, lunch en diner, oprechte, pure ingrediënten   \n",
       "\n",
       "     price_tag   latitude  longitude  rank_missing  atmosphere_missing  \\\n",
       "1817  $$ - $$$  50.888222   4.076788             0                   1   \n",
       "867   $$ - $$$        NaN        NaN             0                   1   \n",
       "536   $$ - $$$        NaN        NaN             0                   1   \n",
       "1869  $$ - $$$  51.058388   3.723831             0                   0   \n",
       "1500         $  51.115005   4.138048             0                   1   \n",
       "...        ...        ...        ...           ...                 ...   \n",
       "1149  $$ - $$$  51.142606   3.956006             0                   1   \n",
       "1337  $$ - $$$  50.872406   3.810749             0                   1   \n",
       "865   $$ - $$$        NaN        NaN             0                   1   \n",
       "1552  $$ - $$$        NaN        NaN             0                   1   \n",
       "1145  $$ - $$$  50.939548   4.033844             0                   1   \n",
       "\n",
       "      value_missing  general_missing   lg_rank  lg_reviews  \n",
       "1817              0                0  1.386294    3.091042  \n",
       "867               0                0  1.791759    3.806662  \n",
       "536               1                0  5.484797    2.772589  \n",
       "1869              0                0  6.418365    4.317488  \n",
       "1500              1                0  2.890372    1.609438  \n",
       "...             ...              ...       ...         ...  \n",
       "1149              0                0  3.044522    3.401197  \n",
       "1337              1                0  2.944439    2.772589  \n",
       "865               0                0  1.386294    2.890372  \n",
       "1552              1                0  3.258097    1.791759  \n",
       "1145              0                0  4.060443    3.178054  \n",
       "\n",
       "[1554 rows x 16 columns]"
      ]
     },
     "execution_count": 322,
     "metadata": {},
     "output_type": "execute_result"
    }
   ],
   "source": [
    "df_train.drop(columns=[\"cuisines\",\"special diets\",\"meals\",\"restaurant features\",\"city\"],inplace=True)\n",
    "df_train"
   ]
  },
  {
   "cell_type": "markdown",
   "metadata": {},
   "source": [
    "#### descriptions\n",
    "\n",
    "the only thing thats left are the descriptions, we have 2 types. We will first see which ones are the most usefull"
   ]
  },
  {
   "cell_type": "code",
   "execution_count": 323,
   "metadata": {},
   "outputs": [
    {
     "name": "stdout",
     "output_type": "stream",
     "text": [
      "description is missing: 1191\n",
      "dutch description is missing 1353\n",
      "size trainingsset is 1554\n"
     ]
    }
   ],
   "source": [
    "print(f\"description is missing: {df_train.description.isna().sum()}\")\n",
    "print(f\"dutch description is missing {df_train['dutch description'].isna().sum()}\")\n",
    "print(f\"size trainingsset is {len(df_train)}\")"
   ]
  },
  {
   "cell_type": "markdown",
   "metadata": {},
   "source": [
    "we have too many missing values for description, 76% of the descriptions is missing so that's why we decided not to include this as a feature"
   ]
  },
  {
   "cell_type": "code",
   "execution_count": 324,
   "metadata": {},
   "outputs": [
    {
     "data": {
      "text/html": [
       "<div>\n",
       "<style scoped>\n",
       "    .dataframe tbody tr th:only-of-type {\n",
       "        vertical-align: middle;\n",
       "    }\n",
       "\n",
       "    .dataframe tbody tr th {\n",
       "        vertical-align: top;\n",
       "    }\n",
       "\n",
       "    .dataframe thead th {\n",
       "        text-align: right;\n",
       "    }\n",
       "</style>\n",
       "<table border=\"1\" class=\"dataframe\">\n",
       "  <thead>\n",
       "    <tr style=\"text-align: right;\">\n",
       "      <th></th>\n",
       "      <th>general rating</th>\n",
       "      <th>travelers choice</th>\n",
       "      <th>michelin</th>\n",
       "      <th>value rating</th>\n",
       "      <th>atmosphere rating</th>\n",
       "      <th>price_tag</th>\n",
       "      <th>latitude</th>\n",
       "      <th>longitude</th>\n",
       "      <th>rank_missing</th>\n",
       "      <th>atmosphere_missing</th>\n",
       "      <th>value_missing</th>\n",
       "      <th>general_missing</th>\n",
       "      <th>lg_rank</th>\n",
       "      <th>lg_reviews</th>\n",
       "    </tr>\n",
       "  </thead>\n",
       "  <tbody>\n",
       "    <tr>\n",
       "      <th>1817</th>\n",
       "      <td>3.5</td>\n",
       "      <td>0</td>\n",
       "      <td>0</td>\n",
       "      <td>3.0</td>\n",
       "      <td>4.0</td>\n",
       "      <td>$$ - $$$</td>\n",
       "      <td>50.888222</td>\n",
       "      <td>4.076788</td>\n",
       "      <td>0</td>\n",
       "      <td>1</td>\n",
       "      <td>0</td>\n",
       "      <td>0</td>\n",
       "      <td>1.386294</td>\n",
       "      <td>3.091042</td>\n",
       "    </tr>\n",
       "    <tr>\n",
       "      <th>867</th>\n",
       "      <td>4.0</td>\n",
       "      <td>0</td>\n",
       "      <td>0</td>\n",
       "      <td>4.0</td>\n",
       "      <td>4.0</td>\n",
       "      <td>$$ - $$$</td>\n",
       "      <td>NaN</td>\n",
       "      <td>NaN</td>\n",
       "      <td>0</td>\n",
       "      <td>1</td>\n",
       "      <td>0</td>\n",
       "      <td>0</td>\n",
       "      <td>1.791759</td>\n",
       "      <td>3.806662</td>\n",
       "    </tr>\n",
       "    <tr>\n",
       "      <th>536</th>\n",
       "      <td>5.0</td>\n",
       "      <td>0</td>\n",
       "      <td>0</td>\n",
       "      <td>4.0</td>\n",
       "      <td>4.0</td>\n",
       "      <td>$$ - $$$</td>\n",
       "      <td>NaN</td>\n",
       "      <td>NaN</td>\n",
       "      <td>0</td>\n",
       "      <td>1</td>\n",
       "      <td>1</td>\n",
       "      <td>0</td>\n",
       "      <td>5.484797</td>\n",
       "      <td>2.772589</td>\n",
       "    </tr>\n",
       "    <tr>\n",
       "      <th>1869</th>\n",
       "      <td>3.5</td>\n",
       "      <td>0</td>\n",
       "      <td>0</td>\n",
       "      <td>2.5</td>\n",
       "      <td>4.5</td>\n",
       "      <td>$$ - $$$</td>\n",
       "      <td>51.058388</td>\n",
       "      <td>3.723831</td>\n",
       "      <td>0</td>\n",
       "      <td>0</td>\n",
       "      <td>0</td>\n",
       "      <td>0</td>\n",
       "      <td>6.418365</td>\n",
       "      <td>4.317488</td>\n",
       "    </tr>\n",
       "    <tr>\n",
       "      <th>1500</th>\n",
       "      <td>4.5</td>\n",
       "      <td>0</td>\n",
       "      <td>0</td>\n",
       "      <td>4.0</td>\n",
       "      <td>4.0</td>\n",
       "      <td>$</td>\n",
       "      <td>51.115005</td>\n",
       "      <td>4.138048</td>\n",
       "      <td>0</td>\n",
       "      <td>1</td>\n",
       "      <td>1</td>\n",
       "      <td>0</td>\n",
       "      <td>2.890372</td>\n",
       "      <td>1.609438</td>\n",
       "    </tr>\n",
       "    <tr>\n",
       "      <th>...</th>\n",
       "      <td>...</td>\n",
       "      <td>...</td>\n",
       "      <td>...</td>\n",
       "      <td>...</td>\n",
       "      <td>...</td>\n",
       "      <td>...</td>\n",
       "      <td>...</td>\n",
       "      <td>...</td>\n",
       "      <td>...</td>\n",
       "      <td>...</td>\n",
       "      <td>...</td>\n",
       "      <td>...</td>\n",
       "      <td>...</td>\n",
       "      <td>...</td>\n",
       "    </tr>\n",
       "    <tr>\n",
       "      <th>1149</th>\n",
       "      <td>4.0</td>\n",
       "      <td>0</td>\n",
       "      <td>0</td>\n",
       "      <td>4.0</td>\n",
       "      <td>4.0</td>\n",
       "      <td>$$ - $$$</td>\n",
       "      <td>51.142606</td>\n",
       "      <td>3.956006</td>\n",
       "      <td>0</td>\n",
       "      <td>1</td>\n",
       "      <td>0</td>\n",
       "      <td>0</td>\n",
       "      <td>3.044522</td>\n",
       "      <td>3.401197</td>\n",
       "    </tr>\n",
       "    <tr>\n",
       "      <th>1337</th>\n",
       "      <td>4.0</td>\n",
       "      <td>0</td>\n",
       "      <td>0</td>\n",
       "      <td>4.0</td>\n",
       "      <td>4.0</td>\n",
       "      <td>$$ - $$$</td>\n",
       "      <td>50.872406</td>\n",
       "      <td>3.810749</td>\n",
       "      <td>0</td>\n",
       "      <td>1</td>\n",
       "      <td>1</td>\n",
       "      <td>0</td>\n",
       "      <td>2.944439</td>\n",
       "      <td>2.772589</td>\n",
       "    </tr>\n",
       "    <tr>\n",
       "      <th>865</th>\n",
       "      <td>4.5</td>\n",
       "      <td>0</td>\n",
       "      <td>0</td>\n",
       "      <td>4.0</td>\n",
       "      <td>4.0</td>\n",
       "      <td>$$ - $$$</td>\n",
       "      <td>NaN</td>\n",
       "      <td>NaN</td>\n",
       "      <td>0</td>\n",
       "      <td>1</td>\n",
       "      <td>0</td>\n",
       "      <td>0</td>\n",
       "      <td>1.386294</td>\n",
       "      <td>2.890372</td>\n",
       "    </tr>\n",
       "    <tr>\n",
       "      <th>1552</th>\n",
       "      <td>4.5</td>\n",
       "      <td>0</td>\n",
       "      <td>0</td>\n",
       "      <td>4.0</td>\n",
       "      <td>4.0</td>\n",
       "      <td>$$ - $$$</td>\n",
       "      <td>NaN</td>\n",
       "      <td>NaN</td>\n",
       "      <td>0</td>\n",
       "      <td>1</td>\n",
       "      <td>1</td>\n",
       "      <td>0</td>\n",
       "      <td>3.258097</td>\n",
       "      <td>1.791759</td>\n",
       "    </tr>\n",
       "    <tr>\n",
       "      <th>1145</th>\n",
       "      <td>4.0</td>\n",
       "      <td>0</td>\n",
       "      <td>0</td>\n",
       "      <td>4.0</td>\n",
       "      <td>4.0</td>\n",
       "      <td>$$ - $$$</td>\n",
       "      <td>50.939548</td>\n",
       "      <td>4.033844</td>\n",
       "      <td>0</td>\n",
       "      <td>1</td>\n",
       "      <td>0</td>\n",
       "      <td>0</td>\n",
       "      <td>4.060443</td>\n",
       "      <td>3.178054</td>\n",
       "    </tr>\n",
       "  </tbody>\n",
       "</table>\n",
       "<p>1554 rows × 14 columns</p>\n",
       "</div>"
      ],
      "text/plain": [
       "      general rating  travelers choice  michelin  value rating  \\\n",
       "1817             3.5                 0         0           3.0   \n",
       "867              4.0                 0         0           4.0   \n",
       "536              5.0                 0         0           4.0   \n",
       "1869             3.5                 0         0           2.5   \n",
       "1500             4.5                 0         0           4.0   \n",
       "...              ...               ...       ...           ...   \n",
       "1149             4.0                 0         0           4.0   \n",
       "1337             4.0                 0         0           4.0   \n",
       "865              4.5                 0         0           4.0   \n",
       "1552             4.5                 0         0           4.0   \n",
       "1145             4.0                 0         0           4.0   \n",
       "\n",
       "      atmosphere rating price_tag   latitude  longitude  rank_missing  \\\n",
       "1817                4.0  $$ - $$$  50.888222   4.076788             0   \n",
       "867                 4.0  $$ - $$$        NaN        NaN             0   \n",
       "536                 4.0  $$ - $$$        NaN        NaN             0   \n",
       "1869                4.5  $$ - $$$  51.058388   3.723831             0   \n",
       "1500                4.0         $  51.115005   4.138048             0   \n",
       "...                 ...       ...        ...        ...           ...   \n",
       "1149                4.0  $$ - $$$  51.142606   3.956006             0   \n",
       "1337                4.0  $$ - $$$  50.872406   3.810749             0   \n",
       "865                 4.0  $$ - $$$        NaN        NaN             0   \n",
       "1552                4.0  $$ - $$$        NaN        NaN             0   \n",
       "1145                4.0  $$ - $$$  50.939548   4.033844             0   \n",
       "\n",
       "      atmosphere_missing  value_missing  general_missing   lg_rank  lg_reviews  \n",
       "1817                   1              0                0  1.386294    3.091042  \n",
       "867                    1              0                0  1.791759    3.806662  \n",
       "536                    1              1                0  5.484797    2.772589  \n",
       "1869                   0              0                0  6.418365    4.317488  \n",
       "1500                   1              1                0  2.890372    1.609438  \n",
       "...                  ...            ...              ...       ...         ...  \n",
       "1149                   1              0                0  3.044522    3.401197  \n",
       "1337                   1              1                0  2.944439    2.772589  \n",
       "865                    1              0                0  1.386294    2.890372  \n",
       "1552                   1              1                0  3.258097    1.791759  \n",
       "1145                   1              0                0  4.060443    3.178054  \n",
       "\n",
       "[1554 rows x 14 columns]"
      ]
     },
     "execution_count": 324,
     "metadata": {},
     "output_type": "execute_result"
    }
   ],
   "source": [
    "df_train.drop(columns=[\"description\",\"dutch description\"],inplace=True)\n",
    "df_train"
   ]
  },
  {
   "cell_type": "markdown",
   "metadata": {},
   "source": [
    "### standardizing"
   ]
  },
  {
   "cell_type": "code",
   "execution_count": 337,
   "metadata": {},
   "outputs": [
    {
     "data": {
      "text/plain": [
       "(1554, 7)"
      ]
     },
     "execution_count": 337,
     "metadata": {},
     "output_type": "execute_result"
    }
   ],
   "source": [
    "from sklearn.preprocessing import StandardScaler\n",
    "scaler = StandardScaler()\n",
    "scaled_data=scaler.fit_transform(df_train[[\"general rating\",\"value rating\",\"atmosphere rating\",\"latitude\",\"longitude\",\"lg_rank\",\"lg_reviews\"]])\n",
    "scaled_data.shape"
   ]
  },
  {
   "cell_type": "code",
   "execution_count": 340,
   "metadata": {},
   "outputs": [],
   "source": [
    "df_train[\"general rating\"]=scaled_data[:,0]\n",
    "df_train[\"value rating\"]=scaled_data[:,1]\n",
    "df_train[\"atmosphere rating\"]=scaled_data[:,2]\n",
    "df_train[\"latitude\"]=scaled_data[:,3]\n",
    "df_train[\"longitude\"]=scaled_data[:,4]\n",
    "df_train[\"lg_rank\"]=scaled_data[:,5]\n",
    "df_train[\"lg_reviews\"]=scaled_data[:,6]"
   ]
  },
  {
   "cell_type": "markdown",
   "metadata": {},
   "source": [
    "### label"
   ]
  },
  {
   "cell_type": "markdown",
   "metadata": {},
   "source": [
    "out label is the pice tag, we will ordinal encode this"
   ]
  },
  {
   "cell_type": "code",
   "execution_count": 325,
   "metadata": {},
   "outputs": [],
   "source": [
    "df_train.loc[df_train.price_tag==\"$\",\"price_tag\"]=1\n",
    "df_train.loc[df_train.price_tag==\"$$ - $$$\",\"price_tag\"]=2\n",
    "df_train.loc[df_train.price_tag==\"$$$$\",\"price_tag\"]=3"
   ]
  },
  {
   "cell_type": "code",
   "execution_count": 326,
   "metadata": {},
   "outputs": [],
   "source": [
    "y_train=df_train[\"price_tag\"]\n",
    "df_train.drop(columns=[\"price_tag\"],inplace=True)"
   ]
  },
  {
   "cell_type": "markdown",
   "metadata": {},
   "source": [
    "finally putting it all together"
   ]
  },
  {
   "cell_type": "code",
   "execution_count": 341,
   "metadata": {},
   "outputs": [],
   "source": [
    "X=np.concatenate((oh_cities,mh_encodings[0],mh_encodings[1],mh_encodings[2],mh_encodings[3],df_train),axis=1)"
   ]
  },
  {
   "cell_type": "markdown",
   "metadata": {},
   "source": [
    "# ALARM LAT EN LONG KUNNEN NOG NULL ZIJN"
   ]
  },
  {
   "cell_type": "markdown",
   "metadata": {},
   "source": []
  },
  {
   "cell_type": "markdown",
   "metadata": {},
   "source": []
  },
  {
   "cell_type": "markdown",
   "metadata": {},
   "source": []
  },
  {
   "cell_type": "markdown",
   "metadata": {},
   "source": []
  },
  {
   "cell_type": "markdown",
   "metadata": {},
   "source": []
  }
 ],
 "metadata": {
  "kernelspec": {
   "display_name": "Python 3.10.2 64-bit",
   "language": "python",
   "name": "python3"
  },
  "language_info": {
   "codemirror_mode": {
    "name": "ipython",
    "version": 3
   },
   "file_extension": ".py",
   "mimetype": "text/x-python",
   "name": "python",
   "nbconvert_exporter": "python",
   "pygments_lexer": "ipython3",
   "version": "3.10.2"
  },
  "orig_nbformat": 4,
  "vscode": {
   "interpreter": {
    "hash": "218548c374b4bbf341f954c1c86cc69d1fe99eef78085dfb9916d33ba2c70687"
   }
  }
 },
 "nbformat": 4,
 "nbformat_minor": 2
}

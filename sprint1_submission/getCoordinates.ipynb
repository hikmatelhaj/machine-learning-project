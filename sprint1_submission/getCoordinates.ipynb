{
 "cells": [
  {
   "cell_type": "code",
   "execution_count": 1,
   "metadata": {},
   "outputs": [],
   "source": [
    "import pandas as pd\n",
    "import numpy as np"
   ]
  },
  {
   "cell_type": "code",
   "execution_count": 2,
   "metadata": {},
   "outputs": [],
   "source": [
    "import requests\n",
    "import urllib.parse\n",
    "def getCoordinates(address):\n",
    "\n",
    "    url = 'https://nominatim.openstreetmap.org/search/' + urllib.parse.quote(address) +'?format=json'\n",
    "    response = requests.get(url).json()\n",
    "    # print(response)\n",
    "    if(len(response)>0):\n",
    "        return response[0][\"lat\"],response[0][\"lon\"]\n",
    "    else:\n",
    "        return np.NaN,np.NaN;"
   ]
  },
  {
   "cell_type": "code",
   "execution_count": 3,
   "metadata": {},
   "outputs": [],
   "source": [
    "df=pd.read_csv(\"tripadvisor_dataset/restaurant_listings.csv\")"
   ]
  },
  {
   "cell_type": "code",
   "execution_count": 4,
   "metadata": {},
   "outputs": [],
   "source": [
    "df['city'] = df[\"address\"].str.split(', ').str[-1].str.split(\" \").str[0]\n",
    "eerste=df[:500]\n",
    "tweede=df[500:1000]\n",
    "derde=df[1000:1500]\n",
    "vierde=df[1500:2000]\n",
    "vijfde=df[2000:]"
   ]
  },
  {
   "cell_type": "code",
   "execution_count": 5,
   "metadata": {},
   "outputs": [],
   "source": [
    "coords_eerste=eerste.apply(lambda row : getCoordinates(row[\"address\"]),axis=1)"
   ]
  },
  {
   "cell_type": "code",
   "execution_count": 6,
   "metadata": {},
   "outputs": [],
   "source": [
    "coords_eerste.to_csv(\"coords_eerste.csv\")"
   ]
  },
  {
   "cell_type": "code",
   "execution_count": 7,
   "metadata": {},
   "outputs": [],
   "source": [
    "coords_tweede=tweede.apply(lambda row : getCoordinates(row[\"address\"]),axis=1)"
   ]
  },
  {
   "cell_type": "code",
   "execution_count": 19,
   "metadata": {},
   "outputs": [],
   "source": [
    "coords_tweede.to_csv(\"coords_tweede.csv\")"
   ]
  },
  {
   "cell_type": "code",
   "execution_count": 20,
   "metadata": {},
   "outputs": [],
   "source": [
    "coords_derde=derde.apply(lambda row : getCoordinates(row[\"address\"]),axis=1)"
   ]
  },
  {
   "cell_type": "code",
   "execution_count": 21,
   "metadata": {},
   "outputs": [],
   "source": [
    "coords_derde.to_csv(\"coords_derde.csv\")"
   ]
  },
  {
   "cell_type": "code",
   "execution_count": 22,
   "metadata": {},
   "outputs": [],
   "source": [
    "coords_vierde=vierde.apply(lambda row : getCoordinates(row[\"address\"]),axis=1)"
   ]
  },
  {
   "cell_type": "code",
   "execution_count": 23,
   "metadata": {},
   "outputs": [],
   "source": [
    "coords_vierde.to_csv(\"coords_vierde.csv\")"
   ]
  },
  {
   "cell_type": "code",
   "execution_count": 24,
   "metadata": {},
   "outputs": [],
   "source": [
    "coords_vijfde=vijfde.apply(lambda row : getCoordinates(row[\"address\"]),axis=1)"
   ]
  },
  {
   "cell_type": "code",
   "execution_count": 25,
   "metadata": {},
   "outputs": [],
   "source": [
    "coords_vijfde.to_csv(\"coords_vijfde.csv\")"
   ]
  },
  {
   "cell_type": "code",
   "execution_count": 7,
   "metadata": {},
   "outputs": [
    {
     "data": {
      "text/plain": [
       "0                     (51.0548994, 3.7223248)\n",
       "1             (50.7887051, 4.052819574178704)\n",
       "2                                  (nan, nan)\n",
       "3                     (51.0582196, 3.7222621)\n",
       "4                     (51.0268308, 4.1005587)\n",
       "5              (51.054784, 3.715147529390401)\n",
       "6                     (51.0563899, 3.7200107)\n",
       "7                     (51.0172842, 3.7352118)\n",
       "8                                  (nan, nan)\n",
       "9     (51.057872950000004, 3.723593150457762)\n",
       "10           (51.0579981, 3.7233312548638184)\n",
       "11                                 (nan, nan)\n",
       "12                    (50.9238167, 3.4470247)\n",
       "13                    (51.1690027, 4.1391715)\n",
       "14            (50.9036447, 3.509640294271243)\n",
       "15                    (50.9196162, 3.6129843)\n",
       "16    (50.930108950000005, 4.041852779124971)\n",
       "17                    (51.0548744, 3.7136199)\n",
       "18                    (51.0542464, 3.7173773)\n",
       "19                    (50.7458853, 3.6023023)\n",
       "dtype: object"
      ]
     },
     "execution_count": 7,
     "metadata": {},
     "output_type": "execute_result"
    }
   ],
   "source": [
    "coords_eerste"
   ]
  },
  {
   "cell_type": "code",
   "execution_count": 28,
   "metadata": {},
   "outputs": [
    {
     "data": {
      "text/plain": [
       "500                    (51.1064198, 3.6303079)\n",
       "501           (51.22722365, 3.752044665562572)\n",
       "502    (51.026329399999995, 4.216531067236005)\n",
       "503          (50.96607025, 4.0370028243320615)\n",
       "504           (51.05699085, 3.722443696061501)\n",
       "                        ...                   \n",
       "995    (50.937662450000005, 4.034754187149829)\n",
       "996                    (51.1857364, 3.5590313)\n",
       "997                                 (nan, nan)\n",
       "998            (51.1605344, 4.150798994457261)\n",
       "999                    (51.2797327, 3.6260755)\n",
       "Length: 500, dtype: object"
      ]
     },
     "execution_count": 28,
     "metadata": {},
     "output_type": "execute_result"
    }
   ],
   "source": [
    "coords_tweede"
   ]
  },
  {
   "cell_type": "code",
   "execution_count": 48,
   "metadata": {},
   "outputs": [
    {
     "data": {
      "text/plain": [
       "0                      (51.0548994, 3.7223248)\n",
       "1              (50.7887051, 4.052819574178704)\n",
       "2                                   (nan, nan)\n",
       "3                      (51.0582196, 3.7222621)\n",
       "4                      (51.0268308, 4.1005587)\n",
       "                        ...                   \n",
       "995    (50.937662450000005, 4.034754187149829)\n",
       "996                    (51.1857364, 3.5590313)\n",
       "997                                 (nan, nan)\n",
       "998            (51.1605344, 4.150798994457261)\n",
       "999                    (51.2797327, 3.6260755)\n",
       "Length: 1000, dtype: object"
      ]
     },
     "execution_count": 48,
     "metadata": {},
     "output_type": "execute_result"
    }
   ],
   "source": [
    "a=pd.concat([coords_eerste,coords_tweede,coords_derde,coords_vierde,coords_vijfde])\n",
    "a"
   ]
  },
  {
   "cell_type": "code",
   "execution_count": 49,
   "metadata": {},
   "outputs": [],
   "source": [
    "a=pd.DataFrame({\"coord\":a,\"id\":df.id[:1000]})"
   ]
  },
  {
   "cell_type": "code",
   "execution_count": 51,
   "metadata": {},
   "outputs": [
    {
     "name": "stderr",
     "output_type": "stream",
     "text": [
      "C:\\Users\\Raman\\AppData\\Local\\Temp\\ipykernel_11548\\3791431085.py:3: FutureWarning: The default value of regex will change from True to False in a future version. In addition, single character regular expressions will *not* be treated as literal strings when regex=True.\n",
      "  a[\"coord\"] =a[\"coord\"].str.replace(\"(\",\"\").str.replace(\")\",\"\").str.replace(\"\\'\", \"\").str.replace(\"nan\",\"0\")\n"
     ]
    }
   ],
   "source": [
    "a[\"coord\"]=a[\"coord\"].astype(str)\n",
    "a[\"coord\"] =a[\"coord\"].str.replace(\"(\",\"\").str.replace(\")\",\"\").str.replace(\"\\'\", \"\").str.replace(\"nan\",\"0\")"
   ]
  },
  {
   "cell_type": "code",
   "execution_count": 52,
   "metadata": {},
   "outputs": [],
   "source": [
    "a[[\"latitude\", \"longitude\"]]  = a[\"coord\"].str.split(\",\",1, expand=True)\n",
    "a['latitude'] = pd.to_numeric(a['latitude'])\n",
    "a['longitude'] = pd.to_numeric(a['longitude'])\n",
    "a.drop(columns=[\"coord\"],inplace=True)"
   ]
  },
  {
   "cell_type": "code",
   "execution_count": 54,
   "metadata": {},
   "outputs": [],
   "source": [
    "a.set_index(\"id\").to_csv(\"coordinates2.csv\")"
   ]
  }
 ],
 "metadata": {
  "kernelspec": {
   "display_name": "Python 3.9.12 ('base')",
   "language": "python",
   "name": "python3"
  },
  "language_info": {
   "codemirror_mode": {
    "name": "ipython",
    "version": 3
   },
   "file_extension": ".py",
   "mimetype": "text/x-python",
   "name": "python",
   "nbconvert_exporter": "python",
   "pygments_lexer": "ipython3",
   "version": "3.9.12"
  },
  "orig_nbformat": 4,
  "vscode": {
   "interpreter": {
    "hash": "b781f973879b6653a182b86dce637bbad8607b90046e75a81b5febd27741eaed"
   }
  }
 },
 "nbformat": 4,
 "nbformat_minor": 2
}

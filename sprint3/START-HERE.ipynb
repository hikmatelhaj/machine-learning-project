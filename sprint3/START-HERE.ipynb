{
 "cells": [
  {
   "attachments": {},
   "cell_type": "markdown",
   "metadata": {},
   "source": [
    "# Sprint 3"
   ]
  },
  {
   "attachments": {},
   "cell_type": "markdown",
   "metadata": {},
   "source": [
    "In sprint 3 we've tried to improve our ideas from sprint 2 with deep learning. We also added one new idea."
   ]
  },
  {
   "attachments": {},
   "cell_type": "markdown",
   "metadata": {},
   "source": [
    "## Idea 1: Recommendation system (sprint 2)\n",
    "\n",
    "The idea is that a model will return restaurants correlated with the input. The model will cluster all the images of the restaurants. As input a user gives an image (for example a picture of pasta) and see in which cluster it ends up. All the restaurants from the images in that cluster will be recommended to the user.\n",
    "\n",
    "In sprint 2 we have used methods such as SIFT and HOG as feature extraction. Now we've used deep learning, the implementation of the idea starts in this file: [sprint3_autoencoder.ipynb](sprint3_autoencoder.ipynb)"
   ]
  },
  {
   "attachments": {},
   "cell_type": "markdown",
   "metadata": {},
   "source": [
    "## Idea 2: improving classification with anomalie detection\n",
    "\n",
    "In sprint 2 we tried this:\n",
    "\n",
    "**When you get restaurant recommendations as a user you might want a functionality to filter out restaurants on price range. As a restaurant owner you might want to know what other restaurant features influence your price tag. That's why we want to create a classification model that classifies restaurants into cheap, medium of expensive categories.**\n",
    "\n",
    "At the end of sprint 2 we ended up with our classification model but it was difficult for our model to classify expensive restaurants. That's why we will try to use an anomaly based approach. We will treat the expensive restaurants as anomalies and try to detect them.\n",
    "The implementation of the idea starts in this file: [anomaly-detection-with-autoencoder.ipynb](anomaly-detection-with-autoencoder.ipynb)"
   ]
  },
  {
   "attachments": {},
   "cell_type": "markdown",
   "metadata": {},
   "source": [
    "## Idea 3: Review generator (new idea)\n",
    "\n",
    "Our ideas are to help users. After seeing deep learning, we thought it would be a nice tool if users would be able to generate reviews based on a prefix. The prefix is like a start bias, for example \"the food is good\". We want the text generator to be able to generate positive and negative reviews based on the prefix.\n",
    "\n",
    "\n",
    "The implementation of this idea starts in this file: [sprint3_review_generator.ipynb](sprint3_review_generator.ipynb)\n"
   ]
  }
 ],
 "metadata": {
  "kernelspec": {
   "display_name": "base",
   "language": "python",
   "name": "python3"
  },
  "language_info": {
   "name": "python",
   "version": "3.9.12 (main, Apr  4 2022, 05:22:27) [MSC v.1916 64 bit (AMD64)]"
  },
  "orig_nbformat": 4,
  "vscode": {
   "interpreter": {
    "hash": "b781f973879b6653a182b86dce637bbad8607b90046e75a81b5febd27741eaed"
   }
  }
 },
 "nbformat": 4,
 "nbformat_minor": 2
}

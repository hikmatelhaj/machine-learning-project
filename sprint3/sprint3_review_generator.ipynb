{
 "cells": [
  {
   "cell_type": "code",
   "execution_count": 1,
   "metadata": {},
   "outputs": [
    {
     "name": "stderr",
     "output_type": "stream",
     "text": [
      "2022-12-19 16:39:05.752768: I tensorflow/core/platform/cpu_feature_guard.cc:193] This TensorFlow binary is optimized with oneAPI Deep Neural Network Library (oneDNN) to use the following CPU instructions in performance-critical operations:  AVX2 AVX512F FMA\n",
      "To enable them in other operations, rebuild TensorFlow with the appropriate compiler flags.\n",
      "2022-12-19 16:39:06.095534: E tensorflow/stream_executor/cuda/cuda_blas.cc:2981] Unable to register cuBLAS factory: Attempting to register factory for plugin cuBLAS when one has already been registered\n",
      "2022-12-19 16:39:07.547950: W tensorflow/stream_executor/platform/default/dso_loader.cc:64] Could not load dynamic library 'libnvinfer.so.7'; dlerror: libnvinfer.so.7: cannot open shared object file: No such file or directory\n",
      "2022-12-19 16:39:07.548204: W tensorflow/stream_executor/platform/default/dso_loader.cc:64] Could not load dynamic library 'libnvinfer_plugin.so.7'; dlerror: libnvinfer_plugin.so.7: cannot open shared object file: No such file or directory\n",
      "2022-12-19 16:39:07.548231: W tensorflow/compiler/tf2tensorrt/utils/py_utils.cc:38] TF-TRT Warning: Cannot dlopen some TensorRT libraries. If you would like to use Nvidia GPU with TensorRT, please make sure the missing libraries mentioned above are installed properly.\n"
     ]
    }
   ],
   "source": [
    "import pandas as pd\n",
    "import seaborn as sn\n",
    "import numpy as np\n",
    "import matplotlib.pyplot as plt\n",
    "import seaborn as sns\n",
    "from matplotlib.transforms import Bbox\n",
    "from random import shuffle\n",
    "from sklearn.model_selection import train_test_split\n",
    "import tensorflow as tf\n",
    "from tensorflow import keras"
   ]
  },
  {
   "cell_type": "code",
   "execution_count": 2,
   "metadata": {},
   "outputs": [
    {
     "data": {
      "text/html": [
       "<div>\n",
       "<style scoped>\n",
       "    .dataframe tbody tr th:only-of-type {\n",
       "        vertical-align: middle;\n",
       "    }\n",
       "\n",
       "    .dataframe tbody tr th {\n",
       "        vertical-align: top;\n",
       "    }\n",
       "\n",
       "    .dataframe thead th {\n",
       "        text-align: right;\n",
       "    }\n",
       "</style>\n",
       "<table border=\"1\" class=\"dataframe\">\n",
       "  <thead>\n",
       "    <tr style=\"text-align: right;\">\n",
       "      <th></th>\n",
       "      <th>id</th>\n",
       "      <th>reviewer name</th>\n",
       "      <th>title</th>\n",
       "      <th>date</th>\n",
       "      <th>rating</th>\n",
       "      <th>review</th>\n",
       "    </tr>\n",
       "  </thead>\n",
       "  <tbody>\n",
       "    <tr>\n",
       "      <th>0</th>\n",
       "      <td>13969825</td>\n",
       "      <td>bertd818</td>\n",
       "      <td>supper snelle en lekkere lunch</td>\n",
       "      <td>September 26, 2022</td>\n",
       "      <td>5.0</td>\n",
       "      <td>supper lekker gegeten tijdens de middag, als w...</td>\n",
       "    </tr>\n",
       "    <tr>\n",
       "      <th>1</th>\n",
       "      <td>13969825</td>\n",
       "      <td>593laetitiad</td>\n",
       "      <td>Un délicieux repas aux saveurs de la Thaïlande</td>\n",
       "      <td>September 24, 2022</td>\n",
       "      <td>5.0</td>\n",
       "      <td>Un menu lunch très bien équilibré aux niveaux ...</td>\n",
       "    </tr>\n",
       "  </tbody>\n",
       "</table>\n",
       "</div>"
      ],
      "text/plain": [
       "         id reviewer name                                           title  \\\n",
       "0  13969825      bertd818                  supper snelle en lekkere lunch   \n",
       "1  13969825  593laetitiad  Un délicieux repas aux saveurs de la Thaïlande   \n",
       "\n",
       "                 date  rating  \\\n",
       "0  September 26, 2022     5.0   \n",
       "1  September 24, 2022     5.0   \n",
       "\n",
       "                                              review  \n",
       "0  supper lekker gegeten tijdens de middag, als w...  \n",
       "1  Un menu lunch très bien équilibré aux niveaux ...  "
      ]
     },
     "execution_count": 2,
     "metadata": {},
     "output_type": "execute_result"
    }
   ],
   "source": [
    "reviews=pd.read_csv(\"../tripadvisor_dataset/reviews.csv\")\n",
    "reviews.head(2)"
   ]
  },
  {
   "cell_type": "code",
   "execution_count": 3,
   "metadata": {},
   "outputs": [
    {
     "name": "stdout",
     "output_type": "stream",
     "text": [
      "(8060, 6)\n"
     ]
    },
    {
     "data": {
      "text/plain": [
       "(58117, 6)"
      ]
     },
     "execution_count": 3,
     "metadata": {},
     "output_type": "execute_result"
    }
   ],
   "source": [
    "reviews_positive = reviews[reviews[\"rating\"] == 5]\n",
    "reviews_negative = reviews[reviews[\"rating\"] == 1]\n",
    "print(reviews_negative.shape)\n",
    "reviews_positive.shape"
   ]
  },
  {
   "cell_type": "code",
   "execution_count": 4,
   "metadata": {},
   "outputs": [
    {
     "data": {
      "text/html": [
       "<div>\n",
       "<style scoped>\n",
       "    .dataframe tbody tr th:only-of-type {\n",
       "        vertical-align: middle;\n",
       "    }\n",
       "\n",
       "    .dataframe tbody tr th {\n",
       "        vertical-align: top;\n",
       "    }\n",
       "\n",
       "    .dataframe thead th {\n",
       "        text-align: right;\n",
       "    }\n",
       "</style>\n",
       "<table border=\"1\" class=\"dataframe\">\n",
       "  <thead>\n",
       "    <tr style=\"text-align: right;\">\n",
       "      <th></th>\n",
       "      <th>id</th>\n",
       "      <th>reviewer name</th>\n",
       "      <th>title</th>\n",
       "      <th>date</th>\n",
       "      <th>rating</th>\n",
       "      <th>review</th>\n",
       "    </tr>\n",
       "  </thead>\n",
       "  <tbody>\n",
       "    <tr>\n",
       "      <th>57</th>\n",
       "      <td>13969825</td>\n",
       "      <td>398maartjeg</td>\n",
       "      <td>Wel ok, maar zeker niet de allerbeste</td>\n",
       "      <td>June 11, 2022</td>\n",
       "      <td>1.0</td>\n",
       "      <td>Bediening is aardig maar eten is niet heel spe...</td>\n",
       "    </tr>\n",
       "    <tr>\n",
       "      <th>118</th>\n",
       "      <td>13969825</td>\n",
       "      <td>michellD9555DF</td>\n",
       "      <td>Waardeloze service</td>\n",
       "      <td>March 5, 2022</td>\n",
       "      <td>1.0</td>\n",
       "      <td>Niet eens aan eten toegekomen. Je reserveert e...</td>\n",
       "    </tr>\n",
       "    <tr>\n",
       "      <th>141</th>\n",
       "      <td>13969825</td>\n",
       "      <td>143andreic</td>\n",
       "      <td>Ungenügend</td>\n",
       "      <td>January 6, 2022</td>\n",
       "      <td>1.0</td>\n",
       "      <td>Wir haben nicht reserviert kamen rein und habe...</td>\n",
       "    </tr>\n",
       "    <tr>\n",
       "      <th>208</th>\n",
       "      <td>13969825</td>\n",
       "      <td>559zul</td>\n",
       "      <td>teleurstelling</td>\n",
       "      <td>September 9, 2021</td>\n",
       "      <td>1.0</td>\n",
       "      <td>Be ready to wait LONG for your food.\\nWe had t...</td>\n",
       "    </tr>\n",
       "    <tr>\n",
       "      <th>494</th>\n",
       "      <td>13969825</td>\n",
       "      <td>sv20172017</td>\n",
       "      <td>Rendement per m2 optimaal</td>\n",
       "      <td>January 3, 2020</td>\n",
       "      <td>1.0</td>\n",
       "      <td>Na het lezen van de recentie van Gault &amp; Milla...</td>\n",
       "    </tr>\n",
       "    <tr>\n",
       "      <th>...</th>\n",
       "      <td>...</td>\n",
       "      <td>...</td>\n",
       "      <td>...</td>\n",
       "      <td>...</td>\n",
       "      <td>...</td>\n",
       "      <td>...</td>\n",
       "    </tr>\n",
       "    <tr>\n",
       "      <th>2946</th>\n",
       "      <td>10032417</td>\n",
       "      <td>593sannew</td>\n",
       "      <td>Excellent !</td>\n",
       "      <td>August 6, 2018</td>\n",
       "      <td>5.0</td>\n",
       "      <td>Wat een prachtige plek en een enorm toffe eige...</td>\n",
       "    </tr>\n",
       "    <tr>\n",
       "      <th>2947</th>\n",
       "      <td>10032417</td>\n",
       "      <td>513veerlev</td>\n",
       "      <td>Love the experience</td>\n",
       "      <td>August 3, 2018</td>\n",
       "      <td>5.0</td>\n",
       "      <td>It is not a place where you just have somethin...</td>\n",
       "    </tr>\n",
       "    <tr>\n",
       "      <th>2948</th>\n",
       "      <td>10032417</td>\n",
       "      <td>76sandrar</td>\n",
       "      <td>Lovely Lunch and Owner!</td>\n",
       "      <td>July 30, 2018</td>\n",
       "      <td>5.0</td>\n",
       "      <td>Not only is the place super cute and original,...</td>\n",
       "    </tr>\n",
       "    <tr>\n",
       "      <th>2949</th>\n",
       "      <td>10032417</td>\n",
       "      <td>PuchPuch</td>\n",
       "      <td>Tres bon goûter sur une agréable</td>\n",
       "      <td>July 7, 2018</td>\n",
       "      <td>5.0</td>\n",
       "      <td>Le lieu mérite une visite ne serait-ce que pou...</td>\n",
       "    </tr>\n",
       "    <tr>\n",
       "      <th>2952</th>\n",
       "      <td>10032417</td>\n",
       "      <td>Galitea7</td>\n",
       "      <td>Magnifique</td>\n",
       "      <td>June 24, 2018</td>\n",
       "      <td>5.0</td>\n",
       "      <td>Maison Elza.... Entdeckt vom Wasser aus.....di...</td>\n",
       "    </tr>\n",
       "  </tbody>\n",
       "</table>\n",
       "<p>5000 rows × 6 columns</p>\n",
       "</div>"
      ],
      "text/plain": [
       "            id   reviewer name                                  title  \\\n",
       "57    13969825     398maartjeg  Wel ok, maar zeker niet de allerbeste   \n",
       "118   13969825  michellD9555DF                     Waardeloze service   \n",
       "141   13969825      143andreic                             Ungenügend   \n",
       "208   13969825          559zul                         teleurstelling   \n",
       "494   13969825      sv20172017              Rendement per m2 optimaal   \n",
       "...        ...             ...                                    ...   \n",
       "2946  10032417       593sannew                           Excellent !    \n",
       "2947  10032417      513veerlev                    Love the experience   \n",
       "2948  10032417       76sandrar               Lovely Lunch and Owner!    \n",
       "2949  10032417        PuchPuch      Tres bon goûter sur une agréable    \n",
       "2952  10032417        Galitea7                             Magnifique   \n",
       "\n",
       "                   date  rating  \\\n",
       "57        June 11, 2022     1.0   \n",
       "118       March 5, 2022     1.0   \n",
       "141     January 6, 2022     1.0   \n",
       "208   September 9, 2021     1.0   \n",
       "494     January 3, 2020     1.0   \n",
       "...                 ...     ...   \n",
       "2946     August 6, 2018     5.0   \n",
       "2947     August 3, 2018     5.0   \n",
       "2948      July 30, 2018     5.0   \n",
       "2949       July 7, 2018     5.0   \n",
       "2952      June 24, 2018     5.0   \n",
       "\n",
       "                                                 review  \n",
       "57    Bediening is aardig maar eten is niet heel spe...  \n",
       "118   Niet eens aan eten toegekomen. Je reserveert e...  \n",
       "141   Wir haben nicht reserviert kamen rein und habe...  \n",
       "208   Be ready to wait LONG for your food.\\nWe had t...  \n",
       "494   Na het lezen van de recentie van Gault & Milla...  \n",
       "...                                                 ...  \n",
       "2946  Wat een prachtige plek en een enorm toffe eige...  \n",
       "2947  It is not a place where you just have somethin...  \n",
       "2948  Not only is the place super cute and original,...  \n",
       "2949  Le lieu mérite une visite ne serait-ce que pou...  \n",
       "2952  Maison Elza.... Entdeckt vom Wasser aus.....di...  \n",
       "\n",
       "[5000 rows x 6 columns]"
      ]
     },
     "execution_count": 4,
     "metadata": {},
     "output_type": "execute_result"
    }
   ],
   "source": [
    "reviews_positive = reviews_positive.head(2500)\n",
    "reviews_negative = reviews_negative.head(2500)\n",
    "reviews = pd.concat([reviews_negative, reviews_positive])\n",
    "reviews"
   ]
  },
  {
   "cell_type": "code",
   "execution_count": 5,
   "metadata": {},
   "outputs": [],
   "source": [
    "reviews_txt = open(\"reviews.txt\", \"w\", encoding=\"utf-8\")\n",
    "\n",
    "reviews_cleaned = \"\"\n",
    "for rev in list(reviews[\"review\"]):\n",
    "    rev = str(rev)\n",
    "    reviews_txt.write(rev + \"\\n\")\n",
    "\n",
    "reviews_txt.close()\n",
    "with open(\"reviews.txt\", \"r\", encoding=\"utf-8\") as f:\n",
    "    reviews_cleaned = f.read()\n"
   ]
  },
  {
   "cell_type": "code",
   "execution_count": 6,
   "metadata": {},
   "outputs": [
    {
     "name": "stdout",
     "output_type": "stream",
     "text": [
      "2159953\n"
     ]
    }
   ],
   "source": [
    "print(len(reviews_cleaned))"
   ]
  },
  {
   "cell_type": "markdown",
   "metadata": {},
   "source": [
    "## Preprocessing data"
   ]
  },
  {
   "cell_type": "code",
   "execution_count": 7,
   "metadata": {},
   "outputs": [],
   "source": [
    "tokenizer = keras.preprocessing.text.Tokenizer(char_level=True)\n",
    "tokenizer.fit_on_texts(reviews_cleaned)\n",
    "max_id = len(tokenizer.word_index)\n",
    "\n"
   ]
  },
  {
   "cell_type": "code",
   "execution_count": 8,
   "metadata": {},
   "outputs": [
    {
     "name": "stderr",
     "output_type": "stream",
     "text": [
      "2022-12-19 16:39:18.351286: I tensorflow/core/platform/cpu_feature_guard.cc:193] This TensorFlow binary is optimized with oneAPI Deep Neural Network Library (oneDNN) to use the following CPU instructions in performance-critical operations:  AVX2 AVX512F FMA\n",
      "To enable them in other operations, rebuild TensorFlow with the appropriate compiler flags.\n",
      "2022-12-19 16:39:20.546095: I tensorflow/core/common_runtime/gpu/gpu_device.cc:1616] Created device /job:localhost/replica:0/task:0/device:GPU:0 with 30974 MB memory:  -> device: 0, name: Tesla V100-SXM3-32GB, pci bus id: 0000:96:00.0, compute capability: 7.0\n"
     ]
    }
   ],
   "source": [
    "dataset_size = tokenizer.document_count # total number of characters\n",
    "[encoded] = np.array(tokenizer.texts_to_sequences([reviews_cleaned])) - 1\n",
    "train_size = dataset_size * 90 // 100\n",
    "dataset = tf.data.Dataset.from_tensor_slices(encoded[:train_size])"
   ]
  },
  {
   "cell_type": "code",
   "execution_count": 9,
   "metadata": {},
   "outputs": [],
   "source": [
    "n_steps = 100\n",
    "window_length = n_steps + 1 # target = input shifted 1 character ahead\n",
    "dataset = dataset.window(window_length, shift=1, drop_remainder=True)"
   ]
  },
  {
   "cell_type": "code",
   "execution_count": 10,
   "metadata": {},
   "outputs": [],
   "source": [
    "dataset = dataset.flat_map(lambda window: window.batch(window_length))\n",
    "\n",
    "batch_size = 32\n",
    "dataset = dataset.shuffle(10000).batch(batch_size)\n",
    "dataset = dataset.map(lambda windows: (windows[:, :-1], windows[:, 1:]))"
   ]
  },
  {
   "cell_type": "code",
   "execution_count": 11,
   "metadata": {},
   "outputs": [],
   "source": [
    "dataset = dataset.map(\n",
    "    lambda X_batch, Y_batch: (tf.one_hot(X_batch, depth=max_id), Y_batch))"
   ]
  },
  {
   "cell_type": "code",
   "execution_count": 12,
   "metadata": {},
   "outputs": [
    {
     "name": "stdout",
     "output_type": "stream",
     "text": [
      "(32, 100, 830) (32, 100)\n"
     ]
    }
   ],
   "source": [
    "dataset = dataset.prefetch(1)\n",
    "for X_batch, Y_batch in dataset.take(1):\n",
    "    print(X_batch.shape, Y_batch.shape)"
   ]
  },
  {
   "cell_type": "code",
   "execution_count": 13,
   "metadata": {},
   "outputs": [
    {
     "name": "stdout",
     "output_type": "stream",
     "text": [
      "Epoch 1/10\n"
     ]
    },
    {
     "name": "stderr",
     "output_type": "stream",
     "text": [
      "2022-12-19 16:39:36.275348: I tensorflow/stream_executor/cuda/cuda_dnn.cc:384] Loaded cuDNN version 8500\n"
     ]
    },
    {
     "name": "stdout",
     "output_type": "stream",
     "text": [
      "60746/60746 [==============================] - 1933s 32ms/step - loss: 1.7735\n",
      "Epoch 2/10\n",
      "60746/60746 [==============================] - 1900s 31ms/step - loss: 1.6156\n",
      "Epoch 3/10\n",
      "60746/60746 [==============================] - 2150s 35ms/step - loss: 1.5940\n",
      "Epoch 4/10\n",
      "60746/60746 [==============================] - 1917s 32ms/step - loss: 1.5833\n",
      "Epoch 5/10\n",
      "60746/60746 [==============================] - 1946s 32ms/step - loss: 1.5765\n",
      "Epoch 6/10\n",
      "60746/60746 [==============================] - 1951s 32ms/step - loss: 1.5725\n",
      "Epoch 7/10\n",
      "60746/60746 [==============================] - 2207s 36ms/step - loss: 1.5676\n",
      "Epoch 8/10\n",
      "60746/60746 [==============================] - 1978s 33ms/step - loss: 1.5648\n",
      "Epoch 9/10\n",
      "60746/60746 [==============================] - 1974s 32ms/step - loss: 1.5621\n",
      "Epoch 10/10\n",
      "60746/60746 [==============================] - 1968s 32ms/step - loss: 1.5603\n"
     ]
    }
   ],
   "source": [
    "model = keras.models.Sequential([\n",
    "    keras.layers.GRU(128, return_sequences=True, input_shape=[None, max_id],\n",
    "                     #dropout=0.2, recurrent_dropout=0.2),\n",
    "                     dropout=0.2),\n",
    "    keras.layers.GRU(128, return_sequences=True,\n",
    "                     #dropout=0.2, recurrent_dropout=0.2),\n",
    "                     dropout=0.2),\n",
    "    keras.layers.TimeDistributed(keras.layers.Dense(max_id,\n",
    "                                                    activation=\"softmax\"))\n",
    "])\n",
    "model.compile(loss=\"sparse_categorical_crossentropy\", optimizer=\"adam\")\n",
    "history = model.fit(dataset, epochs=10)"
   ]
  },
  {
   "cell_type": "code",
   "execution_count": 14,
   "metadata": {},
   "outputs": [],
   "source": [
    "def preprocess(texts):\n",
    "    X = np.array(tokenizer.texts_to_sequences(texts)) - 1\n",
    "    return tf.one_hot(X, max_id)"
   ]
  },
  {
   "cell_type": "code",
   "execution_count": 15,
   "metadata": {},
   "outputs": [
    {
     "data": {
      "text/plain": [
       "'u'"
      ]
     },
     "execution_count": 15,
     "metadata": {},
     "output_type": "execute_result"
    }
   ],
   "source": [
    "X_new = preprocess([\"How are yo\"])\n",
    "#Y_pred = model.predict_classes(X_new)\n",
    "Y_pred = np.argmax(model(X_new), axis=-1)\n",
    "tokenizer.sequences_to_texts(Y_pred + 1)[0][-1] # 1st sentence, last char"
   ]
  },
  {
   "cell_type": "code",
   "execution_count": 16,
   "metadata": {},
   "outputs": [],
   "source": [
    "def next_char(text, temperature=1):\n",
    "    X_new = preprocess([text])\n",
    "    y_proba = model(X_new)[0, -1:, :]\n",
    "    rescaled_logits = tf.math.log(y_proba) / temperature\n",
    "    char_id = tf.random.categorical(rescaled_logits, num_samples=1) + 1\n",
    "    return tokenizer.sequences_to_texts(char_id.numpy())[0]\n",
    "\n"
   ]
  },
  {
   "cell_type": "code",
   "execution_count": 17,
   "metadata": {},
   "outputs": [],
   "source": [
    "def complete_text(text, n_chars=50, temperature=1):\n",
    "    for _ in range(n_chars):\n",
    "        text += next_char(text, temperature)\n",
    "    return text\n",
    "\n"
   ]
  },
  {
   "cell_type": "code",
   "execution_count": 18,
   "metadata": {},
   "outputs": [
    {
     "name": "stdout",
     "output_type": "stream",
     "text": [
      "good food and cream of the evening and the past of the extra cheese starters. the evening was a somple experi\n"
     ]
    }
   ],
   "source": [
    "print(complete_text(\"good food\",100, temperature=0.2))"
   ]
  },
  {
   "cell_type": "markdown",
   "metadata": {},
   "source": [
    "## save the model"
   ]
  },
  {
   "cell_type": "code",
   "execution_count": null,
   "metadata": {},
   "outputs": [],
   "source": [
    "model.save('./review_generator_v2/')"
   ]
  }
 ],
 "metadata": {
  "kernelspec": {
   "display_name": "Python 3 (ipykernel)",
   "language": "python",
   "name": "python3"
  },
  "language_info": {
   "codemirror_mode": {
    "name": "ipython",
    "version": 3
   },
   "file_extension": ".py",
   "mimetype": "text/x-python",
   "name": "python",
   "nbconvert_exporter": "python",
   "pygments_lexer": "ipython3",
   "version": "3.10.6"
  },
  "vscode": {
   "interpreter": {
    "hash": "218548c374b4bbf341f954c1c86cc69d1fe99eef78085dfb9916d33ba2c70687"
   }
  }
 },
 "nbformat": 4,
 "nbformat_minor": 4
}

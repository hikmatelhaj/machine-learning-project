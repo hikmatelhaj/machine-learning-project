{
 "cells": [
  {
   "cell_type": "markdown",
   "id": "f9022f49",
   "metadata": {
    "papermill": {
     "duration": 0.015972,
     "end_time": "2022-12-21T19:14:02.843816",
     "exception": false,
     "start_time": "2022-12-21T19:14:02.827844",
     "status": "completed"
    },
    "tags": []
   },
   "source": [
    "## Anomaly detectoin: expensive restaurants\n",
    "In sprint 2 we tried this:\n",
    "\n",
    "**When you get restaurant recommendations as a user you might want a functionality to filter out restaurants on price range. As a restaurant owner you might want to know what other restaurant features influence your price tag. That's why we want to create a classification model that classifies restaurants into cheap, medium of expensive categories.**\n",
    "\n",
    "At the end of sprint 2 we ended up with our classification model but it was difficult for our model to classify expensive restaurants.\n"
   ]
  },
  {
   "cell_type": "code",
   "execution_count": 1,
   "id": "4e57e7a6",
   "metadata": {
    "execution": {
     "iopub.execute_input": "2022-12-21T19:14:02.876521Z",
     "iopub.status.busy": "2022-12-21T19:14:02.876046Z",
     "iopub.status.idle": "2022-12-21T19:14:04.184954Z",
     "shell.execute_reply": "2022-12-21T19:14:04.183625Z"
    },
    "papermill": {
     "duration": 1.329738,
     "end_time": "2022-12-21T19:14:04.188031",
     "exception": false,
     "start_time": "2022-12-21T19:14:02.858293",
     "status": "completed"
    },
    "tags": []
   },
   "outputs": [],
   "source": [
    "from fastai.imports import *\n",
    "from sklearn.model_selection import  RandomizedSearchCV\n",
    "import seaborn as sns\n",
    "\n",
    "original_df = pd.read_csv(\"/kaggle/input/tripadvisor/restaurant_listings.csv\")\n",
    "pd.set_option(\"display.max_columns\", None)"
   ]
  },
  {
   "cell_type": "markdown",
   "id": "6bb1647f",
   "metadata": {
    "papermill": {
     "duration": 0.013643,
     "end_time": "2022-12-21T19:14:04.216417",
     "exception": false,
     "start_time": "2022-12-21T19:14:04.202774",
     "status": "completed"
    },
    "tags": []
   },
   "source": [
    "in short, we will do the same preprocessing as we did in sprint 1 and the price classification notebook of sprint 2\n"
   ]
  },
  {
   "cell_type": "code",
   "execution_count": 2,
   "id": "02bf4477",
   "metadata": {
    "execution": {
     "iopub.execute_input": "2022-12-21T19:14:04.247116Z",
     "iopub.status.busy": "2022-12-21T19:14:04.246280Z",
     "iopub.status.idle": "2022-12-21T19:14:04.304830Z",
     "shell.execute_reply": "2022-12-21T19:14:04.303426Z"
    },
    "papermill": {
     "duration": 0.079039,
     "end_time": "2022-12-21T19:14:04.309496",
     "exception": false,
     "start_time": "2022-12-21T19:14:04.230457",
     "status": "completed"
    },
    "tags": []
   },
   "outputs": [],
   "source": [
    "original_df[\"rank\"]=original_df[\"rank\"].str.replace(\"#\",\"\").astype(float)\n",
    "original_df[\"general rating\"]=original_df[\"general rating\"].map(lambda x: x.split(\" \")[0]).astype(float)\n",
    "original_df[\"number of reviews\"]=original_df[\"number of reviews\"].map(lambda x: x.split(\" \")[0].replace(\",\",\"\")).astype(float)\n",
    "original_df['city'] = original_df[\"address\"].str.split(', ').str[-1].str.split(\" \").str[0]\n",
    "first_tag=original_df.tags.str.split(\"|\",expand=True)[0].dropna()\n",
    "ranges=first_tag[first_tag.str.find(\"$\")!=-1]\n",
    "original_df[\"price_tag\"]=ranges"
   ]
  },
  {
   "cell_type": "markdown",
   "id": "d1c45967",
   "metadata": {
    "papermill": {
     "duration": 0.018662,
     "end_time": "2022-12-21T19:14:04.343990",
     "exception": false,
     "start_time": "2022-12-21T19:14:04.325328",
     "status": "completed"
    },
    "tags": []
   },
   "source": [
    "*NOTE* we can do this preprocessing on the original df because we are not aggregating data, each row is preprocessed individually (we are not using mean/mode/median/...)\n",
    "\n",
    "we will use the same preprocessing as we did in sprint 2 for the classification task"
   ]
  },
  {
   "cell_type": "code",
   "execution_count": 3,
   "id": "650a33ee",
   "metadata": {
    "execution": {
     "iopub.execute_input": "2022-12-21T19:14:04.378255Z",
     "iopub.status.busy": "2022-12-21T19:14:04.376979Z",
     "iopub.status.idle": "2022-12-21T19:14:04.389933Z",
     "shell.execute_reply": "2022-12-21T19:14:04.388930Z"
    },
    "papermill": {
     "duration": 0.031088,
     "end_time": "2022-12-21T19:14:04.392635",
     "exception": false,
     "start_time": "2022-12-21T19:14:04.361547",
     "status": "completed"
    },
    "tags": []
   },
   "outputs": [],
   "source": [
    "original_df.drop(columns=[\"restaurant name\",\"address\",\"phone number\",\"website url\",\"menu url\",\"timetable\",\"email address\",\"tags\",\"food rating\", \"service rating\",\"price range\",\"description\",\"dutch description\"], inplace=True)"
   ]
  },
  {
   "cell_type": "code",
   "execution_count": 4,
   "id": "945d5adf",
   "metadata": {
    "execution": {
     "iopub.execute_input": "2022-12-21T19:14:04.423147Z",
     "iopub.status.busy": "2022-12-21T19:14:04.422299Z",
     "iopub.status.idle": "2022-12-21T19:14:04.432671Z",
     "shell.execute_reply": "2022-12-21T19:14:04.431363Z"
    },
    "papermill": {
     "duration": 0.028618,
     "end_time": "2022-12-21T19:14:04.435287",
     "exception": false,
     "start_time": "2022-12-21T19:14:04.406669",
     "status": "completed"
    },
    "tags": []
   },
   "outputs": [
    {
     "data": {
      "text/plain": [
       "Index(['rank', 'general rating', 'number of reviews', 'travelers choice',\n",
       "       'michelin', 'value rating', 'atmosphere rating', 'cuisines',\n",
       "       'special diets', 'meals', 'restaurant features', 'id', 'city',\n",
       "       'price_tag'],\n",
       "      dtype='object')"
      ]
     },
     "execution_count": 4,
     "metadata": {},
     "output_type": "execute_result"
    }
   ],
   "source": [
    "original_df.columns"
   ]
  },
  {
   "cell_type": "code",
   "execution_count": 5,
   "id": "a2e01663",
   "metadata": {
    "execution": {
     "iopub.execute_input": "2022-12-21T19:14:04.496209Z",
     "iopub.status.busy": "2022-12-21T19:14:04.495759Z",
     "iopub.status.idle": "2022-12-21T19:14:04.505456Z",
     "shell.execute_reply": "2022-12-21T19:14:04.504159Z"
    },
    "papermill": {
     "duration": 0.027861,
     "end_time": "2022-12-21T19:14:04.507722",
     "exception": false,
     "start_time": "2022-12-21T19:14:04.479861",
     "status": "completed"
    },
    "tags": []
   },
   "outputs": [
    {
     "data": {
      "text/plain": [
       "$$ - $$$    1540\n",
       "$            330\n",
       "$$$$          73\n",
       "Name: price_tag, dtype: int64"
      ]
     },
     "execution_count": 5,
     "metadata": {},
     "output_type": "execute_result"
    }
   ],
   "source": [
    "original_df[\"price_tag\"].value_counts()"
   ]
  },
  {
   "cell_type": "markdown",
   "id": "34fe65b0",
   "metadata": {
    "papermill": {
     "duration": 0.01387,
     "end_time": "2022-12-21T19:14:04.536289",
     "exception": false,
     "start_time": "2022-12-21T19:14:04.522419",
     "status": "completed"
    },
    "tags": []
   },
   "source": [
    "we can see that the expesive restaurants are rare, that's why our classifier from sprint 2 couldn't detect it well, that's why we will try an anomaly detection aproach"
   ]
  },
  {
   "cell_type": "markdown",
   "id": "37780c00",
   "metadata": {
    "papermill": {
     "duration": 0.013816,
     "end_time": "2022-12-21T19:14:04.564208",
     "exception": false,
     "start_time": "2022-12-21T19:14:04.550392",
     "status": "completed"
    },
    "tags": []
   },
   "source": [
    "missing values"
   ]
  },
  {
   "cell_type": "code",
   "execution_count": 6,
   "id": "14cf3f14",
   "metadata": {
    "execution": {
     "iopub.execute_input": "2022-12-21T19:14:04.593909Z",
     "iopub.status.busy": "2022-12-21T19:14:04.593512Z",
     "iopub.status.idle": "2022-12-21T19:14:04.602012Z",
     "shell.execute_reply": "2022-12-21T19:14:04.600891Z"
    },
    "papermill": {
     "duration": 0.025931,
     "end_time": "2022-12-21T19:14:04.604146",
     "exception": false,
     "start_time": "2022-12-21T19:14:04.578215",
     "status": "completed"
    },
    "tags": []
   },
   "outputs": [
    {
     "data": {
      "text/plain": [
       "638"
      ]
     },
     "execution_count": 6,
     "metadata": {},
     "output_type": "execute_result"
    }
   ],
   "source": [
    "original_df[\"price_tag\"].isna().sum()"
   ]
  },
  {
   "cell_type": "markdown",
   "id": "3ddb2caa",
   "metadata": {
    "papermill": {
     "duration": 0.013837,
     "end_time": "2022-12-21T19:14:04.632346",
     "exception": false,
     "start_time": "2022-12-21T19:14:04.618509",
     "status": "completed"
    },
    "tags": []
   },
   "source": [
    "We have missing data of our price_tag for 638 restaurants, we won't use those restaurants"
   ]
  },
  {
   "attachments": {},
   "cell_type": "markdown",
   "id": "0bea3096",
   "metadata": {
    "papermill": {
     "duration": 0.013853,
     "end_time": "2022-12-21T19:14:04.660383",
     "exception": false,
     "start_time": "2022-12-21T19:14:04.646530",
     "status": "completed"
    },
    "tags": []
   },
   "source": [
    "### our method\n",
    "\n",
    "Like we said in the end of sprint 2 our approach would be to use the dataset without the expensive restaurants and perform PCA on them, the use the inverse PCA transformation to reconstruct the original data. As an anomaly score, the reconstruction error is used by computing the sum of squared errors (SSE) between the input and output vector. Without removing the components that explain the least variance, this would be a loss-less operation with an SSE equal to zero. However, when the PCA transformation is ftted on only non-expensive restaurants in combination with a reduction in principal components, then the expensive restaurants will yield a higher reconstruction error and thus anomaly score as long as the assumption that expensive restaurants differ from normal restaurants is satisfed.\n",
    "\n",
    "But because this is sprint 3 we will try the same approach but with an autoencoder"
   ]
  },
  {
   "cell_type": "markdown",
   "id": "69ac443c",
   "metadata": {
    "papermill": {
     "duration": 0.013786,
     "end_time": "2022-12-21T19:14:04.688339",
     "exception": false,
     "start_time": "2022-12-21T19:14:04.674553",
     "status": "completed"
    },
    "tags": []
   },
   "source": [
    "### preprocessing our data"
   ]
  },
  {
   "cell_type": "code",
   "execution_count": 7,
   "id": "0b6d2d1b",
   "metadata": {
    "execution": {
     "iopub.execute_input": "2022-12-21T19:14:04.719230Z",
     "iopub.status.busy": "2022-12-21T19:14:04.718415Z",
     "iopub.status.idle": "2022-12-21T19:14:04.725406Z",
     "shell.execute_reply": "2022-12-21T19:14:04.724397Z"
    },
    "papermill": {
     "duration": 0.024934,
     "end_time": "2022-12-21T19:14:04.727571",
     "exception": false,
     "start_time": "2022-12-21T19:14:04.702637",
     "status": "completed"
    },
    "tags": []
   },
   "outputs": [
    {
     "data": {
      "text/plain": [
       "Index(['rank', 'general rating', 'number of reviews', 'travelers choice',\n",
       "       'michelin', 'value rating', 'atmosphere rating', 'cuisines',\n",
       "       'special diets', 'meals', 'restaurant features', 'id', 'city',\n",
       "       'price_tag'],\n",
       "      dtype='object')"
      ]
     },
     "execution_count": 7,
     "metadata": {},
     "output_type": "execute_result"
    }
   ],
   "source": [
    "original_df.columns"
   ]
  },
  {
   "cell_type": "markdown",
   "id": "16d492b5",
   "metadata": {
    "papermill": {
     "duration": 0.013812,
     "end_time": "2022-12-21T19:14:04.755745",
     "exception": false,
     "start_time": "2022-12-21T19:14:04.741933",
     "status": "completed"
    },
    "tags": []
   },
   "source": [
    "labeling our columns for easier processing"
   ]
  },
  {
   "cell_type": "code",
   "execution_count": 8,
   "id": "74fcb965",
   "metadata": {
    "execution": {
     "iopub.execute_input": "2022-12-21T19:14:04.786631Z",
     "iopub.status.busy": "2022-12-21T19:14:04.785589Z",
     "iopub.status.idle": "2022-12-21T19:14:04.791371Z",
     "shell.execute_reply": "2022-12-21T19:14:04.790550Z"
    },
    "papermill": {
     "duration": 0.023581,
     "end_time": "2022-12-21T19:14:04.793570",
     "exception": false,
     "start_time": "2022-12-21T19:14:04.769989",
     "status": "completed"
    },
    "tags": []
   },
   "outputs": [],
   "source": [
    "mutlihot_col = ['cuisines','special diets',\"meals\",\"restaurant features\"]"
   ]
  },
  {
   "cell_type": "code",
   "execution_count": 9,
   "id": "a0b0f69a",
   "metadata": {
    "execution": {
     "iopub.execute_input": "2022-12-21T19:14:04.824338Z",
     "iopub.status.busy": "2022-12-21T19:14:04.823903Z",
     "iopub.status.idle": "2022-12-21T19:14:04.850862Z",
     "shell.execute_reply": "2022-12-21T19:14:04.849987Z"
    },
    "papermill": {
     "duration": 0.045225,
     "end_time": "2022-12-21T19:14:04.853359",
     "exception": false,
     "start_time": "2022-12-21T19:14:04.808134",
     "status": "completed"
    },
    "tags": []
   },
   "outputs": [],
   "source": [
    "#for easier processing later\n",
    "for col in mutlihot_col:\n",
    "    original_df[col]=original_df[col].fillna(col+\"_missing\").str.replace(\" \",\"\").str.split(\",\")"
   ]
  },
  {
   "cell_type": "code",
   "execution_count": 10,
   "id": "5195feaa",
   "metadata": {
    "execution": {
     "iopub.execute_input": "2022-12-21T19:14:04.884598Z",
     "iopub.status.busy": "2022-12-21T19:14:04.883560Z",
     "iopub.status.idle": "2022-12-21T19:14:04.909224Z",
     "shell.execute_reply": "2022-12-21T19:14:04.908372Z"
    },
    "papermill": {
     "duration": 0.043774,
     "end_time": "2022-12-21T19:14:04.911525",
     "exception": false,
     "start_time": "2022-12-21T19:14:04.867751",
     "status": "completed"
    },
    "tags": []
   },
   "outputs": [
    {
     "data": {
      "text/html": [
       "<div>\n",
       "<style scoped>\n",
       "    .dataframe tbody tr th:only-of-type {\n",
       "        vertical-align: middle;\n",
       "    }\n",
       "\n",
       "    .dataframe tbody tr th {\n",
       "        vertical-align: top;\n",
       "    }\n",
       "\n",
       "    .dataframe thead th {\n",
       "        text-align: right;\n",
       "    }\n",
       "</style>\n",
       "<table border=\"1\" class=\"dataframe\">\n",
       "  <thead>\n",
       "    <tr style=\"text-align: right;\">\n",
       "      <th></th>\n",
       "      <th>rank</th>\n",
       "      <th>general rating</th>\n",
       "      <th>number of reviews</th>\n",
       "      <th>travelers choice</th>\n",
       "      <th>michelin</th>\n",
       "      <th>value rating</th>\n",
       "      <th>atmosphere rating</th>\n",
       "      <th>cuisines</th>\n",
       "      <th>special diets</th>\n",
       "      <th>meals</th>\n",
       "      <th>restaurant features</th>\n",
       "      <th>id</th>\n",
       "      <th>city</th>\n",
       "      <th>price_tag</th>\n",
       "    </tr>\n",
       "  </thead>\n",
       "  <tbody>\n",
       "    <tr>\n",
       "      <th>0</th>\n",
       "      <td>1.0</td>\n",
       "      <td>5.0</td>\n",
       "      <td>922.0</td>\n",
       "      <td>True</td>\n",
       "      <td>False</td>\n",
       "      <td>4.5</td>\n",
       "      <td>-1.0</td>\n",
       "      <td>[Thai, Healthy]</td>\n",
       "      <td>[VegetarianFriendly, VeganOptions, GlutenFreeOptions]</td>\n",
       "      <td>[Dinner, Drinks]</td>\n",
       "      <td>[Reservations, Seating, ServesAlcohol, FreeWifi, TableService, GiftCardsAvailable]</td>\n",
       "      <td>13969825</td>\n",
       "      <td>Ghent</td>\n",
       "      <td>$$ - $$$</td>\n",
       "    </tr>\n",
       "    <tr>\n",
       "      <th>1</th>\n",
       "      <td>1.0</td>\n",
       "      <td>5.0</td>\n",
       "      <td>200.0</td>\n",
       "      <td>False</td>\n",
       "      <td>True</td>\n",
       "      <td>4.5</td>\n",
       "      <td>5.0</td>\n",
       "      <td>[French, Belgian, European]</td>\n",
       "      <td>[VegetarianFriendly, VeganOptions, GlutenFreeOptions]</td>\n",
       "      <td>[Lunch, Dinner]</td>\n",
       "      <td>[FreeWifi, Reservations, OutdoorSeating, Seating, ParkingAvailable, Freeoff-streetparking, WheelchairAccessible, ServesAlcohol, AcceptsAmericanExpress, AcceptsMastercard, AcceptsVisa, AcceptsCreditCards, TableService, HighchairsAvailable, FullBar]</td>\n",
       "      <td>740727</td>\n",
       "      <td>Ninove</td>\n",
       "      <td>$$$$</td>\n",
       "    </tr>\n",
       "  </tbody>\n",
       "</table>\n",
       "</div>"
      ],
      "text/plain": [
       "   rank  general rating  number of reviews  travelers choice  michelin  \\\n",
       "0   1.0             5.0              922.0              True     False   \n",
       "1   1.0             5.0              200.0             False      True   \n",
       "\n",
       "   value rating  atmosphere rating                     cuisines  \\\n",
       "0           4.5               -1.0              [Thai, Healthy]   \n",
       "1           4.5                5.0  [French, Belgian, European]   \n",
       "\n",
       "                                           special diets             meals  \\\n",
       "0  [VegetarianFriendly, VeganOptions, GlutenFreeOptions]  [Dinner, Drinks]   \n",
       "1  [VegetarianFriendly, VeganOptions, GlutenFreeOptions]   [Lunch, Dinner]   \n",
       "\n",
       "                                                                                                                                                                                                                                       restaurant features  \\\n",
       "0                                                                                                                                                                       [Reservations, Seating, ServesAlcohol, FreeWifi, TableService, GiftCardsAvailable]   \n",
       "1  [FreeWifi, Reservations, OutdoorSeating, Seating, ParkingAvailable, Freeoff-streetparking, WheelchairAccessible, ServesAlcohol, AcceptsAmericanExpress, AcceptsMastercard, AcceptsVisa, AcceptsCreditCards, TableService, HighchairsAvailable, FullBar]   \n",
       "\n",
       "         id    city price_tag  \n",
       "0  13969825   Ghent  $$ - $$$  \n",
       "1    740727  Ninove      $$$$  "
      ]
     },
     "execution_count": 10,
     "metadata": {},
     "output_type": "execute_result"
    }
   ],
   "source": [
    "original_df.head(2)"
   ]
  },
  {
   "cell_type": "markdown",
   "id": "3ebd200d",
   "metadata": {
    "papermill": {
     "duration": 0.014612,
     "end_time": "2022-12-21T19:14:04.940793",
     "exception": false,
     "start_time": "2022-12-21T19:14:04.926181",
     "status": "completed"
    },
    "tags": []
   },
   "source": [
    "### splitting the data\n",
    "\n",
    "We will train our model only on the cheap and midrange restaurants. But we actually want to build and test 2 systems. \n",
    "\n",
    "On the one hand we have the auto encoder, we will train it on only cheap and midrange restaurants and to evaluate it we will use an unseen testset of cheap and midrange restaurants. This testset will be used to determine if our autoencoder actually works. \n",
    "\n",
    "On the other hand, we will use the auto encoder in a next step to build a threshold algorithm that can distinguish between cheap and expensive restaurants. Here we will again need a test set that contains both the cheap and the expensive restaurants. In this case  we will use the same cheap restaurants in the test set of the auto encoder as in the test set of the threshold algorithm."
   ]
  },
  {
   "cell_type": "code",
   "execution_count": 11,
   "id": "315475c5",
   "metadata": {
    "execution": {
     "iopub.execute_input": "2022-12-21T19:14:04.972556Z",
     "iopub.status.busy": "2022-12-21T19:14:04.971781Z",
     "iopub.status.idle": "2022-12-21T19:14:04.982639Z",
     "shell.execute_reply": "2022-12-21T19:14:04.981337Z"
    },
    "papermill": {
     "duration": 0.029611,
     "end_time": "2022-12-21T19:14:04.985424",
     "exception": false,
     "start_time": "2022-12-21T19:14:04.955813",
     "status": "completed"
    },
    "tags": []
   },
   "outputs": [],
   "source": [
    "\n",
    "expensive_restaurants = original_df.loc[original_df[\"price_tag\"] == \"$$$$\" ]\n",
    "df_train=original_df.drop(expensive_restaurants.index)\n",
    "df_train=df_train[df_train[\"price_tag\"].isna()==False]"
   ]
  },
  {
   "cell_type": "code",
   "execution_count": 12,
   "id": "de160c42",
   "metadata": {
    "execution": {
     "iopub.execute_input": "2022-12-21T19:14:05.016499Z",
     "iopub.status.busy": "2022-12-21T19:14:05.016093Z",
     "iopub.status.idle": "2022-12-21T19:14:05.024783Z",
     "shell.execute_reply": "2022-12-21T19:14:05.023887Z"
    },
    "papermill": {
     "duration": 0.026752,
     "end_time": "2022-12-21T19:14:05.026874",
     "exception": false,
     "start_time": "2022-12-21T19:14:05.000122",
     "status": "completed"
    },
    "tags": []
   },
   "outputs": [],
   "source": [
    "x_train=df_train.sample(frac=0.8,replace=False,random_state=42)\n",
    "df_test=df_train.drop(index=x_train.index)\n",
    "df_train=x_train"
   ]
  },
  {
   "cell_type": "markdown",
   "id": "5c55b1a7",
   "metadata": {
    "papermill": {
     "duration": 0.014885,
     "end_time": "2022-12-21T19:14:05.056552",
     "exception": false,
     "start_time": "2022-12-21T19:14:05.041667",
     "status": "completed"
    },
    "tags": []
   },
   "source": [
    "### defining transformations"
   ]
  },
  {
   "cell_type": "markdown",
   "id": "b2350d65",
   "metadata": {
    "papermill": {
     "duration": 0.014843,
     "end_time": "2022-12-21T19:14:05.086109",
     "exception": false,
     "start_time": "2022-12-21T19:14:05.071266",
     "status": "completed"
    },
    "tags": []
   },
   "source": [
    "In sprint 1 sprint 2 we already did a thorough analyis of the different eatures, their distrubitions, handling outliers ,...\n",
    "Now we will use a pipeline with column transformers for cleaner code. If there is any misunderstanding or confusion about some transformations/preprocessing steps we did, we want to kindy refer to our sprint 2 regression notebook where we did all of this step by step and explained our intentions.\n",
    "\n",
    "We got some inspiration from [this blogpost](https://towardsdatascience.com/getting-the-most-out-of-scikit-learn-pipelines-c2afc4410f1a#:~:text=They%20can%20be%20nested%20and,(model)%20at%20the%20end.) to make this pipeline"
   ]
  },
  {
   "cell_type": "markdown",
   "id": "deaf753a",
   "metadata": {
    "papermill": {
     "duration": 0.014167,
     "end_time": "2022-12-21T19:14:05.114910",
     "exception": false,
     "start_time": "2022-12-21T19:14:05.100743",
     "status": "completed"
    },
    "tags": []
   },
   "source": [
    "ColumnTransformers are built similarly to Pipelines, except you include a third value in each tuple representing the columns to be transformed in that step."
   ]
  },
  {
   "cell_type": "code",
   "execution_count": 13,
   "id": "0fb19a4a",
   "metadata": {
    "execution": {
     "iopub.execute_input": "2022-12-21T19:14:05.145866Z",
     "iopub.status.busy": "2022-12-21T19:14:05.145482Z",
     "iopub.status.idle": "2022-12-21T19:14:05.154821Z",
     "shell.execute_reply": "2022-12-21T19:14:05.153894Z"
    },
    "papermill": {
     "duration": 0.027746,
     "end_time": "2022-12-21T19:14:05.157145",
     "exception": false,
     "start_time": "2022-12-21T19:14:05.129399",
     "status": "completed"
    },
    "tags": []
   },
   "outputs": [],
   "source": [
    "def transform_df(df):\n",
    "    df[\"rank_missing\"]=0\n",
    "    df[\"atmosphere_missing\"]=0\n",
    "    df[\"value_rating_missing\"]=0\n",
    "    df[\"general_rating_missing\"]=0\n",
    "    df[\"atmosphere rating\"]=df[\"atmosphere rating\"].replace(-1,np.nan)\n",
    "    df[\"value rating\"]=df[\"value rating\"].replace(-1,np.nan)\n",
    "    df[\"general rating\"]=df[\"general rating\"].replace(-1,np.nan)\n",
    "    df.loc[df[\"rank\"].isna(),\"rank_missing\"] = 1\n",
    "    df.loc[df[\"atmosphere rating\"].isna(),\"atmosphere_missing\"] = 1\n",
    "    df.loc[df[\"value rating\"].isna(),\"value_rating_missing\"] = 1\n",
    "    df.loc[df[\"general rating\"].isna(),\"general_rating_missing\"] = 1\n",
    "    df[\"lg_rank\"]=np.log(df[\"rank\"])\n",
    "    df[\"lg_reviews\"]=np.log(df[\"number of reviews\"]+1)\n",
    "    df.drop(columns=[\"rank\",\"number of reviews\",\"id\"],inplace=True)\n",
    "    fea_df, gt_df= df.loc[:, df.columns != 'price_tag'],df[\"price_tag\"]\n",
    "    return fea_df,gt_df"
   ]
  },
  {
   "cell_type": "code",
   "execution_count": 14,
   "id": "73003f1b",
   "metadata": {
    "execution": {
     "iopub.execute_input": "2022-12-21T19:14:05.188927Z",
     "iopub.status.busy": "2022-12-21T19:14:05.188538Z",
     "iopub.status.idle": "2022-12-21T19:14:05.194158Z",
     "shell.execute_reply": "2022-12-21T19:14:05.193048Z"
    },
    "papermill": {
     "duration": 0.024379,
     "end_time": "2022-12-21T19:14:05.196414",
     "exception": false,
     "start_time": "2022-12-21T19:14:05.172035",
     "status": "completed"
    },
    "tags": []
   },
   "outputs": [],
   "source": [
    "numeric=[\"lg_rank\",\"lg_reviews\",\"general rating\",\"value rating\",\"atmosphere rating\"] #imputing and scaling\n",
    "mutlihot_col = ['cuisines','special diets',\"meals\",\"restaurant features\"]\n",
    "cat_cols = ['travelers choice', 'michelin',\"city\",'rank_missing',\n",
    "       'atmosphere_missing', 'value_rating_missing', 'general_rating_missing']#one hot encoding\n",
    "label=\"price_tag\""
   ]
  },
  {
   "cell_type": "markdown",
   "id": "017628f8",
   "metadata": {
    "papermill": {
     "duration": 0.014477,
     "end_time": "2022-12-21T19:14:05.225778",
     "exception": false,
     "start_time": "2022-12-21T19:14:05.211301",
     "status": "completed"
    },
    "tags": []
   },
   "source": [
    "There is a problem with using multilabelbiniser on multiple columns at once, that's why we used a custom class, the MultiHotEncoder, that wraps around sklearns MultiLabelBinarizer class and provides us with the functionality to use it in a column transformer\n",
    "\n",
    "thank you stackoverflow 🙏 [this question](https://stackoverflow.com/questions/59254662/sklearn-columntransformer-with-multilabelbinarizer)"
   ]
  },
  {
   "cell_type": "code",
   "execution_count": 16,
   "id": "c5a5404d",
   "metadata": {
    "execution": {
     "iopub.execute_input": "2022-12-21T19:14:05.302525Z",
     "iopub.status.busy": "2022-12-21T19:14:05.302115Z",
     "iopub.status.idle": "2022-12-21T19:14:05.428146Z",
     "shell.execute_reply": "2022-12-21T19:14:05.427051Z"
    },
    "papermill": {
     "duration": 0.144719,
     "end_time": "2022-12-21T19:14:05.430883",
     "exception": false,
     "start_time": "2022-12-21T19:14:05.286164",
     "status": "completed"
    },
    "tags": []
   },
   "outputs": [],
   "source": [
    "from sklearn.pipeline import Pipeline\n",
    "\n",
    "from sklearn.compose import ColumnTransformer\n",
    "from sklearn.feature_extraction.text import TfidfVectorizer\n",
    "from sklearn.preprocessing import OneHotEncoder\n",
    "from sklearn.impute import SimpleImputer\n",
    "from sklearn.preprocessing import StandardScaler\n",
    "from sklearn.preprocessing import MultiLabelBinarizer\n",
    "\n",
    "# from help_script import MultiHotEncoder\n",
    "\n",
    "pipe=Pipeline([\n",
    "    ('imputer',SimpleImputer(missing_values=np.nan, strategy='median')),\n",
    "    ('scale',StandardScaler())\n",
    "])\n",
    "\n",
    "cols_trans = ColumnTransformer([\n",
    "    ('mhe',MultiHotEncoder(),mutlihot_col),\n",
    "#     ('ohe', OneHotEncoder(drop='first',handle_unknown=\"infrequent_if_exist\"), cat_cols), \n",
    "    ('ohe', OneHotEncoder(drop='first',handle_unknown=\"ignore\"), cat_cols), \n",
    "    ('impute_and_scale',pipe,numeric)\n",
    "    ])"
   ]
  },
  {
   "cell_type": "markdown",
   "id": "4bcef560",
   "metadata": {
    "papermill": {
     "duration": 0.014199,
     "end_time": "2022-12-21T19:14:05.459975",
     "exception": false,
     "start_time": "2022-12-21T19:14:05.445776",
     "status": "completed"
    },
    "tags": []
   },
   "source": [
    "### preparing our data"
   ]
  },
  {
   "cell_type": "code",
   "execution_count": 17,
   "id": "2a97eb66",
   "metadata": {
    "execution": {
     "iopub.execute_input": "2022-12-21T19:14:05.490696Z",
     "iopub.status.busy": "2022-12-21T19:14:05.490309Z",
     "iopub.status.idle": "2022-12-21T19:14:05.593355Z",
     "shell.execute_reply": "2022-12-21T19:14:05.592212Z"
    },
    "papermill": {
     "duration": 0.121992,
     "end_time": "2022-12-21T19:14:05.596424",
     "exception": false,
     "start_time": "2022-12-21T19:14:05.474432",
     "status": "completed"
    },
    "tags": []
   },
   "outputs": [
    {
     "name": "stderr",
     "output_type": "stream",
     "text": [
      "/opt/conda/lib/python3.7/site-packages/sklearn/preprocessing/_label.py:876: UserWarning: unknown class(es) ['EasternEuropean', 'Ethiopian'] will be ignored\n",
      "  \"unknown class(es) {0} will be ignored\".format(sorted(unknown, key=str))\n",
      "/opt/conda/lib/python3.7/site-packages/sklearn/preprocessing/_encoders.py:174: UserWarning: Found unknown categories in columns [2] during transform. These unknown categories will be encoded as all zeros\n",
      "  UserWarning,\n",
      "/opt/conda/lib/python3.7/site-packages/ipykernel_launcher.py:2: SettingWithCopyWarning: \n",
      "A value is trying to be set on a copy of a slice from a DataFrame.\n",
      "Try using .loc[row_indexer,col_indexer] = value instead\n",
      "\n",
      "See the caveats in the documentation: https://pandas.pydata.org/pandas-docs/stable/user_guide/indexing.html#returning-a-view-versus-a-copy\n",
      "  \n",
      "/opt/conda/lib/python3.7/site-packages/ipykernel_launcher.py:3: SettingWithCopyWarning: \n",
      "A value is trying to be set on a copy of a slice from a DataFrame.\n",
      "Try using .loc[row_indexer,col_indexer] = value instead\n",
      "\n",
      "See the caveats in the documentation: https://pandas.pydata.org/pandas-docs/stable/user_guide/indexing.html#returning-a-view-versus-a-copy\n",
      "  This is separate from the ipykernel package so we can avoid doing imports until\n",
      "/opt/conda/lib/python3.7/site-packages/ipykernel_launcher.py:4: SettingWithCopyWarning: \n",
      "A value is trying to be set on a copy of a slice from a DataFrame.\n",
      "Try using .loc[row_indexer,col_indexer] = value instead\n",
      "\n",
      "See the caveats in the documentation: https://pandas.pydata.org/pandas-docs/stable/user_guide/indexing.html#returning-a-view-versus-a-copy\n",
      "  after removing the cwd from sys.path.\n",
      "/opt/conda/lib/python3.7/site-packages/ipykernel_launcher.py:5: SettingWithCopyWarning: \n",
      "A value is trying to be set on a copy of a slice from a DataFrame.\n",
      "Try using .loc[row_indexer,col_indexer] = value instead\n",
      "\n",
      "See the caveats in the documentation: https://pandas.pydata.org/pandas-docs/stable/user_guide/indexing.html#returning-a-view-versus-a-copy\n",
      "  \"\"\"\n",
      "/opt/conda/lib/python3.7/site-packages/ipykernel_launcher.py:6: SettingWithCopyWarning: \n",
      "A value is trying to be set on a copy of a slice from a DataFrame.\n",
      "Try using .loc[row_indexer,col_indexer] = value instead\n",
      "\n",
      "See the caveats in the documentation: https://pandas.pydata.org/pandas-docs/stable/user_guide/indexing.html#returning-a-view-versus-a-copy\n",
      "  \n",
      "/opt/conda/lib/python3.7/site-packages/ipykernel_launcher.py:7: SettingWithCopyWarning: \n",
      "A value is trying to be set on a copy of a slice from a DataFrame.\n",
      "Try using .loc[row_indexer,col_indexer] = value instead\n",
      "\n",
      "See the caveats in the documentation: https://pandas.pydata.org/pandas-docs/stable/user_guide/indexing.html#returning-a-view-versus-a-copy\n",
      "  import sys\n",
      "/opt/conda/lib/python3.7/site-packages/ipykernel_launcher.py:8: SettingWithCopyWarning: \n",
      "A value is trying to be set on a copy of a slice from a DataFrame.\n",
      "Try using .loc[row_indexer,col_indexer] = value instead\n",
      "\n",
      "See the caveats in the documentation: https://pandas.pydata.org/pandas-docs/stable/user_guide/indexing.html#returning-a-view-versus-a-copy\n",
      "  \n",
      "/opt/conda/lib/python3.7/site-packages/pandas/core/indexing.py:1817: SettingWithCopyWarning: \n",
      "A value is trying to be set on a copy of a slice from a DataFrame.\n",
      "Try using .loc[row_indexer,col_indexer] = value instead\n",
      "\n",
      "See the caveats in the documentation: https://pandas.pydata.org/pandas-docs/stable/user_guide/indexing.html#returning-a-view-versus-a-copy\n",
      "  self._setitem_single_column(loc, value, pi)\n",
      "/opt/conda/lib/python3.7/site-packages/ipykernel_launcher.py:13: SettingWithCopyWarning: \n",
      "A value is trying to be set on a copy of a slice from a DataFrame.\n",
      "Try using .loc[row_indexer,col_indexer] = value instead\n",
      "\n",
      "See the caveats in the documentation: https://pandas.pydata.org/pandas-docs/stable/user_guide/indexing.html#returning-a-view-versus-a-copy\n",
      "  del sys.path[0]\n",
      "/opt/conda/lib/python3.7/site-packages/ipykernel_launcher.py:14: SettingWithCopyWarning: \n",
      "A value is trying to be set on a copy of a slice from a DataFrame.\n",
      "Try using .loc[row_indexer,col_indexer] = value instead\n",
      "\n",
      "See the caveats in the documentation: https://pandas.pydata.org/pandas-docs/stable/user_guide/indexing.html#returning-a-view-versus-a-copy\n",
      "  \n",
      "/opt/conda/lib/python3.7/site-packages/pandas/core/frame.py:4913: SettingWithCopyWarning: \n",
      "A value is trying to be set on a copy of a slice from a DataFrame\n",
      "\n",
      "See the caveats in the documentation: https://pandas.pydata.org/pandas-docs/stable/user_guide/indexing.html#returning-a-view-versus-a-copy\n",
      "  errors=errors,\n",
      "/opt/conda/lib/python3.7/site-packages/sklearn/preprocessing/_encoders.py:174: UserWarning: Found unknown categories in columns [2] during transform. These unknown categories will be encoded as all zeros\n",
      "  UserWarning,\n"
     ]
    }
   ],
   "source": [
    "from sklearn.model_selection import train_test_split\n",
    "##train and validation data\n",
    "df_train,y_train = transform_df(df_train)\n",
    "data=cols_trans.fit_transform(df_train)\n",
    "X_train, X_valid=train_test_split(data, test_size=0.2, random_state=42)\n",
    "\n",
    "##test data\n",
    "df_test,y_test = transform_df(df_test)\n",
    "X_test=cols_trans.transform(df_test)\n",
    "\n",
    "##expensive restaurants\n",
    "df_expensive,y_expensive = transform_df(expensive_restaurants)\n",
    "X_expensive=cols_trans.transform(df_expensive)"
   ]
  },
  {
   "cell_type": "code",
   "execution_count": 18,
   "id": "d7839d68",
   "metadata": {
    "execution": {
     "iopub.execute_input": "2022-12-21T19:14:05.628152Z",
     "iopub.status.busy": "2022-12-21T19:14:05.627708Z",
     "iopub.status.idle": "2022-12-21T19:14:05.635445Z",
     "shell.execute_reply": "2022-12-21T19:14:05.634302Z"
    },
    "papermill": {
     "duration": 0.026502,
     "end_time": "2022-12-21T19:14:05.637786",
     "exception": false,
     "start_time": "2022-12-21T19:14:05.611284",
     "status": "completed"
    },
    "tags": []
   },
   "outputs": [
    {
     "data": {
      "text/plain": [
       "((73, 297), (1196, 297), (300, 297), (374, 297))"
      ]
     },
     "execution_count": 18,
     "metadata": {},
     "output_type": "execute_result"
    }
   ],
   "source": [
    "X_expensive.shape, X_train.shape, X_valid.shape, X_test.shape"
   ]
  },
  {
   "cell_type": "markdown",
   "id": "4679a142",
   "metadata": {
    "papermill": {
     "duration": 0.014563,
     "end_time": "2022-12-21T19:14:05.667221",
     "exception": false,
     "start_time": "2022-12-21T19:14:05.652658",
     "status": "completed"
    },
    "tags": []
   },
   "source": [
    "### Visualising clusters with t-SNE\n",
    "before actually building our model we wanted to see of this task was actually possible at all, thats when browsing through the sklearn documentation we came across this beatuiful method (¬‿¬)\n",
    "\n",
    "*t-Distributed Stochastic Neighbor Embedding (t-SNE)*\n",
    "\n",
    "From the [sklearn documentation](https://scikit-learn.org/stable/modules/generated/sklearn.manifold.TSNE.html): <br>\n",
    "> t-SNE [1] is a tool to visualize high-dimensional data. It converts similarities between data points to joint probabilities and tries to minimize the Kullback-Leibler divergence between the joint probabilities of the low-dimensional embedding and the high-dimensional data. t-SNE has a cost function that is not convex, i.e. with different initializations we can get different results.\n",
    "\n",
    "In plain English, most certainly oversimplifying matters: **t-SNE is a dimensionality reduction technique used for visualisations** of complex datasets.\n",
    "It **maps clusters in high-dimensional data** to **a two- or three dimensional plane** so we can get an idea of how easy it will be to **discriminate between classes**.\n",
    "It does this by trying to keep the distance between data points in lower dimensions proportional to the probability that these data points are neighbours in the higher dimensions.\n",
    "\n",
    "we're going to visualise our training set with our expensive set"
   ]
  },
  {
   "cell_type": "code",
   "execution_count": 19,
   "id": "15c4f435",
   "metadata": {
    "execution": {
     "iopub.execute_input": "2022-12-21T19:14:05.698608Z",
     "iopub.status.busy": "2022-12-21T19:14:05.698213Z",
     "iopub.status.idle": "2022-12-21T19:14:05.706655Z",
     "shell.execute_reply": "2022-12-21T19:14:05.705473Z"
    },
    "papermill": {
     "duration": 0.027213,
     "end_time": "2022-12-21T19:14:05.709250",
     "exception": false,
     "start_time": "2022-12-21T19:14:05.682037",
     "status": "completed"
    },
    "tags": []
   },
   "outputs": [],
   "source": [
    "features=np.concatenate([X_expensive,X_train])\n",
    "labels=np.concatenate([np.ones((73,)),np.zeros((1196,))]) ##our labels will be 1 for expensive and 0 for not expensive"
   ]
  },
  {
   "cell_type": "code",
   "execution_count": 20,
   "id": "cc9ca1c4",
   "metadata": {
    "execution": {
     "iopub.execute_input": "2022-12-21T19:14:05.741010Z",
     "iopub.status.busy": "2022-12-21T19:14:05.740622Z",
     "iopub.status.idle": "2022-12-21T19:14:05.790573Z",
     "shell.execute_reply": "2022-12-21T19:14:05.789388Z"
    },
    "papermill": {
     "duration": 0.069091,
     "end_time": "2022-12-21T19:14:05.793420",
     "exception": false,
     "start_time": "2022-12-21T19:14:05.724329",
     "status": "completed"
    },
    "tags": []
   },
   "outputs": [],
   "source": [
    "from sklearn.manifold import TSNE\n",
    "from mpl_toolkits.mplot3d import Axes3D\n",
    "\n",
    "def tsne_scatter(features, labels, dimensions=2, save_as='graph.png'):\n",
    "    if dimensions not in (2, 3):\n",
    "        raise ValueError('tsne_scatter can only plot in 2d or 3d (What are you? An alien that can visualise >3d?). Make sure the \"dimensions\" argument is in (2, 3)')\n",
    "\n",
    "    # t-SNE dimensionality reduction\n",
    "    features_embedded = TSNE(n_components=dimensions, random_state=42).fit_transform(features)\n",
    "    \n",
    "    # initialising the plot\n",
    "    fig, ax = plt.subplots(figsize=(8,8))\n",
    "    \n",
    "    # counting dimensions\n",
    "    if dimensions == 3: ax = fig.add_subplot(111, projection='3d')\n",
    "  # plotting data\n",
    "    ax.scatter(\n",
    "        *zip(*features_embedded[np.where(labels==1)]),\n",
    "        marker='o',\n",
    "        color='r',\n",
    "        s=2,\n",
    "        alpha=0.7,\n",
    "        label='expensive'\n",
    "    )\n",
    "    ax.scatter(\n",
    "        *zip(*features_embedded[np.where(labels==0)]),\n",
    "        marker='o',\n",
    "        color='g',\n",
    "        s=2,\n",
    "        alpha=0.3,\n",
    "        label='cheap'\n",
    "    )\n",
    "\n",
    "    # storing it to be displayed later\n",
    "    plt.legend(loc='best')\n",
    "    plt.savefig(save_as);\n",
    "    plt.show;"
   ]
  },
  {
   "cell_type": "code",
   "execution_count": 21,
   "id": "d16d4e0b",
   "metadata": {
    "execution": {
     "iopub.execute_input": "2022-12-21T19:14:05.825922Z",
     "iopub.status.busy": "2022-12-21T19:14:05.825538Z",
     "iopub.status.idle": "2022-12-21T19:14:12.070600Z",
     "shell.execute_reply": "2022-12-21T19:14:12.069421Z"
    },
    "papermill": {
     "duration": 6.264363,
     "end_time": "2022-12-21T19:14:12.073131",
     "exception": false,
     "start_time": "2022-12-21T19:14:05.808768",
     "status": "completed"
    },
    "tags": []
   },
   "outputs": [
    {
     "name": "stderr",
     "output_type": "stream",
     "text": [
      "/opt/conda/lib/python3.7/site-packages/sklearn/manifold/_t_sne.py:783: FutureWarning: The default initialization in TSNE will change from 'random' to 'pca' in 1.2.\n",
      "  FutureWarning,\n",
      "/opt/conda/lib/python3.7/site-packages/sklearn/manifold/_t_sne.py:793: FutureWarning: The default learning rate in TSNE will change from 200.0 to 'auto' in 1.2.\n",
      "  FutureWarning,\n"
     ]
    },
    {
     "data": {
      "image/png": "[encoded data removed]",
      "text/plain": [
       "<Figure size 576x576 with 1 Axes>"
      ]
     },
     "metadata": {
      "needs_background": "light"
     },
     "output_type": "display_data"
    }
   ],
   "source": [
    "tsne_scatter(features, labels, dimensions=2, save_as='tsne_initial_2d.png')\n"
   ]
  },
  {
   "cell_type": "markdown",
   "id": "86ebb3e9",
   "metadata": {
    "papermill": {
     "duration": 0.015389,
     "end_time": "2022-12-21T19:14:12.104529",
     "exception": false,
     "start_time": "2022-12-21T19:14:12.089140",
     "status": "completed"
    },
    "tags": []
   },
   "source": [
    "We can already see that there is a big cluster at the top of the image,however sime expensive restaurants are very much randomly spread out. So we can already see that this will be a difficult task and choosing a threshold with whick we can separate the 2 classes without overlap will be difficult.\n",
    "\n",
    "**Note: if you have enough imagination (like me) you can see the shape of belgium in the plot above ;)**"
   ]
  },
  {
   "cell_type": "markdown",
   "id": "09200e83",
   "metadata": {
    "papermill": {
     "duration": 0.015459,
     "end_time": "2022-12-21T19:14:12.135854",
     "exception": false,
     "start_time": "2022-12-21T19:14:12.120395",
     "status": "completed"
    },
    "tags": []
   },
   "source": [
    "## building our autoencoder\n",
    "with inspiration from [official kaggle blogpost](https://blog.keras.io/building-autoencoders-in-keras.html)"
   ]
  },
  {
   "cell_type": "markdown",
   "id": "8e984b12",
   "metadata": {
    "papermill": {
     "duration": 0.015565,
     "end_time": "2022-12-21T19:14:12.167126",
     "exception": false,
     "start_time": "2022-12-21T19:14:12.151561",
     "status": "completed"
    },
    "tags": []
   },
   "source": [
    "Before we build our autoencoder we have to understand our data. Our input is scaled and some columns are multi-hot encoded as a loss function we will choose mse"
   ]
  },
  {
   "cell_type": "code",
   "execution_count": 22,
   "id": "e9c078c0",
   "metadata": {
    "execution": {
     "iopub.execute_input": "2022-12-21T19:14:12.201045Z",
     "iopub.status.busy": "2022-12-21T19:14:12.199844Z",
     "iopub.status.idle": "2022-12-21T19:14:12.445818Z",
     "shell.execute_reply": "2022-12-21T19:14:12.444604Z"
    },
    "papermill": {
     "duration": 0.265775,
     "end_time": "2022-12-21T19:14:12.448643",
     "exception": false,
     "start_time": "2022-12-21T19:14:12.182868",
     "status": "completed"
    },
    "tags": []
   },
   "outputs": [
    {
     "data": {
      "text/plain": [
       "<AxesSubplot:>"
      ]
     },
     "execution_count": 22,
     "metadata": {},
     "output_type": "execute_result"
    },
    {
     "data": {
      "image/png": "[encoded data removed]",
      "text/plain": [
       "<Figure size 432x288 with 1 Axes>"
      ]
     },
     "metadata": {
      "needs_background": "light"
     },
     "output_type": "display_data"
    }
   ],
   "source": [
    "pd.DataFrame(X_train).max(axis=1).plot()"
   ]
  },
  {
   "cell_type": "code",
   "execution_count": 23,
   "id": "08f4076c",
   "metadata": {
    "execution": {
     "iopub.execute_input": "2022-12-21T19:14:12.482841Z",
     "iopub.status.busy": "2022-12-21T19:14:12.482440Z",
     "iopub.status.idle": "2022-12-21T19:14:12.708452Z",
     "shell.execute_reply": "2022-12-21T19:14:12.707284Z"
    },
    "papermill": {
     "duration": 0.246259,
     "end_time": "2022-12-21T19:14:12.711216",
     "exception": false,
     "start_time": "2022-12-21T19:14:12.464957",
     "status": "completed"
    },
    "tags": []
   },
   "outputs": [
    {
     "data": {
      "text/plain": [
       "<AxesSubplot:>"
      ]
     },
     "execution_count": 23,
     "metadata": {},
     "output_type": "execute_result"
    },
    {
     "data": {
      "image/png": "[encoded data removed]",
      "text/plain": [
       "<Figure size 432x288 with 1 Axes>"
      ]
     },
     "metadata": {
      "needs_background": "light"
     },
     "output_type": "display_data"
    }
   ],
   "source": [
    "pd.DataFrame(X_train).min(axis=1).plot()"
   ]
  },
  {
   "cell_type": "code",
   "execution_count": 24,
   "id": "b94fae74",
   "metadata": {
    "execution": {
     "iopub.execute_input": "2022-12-21T19:14:12.747245Z",
     "iopub.status.busy": "2022-12-21T19:14:12.746159Z",
     "iopub.status.idle": "2022-12-21T19:14:12.753893Z",
     "shell.execute_reply": "2022-12-21T19:14:12.752802Z"
    },
    "papermill": {
     "duration": 0.0279,
     "end_time": "2022-12-21T19:14:12.756024",
     "exception": false,
     "start_time": "2022-12-21T19:14:12.728124",
     "status": "completed"
    },
    "tags": []
   },
   "outputs": [
    {
     "data": {
      "text/plain": [
       "(1196, 297)"
      ]
     },
     "execution_count": 24,
     "metadata": {},
     "output_type": "execute_result"
    }
   ],
   "source": [
    "X_train.shape"
   ]
  },
  {
   "cell_type": "code",
   "execution_count": 25,
   "id": "192819b8",
   "metadata": {
    "execution": {
     "iopub.execute_input": "2022-12-21T19:14:12.791288Z",
     "iopub.status.busy": "2022-12-21T19:14:12.790834Z",
     "iopub.status.idle": "2022-12-21T19:14:18.684644Z",
     "shell.execute_reply": "2022-12-21T19:14:18.683290Z"
    },
    "papermill": {
     "duration": 5.915059,
     "end_time": "2022-12-21T19:14:18.687925",
     "exception": false,
     "start_time": "2022-12-21T19:14:12.772866",
     "status": "completed"
    },
    "tags": []
   },
   "outputs": [
    {
     "name": "stdout",
     "output_type": "stream",
     "text": [
      "Model: \"sequential\"\n",
      "_________________________________________________________________\n",
      "Layer (type)                 Output Shape              Param #   \n",
      "=================================================================\n",
      "dense (Dense)                (None, 264)               78672     \n",
      "_________________________________________________________________\n",
      "dense_1 (Dense)              (None, 128)               33920     \n",
      "_________________________________________________________________\n",
      "dense_2 (Dense)              (None, 104)               13416     \n",
      "_________________________________________________________________\n",
      "dense_3 (Dense)              (None, 128)               13440     \n",
      "_________________________________________________________________\n",
      "dense_4 (Dense)              (None, 264)               34056     \n",
      "_________________________________________________________________\n",
      "dense_5 (Dense)              (None, 297)               78705     \n",
      "=================================================================\n",
      "Total params: 252,209\n",
      "Trainable params: 252,209\n",
      "Non-trainable params: 0\n",
      "_________________________________________________________________\n"
     ]
    },
    {
     "name": "stderr",
     "output_type": "stream",
     "text": [
      "2022-12-21 19:14:18.574998: I tensorflow/core/common_runtime/process_util.cc:146] Creating new thread pool with default inter op setting: 2. Tune using inter_op_parallelism_threads for best performance.\n"
     ]
    }
   ],
   "source": [
    "import tensorflow as tf\n",
    "from tensorflow import keras\n",
    "from tensorflow.keras import regularizers\n",
    "\n",
    "\n",
    "autoencoder = keras.models.Sequential([\n",
    "    \n",
    "    # deconstruct / encode\n",
    "    keras.layers.InputLayer(input_shape=297),\n",
    "    keras.layers.Dense(264, activation='elu'),\n",
    "    keras.layers.Dense(128, activation='elu'),\n",
    "    keras.layers.Dense(104, activation='elu'),    \n",
    "    # reconstruction / decode\n",
    "    keras.layers.Dense(128, activation='elu'),\n",
    "    keras.layers.Dense(264, activation='elu'),\n",
    "#     tf.keras.layers.Dense(297, activation='elu'),    \n",
    "    keras.layers.Dense(297)  \n",
    "])\n",
    "autoencoder.compile(optimizer=\"adam\", \n",
    "                    loss=\"mse\",\n",
    "                    metrics=[\"acc\"])\n",
    "autoencoder.summary();"
   ]
  },
  {
   "cell_type": "markdown",
   "id": "01df6306",
   "metadata": {
    "papermill": {
     "duration": 0.016748,
     "end_time": "2022-12-21T19:14:18.721867",
     "exception": false,
     "start_time": "2022-12-21T19:14:18.705119",
     "status": "completed"
    },
    "tags": []
   },
   "source": [
    "### callbacks"
   ]
  },
  {
   "cell_type": "code",
   "execution_count": 26,
   "id": "5b4766e7",
   "metadata": {
    "execution": {
     "iopub.execute_input": "2022-12-21T19:14:18.757772Z",
     "iopub.status.busy": "2022-12-21T19:14:18.757304Z",
     "iopub.status.idle": "2022-12-21T19:14:18.764363Z",
     "shell.execute_reply": "2022-12-21T19:14:18.763132Z"
    },
    "papermill": {
     "duration": 0.027644,
     "end_time": "2022-12-21T19:14:18.766502",
     "exception": false,
     "start_time": "2022-12-21T19:14:18.738858",
     "status": "completed"
    },
    "tags": []
   },
   "outputs": [],
   "source": [
    "\n",
    "early_stopping = tf.keras.callbacks.EarlyStopping(\n",
    "    monitor='val_loss',\n",
    "    patience=23,\n",
    "    min_delta=0.00001,\n",
    "    restore_best_weights=True,\n",
    ")\n",
    "\n",
    "plateau = tf.keras.callbacks.ReduceLROnPlateau(\n",
    "    monitor='val_loss',\n",
    "    factor=0.2,                                     \n",
    "    patience=3,                                   \n",
    "    min_delta=0.0001,\n",
    "    cooldown=0,                               \n",
    "    verbose=1\n",
    ") \n"
   ]
  },
  {
   "cell_type": "code",
   "execution_count": 27,
   "id": "abf17646",
   "metadata": {
    "execution": {
     "iopub.execute_input": "2022-12-21T19:14:18.803247Z",
     "iopub.status.busy": "2022-12-21T19:14:18.802601Z",
     "iopub.status.idle": "2022-12-21T19:14:35.348611Z",
     "shell.execute_reply": "2022-12-21T19:14:35.347659Z"
    },
    "papermill": {
     "duration": 16.567365,
     "end_time": "2022-12-21T19:14:35.351239",
     "exception": false,
     "start_time": "2022-12-21T19:14:18.783874",
     "status": "completed"
    },
    "tags": []
   },
   "outputs": [
    {
     "name": "stderr",
     "output_type": "stream",
     "text": [
      "2022-12-21 19:14:18.891326: I tensorflow/compiler/mlir/mlir_graph_optimization_pass.cc:185] None of the MLIR Optimization Passes are enabled (registered 2)\n"
     ]
    },
    {
     "name": "stdout",
     "output_type": "stream",
     "text": [
      "Epoch 1/100\n",
      "38/38 [==============================] - 1s 11ms/step - loss: 0.0335 - acc: 0.1990 - val_loss: 0.0182 - val_acc: 0.4367\n",
      "Epoch 2/100\n",
      "38/38 [==============================] - 0s 6ms/step - loss: 0.0153 - acc: 0.4365 - val_loss: 0.0129 - val_acc: 0.4800\n",
      "Epoch 3/100\n",
      "38/38 [==============================] - 0s 6ms/step - loss: 0.0113 - acc: 0.4783 - val_loss: 0.0103 - val_acc: 0.5267\n",
      "Epoch 4/100\n",
      "38/38 [==============================] - 0s 6ms/step - loss: 0.0091 - acc: 0.4992 - val_loss: 0.0087 - val_acc: 0.5167\n",
      "Epoch 5/100\n",
      "38/38 [==============================] - 0s 6ms/step - loss: 0.0077 - acc: 0.5125 - val_loss: 0.0077 - val_acc: 0.5400\n",
      "Epoch 6/100\n",
      "38/38 [==============================] - 0s 6ms/step - loss: 0.0068 - acc: 0.5008 - val_loss: 0.0069 - val_acc: 0.5167\n",
      "Epoch 7/100\n",
      "38/38 [==============================] - 0s 6ms/step - loss: 0.0061 - acc: 0.5151 - val_loss: 0.0063 - val_acc: 0.4933\n",
      "Epoch 8/100\n",
      "38/38 [==============================] - 0s 6ms/step - loss: 0.0055 - acc: 0.5293 - val_loss: 0.0058 - val_acc: 0.5500\n",
      "Epoch 9/100\n",
      "38/38 [==============================] - 0s 7ms/step - loss: 0.0050 - acc: 0.5234 - val_loss: 0.0055 - val_acc: 0.5367\n",
      "Epoch 10/100\n",
      "38/38 [==============================] - 0s 6ms/step - loss: 0.0047 - acc: 0.5360 - val_loss: 0.0052 - val_acc: 0.5467\n",
      "Epoch 11/100\n",
      "38/38 [==============================] - 0s 6ms/step - loss: 0.0044 - acc: 0.5259 - val_loss: 0.0048 - val_acc: 0.5733\n",
      "Epoch 12/100\n",
      "38/38 [==============================] - 0s 6ms/step - loss: 0.0041 - acc: 0.5326 - val_loss: 0.0046 - val_acc: 0.5333\n",
      "Epoch 13/100\n",
      "38/38 [==============================] - 0s 6ms/step - loss: 0.0039 - acc: 0.5351 - val_loss: 0.0044 - val_acc: 0.5400\n",
      "Epoch 14/100\n",
      "38/38 [==============================] - 0s 6ms/step - loss: 0.0037 - acc: 0.5443 - val_loss: 0.0043 - val_acc: 0.5567\n",
      "Epoch 15/100\n",
      "38/38 [==============================] - 0s 6ms/step - loss: 0.0036 - acc: 0.5477 - val_loss: 0.0041 - val_acc: 0.5267\n",
      "Epoch 16/100\n",
      "38/38 [==============================] - 0s 6ms/step - loss: 0.0035 - acc: 0.5410 - val_loss: 0.0040 - val_acc: 0.5333\n",
      "Epoch 17/100\n",
      "38/38 [==============================] - 0s 7ms/step - loss: 0.0034 - acc: 0.5376 - val_loss: 0.0039 - val_acc: 0.5267\n",
      "Epoch 18/100\n",
      "38/38 [==============================] - 0s 6ms/step - loss: 0.0033 - acc: 0.5452 - val_loss: 0.0038 - val_acc: 0.5633\n",
      "Epoch 19/100\n",
      "38/38 [==============================] - 0s 6ms/step - loss: 0.0032 - acc: 0.5452 - val_loss: 0.0037 - val_acc: 0.5133\n",
      "Epoch 20/100\n",
      "38/38 [==============================] - 0s 6ms/step - loss: 0.0030 - acc: 0.5452 - val_loss: 0.0035 - val_acc: 0.5533\n",
      "Epoch 21/100\n",
      "38/38 [==============================] - 0s 6ms/step - loss: 0.0030 - acc: 0.5426 - val_loss: 0.0035 - val_acc: 0.5800\n",
      "Epoch 22/100\n",
      "38/38 [==============================] - 0s 6ms/step - loss: 0.0029 - acc: 0.5477 - val_loss: 0.0034 - val_acc: 0.5433\n",
      "Epoch 23/100\n",
      "38/38 [==============================] - 0s 6ms/step - loss: 0.0028 - acc: 0.5711 - val_loss: 0.0033 - val_acc: 0.5500\n",
      "Epoch 24/100\n",
      "38/38 [==============================] - 0s 6ms/step - loss: 0.0027 - acc: 0.5669 - val_loss: 0.0032 - val_acc: 0.5367\n",
      "Epoch 25/100\n",
      "38/38 [==============================] - 0s 6ms/step - loss: 0.0027 - acc: 0.5443 - val_loss: 0.0032 - val_acc: 0.5767\n",
      "Epoch 26/100\n",
      "38/38 [==============================] - 0s 6ms/step - loss: 0.0026 - acc: 0.5493 - val_loss: 0.0031 - val_acc: 0.5767\n",
      "Epoch 27/100\n",
      "38/38 [==============================] - 0s 7ms/step - loss: 0.0025 - acc: 0.5569 - val_loss: 0.0031 - val_acc: 0.5567\n",
      "Epoch 28/100\n",
      "38/38 [==============================] - 0s 6ms/step - loss: 0.0025 - acc: 0.5468 - val_loss: 0.0030 - val_acc: 0.5633\n",
      "Epoch 29/100\n",
      "38/38 [==============================] - 0s 6ms/step - loss: 0.0025 - acc: 0.5552 - val_loss: 0.0030 - val_acc: 0.5667\n",
      "\n",
      "Epoch 00029: ReduceLROnPlateau reducing learning rate to 0.00020000000949949026.\n",
      "Epoch 30/100\n",
      "38/38 [==============================] - 0s 7ms/step - loss: 0.0022 - acc: 0.5635 - val_loss: 0.0027 - val_acc: 0.5633\n",
      "Epoch 31/100\n",
      "38/38 [==============================] - 0s 6ms/step - loss: 0.0021 - acc: 0.5778 - val_loss: 0.0027 - val_acc: 0.5767\n",
      "Epoch 32/100\n",
      "38/38 [==============================] - 0s 6ms/step - loss: 0.0021 - acc: 0.5794 - val_loss: 0.0027 - val_acc: 0.5433\n",
      "Epoch 33/100\n",
      "38/38 [==============================] - 0s 6ms/step - loss: 0.0021 - acc: 0.5769 - val_loss: 0.0027 - val_acc: 0.5767\n",
      "\n",
      "Epoch 00033: ReduceLROnPlateau reducing learning rate to 4.0000001899898055e-05.\n",
      "Epoch 34/100\n",
      "38/38 [==============================] - 0s 6ms/step - loss: 0.0020 - acc: 0.5853 - val_loss: 0.0027 - val_acc: 0.5667\n",
      "Epoch 35/100\n",
      "38/38 [==============================] - 0s 6ms/step - loss: 0.0020 - acc: 0.5794 - val_loss: 0.0027 - val_acc: 0.5667\n",
      "Epoch 36/100\n",
      "38/38 [==============================] - 0s 6ms/step - loss: 0.0020 - acc: 0.5828 - val_loss: 0.0027 - val_acc: 0.5767\n",
      "\n",
      "Epoch 00036: ReduceLROnPlateau reducing learning rate to 8.000000525498762e-06.\n",
      "Epoch 37/100\n",
      "38/38 [==============================] - 0s 6ms/step - loss: 0.0020 - acc: 0.5836 - val_loss: 0.0026 - val_acc: 0.5700\n",
      "Epoch 38/100\n",
      "38/38 [==============================] - 0s 6ms/step - loss: 0.0020 - acc: 0.5811 - val_loss: 0.0026 - val_acc: 0.5700\n",
      "Epoch 39/100\n",
      "38/38 [==============================] - 0s 7ms/step - loss: 0.0020 - acc: 0.5819 - val_loss: 0.0026 - val_acc: 0.5733\n",
      "\n",
      "Epoch 00039: ReduceLROnPlateau reducing learning rate to 1.6000001778593287e-06.\n",
      "Epoch 40/100\n",
      "38/38 [==============================] - 0s 6ms/step - loss: 0.0020 - acc: 0.5803 - val_loss: 0.0026 - val_acc: 0.5733\n",
      "Epoch 41/100\n",
      "38/38 [==============================] - 0s 6ms/step - loss: 0.0020 - acc: 0.5819 - val_loss: 0.0026 - val_acc: 0.5733\n",
      "Epoch 42/100\n",
      "38/38 [==============================] - 0s 6ms/step - loss: 0.0020 - acc: 0.5811 - val_loss: 0.0026 - val_acc: 0.5733\n",
      "\n",
      "Epoch 00042: ReduceLROnPlateau reducing learning rate to 3.200000264769187e-07.\n",
      "Epoch 43/100\n",
      "38/38 [==============================] - 0s 6ms/step - loss: 0.0020 - acc: 0.5819 - val_loss: 0.0026 - val_acc: 0.5733\n",
      "Epoch 44/100\n",
      "38/38 [==============================] - 0s 6ms/step - loss: 0.0020 - acc: 0.5811 - val_loss: 0.0026 - val_acc: 0.5733\n",
      "Epoch 45/100\n",
      "38/38 [==============================] - 0s 6ms/step - loss: 0.0020 - acc: 0.5811 - val_loss: 0.0026 - val_acc: 0.5733\n",
      "\n",
      "Epoch 00045: ReduceLROnPlateau reducing learning rate to 6.400000529538374e-08.\n",
      "Epoch 46/100\n",
      "38/38 [==============================] - 0s 6ms/step - loss: 0.0020 - acc: 0.5819 - val_loss: 0.0026 - val_acc: 0.5733\n",
      "Epoch 47/100\n",
      "38/38 [==============================] - 0s 6ms/step - loss: 0.0020 - acc: 0.5819 - val_loss: 0.0026 - val_acc: 0.5733\n",
      "Epoch 48/100\n",
      "38/38 [==============================] - 0s 6ms/step - loss: 0.0020 - acc: 0.5819 - val_loss: 0.0026 - val_acc: 0.5733\n",
      "\n",
      "Epoch 00048: ReduceLROnPlateau reducing learning rate to 1.2800001059076749e-08.\n",
      "Epoch 49/100\n",
      "38/38 [==============================] - 0s 6ms/step - loss: 0.0020 - acc: 0.5819 - val_loss: 0.0026 - val_acc: 0.5733\n",
      "Epoch 50/100\n",
      "38/38 [==============================] - 0s 6ms/step - loss: 0.0020 - acc: 0.5819 - val_loss: 0.0026 - val_acc: 0.5733\n",
      "Epoch 51/100\n",
      "38/38 [==============================] - 0s 6ms/step - loss: 0.0020 - acc: 0.5819 - val_loss: 0.0026 - val_acc: 0.5733\n",
      "\n",
      "Epoch 00051: ReduceLROnPlateau reducing learning rate to 2.5600002118153498e-09.\n",
      "Epoch 52/100\n",
      "38/38 [==============================] - 0s 7ms/step - loss: 0.0020 - acc: 0.5819 - val_loss: 0.0026 - val_acc: 0.5733\n",
      "Epoch 53/100\n",
      "38/38 [==============================] - 0s 6ms/step - loss: 0.0020 - acc: 0.5819 - val_loss: 0.0026 - val_acc: 0.5733\n",
      "Epoch 54/100\n",
      "38/38 [==============================] - 0s 6ms/step - loss: 0.0020 - acc: 0.5819 - val_loss: 0.0026 - val_acc: 0.5733\n",
      "\n",
      "Epoch 00054: ReduceLROnPlateau reducing learning rate to 5.1200004236307e-10.\n",
      "Epoch 55/100\n",
      "38/38 [==============================] - 0s 6ms/step - loss: 0.0020 - acc: 0.5819 - val_loss: 0.0026 - val_acc: 0.5733\n",
      "Epoch 56/100\n",
      "38/38 [==============================] - 0s 6ms/step - loss: 0.0020 - acc: 0.5819 - val_loss: 0.0026 - val_acc: 0.5733\n",
      "Epoch 57/100\n",
      "38/38 [==============================] - 0s 6ms/step - loss: 0.0020 - acc: 0.5819 - val_loss: 0.0026 - val_acc: 0.5733\n",
      "\n",
      "Epoch 00057: ReduceLROnPlateau reducing learning rate to 1.0240001069306004e-10.\n",
      "Epoch 58/100\n",
      "38/38 [==============================] - 0s 6ms/step - loss: 0.0020 - acc: 0.5819 - val_loss: 0.0026 - val_acc: 0.5733\n",
      "Epoch 59/100\n",
      "38/38 [==============================] - 0s 7ms/step - loss: 0.0020 - acc: 0.5819 - val_loss: 0.0026 - val_acc: 0.5733\n",
      "Epoch 60/100\n",
      "38/38 [==============================] - 0s 6ms/step - loss: 0.0020 - acc: 0.5819 - val_loss: 0.0026 - val_acc: 0.5733\n",
      "\n",
      "Epoch 00060: ReduceLROnPlateau reducing learning rate to 2.0480002416167767e-11.\n",
      "Epoch 61/100\n",
      "38/38 [==============================] - 0s 7ms/step - loss: 0.0020 - acc: 0.5819 - val_loss: 0.0026 - val_acc: 0.5733\n",
      "Epoch 62/100\n",
      "38/38 [==============================] - 0s 6ms/step - loss: 0.0020 - acc: 0.5819 - val_loss: 0.0026 - val_acc: 0.5733\n",
      "Epoch 63/100\n",
      "38/38 [==============================] - 0s 7ms/step - loss: 0.0020 - acc: 0.5819 - val_loss: 0.0026 - val_acc: 0.5733\n",
      "\n",
      "Epoch 00063: ReduceLROnPlateau reducing learning rate to 4.096000622011431e-12.\n",
      "Epoch 64/100\n",
      "38/38 [==============================] - 0s 6ms/step - loss: 0.0020 - acc: 0.5819 - val_loss: 0.0026 - val_acc: 0.5733\n"
     ]
    }
   ],
   "source": [
    "history = autoencoder.fit(\n",
    "    X_train, X_train,\n",
    "    shuffle=True,\n",
    "    epochs=100,\n",
    "    batch_size=32,\n",
    "    callbacks=[early_stopping,plateau],\n",
    "    validation_data=(X_valid, X_valid)\n",
    ")"
   ]
  },
  {
   "cell_type": "code",
   "execution_count": 28,
   "id": "720275b7",
   "metadata": {
    "execution": {
     "iopub.execute_input": "2022-12-21T19:14:35.428932Z",
     "iopub.status.busy": "2022-12-21T19:14:35.428262Z",
     "iopub.status.idle": "2022-12-21T19:14:35.831942Z",
     "shell.execute_reply": "2022-12-21T19:14:35.830331Z"
    },
    "papermill": {
     "duration": 0.444981,
     "end_time": "2022-12-21T19:14:35.834578",
     "exception": false,
     "start_time": "2022-12-21T19:14:35.389597",
     "status": "completed"
    },
    "tags": []
   },
   "outputs": [
    {
     "data": {
      "image/png": "[encoded data removed]",
      "text/plain": [
       "<Figure size 432x288 with 1 Axes>"
      ]
     },
     "metadata": {
      "needs_background": "light"
     },
     "output_type": "display_data"
    },
    {
     "data": {
      "image/png": "[encoded data removed]",
      "text/plain": [
       "<Figure size 432x288 with 1 Axes>"
      ]
     },
     "metadata": {
      "needs_background": "light"
     },
     "output_type": "display_data"
    }
   ],
   "source": [
    "train_loss_values = history.history['loss']\n",
    "val_loss_values = history.history['val_loss']\n",
    "best_val_idx = np.argmin(val_loss_values)\n",
    "num_epochs = range(len(train_loss_values))\n",
    "\n",
    "plt.plot(num_epochs, train_loss_values, label='training', color='blue', ls='-')\n",
    "plt.plot(num_epochs, val_loss_values, label='validatie', color='orange', ls='--')\n",
    "plt.vlines(x=best_val_idx, ymin=0, ymax=1, label='beste validatie', color='red', ls=':')\n",
    "plt.legend()\n",
    "plt.figure(0)\n",
    "train_loss_values = history.history['acc']\n",
    "val_loss_values = history.history['val_acc']\n",
    "num_epochs = range(len(train_loss_values))\n",
    "\n",
    "plt.plot(num_epochs, train_loss_values, label='training', color='blue', ls='-')\n",
    "plt.plot(num_epochs, val_loss_values, label='validatie', color='orange', ls='--')\n",
    "plt.legend()\n",
    "plt.figure(1)\n",
    "plt.show()"
   ]
  },
  {
   "cell_type": "code",
   "execution_count": 29,
   "id": "967a093f",
   "metadata": {
    "execution": {
     "iopub.execute_input": "2022-12-21T19:14:35.911996Z",
     "iopub.status.busy": "2022-12-21T19:14:35.911583Z",
     "iopub.status.idle": "2022-12-21T19:14:36.016288Z",
     "shell.execute_reply": "2022-12-21T19:14:36.015140Z"
    },
    "papermill": {
     "duration": 0.146374,
     "end_time": "2022-12-21T19:14:36.018944",
     "exception": false,
     "start_time": "2022-12-21T19:14:35.872570",
     "status": "completed"
    },
    "tags": []
   },
   "outputs": [
    {
     "name": "stdout",
     "output_type": "stream",
     "text": [
      "12/12 [==============================] - 0s 3ms/step - loss: 0.0027 - acc: 0.5053\n"
     ]
    },
    {
     "data": {
      "text/plain": [
       "(0.002655409276485443, 0.5053476095199585)"
      ]
     },
     "execution_count": 29,
     "metadata": {},
     "output_type": "execute_result"
    }
   ],
   "source": [
    "loss, acc=autoencoder.evaluate(X_test,X_test)\n",
    "loss, acc"
   ]
  },
  {
   "cell_type": "markdown",
   "id": "12e17174",
   "metadata": {
    "papermill": {
     "duration": 0.040395,
     "end_time": "2022-12-21T19:14:36.100879",
     "exception": false,
     "start_time": "2022-12-21T19:14:36.060484",
     "status": "completed"
    },
    "tags": []
   },
   "source": [
    "our model performs slightly worse on the test set than on the training and validation set, but there is no sign of overfitting. Now that we have our autoencoder we can start with our threshold algorithm to detect anomalies"
   ]
  },
  {
   "cell_type": "markdown",
   "id": "ea6a65dc",
   "metadata": {
    "papermill": {
     "duration": 0.039102,
     "end_time": "2022-12-21T19:14:36.179639",
     "exception": false,
     "start_time": "2022-12-21T19:14:36.140537",
     "status": "completed"
    },
    "tags": []
   },
   "source": [
    "### threshold algorithm to detect anomalies"
   ]
  },
  {
   "cell_type": "code",
   "execution_count": 30,
   "id": "a85e69f9",
   "metadata": {
    "execution": {
     "iopub.execute_input": "2022-12-21T19:14:36.264061Z",
     "iopub.status.busy": "2022-12-21T19:14:36.262926Z",
     "iopub.status.idle": "2022-12-21T19:14:36.270059Z",
     "shell.execute_reply": "2022-12-21T19:14:36.269224Z"
    },
    "papermill": {
     "duration": 0.053104,
     "end_time": "2022-12-21T19:14:36.272387",
     "exception": false,
     "start_time": "2022-12-21T19:14:36.219283",
     "status": "completed"
    },
    "tags": []
   },
   "outputs": [
    {
     "data": {
      "text/plain": [
       "((73, 297), (374, 297))"
      ]
     },
     "execution_count": 30,
     "metadata": {},
     "output_type": "execute_result"
    }
   ],
   "source": [
    "X_expensive.shape,X_test.shape"
   ]
  },
  {
   "cell_type": "code",
   "execution_count": 31,
   "id": "ada804d2",
   "metadata": {
    "execution": {
     "iopub.execute_input": "2022-12-21T19:14:36.353055Z",
     "iopub.status.busy": "2022-12-21T19:14:36.352171Z",
     "iopub.status.idle": "2022-12-21T19:14:36.359460Z",
     "shell.execute_reply": "2022-12-21T19:14:36.358083Z"
    },
    "papermill": {
     "duration": 0.05016,
     "end_time": "2022-12-21T19:14:36.362141",
     "exception": false,
     "start_time": "2022-12-21T19:14:36.311981",
     "status": "completed"
    },
    "tags": []
   },
   "outputs": [],
   "source": [
    "features=np.concatenate([X_expensive,X_test])\n",
    "labels=np.concatenate([np.ones((73,)),np.zeros((374,))]) #our labels will be 1 for expensive and 0 for not expensive"
   ]
  },
  {
   "cell_type": "markdown",
   "id": "a4d74514",
   "metadata": {
    "papermill": {
     "duration": 0.037635,
     "end_time": "2022-12-21T19:14:36.438609",
     "exception": false,
     "start_time": "2022-12-21T19:14:36.400974",
     "status": "completed"
    },
    "tags": []
   },
   "source": [
    "we will calculate our reconstruction loss and look at the distributions"
   ]
  },
  {
   "cell_type": "code",
   "execution_count": 32,
   "id": "e16cf501",
   "metadata": {
    "execution": {
     "iopub.execute_input": "2022-12-21T19:14:36.517785Z",
     "iopub.status.busy": "2022-12-21T19:14:36.516622Z",
     "iopub.status.idle": "2022-12-21T19:14:36.715586Z",
     "shell.execute_reply": "2022-12-21T19:14:36.714508Z"
    },
    "papermill": {
     "duration": 0.241164,
     "end_time": "2022-12-21T19:14:36.718180",
     "exception": false,
     "start_time": "2022-12-21T19:14:36.477016",
     "status": "completed"
    },
    "tags": []
   },
   "outputs": [],
   "source": [
    "reconstructions = autoencoder.predict(features)"
   ]
  },
  {
   "cell_type": "code",
   "execution_count": 33,
   "id": "6854dfd3",
   "metadata": {
    "execution": {
     "iopub.execute_input": "2022-12-21T19:14:36.800045Z",
     "iopub.status.busy": "2022-12-21T19:14:36.799161Z",
     "iopub.status.idle": "2022-12-21T19:14:36.811518Z",
     "shell.execute_reply": "2022-12-21T19:14:36.810704Z"
    },
    "papermill": {
     "duration": 0.055612,
     "end_time": "2022-12-21T19:14:36.813947",
     "exception": false,
     "start_time": "2022-12-21T19:14:36.758335",
     "status": "completed"
    },
    "tags": []
   },
   "outputs": [],
   "source": [
    "mse = np.mean(np.power(features - reconstructions, 2), axis=1)"
   ]
  },
  {
   "cell_type": "code",
   "execution_count": 34,
   "id": "bb8ac137",
   "metadata": {
    "execution": {
     "iopub.execute_input": "2022-12-21T19:14:36.898942Z",
     "iopub.status.busy": "2022-12-21T19:14:36.897657Z",
     "iopub.status.idle": "2022-12-21T19:14:36.906315Z",
     "shell.execute_reply": "2022-12-21T19:14:36.905145Z"
    },
    "papermill": {
     "duration": 0.053933,
     "end_time": "2022-12-21T19:14:36.908793",
     "exception": false,
     "start_time": "2022-12-21T19:14:36.854860",
     "status": "completed"
    },
    "tags": []
   },
   "outputs": [
    {
     "data": {
      "text/plain": [
       "((447,), (447,))"
      ]
     },
     "execution_count": 34,
     "metadata": {},
     "output_type": "execute_result"
    }
   ],
   "source": [
    "labels.shape,mse.shape"
   ]
  },
  {
   "cell_type": "code",
   "execution_count": 35,
   "id": "c5ad35b1",
   "metadata": {
    "execution": {
     "iopub.execute_input": "2022-12-21T19:14:36.995400Z",
     "iopub.status.busy": "2022-12-21T19:14:36.994612Z",
     "iopub.status.idle": "2022-12-21T19:14:37.396084Z",
     "shell.execute_reply": "2022-12-21T19:14:37.394744Z"
    },
    "papermill": {
     "duration": 0.448977,
     "end_time": "2022-12-21T19:14:37.398663",
     "exception": false,
     "start_time": "2022-12-21T19:14:36.949686",
     "status": "completed"
    },
    "tags": []
   },
   "outputs": [
    {
     "data": {
      "image/png": "[encoded data removed]",
      "text/plain": [
       "<Figure size 432x432 with 1 Axes>"
      ]
     },
     "metadata": {
      "needs_background": "light"
     },
     "output_type": "display_data"
    }
   ],
   "source": [
    "cheap = mse[labels==0]\n",
    "expensive = mse[labels==1]\n",
    "\n",
    "fig, ax = plt.subplots(figsize=(6,6))\n",
    "\n",
    "ax.hist(cheap, bins=50, density=True, label=\"cheap\", alpha=.6, color=\"green\")\n",
    "ax.hist(expensive, bins=50, density=True, label=\"expensive\", alpha=.6, color=\"red\")\n",
    "\n",
    "plt.title(\"(Normalized) Distribution of the Reconstruction Loss\")\n",
    "plt.legend()\n",
    "plt.show()"
   ]
  },
  {
   "cell_type": "markdown",
   "id": "e45e3f4a",
   "metadata": {
    "papermill": {
     "duration": 0.039131,
     "end_time": "2022-12-21T19:14:37.476606",
     "exception": false,
     "start_time": "2022-12-21T19:14:37.437475",
     "status": "completed"
    },
    "tags": []
   },
   "source": [
    "this does not look very promising, a lot of expensive restaurants fool the autoencoder. Our autoencoder is not able to distinguish expensive restaurants from cheap ones. By seeing above graph we have come to the conclusion that our initial assumption (that expensive restaurants  differ enough from normal ones) was wrong"
   ]
  },
  {
   "attachments": {},
   "cell_type": "markdown",
   "id": "e4e9f5a7",
   "metadata": {
    "papermill": {
     "duration": 0.039309,
     "end_time": "2022-12-21T19:14:37.555907",
     "exception": false,
     "start_time": "2022-12-21T19:14:37.516598",
     "status": "completed"
    },
    "tags": []
   },
   "source": [
    "But we can still try a different approach, what if we train our autoencoder just for a few epochs, so it barely manages to learn the representation of our cheap restaurants. Maybe then the expensive restaurants will be much more different and we will be able to somewhat separate them."
   ]
  },
  {
   "cell_type": "markdown",
   "id": "d455965c",
   "metadata": {
    "papermill": {
     "duration": 0.039567,
     "end_time": "2022-12-21T19:14:37.635657",
     "exception": false,
     "start_time": "2022-12-21T19:14:37.596090",
     "status": "completed"
    },
    "tags": []
   },
   "source": [
    "### training again with fawer epochs"
   ]
  },
  {
   "cell_type": "code",
   "execution_count": 36,
   "id": "ac066b64",
   "metadata": {
    "execution": {
     "iopub.execute_input": "2022-12-21T19:14:37.716867Z",
     "iopub.status.busy": "2022-12-21T19:14:37.716461Z",
     "iopub.status.idle": "2022-12-21T19:14:40.253872Z",
     "shell.execute_reply": "2022-12-21T19:14:40.252467Z"
    },
    "papermill": {
     "duration": 2.581192,
     "end_time": "2022-12-21T19:14:40.256561",
     "exception": false,
     "start_time": "2022-12-21T19:14:37.675369",
     "status": "completed"
    },
    "tags": []
   },
   "outputs": [
    {
     "name": "stdout",
     "output_type": "stream",
     "text": [
      "Epoch 1/5\n",
      "38/38 [==============================] - 1s 10ms/step - loss: 0.0344 - acc: 0.1873 - val_loss: 0.0184 - val_acc: 0.3600\n",
      "Epoch 2/5\n",
      "38/38 [==============================] - 0s 6ms/step - loss: 0.0153 - acc: 0.4247 - val_loss: 0.0129 - val_acc: 0.4567\n",
      "Epoch 3/5\n",
      "38/38 [==============================] - 0s 6ms/step - loss: 0.0114 - acc: 0.4808 - val_loss: 0.0103 - val_acc: 0.4833\n",
      "Epoch 4/5\n",
      "38/38 [==============================] - 0s 6ms/step - loss: 0.0092 - acc: 0.4933 - val_loss: 0.0087 - val_acc: 0.4933\n",
      "Epoch 5/5\n",
      "38/38 [==============================] - 0s 6ms/step - loss: 0.0077 - acc: 0.4967 - val_loss: 0.0076 - val_acc: 0.5233\n"
     ]
    },
    {
     "data": {
      "image/png": "[encoded data removed]",
      "text/plain": [
       "<Figure size 432x288 with 1 Axes>"
      ]
     },
     "metadata": {
      "needs_background": "light"
     },
     "output_type": "display_data"
    },
    {
     "data": {
      "image/png": "[encoded data removed]",
      "text/plain": [
       "<Figure size 432x288 with 1 Axes>"
      ]
     },
     "metadata": {
      "needs_background": "light"
     },
     "output_type": "display_data"
    }
   ],
   "source": [
    "\n",
    "autoencoder = keras.models.Sequential([\n",
    "    \n",
    "    # deconstruct / encode\n",
    "    keras.layers.InputLayer(input_shape=297),\n",
    "    keras.layers.Dense(264, activation='elu'),\n",
    "    keras.layers.Dense(128, activation='elu'),\n",
    "    keras.layers.Dense(104, activation='elu'),    \n",
    "    # reconstruction / decode\n",
    "    keras.layers.Dense(128, activation='elu'),\n",
    "    keras.layers.Dense(264, activation='elu'),\n",
    "#     tf.keras.layers.Dense(297, activation='elu'),    \n",
    "    keras.layers.Dense(297)  \n",
    "])\n",
    "autoencoder.compile(optimizer=\"adam\", \n",
    "                    loss=\"mse\",\n",
    "                    metrics=[\"acc\"])\n",
    "##training just 5 epochs\n",
    "history = autoencoder.fit(\n",
    "    X_train, X_train,\n",
    "    shuffle=True,\n",
    "    epochs=5,\n",
    "    batch_size=32,\n",
    "    validation_data=(X_valid, X_valid)\n",
    ")\n",
    "##plotting \n",
    "train_loss_values = history.history['loss']\n",
    "val_loss_values = history.history['val_loss']\n",
    "best_val_idx = np.argmin(val_loss_values)\n",
    "num_epochs = range(len(train_loss_values))\n",
    "\n",
    "plt.plot(num_epochs, train_loss_values, label='training', color='blue', ls='-')\n",
    "plt.plot(num_epochs, val_loss_values, label='validatie', color='orange', ls='--')\n",
    "plt.vlines(x=best_val_idx, ymin=0, ymax=1, label='beste validatie', color='red', ls=':')\n",
    "plt.legend()\n",
    "plt.figure(0)\n",
    "train_loss_values = history.history['acc']\n",
    "val_loss_values = history.history['val_acc']\n",
    "num_epochs = range(len(train_loss_values))\n",
    "\n",
    "plt.plot(num_epochs, train_loss_values, label='training', color='blue', ls='-')\n",
    "plt.plot(num_epochs, val_loss_values, label='validatie', color='orange', ls='--')\n",
    "plt.legend()\n",
    "plt.figure(1)\n",
    "plt.show()"
   ]
  },
  {
   "cell_type": "code",
   "execution_count": 37,
   "id": "b7d358ea",
   "metadata": {
    "execution": {
     "iopub.execute_input": "2022-12-21T19:14:40.342203Z",
     "iopub.status.busy": "2022-12-21T19:14:40.341735Z",
     "iopub.status.idle": "2022-12-21T19:14:40.445467Z",
     "shell.execute_reply": "2022-12-21T19:14:40.444303Z"
    },
    "papermill": {
     "duration": 0.149524,
     "end_time": "2022-12-21T19:14:40.447911",
     "exception": false,
     "start_time": "2022-12-21T19:14:40.298387",
     "status": "completed"
    },
    "tags": []
   },
   "outputs": [
    {
     "name": "stdout",
     "output_type": "stream",
     "text": [
      "12/12 [==============================] - 0s 2ms/step - loss: 0.0077 - acc: 0.4947\n"
     ]
    },
    {
     "data": {
      "text/plain": [
       "(0.007652894128113985, 0.4946524202823639)"
      ]
     },
     "execution_count": 37,
     "metadata": {},
     "output_type": "execute_result"
    }
   ],
   "source": [
    "loss, acc=autoencoder.evaluate(X_test,X_test)\n",
    "loss, acc"
   ]
  },
  {
   "cell_type": "code",
   "execution_count": 38,
   "id": "b4e520a8",
   "metadata": {
    "execution": {
     "iopub.execute_input": "2022-12-21T19:14:40.535815Z",
     "iopub.status.busy": "2022-12-21T19:14:40.535416Z",
     "iopub.status.idle": "2022-12-21T19:14:41.066023Z",
     "shell.execute_reply": "2022-12-21T19:14:41.064844Z"
    },
    "papermill": {
     "duration": 0.577204,
     "end_time": "2022-12-21T19:14:41.068752",
     "exception": false,
     "start_time": "2022-12-21T19:14:40.491548",
     "status": "completed"
    },
    "tags": []
   },
   "outputs": [
    {
     "data": {
      "image/png": "[encoded data removed]",
      "text/plain": [
       "<Figure size 432x432 with 1 Axes>"
      ]
     },
     "metadata": {
      "needs_background": "light"
     },
     "output_type": "display_data"
    }
   ],
   "source": [
    "reconstructions = autoencoder.predict(features)\n",
    "mse = np.mean(np.power(features - reconstructions, 2), axis=1)\n",
    "cheap = mse[labels==0]\n",
    "expensive = mse[labels==1]\n",
    "\n",
    "fig, ax = plt.subplots(figsize=(6,6))\n",
    "\n",
    "ax.hist(cheap, bins=50, density=True, label=\"cheap\", alpha=.6, color=\"green\")\n",
    "ax.hist(expensive, bins=50, density=True, label=\"expensive\", alpha=.6, color=\"red\")\n",
    "\n",
    "plt.title(\"(Normalized) Distribution of the Reconstruction Loss\")\n",
    "plt.legend()\n",
    "plt.show()"
   ]
  },
  {
   "attachments": {},
   "cell_type": "markdown",
   "id": "d4de5177",
   "metadata": {
    "papermill": {
     "duration": 0.042985,
     "end_time": "2022-12-21T19:14:41.155349",
     "exception": false,
     "start_time": "2022-12-21T19:14:41.112364",
     "status": "completed"
    },
    "tags": []
   },
   "source": [
    "We can see that on average our mse has increased, which means our autoencoder was performing worse when it comes to reconstruction the data. But that was not really important here. Our goal is not making a good auto encoder. We don't really care if it performs bad, it should just be worse for the expensive restaurants so we can separate them. \n",
    "\n",
    "Now it's only a little it better, but just for practice we're going to continue and finish our threshold algorithm\n",
    "\n",
    "when choosing our threshold we have to think about the fals positives and the false negatives. Our positive class here are the expensive restaurants. When a used wants to filter out the expensive restaurants and only wants to see cheap ones we have to think how bad is it if we miss some and they don't get filtered out? No that bad actually because there are lots of other cheap restaurants the user can still choose. If there is a scenario where the user actually wants to visit a expensive restaurant and the list is contaminated with cheap ones, that would lead to a bad user experience. That's why we choose to prioritize a high precision instead of a high recall."
   ]
  },
  {
   "cell_type": "code",
   "execution_count": 39,
   "id": "a66d5213",
   "metadata": {
    "execution": {
     "iopub.execute_input": "2022-12-21T19:14:41.242449Z",
     "iopub.status.busy": "2022-12-21T19:14:41.242001Z",
     "iopub.status.idle": "2022-12-21T19:14:41.247285Z",
     "shell.execute_reply": "2022-12-21T19:14:41.246229Z"
    },
    "papermill": {
     "duration": 0.051529,
     "end_time": "2022-12-21T19:14:41.249609",
     "exception": false,
     "start_time": "2022-12-21T19:14:41.198080",
     "status": "completed"
    },
    "tags": []
   },
   "outputs": [],
   "source": [
    "threshold = 0.023\n",
    "outlier=mse>threshold\n",
    "outlier=outlier.astype(int)"
   ]
  },
  {
   "cell_type": "code",
   "execution_count": 40,
   "id": "ec98c8c2",
   "metadata": {
    "execution": {
     "iopub.execute_input": "2022-12-21T19:14:41.335863Z",
     "iopub.status.busy": "2022-12-21T19:14:41.335467Z",
     "iopub.status.idle": "2022-12-21T19:14:41.342784Z",
     "shell.execute_reply": "2022-12-21T19:14:41.341400Z"
    },
    "papermill": {
     "duration": 0.053535,
     "end_time": "2022-12-21T19:14:41.345331",
     "exception": false,
     "start_time": "2022-12-21T19:14:41.291796",
     "status": "completed"
    },
    "tags": []
   },
   "outputs": [],
   "source": [
    "def plot_normalised_cm(cm):\n",
    "    cmn = cm.astype('float') / cm.sum(axis=1)[:, np.newaxis]\n",
    "    df_cm = pd.DataFrame(cmn, columns=[\"cheap\",\"expensive\"], index =[\"cheap\",\"expensive\"])\n",
    "    df_cm.index.name = 'Actual'\n",
    "    df_cm.columns.name = 'Predicted'\n",
    "\n",
    "    sns.heatmap(df_cm, cbar=False, annot=True, square=True, fmt='.2f',\n",
    "                annot_kws={'size': 10})"
   ]
  },
  {
   "cell_type": "code",
   "execution_count": 41,
   "id": "c4469f97",
   "metadata": {
    "execution": {
     "iopub.execute_input": "2022-12-21T19:14:41.433254Z",
     "iopub.status.busy": "2022-12-21T19:14:41.432050Z",
     "iopub.status.idle": "2022-12-21T19:14:41.601336Z",
     "shell.execute_reply": "2022-12-21T19:14:41.600090Z"
    },
    "papermill": {
     "duration": 0.215347,
     "end_time": "2022-12-21T19:14:41.603640",
     "exception": false,
     "start_time": "2022-12-21T19:14:41.388293",
     "status": "completed"
    },
    "tags": []
   },
   "outputs": [
    {
     "data": {
      "image/png": "[encoded data removed]",
      "text/plain": [
       "<Figure size 432x288 with 1 Axes>"
      ]
     },
     "metadata": {
      "needs_background": "light"
     },
     "output_type": "display_data"
    }
   ],
   "source": [
    "from sklearn.metrics import confusion_matrix\n",
    "\n",
    "cm = confusion_matrix(labels, outlier)\n",
    "\n",
    "# true/false positives/negatives\n",
    "plot_normalised_cm(cm)"
   ]
  },
  {
   "cell_type": "markdown",
   "id": "3cebb8f7",
   "metadata": {
    "papermill": {
     "duration": 0.042794,
     "end_time": "2022-12-21T19:14:41.689650",
     "exception": false,
     "start_time": "2022-12-21T19:14:41.646856",
     "status": "completed"
    },
    "tags": []
   },
   "source": [
    "with our current threshold, if we predict an expensive restaurant, the chance is actually higher that it will actuallly be an expensive one, just like we wanted. We realise that this model cannot be used in practise because it is unable to discriminate between the expensive and cheap restaurants well enough. But what is more important here is that we kind of experimented, realised that if our model becomes bad at recreating cheap restaurants( which it was trained on) it may be even worse on predicting expensive ones ant that was a (little bit 😉) true"
   ]
  }
 ],
 "metadata": {
  "kernelspec": {
   "display_name": "base",
   "language": "python",
   "name": "python3"
  },
  "language_info": {
   "codemirror_mode": {
    "name": "ipython",
    "version": 3
   },
   "file_extension": ".py",
   "mimetype": "text/x-python",
   "name": "python",
   "nbconvert_exporter": "python",
   "pygments_lexer": "ipython3",
   "version": "3.9.12 (main, Apr  4 2022, 05:22:27) [MSC v.1916 64 bit (AMD64)]"
  },
  "papermill": {
   "default_parameters": {},
   "duration": 51.860018,
   "end_time": "2022-12-21T19:14:45.094950",
   "environment_variables": {},
   "exception": null,
   "input_path": "__notebook__.ipynb",
   "output_path": "__notebook__.ipynb",
   "parameters": {},
   "start_time": "2022-12-21T19:13:53.234932",
   "version": "2.3.4"
  },
  "vscode": {
   "interpreter": {
    "hash": "b781f973879b6653a182b86dce637bbad8607b90046e75a81b5febd27741eaed"
   }
  }
 },
 "nbformat": 4,
 "nbformat_minor": 5
}

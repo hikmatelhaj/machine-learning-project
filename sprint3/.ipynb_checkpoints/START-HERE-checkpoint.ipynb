{
 "cells": [
  {
   "cell_type": "markdown",
   "metadata": {},
   "source": [
    "# Sprint 3"
   ]
  },
  {
   "cell_type": "markdown",
   "metadata": {},
   "source": [
    "In sprint 3 we've tried to improve our ideas from sprint 2 with deep learning. We also added one new idea."
   ]
  },
  {
   "cell_type": "markdown",
   "metadata": {},
   "source": [
    "## Idea 1: Recommendation system (sprint 2)\n",
    "\n",
    "The idea is that a model will return restaurants correlated with the input. The model will cluster all the images of the restaurants. As input a user gives an image (for example a picture of pasta) and see in which cluster it ends up. All the restaurants from the images in that cluster will be recommended to the user.\n",
    "\n",
    "In sprint 2 we have used methods such as SIFT and HOG as feature extraction. Now we've used deep learning, the implementation of the idea starts in this file: [sprint3_autoencoder.ipynb](sprint3_autoencoder.ipynb)"
   ]
  },
  {
   "cell_type": "markdown",
   "metadata": {},
   "source": [
    "## Idea 2: anamolie ramen(sprint 2)"
   ]
  },
  {
   "cell_type": "markdown",
   "metadata": {},
   "source": [
    "## Idea 3: Review generator (new idea)\n",
    "\n",
    "Our ideas are to help users. After seeing deep learning, we thought it would be a nice tool if users would be able to generate reviews based on a prefix. The prefix is like a start bias, for example \"the food is good\". We want the text generator to be able to generate positive and negative reviews based on the prefix.\n",
    "\n",
    "\n",
    "The implementation of this idea starts in this file: [sprint3_review_generator.ipynb](sprint3_review_generator.ipynb)\n"
   ]
  }
 ],
 "metadata": {
  "kernelspec": {
   "display_name": "Python 3 (ipykernel)",
   "language": "python",
   "name": "python3"
  },
  "language_info": {
   "codemirror_mode": {
    "name": "ipython",
    "version": 3
   },
   "file_extension": ".py",
   "mimetype": "text/x-python",
   "name": "python",
   "nbconvert_exporter": "python",
   "pygments_lexer": "ipython3",
   "version": "3.10.2"
  },
  "vscode": {
   "interpreter": {
    "hash": "218548c374b4bbf341f954c1c86cc69d1fe99eef78085dfb9916d33ba2c70687"
   }
  }
 },
 "nbformat": 4,
 "nbformat_minor": 2
}

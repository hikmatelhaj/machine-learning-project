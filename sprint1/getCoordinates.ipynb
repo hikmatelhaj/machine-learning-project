{
 "cells": [
  {
   "cell_type": "code",
   "execution_count": 1,
   "metadata": {},
   "outputs": [],
   "source": [
    "import pandas as pd\n",
    "import numpy as np"
   ]
  },
  {
   "cell_type": "code",
   "execution_count": 2,
   "metadata": {},
   "outputs": [],
   "source": [
    "import requests\n",
    "import urllib.parse\n",
    "def getCoordinates(address):\n",
    "\n",
    "    url = 'https://nominatim.openstreetmap.org/search/' + urllib.parse.quote(address) +'?format=json'\n",
    "    response = requests.get(url).json()\n",
    "    # print(response)\n",
    "    if(len(response)>0):\n",
    "        return response[0][\"lat\"],response[0][\"lon\"]\n",
    "    else:\n",
    "        return np.NaN,np.NaN;"
   ]
  },
  {
   "cell_type": "code",
   "execution_count": 51,
   "metadata": {},
   "outputs": [
    {
     "data": {
      "text/plain": [
       "('50.9924205', '3.6495958')"
      ]
     },
     "execution_count": 51,
     "metadata": {},
     "output_type": "execute_result"
    }
   ],
   "source": [
    "getCoordinates(\"de pinte\")"
   ]
  },
  {
   "cell_type": "code",
   "execution_count": 52,
   "metadata": {},
   "outputs": [
    {
     "data": {
      "text/plain": [
       "('50.7739701', '3.4860074')"
      ]
     },
     "execution_count": 52,
     "metadata": {},
     "output_type": "execute_result"
    }
   ],
   "source": [
    "getCoordinates(\"ruien\")"
   ]
  },
  {
   "cell_type": "code",
   "execution_count": 3,
   "metadata": {},
   "outputs": [],
   "source": [
    "df=pd.read_csv(\"tripadvisor_dataset/restaurant_listings.csv\")"
   ]
  },
  {
   "cell_type": "code",
   "execution_count": 4,
   "metadata": {},
   "outputs": [],
   "source": [
    "df['city'] = df[\"address\"].str.split(', ').str[-1].str.split(\" \").str[0]\n",
    "eerste=df[:500]\n",
    "tweede=df[500:1000]\n",
    "derde=df[1000:1500]\n",
    "vierde=df[1500:2000]\n",
    "vijfde=df[2000:]"
   ]
  },
  {
   "cell_type": "code",
   "execution_count": 5,
   "metadata": {},
   "outputs": [],
   "source": [
    "coords_eerste=eerste.apply(lambda row : getCoordinates(row[\"address\"]),axis=1)"
   ]
  },
  {
   "cell_type": "code",
   "execution_count": 6,
   "metadata": {},
   "outputs": [],
   "source": [
    "coords_eerste.to_csv(\"coords_eerste.csv\")"
   ]
  },
  {
   "cell_type": "code",
   "execution_count": 7,
   "metadata": {},
   "outputs": [],
   "source": [
    "coords_tweede=tweede.apply(lambda row : getCoordinates(row[\"address\"]),axis=1)"
   ]
  },
  {
   "cell_type": "code",
   "execution_count": 19,
   "metadata": {},
   "outputs": [],
   "source": [
    "coords_tweede.to_csv(\"coords_tweede.csv\")"
   ]
  },
  {
   "cell_type": "code",
   "execution_count": 20,
   "metadata": {},
   "outputs": [],
   "source": [
    "coords_derde=derde.apply(lambda row : getCoordinates(row[\"address\"]),axis=1)"
   ]
  },
  {
   "cell_type": "code",
   "execution_count": 21,
   "metadata": {},
   "outputs": [],
   "source": [
    "coords_derde.to_csv(\"coords_derde.csv\")"
   ]
  },
  {
   "cell_type": "code",
   "execution_count": 22,
   "metadata": {},
   "outputs": [],
   "source": [
    "coords_vierde=vierde.apply(lambda row : getCoordinates(row[\"address\"]),axis=1)"
   ]
  },
  {
   "cell_type": "code",
   "execution_count": 23,
   "metadata": {},
   "outputs": [],
   "source": [
    "coords_vierde.to_csv(\"coords_vierde.csv\")"
   ]
  },
  {
   "cell_type": "code",
   "execution_count": 24,
   "metadata": {},
   "outputs": [],
   "source": [
    "coords_vijfde=vijfde.apply(lambda row : getCoordinates(row[\"address\"]),axis=1)"
   ]
  },
  {
   "cell_type": "code",
   "execution_count": 25,
   "metadata": {},
   "outputs": [],
   "source": [
    "coords_vijfde.to_csv(\"coords_vijfde.csv\")"
   ]
  },
  {
   "cell_type": "code",
   "execution_count": 7,
   "metadata": {},
   "outputs": [
    {
     "data": {
      "text/plain": [
       "0                     (51.0548994, 3.7223248)\n",
       "1             (50.7887051, 4.052819574178704)\n",
       "2                                  (nan, nan)\n",
       "3                     (51.0582196, 3.7222621)\n",
       "4                     (51.0268308, 4.1005587)\n",
       "5              (51.054784, 3.715147529390401)\n",
       "6                     (51.0563899, 3.7200107)\n",
       "7                     (51.0172842, 3.7352118)\n",
       "8                                  (nan, nan)\n",
       "9     (51.057872950000004, 3.723593150457762)\n",
       "10           (51.0579981, 3.7233312548638184)\n",
       "11                                 (nan, nan)\n",
       "12                    (50.9238167, 3.4470247)\n",
       "13                    (51.1690027, 4.1391715)\n",
       "14            (50.9036447, 3.509640294271243)\n",
       "15                    (50.9196162, 3.6129843)\n",
       "16    (50.930108950000005, 4.041852779124971)\n",
       "17                    (51.0548744, 3.7136199)\n",
       "18                    (51.0542464, 3.7173773)\n",
       "19                    (50.7458853, 3.6023023)\n",
       "dtype: object"
      ]
     },
     "execution_count": 7,
     "metadata": {},
     "output_type": "execute_result"
    }
   ],
   "source": [
    "coords_eerste"
   ]
  },
  {
   "cell_type": "code",
   "execution_count": 28,
   "metadata": {},
   "outputs": [
    {
     "data": {
      "text/plain": [
       "500                    (51.1064198, 3.6303079)\n",
       "501           (51.22722365, 3.752044665562572)\n",
       "502    (51.026329399999995, 4.216531067236005)\n",
       "503          (50.96607025, 4.0370028243320615)\n",
       "504           (51.05699085, 3.722443696061501)\n",
       "                        ...                   \n",
       "995    (50.937662450000005, 4.034754187149829)\n",
       "996                    (51.1857364, 3.5590313)\n",
       "997                                 (nan, nan)\n",
       "998            (51.1605344, 4.150798994457261)\n",
       "999                    (51.2797327, 3.6260755)\n",
       "Length: 500, dtype: object"
      ]
     },
     "execution_count": 28,
     "metadata": {},
     "output_type": "execute_result"
    }
   ],
   "source": [
    "coords_tweede"
   ]
  },
  {
   "cell_type": "code",
   "execution_count": 48,
   "metadata": {},
   "outputs": [
    {
     "data": {
      "text/plain": [
       "0                      (51.0548994, 3.7223248)\n",
       "1              (50.7887051, 4.052819574178704)\n",
       "2                                   (nan, nan)\n",
       "3                      (51.0582196, 3.7222621)\n",
       "4                      (51.0268308, 4.1005587)\n",
       "                        ...                   \n",
       "995    (50.937662450000005, 4.034754187149829)\n",
       "996                    (51.1857364, 3.5590313)\n",
       "997                                 (nan, nan)\n",
       "998            (51.1605344, 4.150798994457261)\n",
       "999                    (51.2797327, 3.6260755)\n",
       "Length: 1000, dtype: object"
      ]
     },
     "execution_count": 48,
     "metadata": {},
     "output_type": "execute_result"
    }
   ],
   "source": [
    "a=pd.concat([coords_eerste,coords_tweede,coords_derde,coords_vierde,coords_vijfde])\n",
    "a"
   ]
  },
  {
   "cell_type": "code",
   "execution_count": 49,
   "metadata": {},
   "outputs": [],
   "source": [
    "a=pd.DataFrame({\"coord\":a,\"id\":df.id[:1000]})"
   ]
  },
  {
   "cell_type": "code",
   "execution_count": 51,
   "metadata": {},
   "outputs": [
    {
     "name": "stderr",
     "output_type": "stream",
     "text": [
      "C:\\Users\\Raman\\AppData\\Local\\Temp\\ipykernel_11548\\3791431085.py:3: FutureWarning: The default value of regex will change from True to False in a future version. In addition, single character regular expressions will *not* be treated as literal strings when regex=True.\n",
      "  a[\"coord\"] =a[\"coord\"].str.replace(\"(\",\"\").str.replace(\")\",\"\").str.replace(\"\\'\", \"\").str.replace(\"nan\",\"0\")\n"
     ]
    }
   ],
   "source": [
    "a[\"coord\"]=a[\"coord\"].astype(str)\n",
    "a[\"coord\"] =a[\"coord\"].str.replace(\"(\",\"\").str.replace(\")\",\"\").str.replace(\"\\'\", \"\").str.replace(\"nan\",\"0\")"
   ]
  },
  {
   "cell_type": "code",
   "execution_count": 52,
   "metadata": {},
   "outputs": [],
   "source": [
    "a[[\"latitude\", \"longitude\"]]  = a[\"coord\"].str.split(\",\",1, expand=True)\n",
    "a['latitude'] = pd.to_numeric(a['latitude'])\n",
    "a['longitude'] = pd.to_numeric(a['longitude'])\n",
    "a.drop(columns=[\"coord\"],inplace=True)"
   ]
  },
  {
   "cell_type": "code",
   "execution_count": 54,
   "metadata": {},
   "outputs": [],
   "source": [
    "a.set_index(\"id\").to_csv(\"coordinates2.csv\")"
   ]
  },
  {
   "cell_type": "code",
   "execution_count": 13,
   "metadata": {},
   "outputs": [],
   "source": [
    "original_df = pd.read_csv(\"../tripadvisor_dataset/restaurant_listings.csv\")\n",
    "original_df['city'] = original_df[\"address\"].str.split(', ').str[-1].str.split(\" \").str[0]\n",
    "cities=original_df.city.unique()"
   ]
  },
  {
   "cell_type": "code",
   "execution_count": 20,
   "metadata": {},
   "outputs": [],
   "source": [
    "city_centers={}\n",
    "for city in cities:\n",
    "    city_centers[city]=getCoordinates(city+ \" Belgium\")"
   ]
  },
  {
   "cell_type": "code",
   "execution_count": 22,
   "metadata": {},
   "outputs": [
    {
     "name": "stdout",
     "output_type": "stream",
     "text": [
      "Ghent ('51.0538286', '3.7250121')\n",
      "Ninove ('50.82151105', '4.003787390591782')\n",
      "Dendermonde ('51.0312293', '4.098112')\n",
      "Zulte ('50.9400485', '3.475305501634618')\n",
      "Sint-Niklaas ('51.1646685', '4.1395124')\n",
      "Kruishoutem ('50.9048236', '3.5281805')\n",
      "Huise ('50.8988246', '3.5907777')\n",
      "Aalst ('50.9383226', '4.0392147')\n",
      "Ronse ('50.7526199', '3.6014476899065855')\n",
      "Brakel ('50.7979739', '3.762778')\n",
      "Sint-Laureins ('51.2417048', '3.5238418')\n",
      "Maldegem ('51.2088871', '3.4452214')\n",
      "Temse ('51.1253635', '4.2133313')\n",
      "Zele ('51.0730461', '4.0424143')\n",
      "Velzeke-Ruddershove ('50.8824839', '3.7825766')\n",
      "Kruibeke ('51.17625475', '4.298036873275151')\n",
      "Aalter ('51.083894', '3.4485192')\n",
      "Oudenaarde ('50.8433705', '3.6041443')\n",
      "Lochristi ('51.097928350000004', '3.835561373149549')\n",
      "Wetteren ('50.9983603', '3.8731040535437895')\n",
      "Sint-Martens-Latem ('51.020971', '3.6397549')\n",
      "Gijzegem ('50.9847481', '4.0525271')\n",
      "Geraardsbergen ('50.7715779', '3.8827287')\n",
      "Merelbeke ('50.995756150000005', '3.74567419991459')\n",
      "Belsele ('51.14633', '4.08979')\n",
      "Wichelen ('51.0020843', '3.980643809897363')\n",
      "Haaltert ('50.887393349999996', '3.9904300285117014')\n",
      "Bazel ('51.1471626', '4.2972797')\n",
      "Lokeren ('51.1044488', '3.9898689')\n",
      "Lebbeke ('51.0004013', '4.1307711')\n",
      "Eeklo ('51.1844827', '3.5665965')\n",
      "Zevergem ('50.9786614', '3.6943144')\n",
      "Deurle ('51.0074803', '3.6062435')\n",
      "Steenhuize ('50.8411146', '3.8903745')\n",
      "Nazareth ('50.959802', '3.5963218')\n",
      "Zwalm ('50.8793307', '3.719334')\n",
      "Bachte-Maria-Leerne ('51.0038237', '3.5624453')\n",
      "Stekene ('51.210474399999995', '4.02404125321308')\n",
      "Maarkedal ('50.7973072', '3.642779')\n",
      "Beveren ('51.21288495', '4.249081329859443')\n",
      "Nevele ('51.0330372', '3.5491068')\n",
      "Laarne ('51.0406809', '3.8599035400346695')\n",
      "Bellem ('51.0889641', '3.4911379')\n",
      "Drongen ('51.0504639', '3.6639157')\n",
      "De ('39.3237019', '-80.1161923')\n",
      "Lembeke ('51.1949816', '3.6326098')\n",
      "Berlare ('51.0301606', '4.011347029715423')\n",
      "Lievegem ('51.12471655', '3.5852196649023114')\n",
      "Hamme ('51.0881545', '4.120284129818323')\n",
      "Erpe-Mere ('50.9226391', '3.9459888')\n",
      "Ledeberg ('50.8428245', '4.0837432')\n",
      "Deinze ('50.9840526', '3.5274017')\n",
      "Lovendegem ('51.0956807', '3.6076129')\n",
      "Waarschoot ('51.1515304', '3.6061712')\n",
      "Zottegem ('50.869252', '3.8103878')\n",
      "Kallo ('51.2519515', '4.27803')\n",
      "Zelzate ('51.2000036', '3.8105002')\n",
      "Destelbergen ('51.0556204', '3.7978887')\n",
      "Wannegem-Lede ('50.889974949999996', '3.5587910017584514')\n",
      "Buggenhout ('51.011310050000006', '4.192796388661321')\n",
      "Sint-Jan-in-Eremo ('51.2682182', '3.580094')\n",
      "Melle ('51.00303', '3.7988833')\n",
      "Massemen ('50.9809343', '3.8735741')\n",
      "Wondelgem ('51.0886195', '3.7123555')\n",
      "Astene ('50.9845547', '3.5628186')\n",
      "Kieldrecht ('51.2888268', '4.1758418')\n",
      "Mater ('50.8428971', '3.6636488')\n",
      "Edelare ('50.8345529', '3.6227862')\n",
      "Zomergem ('51.118399', '3.5596004')\n",
      "Oordegem ('50.9574043', '3.90209')\n",
      "Assenede ('51.2275942', '3.7532864')\n",
      "Sint-Denijs-Westrem ('51.0199405', '3.6676767')\n",
      "Schelderode ('50.9698809', '3.7131906')\n",
      "Kwaremont ('50.7765003', '3.5242569')\n",
      "Waasmunster ('51.1097147', '4.0842158')\n",
      "Eke ('50.9569377', '3.6418029')\n",
      "Lede ('50.9698619', '3.987875782018607')\n",
      "Opdorp ('51.0264023', '4.220916')\n",
      "Dikkelvenne ('50.9176673', '3.6894495')\n",
      "Erpe ('50.9333485', '3.976602')\n",
      "Heusden ('51.0327567', '5.2797107')\n",
      "Denderleeuw ('50.88813845', '4.062511248890271')\n",
      "Gavere ('50.9292335', '3.6614192')\n",
      "Balegem ('50.9252028', '3.7896135')\n",
      "Tielrode ('51.1125824', '4.1752558')\n",
      "Herzele ('50.870107000000004', '3.89902812063107')\n",
      "Nokere ('50.8853618', '3.5108474')\n",
      "Hofstade ('50.9912146', '4.4938796')\n",
      "Lierde ('50.8064253', '3.8361032273588913')\n",
      "Oosterzele ('50.9456388', '3.8032713')\n",
      "Asper ('50.9135295', '3.6517496')\n",
      "Adegem ('51.2035291', '3.4858471')\n",
      "Watervliet ('51.2757644', '3.6266162')\n",
      "Kluisbergen-Ruien (nan, nan)\n",
      "Evergem ('51.1187231', '3.705820038711427')\n",
      "Nukerke ('50.7965606', '3.5954667')\n",
      "Sint-Pauwels ('51.1929939', '4.0958349')\n",
      "Moerbeke ('51.1742698', '3.9446436')\n",
      "Erembodegem ('50.92009', '4.0587947')\n",
      "Middelburg ('51.2557439', '3.4148228')\n",
      "Ertvelde ('51.1793505', '3.7471789')\n",
      "Moerzeke ('51.0630042', '4.1531789')\n",
      "Berchem ('50.8649231', '4.2946734')\n",
      "Sint-Martens-Leerne ('51.0134905', '3.5837978')\n",
      "Sint-Lievens-Houtem ('50.9204857', '3.8589196')\n",
      "Steenberge ('50.9605511', '3.7414043')\n",
      "Serskamp ('50.9888236', '3.9295057')\n",
      "Dries ('50.8747045', '3.3565295')\n",
      "Elsegem ('50.8247164', '3.5366137')\n",
      "Wontergem ('50.9786839', '3.4443004')\n",
      "Viane ('50.7427788', '3.9300263')\n",
      "Ophasselt ('50.8218582', '3.897035')\n",
      "Moorsel ('50.9477279', '4.0983893')\n",
      "Wachtebeke ('51.1701927', '3.8574284')\n",
      "Lotenhulle ('51.0497022', '3.4596784')\n",
      "Knesselare ('51.1392692', '3.412339')\n",
      "Melden ('50.8155547', '3.5655354')\n",
      "Nieuwege ('50.8979997', '3.8253979')\n",
      "Semmerzake ('50.9431454', '3.6635166')\n",
      "Wortegem-Petegem ('50.8485315', '3.5375547')\n",
      "Sint-Gillis-bij-Dendermonde ('51.0195213', '4.1105542')\n",
      "Welle ('50.9005405', '4.0448599')\n",
      "Aaigem ('50.8894174', '3.9366909')\n",
      "Kruisem ('50.9085536', '3.5648916')\n",
      "Vurste ('50.9459212', '3.6845236')\n",
      "Bottelare ('50.9635195', '3.7552702')\n",
      "Schorisse ('50.8061799', '3.6782376')\n",
      "Denderhoutem ('50.8717796', '4.0180839')\n",
      "Sint-Gillis-Waas ('51.2179895', '4.1286101')\n",
      "Haasdonk ('51.1806482', '4.2383861')\n",
      "Baarle ('51.442616', '4.9308932')\n",
      "Heurne ('50.8830453', '3.6279227')\n",
      "Sinaai ('51.15689', '4.04172')\n",
      "Elene ('50.8907864', '3.8078492')\n",
      "Kemzeke ('51.2065228', '4.0771037')\n",
      "Melsele ('51.2211394', '4.2821446')\n",
      "Grotenberge ('50.872305', '3.8333978')\n",
      "Lozer ('50.9199102', '3.5668728')\n",
      "Nederename ('50.8678376', '3.6322868')\n",
      "Ursel ('51.1300675', '3.4855189')\n",
      "Outer ('50.8415963', '3.9994911')\n",
      "Mendonk ('51.1467255', '3.8221384')\n",
      "Steendorp ('51.1277232', '4.2701992')\n",
      "Hoorebeke ('50.8348628', '3.6920346')\n",
      "Merendree ('51.0779702', '3.576948')\n",
      "Bevere ('50.8514759', '3.5953981')\n",
      "Schendelbeke ('50.7968671', '3.8989486')\n",
      "Schellebelle ('51.0127238', '3.928714')\n",
      "Kalken ('51.0370133', '3.918568')\n",
      "Boekhoute ('51.2576962', '3.7176064')\n",
      "Denderwindeke ('50.7986183', '4.0241352')\n",
      "Nieuwkerken-Waas ('51.1933908', '4.1780279')\n",
      "Vrasene ('51.2191283', '4.194377')\n",
      "Grammene ('50.9764412', '3.468333')\n",
      "Vinkt ('51.0078663', '3.4808321')\n",
      "Munte ('50.9452452', '3.7445458')\n",
      "Sint-Maria-Oudenhove ('50.8338454', '3.7949437')\n",
      "Nieuwenhove ('51.1391795', '3.2334799')\n",
      "Zwijnaarde ('51.0003917', '3.7167702')\n",
      "Horebeke ('50.8348628', '3.6920346')\n",
      "Parike ('50.7849168', '3.799316')\n",
      "Afsnee ('51.0309024', '3.6683286')\n",
      "Zingem ('50.9007467', '3.6583837090196862')\n",
      "Kastel ('51.0490202', '4.1693855')\n",
      "Rupelmonde ('51.1271881', '4.290421')\n",
      "Kaprijke ('51.2185075', '3.6190769')\n",
      "Scheldewindeke ('50.9381419', '3.784777')\n",
      "Teralfene ('50.8921419', '4.09834')\n",
      "Erondegem ('50.9407226', '3.9555369')\n"
     ]
    }
   ],
   "source": [
    "for key,value in city_centers.items():\n",
    "    print(key,value)"
   ]
  },
  {
   "cell_type": "code",
   "execution_count": 43,
   "metadata": {},
   "outputs": [
    {
     "data": {
      "text/html": [
       "<div>\n",
       "<style scoped>\n",
       "    .dataframe tbody tr th:only-of-type {\n",
       "        vertical-align: middle;\n",
       "    }\n",
       "\n",
       "    .dataframe tbody tr th {\n",
       "        vertical-align: top;\n",
       "    }\n",
       "\n",
       "    .dataframe thead th {\n",
       "        text-align: right;\n",
       "    }\n",
       "</style>\n",
       "<table border=\"1\" class=\"dataframe\">\n",
       "  <thead>\n",
       "    <tr style=\"text-align: right;\">\n",
       "      <th></th>\n",
       "      <th>city</th>\n",
       "      <th>coords</th>\n",
       "    </tr>\n",
       "  </thead>\n",
       "  <tbody>\n",
       "    <tr>\n",
       "      <th>0</th>\n",
       "      <td>Ghent</td>\n",
       "      <td>(51.0538286, 3.7250121)</td>\n",
       "    </tr>\n",
       "    <tr>\n",
       "      <th>1</th>\n",
       "      <td>Ninove</td>\n",
       "      <td>(50.82151105, 4.003787390591782)</td>\n",
       "    </tr>\n",
       "    <tr>\n",
       "      <th>2</th>\n",
       "      <td>Dendermonde</td>\n",
       "      <td>(51.0312293, 4.098112)</td>\n",
       "    </tr>\n",
       "    <tr>\n",
       "      <th>3</th>\n",
       "      <td>Zulte</td>\n",
       "      <td>(50.9400485, 3.475305501634618)</td>\n",
       "    </tr>\n",
       "    <tr>\n",
       "      <th>4</th>\n",
       "      <td>Sint-Niklaas</td>\n",
       "      <td>(51.1646685, 4.1395124)</td>\n",
       "    </tr>\n",
       "    <tr>\n",
       "      <th>...</th>\n",
       "      <td>...</td>\n",
       "      <td>...</td>\n",
       "    </tr>\n",
       "    <tr>\n",
       "      <th>164</th>\n",
       "      <td>Rupelmonde</td>\n",
       "      <td>(51.1271881, 4.290421)</td>\n",
       "    </tr>\n",
       "    <tr>\n",
       "      <th>165</th>\n",
       "      <td>Kaprijke</td>\n",
       "      <td>(51.2185075, 3.6190769)</td>\n",
       "    </tr>\n",
       "    <tr>\n",
       "      <th>166</th>\n",
       "      <td>Scheldewindeke</td>\n",
       "      <td>(50.9381419, 3.784777)</td>\n",
       "    </tr>\n",
       "    <tr>\n",
       "      <th>167</th>\n",
       "      <td>Teralfene</td>\n",
       "      <td>(50.8921419, 4.09834)</td>\n",
       "    </tr>\n",
       "    <tr>\n",
       "      <th>168</th>\n",
       "      <td>Erondegem</td>\n",
       "      <td>(50.9407226, 3.9555369)</td>\n",
       "    </tr>\n",
       "  </tbody>\n",
       "</table>\n",
       "<p>169 rows × 2 columns</p>\n",
       "</div>"
      ],
      "text/plain": [
       "               city                            coords\n",
       "0             Ghent           (51.0538286, 3.7250121)\n",
       "1            Ninove  (50.82151105, 4.003787390591782)\n",
       "2       Dendermonde            (51.0312293, 4.098112)\n",
       "3             Zulte   (50.9400485, 3.475305501634618)\n",
       "4      Sint-Niklaas           (51.1646685, 4.1395124)\n",
       "..              ...                               ...\n",
       "164      Rupelmonde            (51.1271881, 4.290421)\n",
       "165        Kaprijke           (51.2185075, 3.6190769)\n",
       "166  Scheldewindeke            (50.9381419, 3.784777)\n",
       "167       Teralfene             (50.8921419, 4.09834)\n",
       "168       Erondegem           (50.9407226, 3.9555369)\n",
       "\n",
       "[169 rows x 2 columns]"
      ]
     },
     "execution_count": 43,
     "metadata": {},
     "output_type": "execute_result"
    }
   ],
   "source": [
    "kaas=pd.DataFrame({\"city\":city_centers.keys(),\"coords\":city_centers.values()})\n",
    "kaas\n"
   ]
  },
  {
   "cell_type": "code",
   "execution_count": 45,
   "metadata": {},
   "outputs": [
    {
     "name": "stderr",
     "output_type": "stream",
     "text": [
      "C:\\Users\\Raman\\AppData\\Local\\Temp\\ipykernel_4164\\300635940.py:2: FutureWarning: The default value of regex will change from True to False in a future version. In addition, single character regular expressions will *not* be treated as literal strings when regex=True.\n",
      "  kaas[\"coords\"] =kaas[\"coords\"].str.replace(\"(\",\"\").str.replace(\")\",\"\").str.replace(\"\\'\", \"\").str.replace(\"nan\",\"0\")\n"
     ]
    }
   ],
   "source": [
    "kaas[\"coords\"]=kaas[\"coords\"].astype(str)\n",
    "kaas[\"coords\"] =kaas[\"coords\"].str.replace(\"(\",\"\").str.replace(\")\",\"\").str.replace(\"\\'\", \"\").str.replace(\"nan\",\"0\")\n",
    "kaas[[\"latitude\", \"longitude\"]]  = kaas[\"coords\"].str.split(\",\",1, expand=True)\n",
    "kaas['latitude'] = pd.to_numeric(kaas['latitude'])\n",
    "kaas['longitude'] = pd.to_numeric(kaas['longitude'])\n",
    "kaas.drop(columns=[\"coords\"],inplace=True)"
   ]
  },
  {
   "cell_type": "code",
   "execution_count": 47,
   "metadata": {},
   "outputs": [
    {
     "data": {
      "text/plain": [
       "<AxesSubplot:>"
      ]
     },
     "execution_count": 47,
     "metadata": {},
     "output_type": "execute_result"
    },
    {
     "data": {
      "image/png": "[encoded data removed]",
      "text/plain": [
       "<Figure size 640x480 with 1 Axes>"
      ]
     },
     "metadata": {},
     "output_type": "display_data"
    }
   ],
   "source": [
    "kaas.latitude.plot()"
   ]
  },
  {
   "cell_type": "code",
   "execution_count": 49,
   "metadata": {},
   "outputs": [],
   "source": [
    "kaas.to_csv(\"city_centers.csv\")"
   ]
  },
  {
   "cell_type": "code",
   "execution_count": 50,
   "metadata": {},
   "outputs": [
    {
     "data": {
      "text/html": [
       "<div>\n",
       "<style scoped>\n",
       "    .dataframe tbody tr th:only-of-type {\n",
       "        vertical-align: middle;\n",
       "    }\n",
       "\n",
       "    .dataframe tbody tr th {\n",
       "        vertical-align: top;\n",
       "    }\n",
       "\n",
       "    .dataframe thead th {\n",
       "        text-align: right;\n",
       "    }\n",
       "</style>\n",
       "<table border=\"1\" class=\"dataframe\">\n",
       "  <thead>\n",
       "    <tr style=\"text-align: right;\">\n",
       "      <th></th>\n",
       "      <th>city</th>\n",
       "      <th>latitude</th>\n",
       "      <th>longitude</th>\n",
       "    </tr>\n",
       "  </thead>\n",
       "  <tbody>\n",
       "    <tr>\n",
       "      <th>44</th>\n",
       "      <td>De</td>\n",
       "      <td>39.323702</td>\n",
       "      <td>-80.116192</td>\n",
       "    </tr>\n",
       "    <tr>\n",
       "      <th>93</th>\n",
       "      <td>Kluisbergen-Ruien</td>\n",
       "      <td>0.000000</td>\n",
       "      <td>0.000000</td>\n",
       "    </tr>\n",
       "  </tbody>\n",
       "</table>\n",
       "</div>"
      ],
      "text/plain": [
       "                 city   latitude  longitude\n",
       "44                 De  39.323702 -80.116192\n",
       "93  Kluisbergen-Ruien   0.000000   0.000000"
      ]
     },
     "execution_count": 50,
     "metadata": {},
     "output_type": "execute_result"
    }
   ],
   "source": [
    "kaas[kaas[\"latitude\"]<50]"
   ]
  },
  {
   "cell_type": "code",
   "execution_count": 54,
   "metadata": {},
   "outputs": [
    {
     "data": {
      "text/plain": [
       "<AxesSubplot:>"
      ]
     },
     "execution_count": 54,
     "metadata": {},
     "output_type": "execute_result"
    },
    {
     "data": {
      "image/png": "[encoded data removed]",
      "text/plain": [
       "<Figure size 640x480 with 1 Axes>"
      ]
     },
     "metadata": {},
     "output_type": "display_data"
    }
   ],
   "source": [
    "kaas.longitude.plot()"
   ]
  },
  {
   "cell_type": "code",
   "execution_count": 57,
   "metadata": {},
   "outputs": [
    {
     "data": {
      "text/html": [
       "<div>\n",
       "<style scoped>\n",
       "    .dataframe tbody tr th:only-of-type {\n",
       "        vertical-align: middle;\n",
       "    }\n",
       "\n",
       "    .dataframe tbody tr th {\n",
       "        vertical-align: top;\n",
       "    }\n",
       "\n",
       "    .dataframe thead th {\n",
       "        text-align: right;\n",
       "    }\n",
       "</style>\n",
       "<table border=\"1\" class=\"dataframe\">\n",
       "  <thead>\n",
       "    <tr style=\"text-align: right;\">\n",
       "      <th></th>\n",
       "      <th>city</th>\n",
       "      <th>latitude</th>\n",
       "      <th>longitude</th>\n",
       "    </tr>\n",
       "  </thead>\n",
       "  <tbody>\n",
       "    <tr>\n",
       "      <th>44</th>\n",
       "      <td>De</td>\n",
       "      <td>39.323702</td>\n",
       "      <td>-80.116192</td>\n",
       "    </tr>\n",
       "    <tr>\n",
       "      <th>93</th>\n",
       "      <td>Kluisbergen-Ruien</td>\n",
       "      <td>0.000000</td>\n",
       "      <td>0.000000</td>\n",
       "    </tr>\n",
       "  </tbody>\n",
       "</table>\n",
       "</div>"
      ],
      "text/plain": [
       "                 city   latitude  longitude\n",
       "44                 De  39.323702 -80.116192\n",
       "93  Kluisbergen-Ruien   0.000000   0.000000"
      ]
     },
     "execution_count": 57,
     "metadata": {},
     "output_type": "execute_result"
    }
   ],
   "source": [
    "kaas[kaas[\"longitude\"]<3]"
   ]
  }
 ],
 "metadata": {
  "kernelspec": {
   "display_name": "Python 3.9.12 ('base')",
   "language": "python",
   "name": "python3"
  },
  "language_info": {
   "codemirror_mode": {
    "name": "ipython",
    "version": 3
   },
   "file_extension": ".py",
   "mimetype": "text/x-python",
   "name": "python",
   "nbconvert_exporter": "python",
   "pygments_lexer": "ipython3",
   "version": "3.9.12"
  },
  "orig_nbformat": 4,
  "vscode": {
   "interpreter": {
    "hash": "b781f973879b6653a182b86dce637bbad8607b90046e75a81b5febd27741eaed"
   }
  }
 },
 "nbformat": 4,
 "nbformat_minor": 2
}

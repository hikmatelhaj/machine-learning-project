{
 "cells": [
  {
   "cell_type": "markdown",
   "id": "6af2cbcd",
   "metadata": {
    "papermill": {
     "duration": 0.036639,
     "end_time": "2022-11-16T15:22:54.942433",
     "exception": false,
     "start_time": "2022-11-16T15:22:54.905794",
     "status": "completed"
    },
    "tags": []
   },
   "source": [
    "## Classification of resaurant\n",
    "When you get restaurant recommendations as a user you might want a functionality to filter out restaurants on price range. As a restaurant owner you might want to know what other restaurant features influence your price tag. That's why we want to create a classification model that classifies restaurants into cheap, medium of expensive categories.\n",
    "\n",
    "To do this we will try out different clasifiers on default settings and then do a gridsearch on the most promising ones to get the best model"
   ]
  },
  {
   "cell_type": "code",
   "execution_count": 1,
   "id": "a45b6ff0",
   "metadata": {
    "execution": {
     "iopub.execute_input": "2022-11-16T15:22:55.007661Z",
     "iopub.status.busy": "2022-11-16T15:22:55.006754Z",
     "iopub.status.idle": "2022-11-16T15:22:58.035208Z",
     "shell.execute_reply": "2022-11-16T15:22:58.034089Z"
    },
    "papermill": {
     "duration": 3.063937,
     "end_time": "2022-11-16T15:22:58.038012",
     "exception": false,
     "start_time": "2022-11-16T15:22:54.974075",
     "status": "completed"
    },
    "tags": []
   },
   "outputs": [
    {
     "data": {
      "text/html": [
       "<style type='text/css'>\n",
       ".datatable table.frame { margin-bottom: 0; }\n",
       ".datatable table.frame thead { border-bottom: none; }\n",
       ".datatable table.frame tr.coltypes td {  color: #FFFFFF;  line-height: 6px;  padding: 0 0.5em;}\n",
       ".datatable .bool    { background: #DDDD99; }\n",
       ".datatable .object  { background: #565656; }\n",
       ".datatable .int     { background: #5D9E5D; }\n",
       ".datatable .float   { background: #4040CC; }\n",
       ".datatable .str     { background: #CC4040; }\n",
       ".datatable .time    { background: #40CC40; }\n",
       ".datatable .row_index {  background: var(--jp-border-color3);  border-right: 1px solid var(--jp-border-color0);  color: var(--jp-ui-font-color3);  font-size: 9px;}\n",
       ".datatable .frame tbody td { text-align: left; }\n",
       ".datatable .frame tr.coltypes .row_index {  background: var(--jp-border-color0);}\n",
       ".datatable th:nth-child(2) { padding-left: 12px; }\n",
       ".datatable .hellipsis {  color: var(--jp-cell-editor-border-color);}\n",
       ".datatable .vellipsis {  background: var(--jp-layout-color0);  color: var(--jp-cell-editor-border-color);}\n",
       ".datatable .na {  color: var(--jp-cell-editor-border-color);  font-size: 80%;}\n",
       ".datatable .sp {  opacity: 0.25;}\n",
       ".datatable .footer { font-size: 9px; }\n",
       ".datatable .frame_dimensions {  background: var(--jp-border-color3);  border-top: 1px solid var(--jp-border-color0);  color: var(--jp-ui-font-color3);  display: inline-block;  opacity: 0.6;  padding: 1px 10px 1px 5px;}\n",
       "</style>\n"
      ],
      "text/plain": [
       "<IPython.core.display.HTML object>"
      ]
     },
     "metadata": {},
     "output_type": "display_data"
    }
   ],
   "source": [
    "from fastai.imports import *\n",
    "from sklearn.linear_model import LogisticRegression\n",
    "from sklearn.neighbors import KNeighborsClassifier\n",
    "from sklearn.svm import SVC\n",
    "from sklearn.ensemble import RandomForestClassifier\n",
    "from xgboost import XGBClassifier\n",
    "from lightgbm import LGBMClassifier\n",
    "from catboost import CatBoostClassifier\n",
    "from sklearn.naive_bayes import GaussianNB\n",
    "from sklearn.model_selection import GridSearchCV, RandomizedSearchCV\n",
    "import seaborn as sns\n",
    "original_df = pd.read_csv(\"../input/tripadvisor/restaurant_listings.csv\")\n",
    "pd.set_option(\"display.max_columns\", None)\n"
   ]
  },
  {
   "cell_type": "markdown",
   "id": "cc01f7a3",
   "metadata": {
    "papermill": {
     "duration": 0.030892,
     "end_time": "2022-11-16T15:22:58.102186",
     "exception": false,
     "start_time": "2022-11-16T15:22:58.071294",
     "status": "completed"
    },
    "tags": []
   },
   "source": [
    "in short, we will do the same preprocessing as we did in sprint 1"
   ]
  },
  {
   "cell_type": "code",
   "execution_count": 2,
   "id": "b279d11c",
   "metadata": {
    "execution": {
     "iopub.execute_input": "2022-11-16T15:22:58.167787Z",
     "iopub.status.busy": "2022-11-16T15:22:58.167096Z",
     "iopub.status.idle": "2022-11-16T15:22:58.185081Z",
     "shell.execute_reply": "2022-11-16T15:22:58.184027Z"
    },
    "papermill": {
     "duration": 0.053572,
     "end_time": "2022-11-16T15:22:58.187532",
     "exception": false,
     "start_time": "2022-11-16T15:22:58.133960",
     "status": "completed"
    },
    "tags": []
   },
   "outputs": [],
   "source": [
    "#see notebook sprint 1 for details on how we got this\n",
    "coords=pd.read_csv(\"../input/tripadvisor/coordinaten2.csv\").replace(0,np.nan)"
   ]
  },
  {
   "cell_type": "code",
   "execution_count": 3,
   "id": "b9678999",
   "metadata": {
    "execution": {
     "iopub.execute_input": "2022-11-16T15:22:58.251721Z",
     "iopub.status.busy": "2022-11-16T15:22:58.250984Z",
     "iopub.status.idle": "2022-11-16T15:22:58.318533Z",
     "shell.execute_reply": "2022-11-16T15:22:58.317278Z"
    },
    "papermill": {
     "duration": 0.102812,
     "end_time": "2022-11-16T15:22:58.321456",
     "exception": false,
     "start_time": "2022-11-16T15:22:58.218644",
     "status": "completed"
    },
    "tags": []
   },
   "outputs": [],
   "source": [
    "original_df[\"rank\"]=original_df[\"rank\"].str.replace(\"#\",\"\").astype(float)\n",
    "original_df[\"general rating\"]=original_df[\"general rating\"].map(lambda x: x.split(\" \")[0]).astype(float)\n",
    "original_df[\"number of reviews\"]=original_df[\"number of reviews\"].map(lambda x: x.split(\" \")[0].replace(\",\",\"\")).astype(float)\n",
    "original_df['city'] = original_df[\"address\"].str.split(', ').str[-1].str.split(\" \").str[0]\n",
    "first_tag=original_df.tags.str.split(\"|\",expand=True)[0].dropna()\n",
    "ranges=first_tag[first_tag.str.find(\"$\")!=-1]\n",
    "original_df[\"price_tag\"]=ranges\n",
    "original_df=original_df.merge(coords,on=\"id\")\n",
    "original_df.drop(columns=[\"food rating\", \"service rating\",\"price range\"], inplace=True)"
   ]
  },
  {
   "cell_type": "markdown",
   "id": "d3b0cc3e",
   "metadata": {
    "papermill": {
     "duration": 0.031139,
     "end_time": "2022-11-16T15:22:58.384364",
     "exception": false,
     "start_time": "2022-11-16T15:22:58.353225",
     "status": "completed"
    },
    "tags": []
   },
   "source": [
    "*NOTE* we can do this preprocessing on the original df because we are not aggregating data, each row is preprocessed individually (we are not using mean/mode/median/...)"
   ]
  },
  {
   "cell_type": "code",
   "execution_count": 4,
   "id": "a0a305b9",
   "metadata": {
    "execution": {
     "iopub.execute_input": "2022-11-16T15:22:58.453241Z",
     "iopub.status.busy": "2022-11-16T15:22:58.452470Z",
     "iopub.status.idle": "2022-11-16T15:22:58.459457Z",
     "shell.execute_reply": "2022-11-16T15:22:58.458553Z"
    },
    "papermill": {
     "duration": 0.044737,
     "end_time": "2022-11-16T15:22:58.461672",
     "exception": false,
     "start_time": "2022-11-16T15:22:58.416935",
     "status": "completed"
    },
    "tags": []
   },
   "outputs": [
    {
     "data": {
      "text/plain": [
       "Index(['rank', 'restaurant name', 'general rating', 'number of reviews',\n",
       "       'tags', 'address', 'phone number', 'website url', 'menu url',\n",
       "       'timetable', 'email address', 'travelers choice', 'michelin',\n",
       "       'value rating', 'atmosphere rating', 'description', 'dutch description',\n",
       "       'cuisines', 'special diets', 'meals', 'restaurant features', 'id',\n",
       "       'city', 'price_tag', 'latitude', 'longitude'],\n",
       "      dtype='object')"
      ]
     },
     "execution_count": 4,
     "metadata": {},
     "output_type": "execute_result"
    }
   ],
   "source": [
    "original_df.columns"
   ]
  },
  {
   "cell_type": "markdown",
   "id": "88c1a706",
   "metadata": {
    "papermill": {
     "duration": 0.032387,
     "end_time": "2022-11-16T15:22:58.526010",
     "exception": false,
     "start_time": "2022-11-16T15:22:58.493623",
     "status": "completed"
    },
    "tags": []
   },
   "source": [
    "now we will split the data and use a seed ;) but because we want to actually have price tags (our labels) we will remove them from our data first before making the train test split. In the end we can use our model to actually fill in the missing price tags "
   ]
  },
  {
   "cell_type": "code",
   "execution_count": 5,
   "id": "344bd094",
   "metadata": {
    "execution": {
     "iopub.execute_input": "2022-11-16T15:22:58.595679Z",
     "iopub.status.busy": "2022-11-16T15:22:58.594890Z",
     "iopub.status.idle": "2022-11-16T15:22:58.602403Z",
     "shell.execute_reply": "2022-11-16T15:22:58.601325Z"
    },
    "papermill": {
     "duration": 0.045918,
     "end_time": "2022-11-16T15:22:58.605288",
     "exception": false,
     "start_time": "2022-11-16T15:22:58.559370",
     "status": "completed"
    },
    "tags": []
   },
   "outputs": [],
   "source": [
    "df_with_price_tag=original_df[~original_df.price_tag.isna()].copy()"
   ]
  },
  {
   "cell_type": "code",
   "execution_count": 6,
   "id": "ab374226",
   "metadata": {
    "execution": {
     "iopub.execute_input": "2022-11-16T15:22:58.671371Z",
     "iopub.status.busy": "2022-11-16T15:22:58.670606Z",
     "iopub.status.idle": "2022-11-16T15:22:58.679563Z",
     "shell.execute_reply": "2022-11-16T15:22:58.678352Z"
    },
    "papermill": {
     "duration": 0.046434,
     "end_time": "2022-11-16T15:22:58.682625",
     "exception": false,
     "start_time": "2022-11-16T15:22:58.636191",
     "status": "completed"
    },
    "tags": []
   },
   "outputs": [
    {
     "data": {
      "text/plain": [
       "0       $$ - $$$\n",
       "1           $$$$\n",
       "2       $$ - $$$\n",
       "3       $$ - $$$\n",
       "4       $$ - $$$\n",
       "          ...   \n",
       "2563           $\n",
       "2564           $\n",
       "2566           $\n",
       "2568    $$ - $$$\n",
       "2574    $$ - $$$\n",
       "Name: price_tag, Length: 1943, dtype: object"
      ]
     },
     "execution_count": 6,
     "metadata": {},
     "output_type": "execute_result"
    }
   ],
   "source": [
    "df_with_price_tag.price_tag"
   ]
  },
  {
   "cell_type": "markdown",
   "id": "ac2740df",
   "metadata": {
    "papermill": {
     "duration": 0.032106,
     "end_time": "2022-11-16T15:22:58.746049",
     "exception": false,
     "start_time": "2022-11-16T15:22:58.713943",
     "status": "completed"
    },
    "tags": []
   },
   "source": [
    "we will also remove features that won't help with the classification\n"
   ]
  },
  {
   "cell_type": "code",
   "execution_count": 7,
   "id": "856f171b",
   "metadata": {
    "execution": {
     "iopub.execute_input": "2022-11-16T15:22:58.812477Z",
     "iopub.status.busy": "2022-11-16T15:22:58.811757Z",
     "iopub.status.idle": "2022-11-16T15:22:58.818140Z",
     "shell.execute_reply": "2022-11-16T15:22:58.816987Z"
    },
    "papermill": {
     "duration": 0.042912,
     "end_time": "2022-11-16T15:22:58.820497",
     "exception": false,
     "start_time": "2022-11-16T15:22:58.777585",
     "status": "completed"
    },
    "tags": []
   },
   "outputs": [],
   "source": [
    "df_with_price_tag.drop(columns=[\"restaurant name\",\"address\",\"phone number\",\"website url\",\"menu url\",\"timetable\",\"email address\",\"id\",\"tags\"],inplace=True)"
   ]
  },
  {
   "cell_type": "markdown",
   "id": "bc30d9bf",
   "metadata": {
    "papermill": {
     "duration": 0.031197,
     "end_time": "2022-11-16T15:22:58.884429",
     "exception": false,
     "start_time": "2022-11-16T15:22:58.853232",
     "status": "completed"
    },
    "tags": []
   },
   "source": [
    "### descriptions\n",
    "\n",
    "We can use the descriptions, we have 2 types. We will first see which ones are the most usefull"
   ]
  },
  {
   "cell_type": "code",
   "execution_count": 8,
   "id": "98ebca11",
   "metadata": {
    "execution": {
     "iopub.execute_input": "2022-11-16T15:22:58.951592Z",
     "iopub.status.busy": "2022-11-16T15:22:58.951165Z",
     "iopub.status.idle": "2022-11-16T15:22:58.958817Z",
     "shell.execute_reply": "2022-11-16T15:22:58.957346Z"
    },
    "papermill": {
     "duration": 0.044675,
     "end_time": "2022-11-16T15:22:58.962009",
     "exception": false,
     "start_time": "2022-11-16T15:22:58.917334",
     "status": "completed"
    },
    "tags": []
   },
   "outputs": [
    {
     "name": "stdout",
     "output_type": "stream",
     "text": [
      "description is missing: 1497\n",
      "dutch description is missing 1696\n",
      "size trainingsset is 1943\n"
     ]
    }
   ],
   "source": [
    "print(f\"description is missing: {df_with_price_tag.description.isna().sum()}\")\n",
    "print(f\"dutch description is missing {df_with_price_tag['dutch description'].isna().sum()}\")\n",
    "print(f\"size trainingsset is {len(df_with_price_tag)}\")"
   ]
  },
  {
   "cell_type": "markdown",
   "id": "2bc74671",
   "metadata": {
    "papermill": {
     "duration": 0.033538,
     "end_time": "2022-11-16T15:22:59.029138",
     "exception": false,
     "start_time": "2022-11-16T15:22:58.995600",
     "status": "completed"
    },
    "tags": []
   },
   "source": [
    "we have too many missing values for description, 77% of the descriptions is missing so that's why we decided not to include this as a feature"
   ]
  },
  {
   "cell_type": "code",
   "execution_count": 9,
   "id": "b01776c7",
   "metadata": {
    "execution": {
     "iopub.execute_input": "2022-11-16T15:22:59.098225Z",
     "iopub.status.busy": "2022-11-16T15:22:59.096854Z",
     "iopub.status.idle": "2022-11-16T15:22:59.125274Z",
     "shell.execute_reply": "2022-11-16T15:22:59.124084Z"
    },
    "papermill": {
     "duration": 0.064669,
     "end_time": "2022-11-16T15:22:59.127689",
     "exception": false,
     "start_time": "2022-11-16T15:22:59.063020",
     "status": "completed"
    },
    "tags": []
   },
   "outputs": [
    {
     "data": {
      "text/html": [
       "<div>\n",
       "<style scoped>\n",
       "    .dataframe tbody tr th:only-of-type {\n",
       "        vertical-align: middle;\n",
       "    }\n",
       "\n",
       "    .dataframe tbody tr th {\n",
       "        vertical-align: top;\n",
       "    }\n",
       "\n",
       "    .dataframe thead th {\n",
       "        text-align: right;\n",
       "    }\n",
       "</style>\n",
       "<table border=\"1\" class=\"dataframe\">\n",
       "  <thead>\n",
       "    <tr style=\"text-align: right;\">\n",
       "      <th></th>\n",
       "      <th>rank</th>\n",
       "      <th>general rating</th>\n",
       "      <th>number of reviews</th>\n",
       "      <th>travelers choice</th>\n",
       "      <th>michelin</th>\n",
       "      <th>value rating</th>\n",
       "      <th>atmosphere rating</th>\n",
       "      <th>cuisines</th>\n",
       "      <th>special diets</th>\n",
       "      <th>meals</th>\n",
       "      <th>restaurant features</th>\n",
       "      <th>city</th>\n",
       "      <th>price_tag</th>\n",
       "      <th>latitude</th>\n",
       "      <th>longitude</th>\n",
       "    </tr>\n",
       "  </thead>\n",
       "  <tbody>\n",
       "    <tr>\n",
       "      <th>0</th>\n",
       "      <td>1.0</td>\n",
       "      <td>5.0</td>\n",
       "      <td>922.0</td>\n",
       "      <td>True</td>\n",
       "      <td>False</td>\n",
       "      <td>4.5</td>\n",
       "      <td>-1.0</td>\n",
       "      <td>Thai, Healthy</td>\n",
       "      <td>Vegetarian Friendly, Vegan Options, Gluten Free Options</td>\n",
       "      <td>Dinner, Drinks</td>\n",
       "      <td>Reservations, Seating, Serves Alcohol, Free Wifi, Table Service, Gift Cards Available</td>\n",
       "      <td>Ghent</td>\n",
       "      <td>$$ - $$$</td>\n",
       "      <td>51.054899</td>\n",
       "      <td>3.722325</td>\n",
       "    </tr>\n",
       "    <tr>\n",
       "      <th>1</th>\n",
       "      <td>1.0</td>\n",
       "      <td>5.0</td>\n",
       "      <td>200.0</td>\n",
       "      <td>False</td>\n",
       "      <td>True</td>\n",
       "      <td>4.5</td>\n",
       "      <td>5.0</td>\n",
       "      <td>French, Belgian, European</td>\n",
       "      <td>Vegetarian Friendly, Vegan Options, Gluten Free Options</td>\n",
       "      <td>Lunch, Dinner</td>\n",
       "      <td>Free Wifi, Reservations, Outdoor Seating, Seating, Parking Available, Free off-street parking, Wheelchair Accessible, Serves Alcohol, Accepts American Express, Accepts Mastercard, Accepts Visa, Accepts Credit Cards, Table Service, Highchairs Available, Full Bar</td>\n",
       "      <td>Ninove</td>\n",
       "      <td>$$$$</td>\n",
       "      <td>50.788705</td>\n",
       "      <td>4.052820</td>\n",
       "    </tr>\n",
       "  </tbody>\n",
       "</table>\n",
       "</div>"
      ],
      "text/plain": [
       "   rank  general rating  number of reviews  travelers choice  michelin  \\\n",
       "0   1.0             5.0              922.0              True     False   \n",
       "1   1.0             5.0              200.0             False      True   \n",
       "\n",
       "   value rating  atmosphere rating                   cuisines  \\\n",
       "0           4.5               -1.0              Thai, Healthy   \n",
       "1           4.5                5.0  French, Belgian, European   \n",
       "\n",
       "                                             special diets           meals  \\\n",
       "0  Vegetarian Friendly, Vegan Options, Gluten Free Options  Dinner, Drinks   \n",
       "1  Vegetarian Friendly, Vegan Options, Gluten Free Options   Lunch, Dinner   \n",
       "\n",
       "                                                                                                                                                                                                                                                     restaurant features  \\\n",
       "0                                                                                                                                                                                  Reservations, Seating, Serves Alcohol, Free Wifi, Table Service, Gift Cards Available   \n",
       "1  Free Wifi, Reservations, Outdoor Seating, Seating, Parking Available, Free off-street parking, Wheelchair Accessible, Serves Alcohol, Accepts American Express, Accepts Mastercard, Accepts Visa, Accepts Credit Cards, Table Service, Highchairs Available, Full Bar   \n",
       "\n",
       "     city price_tag   latitude  longitude  \n",
       "0   Ghent  $$ - $$$  51.054899   3.722325  \n",
       "1  Ninove      $$$$  50.788705   4.052820  "
      ]
     },
     "execution_count": 9,
     "metadata": {},
     "output_type": "execute_result"
    }
   ],
   "source": [
    "df_with_price_tag.drop(columns=[\"description\",\"dutch description\"],inplace=True)\n",
    "df_with_price_tag.head(2)"
   ]
  },
  {
   "cell_type": "markdown",
   "id": "7770bdef",
   "metadata": {
    "papermill": {
     "duration": 0.03303,
     "end_time": "2022-11-16T15:22:59.192998",
     "exception": false,
     "start_time": "2022-11-16T15:22:59.159968",
     "status": "completed"
    },
    "tags": []
   },
   "source": [
    "### splitting the data"
   ]
  },
  {
   "cell_type": "code",
   "execution_count": 10,
   "id": "a7acaaf4",
   "metadata": {
    "execution": {
     "iopub.execute_input": "2022-11-16T15:22:59.262184Z",
     "iopub.status.busy": "2022-11-16T15:22:59.261795Z",
     "iopub.status.idle": "2022-11-16T15:22:59.271104Z",
     "shell.execute_reply": "2022-11-16T15:22:59.269844Z"
    },
    "papermill": {
     "duration": 0.049047,
     "end_time": "2022-11-16T15:22:59.273852",
     "exception": false,
     "start_time": "2022-11-16T15:22:59.224805",
     "status": "completed"
    },
    "tags": []
   },
   "outputs": [],
   "source": [
    "from sklearn.model_selection import train_test_split\n",
    "\n",
    "df_train, df_test = train_test_split(df_with_price_tag,test_size=0.2,train_size=0.8,shuffle=True,random_state=42)\n"
   ]
  },
  {
   "cell_type": "code",
   "execution_count": 11,
   "id": "b8a1e224",
   "metadata": {
    "execution": {
     "iopub.execute_input": "2022-11-16T15:22:59.342772Z",
     "iopub.status.busy": "2022-11-16T15:22:59.342043Z",
     "iopub.status.idle": "2022-11-16T15:22:59.352773Z",
     "shell.execute_reply": "2022-11-16T15:22:59.351114Z"
    },
    "papermill": {
     "duration": 0.04917,
     "end_time": "2022-11-16T15:22:59.355522",
     "exception": false,
     "start_time": "2022-11-16T15:22:59.306352",
     "status": "completed"
    },
    "tags": []
   },
   "outputs": [
    {
     "data": {
      "text/plain": [
       "$$ - $$$    1244\n",
       "$            250\n",
       "$$$$          60\n",
       "Name: price_tag, dtype: int64"
      ]
     },
     "execution_count": 11,
     "metadata": {},
     "output_type": "execute_result"
    }
   ],
   "source": [
    "df_train.price_tag.value_counts()"
   ]
  },
  {
   "cell_type": "markdown",
   "id": "2bf3843e",
   "metadata": {
    "papermill": {
     "duration": 0.033225,
     "end_time": "2022-11-16T15:22:59.421700",
     "exception": false,
     "start_time": "2022-11-16T15:22:59.388475",
     "status": "completed"
    },
    "tags": []
   },
   "source": [
    "There is a big class imabalance in our training data, we have to take this into account. \n",
    "We have multiple options to handle this class imbalance, the first option is to continue with the imbalanced dataset. When choosing our models we will look for algorithms that have the class weight property so we can assign the corresponding weight to each class.\n",
    "\n",
    "The second option is to artificially oversample our minority classes or downsample our majority classes. "
   ]
  },
  {
   "cell_type": "markdown",
   "id": "bddf7860",
   "metadata": {
    "papermill": {
     "duration": 0.031785,
     "end_time": "2022-11-16T15:22:59.485485",
     "exception": false,
     "start_time": "2022-11-16T15:22:59.453700",
     "status": "completed"
    },
    "tags": []
   },
   "source": [
    "Now let's start with the feature engineering part, as we've learned our model can only interpret numbers so as input we must turn all our attributes into numerical values.\n",
    "\n",
    "For the attributes that are already numerical we can look for feature scaling methods."
   ]
  },
  {
   "cell_type": "markdown",
   "id": "209d7039",
   "metadata": {
    "papermill": {
     "duration": 0.031629,
     "end_time": "2022-11-16T15:22:59.550639",
     "exception": false,
     "start_time": "2022-11-16T15:22:59.519010",
     "status": "completed"
    },
    "tags": []
   },
   "source": [
    "### Numerical values"
   ]
  },
  {
   "cell_type": "code",
   "execution_count": 12,
   "id": "13d21004",
   "metadata": {
    "execution": {
     "iopub.execute_input": "2022-11-16T15:22:59.618127Z",
     "iopub.status.busy": "2022-11-16T15:22:59.617316Z",
     "iopub.status.idle": "2022-11-16T15:22:59.624542Z",
     "shell.execute_reply": "2022-11-16T15:22:59.623613Z"
    },
    "papermill": {
     "duration": 0.043555,
     "end_time": "2022-11-16T15:22:59.627073",
     "exception": false,
     "start_time": "2022-11-16T15:22:59.583518",
     "status": "completed"
    },
    "tags": []
   },
   "outputs": [],
   "source": [
    "numerics = ['int16', 'int32', 'int64', 'float16', 'float32', 'float64']\n",
    "numerical_cols=df_train.select_dtypes(numerics).columns"
   ]
  },
  {
   "cell_type": "code",
   "execution_count": 13,
   "id": "072703f0",
   "metadata": {
    "execution": {
     "iopub.execute_input": "2022-11-16T15:22:59.694652Z",
     "iopub.status.busy": "2022-11-16T15:22:59.694228Z",
     "iopub.status.idle": "2022-11-16T15:23:01.812498Z",
     "shell.execute_reply": "2022-11-16T15:23:01.811131Z"
    },
    "papermill": {
     "duration": 2.154962,
     "end_time": "2022-11-16T15:23:01.815347",
     "exception": false,
     "start_time": "2022-11-16T15:22:59.660385",
     "status": "completed"
    },
    "tags": []
   },
   "outputs": [
    {
     "data": {
      "image/png": "[encoded data removed]",
      "text/plain": [
       "<Figure size 720x1080 with 7 Axes>"
      ]
     },
     "metadata": {
      "needs_background": "light"
     },
     "output_type": "display_data"
    }
   ],
   "source": [
    "fig=plt.figure(figsize=(10,15))\n",
    "for i, col in enumerate(numerical_cols):\n",
    "    plt.subplot(4,2,i+1)\n",
    "    sns.histplot(df_train[col])\n",
    "fig.tight_layout()\n",
    "plt.show()"
   ]
  },
  {
   "cell_type": "markdown",
   "id": "2f785f31",
   "metadata": {
    "papermill": {
     "duration": 0.032876,
     "end_time": "2022-11-16T15:23:01.882546",
     "exception": false,
     "start_time": "2022-11-16T15:23:01.849670",
     "status": "completed"
    },
    "tags": []
   },
   "source": [
    "#### Rank and number of reviews"
   ]
  },
  {
   "cell_type": "markdown",
   "id": "98150d85",
   "metadata": {
    "papermill": {
     "duration": 0.034002,
     "end_time": "2022-11-16T15:23:01.949632",
     "exception": false,
     "start_time": "2022-11-16T15:23:01.915630",
     "status": "completed"
    },
    "tags": []
   },
   "source": [
    "we can see the rank and number of reviews have a long tail distribution so I would take the log of the data first, and then apply standardization."
   ]
  },
  {
   "cell_type": "code",
   "execution_count": 14,
   "id": "29a3ab02",
   "metadata": {
    "execution": {
     "iopub.execute_input": "2022-11-16T15:23:02.022301Z",
     "iopub.status.busy": "2022-11-16T15:23:02.021898Z",
     "iopub.status.idle": "2022-11-16T15:23:03.081556Z",
     "shell.execute_reply": "2022-11-16T15:23:03.080382Z"
    },
    "papermill": {
     "duration": 1.099593,
     "end_time": "2022-11-16T15:23:03.083947",
     "exception": false,
     "start_time": "2022-11-16T15:23:01.984354",
     "status": "completed"
    },
    "tags": []
   },
   "outputs": [
    {
     "name": "stderr",
     "output_type": "stream",
     "text": [
      "/opt/conda/lib/python3.7/site-packages/pandas/core/arraylike.py:364: RuntimeWarning: divide by zero encountered in log\n",
      "  result = getattr(ufunc, method)(*inputs, **kwargs)\n"
     ]
    },
    {
     "data": {
      "image/png": "[encoded data removed]",
      "text/plain": [
       "<Figure size 720x288 with 4 Axes>"
      ]
     },
     "metadata": {
      "needs_background": "light"
     },
     "output_type": "display_data"
    }
   ],
   "source": [
    "fig=plt.figure(figsize=(10,4))\n",
    "plt.subplot(2,2,1)\n",
    "sns.histplot(df_train[\"rank\"])\n",
    "plt.subplot(2,2,2)\n",
    "sns.histplot(np.log(df_train[\"rank\"]))\n",
    "plt.subplot(2,2,3)\n",
    "sns.histplot(df_train[\"number of reviews\"])\n",
    "plt.subplot(2,2,4)\n",
    "sns.histplot(np.log(df_train[\"number of reviews\"]))\n",
    "fig.tight_layout()\n",
    "plt.show()\n"
   ]
  },
  {
   "cell_type": "markdown",
   "id": "fe8f3026",
   "metadata": {
    "papermill": {
     "duration": 0.032537,
     "end_time": "2022-11-16T15:23:03.149971",
     "exception": false,
     "start_time": "2022-11-16T15:23:03.117434",
     "status": "completed"
    },
    "tags": []
   },
   "source": [
    "It already looks so much better! we will keep this but because sometimes the number of reviews is zero we will add a +1"
   ]
  },
  {
   "cell_type": "code",
   "execution_count": 15,
   "id": "c6288609",
   "metadata": {
    "execution": {
     "iopub.execute_input": "2022-11-16T15:23:03.222656Z",
     "iopub.status.busy": "2022-11-16T15:23:03.221936Z",
     "iopub.status.idle": "2022-11-16T15:23:03.225960Z",
     "shell.execute_reply": "2022-11-16T15:23:03.225088Z"
    },
    "papermill": {
     "duration": 0.041938,
     "end_time": "2022-11-16T15:23:03.228224",
     "exception": false,
     "start_time": "2022-11-16T15:23:03.186286",
     "status": "completed"
    },
    "tags": []
   },
   "outputs": [],
   "source": [
    "##WE WILL DO THIS AFTER IMPUTATION\n",
    "# df_train[\"lg_rank\"]=np.log(df_train[\"rank\"])\n",
    "# df_train[\"lg_reviews\"]=np.log(df_train[\"number of reviews\"]+1)"
   ]
  },
  {
   "cell_type": "markdown",
   "id": "bfff33a1",
   "metadata": {
    "papermill": {
     "duration": 0.034894,
     "end_time": "2022-11-16T15:23:03.296835",
     "exception": false,
     "start_time": "2022-11-16T15:23:03.261941",
     "status": "completed"
    },
    "tags": []
   },
   "source": [
    "#### General rating, atmosphere rating and value rating\n",
    "\n",
    "look at these three again without the -1's"
   ]
  },
  {
   "cell_type": "code",
   "execution_count": 16,
   "id": "46903256",
   "metadata": {
    "execution": {
     "iopub.execute_input": "2022-11-16T15:23:03.379853Z",
     "iopub.status.busy": "2022-11-16T15:23:03.378868Z",
     "iopub.status.idle": "2022-11-16T15:23:04.084593Z",
     "shell.execute_reply": "2022-11-16T15:23:04.083280Z"
    },
    "papermill": {
     "duration": 0.755934,
     "end_time": "2022-11-16T15:23:04.087227",
     "exception": false,
     "start_time": "2022-11-16T15:23:03.331293",
     "status": "completed"
    },
    "tags": []
   },
   "outputs": [
    {
     "data": {
      "image/png": "[encoded data removed]",
      "text/plain": [
       "<Figure size 720x288 with 3 Axes>"
      ]
     },
     "metadata": {
      "needs_background": "light"
     },
     "output_type": "display_data"
    }
   ],
   "source": [
    "fig=plt.figure(figsize=(10,4))\n",
    "plt.subplot(2,2,1)\n",
    "sns.histplot(df_train[\"general rating\"].replace(-1,np.nan))\n",
    "plt.subplot(2,2,2)\n",
    "sns.histplot(df_train[\"atmosphere rating\"].replace(-1,np.nan))\n",
    "plt.subplot(2,2,3)\n",
    "sns.histplot(df_train[\"value rating\"].replace(-1,np.nan))\n",
    "fig.tight_layout()\n",
    "plt.show()"
   ]
  },
  {
   "cell_type": "markdown",
   "id": "c8924ed9",
   "metadata": {
    "papermill": {
     "duration": 0.03429,
     "end_time": "2022-11-16T15:23:04.156074",
     "exception": false,
     "start_time": "2022-11-16T15:23:04.121784",
     "status": "completed"
    },
    "tags": []
   },
   "source": [
    "This already looks acceptable"
   ]
  },
  {
   "cell_type": "markdown",
   "id": "ab7ebf3c",
   "metadata": {
    "papermill": {
     "duration": 0.03372,
     "end_time": "2022-11-16T15:23:04.223035",
     "exception": false,
     "start_time": "2022-11-16T15:23:04.189315",
     "status": "completed"
    },
    "tags": []
   },
   "source": [
    "#### Lat & lon\n",
    "For the coordinates we think it's best just to apply standardization to them.\n",
    "\n",
    "And for the missing data we wrote a script that derives the center latitude and longitude from the city and we will fill it in with those coordinates.\n",
    "TODO: ik snap niet zo goed waarom we de city_center pakken en niet de exacte coordinaten, of heeft dat geen numerieke betekenis? Want nu zou je toch gwn city kunnen OHE en dat zou hetzelfde resultaat geven denk ik"
   ]
  },
  {
   "cell_type": "code",
   "execution_count": 17,
   "id": "b59e3a4a",
   "metadata": {
    "execution": {
     "iopub.execute_input": "2022-11-16T15:23:04.293896Z",
     "iopub.status.busy": "2022-11-16T15:23:04.292564Z",
     "iopub.status.idle": "2022-11-16T15:23:04.310178Z",
     "shell.execute_reply": "2022-11-16T15:23:04.309021Z"
    },
    "papermill": {
     "duration": 0.055681,
     "end_time": "2022-11-16T15:23:04.312930",
     "exception": false,
     "start_time": "2022-11-16T15:23:04.257249",
     "status": "completed"
    },
    "tags": []
   },
   "outputs": [],
   "source": [
    "city_centers=pd.read_csv(\"../input/tripadvisor/city_centers.csv\")"
   ]
  },
  {
   "cell_type": "code",
   "execution_count": 18,
   "id": "cd1b208a",
   "metadata": {
    "execution": {
     "iopub.execute_input": "2022-11-16T15:23:04.384562Z",
     "iopub.status.busy": "2022-11-16T15:23:04.383568Z",
     "iopub.status.idle": "2022-11-16T15:23:04.424419Z",
     "shell.execute_reply": "2022-11-16T15:23:04.423590Z"
    },
    "papermill": {
     "duration": 0.080538,
     "end_time": "2022-11-16T15:23:04.426822",
     "exception": false,
     "start_time": "2022-11-16T15:23:04.346284",
     "status": "completed"
    },
    "tags": []
   },
   "outputs": [
    {
     "data": {
      "text/html": [
       "<div>\n",
       "<style scoped>\n",
       "    .dataframe tbody tr th:only-of-type {\n",
       "        vertical-align: middle;\n",
       "    }\n",
       "\n",
       "    .dataframe tbody tr th {\n",
       "        vertical-align: top;\n",
       "    }\n",
       "\n",
       "    .dataframe thead th {\n",
       "        text-align: right;\n",
       "    }\n",
       "</style>\n",
       "<table border=\"1\" class=\"dataframe\">\n",
       "  <thead>\n",
       "    <tr style=\"text-align: right;\">\n",
       "      <th></th>\n",
       "      <th>rank</th>\n",
       "      <th>general rating</th>\n",
       "      <th>number of reviews</th>\n",
       "      <th>travelers choice</th>\n",
       "      <th>michelin</th>\n",
       "      <th>value rating</th>\n",
       "      <th>atmosphere rating</th>\n",
       "      <th>cuisines</th>\n",
       "      <th>special diets</th>\n",
       "      <th>meals</th>\n",
       "      <th>restaurant features</th>\n",
       "      <th>city</th>\n",
       "      <th>price_tag</th>\n",
       "      <th>latitude</th>\n",
       "      <th>longitude</th>\n",
       "      <th>Unnamed: 0</th>\n",
       "      <th>latitude_center</th>\n",
       "      <th>longitude_center</th>\n",
       "    </tr>\n",
       "  </thead>\n",
       "  <tbody>\n",
       "    <tr>\n",
       "      <th>0</th>\n",
       "      <td>4.0</td>\n",
       "      <td>3.5</td>\n",
       "      <td>21.0</td>\n",
       "      <td>False</td>\n",
       "      <td>False</td>\n",
       "      <td>3.0</td>\n",
       "      <td>-1.0</td>\n",
       "      <td>Seafood, Belgian, European</td>\n",
       "      <td>NaN</td>\n",
       "      <td>Dinner</td>\n",
       "      <td>Reservations, Seating, Table Service, Wheelchair Accessible</td>\n",
       "      <td>Denderleeuw</td>\n",
       "      <td>$$ - $$$</td>\n",
       "      <td>50.888222</td>\n",
       "      <td>4.076788</td>\n",
       "      <td>81</td>\n",
       "      <td>50.888138</td>\n",
       "      <td>4.062511</td>\n",
       "    </tr>\n",
       "    <tr>\n",
       "      <th>1</th>\n",
       "      <td>2.0</td>\n",
       "      <td>3.5</td>\n",
       "      <td>44.0</td>\n",
       "      <td>False</td>\n",
       "      <td>False</td>\n",
       "      <td>3.5</td>\n",
       "      <td>-1.0</td>\n",
       "      <td>Italian, Pizza</td>\n",
       "      <td>Vegetarian Friendly</td>\n",
       "      <td>Dinner</td>\n",
       "      <td>Takeout, Reservations, Seating, Wheelchair Accessible, Table Service, Serves Alcohol</td>\n",
       "      <td>Denderleeuw</td>\n",
       "      <td>$$ - $$$</td>\n",
       "      <td>50.891975</td>\n",
       "      <td>4.073112</td>\n",
       "      <td>81</td>\n",
       "      <td>50.888138</td>\n",
       "      <td>4.062511</td>\n",
       "    </tr>\n",
       "    <tr>\n",
       "      <th>2</th>\n",
       "      <td>1.0</td>\n",
       "      <td>4.0</td>\n",
       "      <td>207.0</td>\n",
       "      <td>False</td>\n",
       "      <td>False</td>\n",
       "      <td>4.0</td>\n",
       "      <td>3.5</td>\n",
       "      <td>Belgian, Bar, European</td>\n",
       "      <td>Vegetarian Friendly</td>\n",
       "      <td>Lunch, Dinner, Late Night</td>\n",
       "      <td>Reservations, Outdoor Seating, Seating, Wheelchair Accessible, Serves Alcohol, Full Bar, Table Service, Highchairs Available</td>\n",
       "      <td>Denderleeuw</td>\n",
       "      <td>$$ - $$$</td>\n",
       "      <td>50.872612</td>\n",
       "      <td>4.079612</td>\n",
       "      <td>81</td>\n",
       "      <td>50.888138</td>\n",
       "      <td>4.062511</td>\n",
       "    </tr>\n",
       "    <tr>\n",
       "      <th>3</th>\n",
       "      <td>6.0</td>\n",
       "      <td>4.0</td>\n",
       "      <td>44.0</td>\n",
       "      <td>False</td>\n",
       "      <td>False</td>\n",
       "      <td>4.0</td>\n",
       "      <td>-1.0</td>\n",
       "      <td>Belgian, Dutch, European</td>\n",
       "      <td>Vegetarian Friendly</td>\n",
       "      <td>Dinner, Drinks</td>\n",
       "      <td>Reservations, Seating, Serves Alcohol, Table Service</td>\n",
       "      <td>Brakel</td>\n",
       "      <td>$$ - $$$</td>\n",
       "      <td>NaN</td>\n",
       "      <td>NaN</td>\n",
       "      <td>9</td>\n",
       "      <td>50.797974</td>\n",
       "      <td>3.762778</td>\n",
       "    </tr>\n",
       "    <tr>\n",
       "      <th>4</th>\n",
       "      <td>8.0</td>\n",
       "      <td>4.5</td>\n",
       "      <td>25.0</td>\n",
       "      <td>False</td>\n",
       "      <td>False</td>\n",
       "      <td>-1.0</td>\n",
       "      <td>-1.0</td>\n",
       "      <td>Belgian, Dutch, European</td>\n",
       "      <td>NaN</td>\n",
       "      <td>Dinner, Breakfast, Lunch</td>\n",
       "      <td>Reservations, Seating, Table Service, Wheelchair Accessible</td>\n",
       "      <td>Brakel</td>\n",
       "      <td>$$ - $$$</td>\n",
       "      <td>50.803700</td>\n",
       "      <td>3.764335</td>\n",
       "      <td>9</td>\n",
       "      <td>50.797974</td>\n",
       "      <td>3.762778</td>\n",
       "    </tr>\n",
       "    <tr>\n",
       "      <th>...</th>\n",
       "      <td>...</td>\n",
       "      <td>...</td>\n",
       "      <td>...</td>\n",
       "      <td>...</td>\n",
       "      <td>...</td>\n",
       "      <td>...</td>\n",
       "      <td>...</td>\n",
       "      <td>...</td>\n",
       "      <td>...</td>\n",
       "      <td>...</td>\n",
       "      <td>...</td>\n",
       "      <td>...</td>\n",
       "      <td>...</td>\n",
       "      <td>...</td>\n",
       "      <td>...</td>\n",
       "      <td>...</td>\n",
       "      <td>...</td>\n",
       "      <td>...</td>\n",
       "    </tr>\n",
       "    <tr>\n",
       "      <th>1549</th>\n",
       "      <td>1.0</td>\n",
       "      <td>3.0</td>\n",
       "      <td>22.0</td>\n",
       "      <td>False</td>\n",
       "      <td>False</td>\n",
       "      <td>3.5</td>\n",
       "      <td>-1.0</td>\n",
       "      <td>NaN</td>\n",
       "      <td>NaN</td>\n",
       "      <td>Lunch, Dinner</td>\n",
       "      <td>Reservations, Seating, Table Service</td>\n",
       "      <td>Kaprijke</td>\n",
       "      <td>$$ - $$$</td>\n",
       "      <td>51.218950</td>\n",
       "      <td>3.617083</td>\n",
       "      <td>165</td>\n",
       "      <td>51.218508</td>\n",
       "      <td>3.619077</td>\n",
       "    </tr>\n",
       "    <tr>\n",
       "      <th>1550</th>\n",
       "      <td>2.0</td>\n",
       "      <td>4.5</td>\n",
       "      <td>8.0</td>\n",
       "      <td>False</td>\n",
       "      <td>False</td>\n",
       "      <td>-1.0</td>\n",
       "      <td>-1.0</td>\n",
       "      <td>NaN</td>\n",
       "      <td>NaN</td>\n",
       "      <td>Lunch, Dinner</td>\n",
       "      <td>NaN</td>\n",
       "      <td>Nukerke</td>\n",
       "      <td>$$ - $$$</td>\n",
       "      <td>50.801908</td>\n",
       "      <td>3.592342</td>\n",
       "      <td>95</td>\n",
       "      <td>50.796561</td>\n",
       "      <td>3.595467</td>\n",
       "    </tr>\n",
       "    <tr>\n",
       "      <th>1551</th>\n",
       "      <td>2.0</td>\n",
       "      <td>4.5</td>\n",
       "      <td>7.0</td>\n",
       "      <td>False</td>\n",
       "      <td>False</td>\n",
       "      <td>5.0</td>\n",
       "      <td>-1.0</td>\n",
       "      <td>French, Belgian, Cafe, Seafood, European, Pub</td>\n",
       "      <td>NaN</td>\n",
       "      <td>Lunch, Dinner, Drinks</td>\n",
       "      <td>Reservations, Takeout, Private Dining, Street Parking, Television, Serves Alcohol, Wine and Beer, Free Wifi, Accepts Credit Cards, Table Service, Dog Friendly, Family style, Non-smoking restaurants, Gift Cards Available</td>\n",
       "      <td>Denderhoutem</td>\n",
       "      <td>$$ - $$$</td>\n",
       "      <td>NaN</td>\n",
       "      <td>NaN</td>\n",
       "      <td>127</td>\n",
       "      <td>50.871780</td>\n",
       "      <td>4.018084</td>\n",
       "    </tr>\n",
       "    <tr>\n",
       "      <th>1552</th>\n",
       "      <td>1.0</td>\n",
       "      <td>4.0</td>\n",
       "      <td>17.0</td>\n",
       "      <td>False</td>\n",
       "      <td>False</td>\n",
       "      <td>4.5</td>\n",
       "      <td>-1.0</td>\n",
       "      <td>Deli, Healthy, European</td>\n",
       "      <td>NaN</td>\n",
       "      <td>Breakfast, Brunch, Lunch</td>\n",
       "      <td>Reservations, Outdoor Seating, Buffet, Seating, Parking Available, Street Parking, Highchairs Available, Serves Alcohol, Wine and Beer, Cash Only, Free Wifi, Table Service, Takeout</td>\n",
       "      <td>Aaigem</td>\n",
       "      <td>$$ - $$$</td>\n",
       "      <td>50.891996</td>\n",
       "      <td>3.949188</td>\n",
       "      <td>122</td>\n",
       "      <td>50.889417</td>\n",
       "      <td>3.936691</td>\n",
       "    </tr>\n",
       "    <tr>\n",
       "      <th>1553</th>\n",
       "      <td>1.0</td>\n",
       "      <td>4.0</td>\n",
       "      <td>15.0</td>\n",
       "      <td>False</td>\n",
       "      <td>False</td>\n",
       "      <td>4.5</td>\n",
       "      <td>-1.0</td>\n",
       "      <td>Belgian, Dutch</td>\n",
       "      <td>NaN</td>\n",
       "      <td>Lunch, Dinner</td>\n",
       "      <td>Reservations, Table Service, Seating, Wheelchair Accessible</td>\n",
       "      <td>Sinaai</td>\n",
       "      <td>$$ - $$$</td>\n",
       "      <td>NaN</td>\n",
       "      <td>NaN</td>\n",
       "      <td>132</td>\n",
       "      <td>51.156890</td>\n",
       "      <td>4.041720</td>\n",
       "    </tr>\n",
       "  </tbody>\n",
       "</table>\n",
       "<p>1554 rows × 18 columns</p>\n",
       "</div>"
      ],
      "text/plain": [
       "      rank  general rating  number of reviews  travelers choice  michelin  \\\n",
       "0      4.0             3.5               21.0             False     False   \n",
       "1      2.0             3.5               44.0             False     False   \n",
       "2      1.0             4.0              207.0             False     False   \n",
       "3      6.0             4.0               44.0             False     False   \n",
       "4      8.0             4.5               25.0             False     False   \n",
       "...    ...             ...                ...               ...       ...   \n",
       "1549   1.0             3.0               22.0             False     False   \n",
       "1550   2.0             4.5                8.0             False     False   \n",
       "1551   2.0             4.5                7.0             False     False   \n",
       "1552   1.0             4.0               17.0             False     False   \n",
       "1553   1.0             4.0               15.0             False     False   \n",
       "\n",
       "      value rating  atmosphere rating  \\\n",
       "0              3.0               -1.0   \n",
       "1              3.5               -1.0   \n",
       "2              4.0                3.5   \n",
       "3              4.0               -1.0   \n",
       "4             -1.0               -1.0   \n",
       "...            ...                ...   \n",
       "1549           3.5               -1.0   \n",
       "1550          -1.0               -1.0   \n",
       "1551           5.0               -1.0   \n",
       "1552           4.5               -1.0   \n",
       "1553           4.5               -1.0   \n",
       "\n",
       "                                           cuisines        special diets  \\\n",
       "0                        Seafood, Belgian, European                  NaN   \n",
       "1                                    Italian, Pizza  Vegetarian Friendly   \n",
       "2                            Belgian, Bar, European  Vegetarian Friendly   \n",
       "3                          Belgian, Dutch, European  Vegetarian Friendly   \n",
       "4                          Belgian, Dutch, European                  NaN   \n",
       "...                                             ...                  ...   \n",
       "1549                                            NaN                  NaN   \n",
       "1550                                            NaN                  NaN   \n",
       "1551  French, Belgian, Cafe, Seafood, European, Pub                  NaN   \n",
       "1552                        Deli, Healthy, European                  NaN   \n",
       "1553                                 Belgian, Dutch                  NaN   \n",
       "\n",
       "                          meals  \\\n",
       "0                        Dinner   \n",
       "1                        Dinner   \n",
       "2     Lunch, Dinner, Late Night   \n",
       "3                Dinner, Drinks   \n",
       "4      Dinner, Breakfast, Lunch   \n",
       "...                         ...   \n",
       "1549              Lunch, Dinner   \n",
       "1550              Lunch, Dinner   \n",
       "1551      Lunch, Dinner, Drinks   \n",
       "1552   Breakfast, Brunch, Lunch   \n",
       "1553              Lunch, Dinner   \n",
       "\n",
       "                                                                                                                                                                                                              restaurant features  \\\n",
       "0                                                                                                                                                                     Reservations, Seating, Table Service, Wheelchair Accessible   \n",
       "1                                                                                                                                            Takeout, Reservations, Seating, Wheelchair Accessible, Table Service, Serves Alcohol   \n",
       "2                                                                                                    Reservations, Outdoor Seating, Seating, Wheelchair Accessible, Serves Alcohol, Full Bar, Table Service, Highchairs Available   \n",
       "3                                                                                                                                                                            Reservations, Seating, Serves Alcohol, Table Service   \n",
       "4                                                                                                                                                                     Reservations, Seating, Table Service, Wheelchair Accessible   \n",
       "...                                                                                                                                                                                                                           ...   \n",
       "1549                                                                                                                                                                                         Reservations, Seating, Table Service   \n",
       "1550                                                                                                                                                                                                                          NaN   \n",
       "1551  Reservations, Takeout, Private Dining, Street Parking, Television, Serves Alcohol, Wine and Beer, Free Wifi, Accepts Credit Cards, Table Service, Dog Friendly, Family style, Non-smoking restaurants, Gift Cards Available   \n",
       "1552                                         Reservations, Outdoor Seating, Buffet, Seating, Parking Available, Street Parking, Highchairs Available, Serves Alcohol, Wine and Beer, Cash Only, Free Wifi, Table Service, Takeout   \n",
       "1553                                                                                                                                                                  Reservations, Table Service, Seating, Wheelchair Accessible   \n",
       "\n",
       "              city price_tag   latitude  longitude  Unnamed: 0  \\\n",
       "0      Denderleeuw  $$ - $$$  50.888222   4.076788          81   \n",
       "1      Denderleeuw  $$ - $$$  50.891975   4.073112          81   \n",
       "2      Denderleeuw  $$ - $$$  50.872612   4.079612          81   \n",
       "3           Brakel  $$ - $$$        NaN        NaN           9   \n",
       "4           Brakel  $$ - $$$  50.803700   3.764335           9   \n",
       "...            ...       ...        ...        ...         ...   \n",
       "1549      Kaprijke  $$ - $$$  51.218950   3.617083         165   \n",
       "1550       Nukerke  $$ - $$$  50.801908   3.592342          95   \n",
       "1551  Denderhoutem  $$ - $$$        NaN        NaN         127   \n",
       "1552        Aaigem  $$ - $$$  50.891996   3.949188         122   \n",
       "1553        Sinaai  $$ - $$$        NaN        NaN         132   \n",
       "\n",
       "      latitude_center  longitude_center  \n",
       "0           50.888138          4.062511  \n",
       "1           50.888138          4.062511  \n",
       "2           50.888138          4.062511  \n",
       "3           50.797974          3.762778  \n",
       "4           50.797974          3.762778  \n",
       "...               ...               ...  \n",
       "1549        51.218508          3.619077  \n",
       "1550        50.796561          3.595467  \n",
       "1551        50.871780          4.018084  \n",
       "1552        50.889417          3.936691  \n",
       "1553        51.156890          4.041720  \n",
       "\n",
       "[1554 rows x 18 columns]"
      ]
     },
     "execution_count": 18,
     "metadata": {},
     "output_type": "execute_result"
    }
   ],
   "source": [
    "df_train=df_train.merge(city_centers,on=\"city\")\n",
    "df_train"
   ]
  },
  {
   "cell_type": "code",
   "execution_count": 19,
   "id": "5d86d966",
   "metadata": {
    "execution": {
     "iopub.execute_input": "2022-11-16T15:23:04.501438Z",
     "iopub.status.busy": "2022-11-16T15:23:04.500466Z",
     "iopub.status.idle": "2022-11-16T15:23:04.509697Z",
     "shell.execute_reply": "2022-11-16T15:23:04.508797Z"
    },
    "papermill": {
     "duration": 0.049913,
     "end_time": "2022-11-16T15:23:04.512196",
     "exception": false,
     "start_time": "2022-11-16T15:23:04.462283",
     "status": "completed"
    },
    "tags": []
   },
   "outputs": [],
   "source": [
    "df_train.loc[df_train.latitude.isna(),\"latitude\"]=df_train[df_train.latitude.isna()].latitude_center\n",
    "df_train.loc[df_train.longitude.isna(),\"longitude\"]=df_train[df_train.longitude.isna()].longitude_center"
   ]
  },
  {
   "cell_type": "code",
   "execution_count": 20,
   "id": "467321eb",
   "metadata": {
    "execution": {
     "iopub.execute_input": "2022-11-16T15:23:04.583116Z",
     "iopub.status.busy": "2022-11-16T15:23:04.582358Z",
     "iopub.status.idle": "2022-11-16T15:23:04.589486Z",
     "shell.execute_reply": "2022-11-16T15:23:04.588184Z"
    },
    "papermill": {
     "duration": 0.045683,
     "end_time": "2022-11-16T15:23:04.592080",
     "exception": false,
     "start_time": "2022-11-16T15:23:04.546397",
     "status": "completed"
    },
    "tags": []
   },
   "outputs": [
    {
     "data": {
      "text/plain": [
       "0"
      ]
     },
     "execution_count": 20,
     "metadata": {},
     "output_type": "execute_result"
    }
   ],
   "source": [
    "df_train.latitude.isna().sum()\n",
    "# df_train.loc[df_train.latitude.isna(),\"latitude\"]"
   ]
  },
  {
   "cell_type": "code",
   "execution_count": 21,
   "id": "9f066d93",
   "metadata": {
    "execution": {
     "iopub.execute_input": "2022-11-16T15:23:04.662054Z",
     "iopub.status.busy": "2022-11-16T15:23:04.661664Z",
     "iopub.status.idle": "2022-11-16T15:23:04.667911Z",
     "shell.execute_reply": "2022-11-16T15:23:04.666602Z"
    },
    "papermill": {
     "duration": 0.044072,
     "end_time": "2022-11-16T15:23:04.670403",
     "exception": false,
     "start_time": "2022-11-16T15:23:04.626331",
     "status": "completed"
    },
    "tags": []
   },
   "outputs": [],
   "source": [
    "df_train.drop(columns=[\"Unnamed: 0\",\"latitude_center\",\"longitude_center\"],inplace=True)"
   ]
  },
  {
   "cell_type": "code",
   "execution_count": 22,
   "id": "1078ffe1",
   "metadata": {
    "execution": {
     "iopub.execute_input": "2022-11-16T15:23:04.742200Z",
     "iopub.status.busy": "2022-11-16T15:23:04.740917Z",
     "iopub.status.idle": "2022-11-16T15:23:04.748897Z",
     "shell.execute_reply": "2022-11-16T15:23:04.747881Z"
    },
    "papermill": {
     "duration": 0.046076,
     "end_time": "2022-11-16T15:23:04.751425",
     "exception": false,
     "start_time": "2022-11-16T15:23:04.705349",
     "status": "completed"
    },
    "tags": []
   },
   "outputs": [
    {
     "data": {
      "text/plain": [
       "Index(['rank', 'general rating', 'number of reviews', 'travelers choice',\n",
       "       'michelin', 'value rating', 'atmosphere rating', 'cuisines',\n",
       "       'special diets', 'meals', 'restaurant features', 'city', 'price_tag',\n",
       "       'latitude', 'longitude'],\n",
       "      dtype='object')"
      ]
     },
     "execution_count": 22,
     "metadata": {},
     "output_type": "execute_result"
    }
   ],
   "source": [
    "df_train.columns"
   ]
  },
  {
   "cell_type": "markdown",
   "id": "cfb78a1a",
   "metadata": {
    "papermill": {
     "duration": 0.035053,
     "end_time": "2022-11-16T15:23:04.820647",
     "exception": false,
     "start_time": "2022-11-16T15:23:04.785594",
     "status": "completed"
    },
    "tags": []
   },
   "source": [
    "#### Missing values\n",
    "Because our model won't like NaNs we have to replace them by something. We decided to replace them with the median of the corresponding feature. But we also think having a missing value can actually be a very good predictor. Thats why we will add a \"missing\" column when we have a missing value."
   ]
  },
  {
   "cell_type": "code",
   "execution_count": 23,
   "id": "a52cc332",
   "metadata": {
    "execution": {
     "iopub.execute_input": "2022-11-16T15:23:04.892750Z",
     "iopub.status.busy": "2022-11-16T15:23:04.891805Z",
     "iopub.status.idle": "2022-11-16T15:23:04.900489Z",
     "shell.execute_reply": "2022-11-16T15:23:04.899609Z"
    },
    "papermill": {
     "duration": 0.047056,
     "end_time": "2022-11-16T15:23:04.903107",
     "exception": false,
     "start_time": "2022-11-16T15:23:04.856051",
     "status": "completed"
    },
    "tags": []
   },
   "outputs": [],
   "source": [
    "df_train[\"rank_missing\"]=0\n",
    "df_train[\"atmosphere_missing\"]=0\n",
    "df_train[\"value_missing\"]=0\n",
    "df_train[\"general_missing\"]=0"
   ]
  },
  {
   "cell_type": "code",
   "execution_count": 24,
   "id": "20643bc6",
   "metadata": {
    "execution": {
     "iopub.execute_input": "2022-11-16T15:23:04.974193Z",
     "iopub.status.busy": "2022-11-16T15:23:04.973214Z",
     "iopub.status.idle": "2022-11-16T15:23:04.980392Z",
     "shell.execute_reply": "2022-11-16T15:23:04.979452Z"
    },
    "papermill": {
     "duration": 0.045665,
     "end_time": "2022-11-16T15:23:04.982886",
     "exception": false,
     "start_time": "2022-11-16T15:23:04.937221",
     "status": "completed"
    },
    "tags": []
   },
   "outputs": [],
   "source": [
    "df_train[\"atmosphere rating\"]=df_train[\"atmosphere rating\"].replace(-1,np.nan)\n",
    "df_train[\"value rating\"]=df_train[\"value rating\"].replace(-1,np.nan)\n",
    "df_train[\"general rating\"]=df_train[\"general rating\"].replace(-1,np.nan)"
   ]
  },
  {
   "cell_type": "code",
   "execution_count": 25,
   "id": "dc7dc4b4",
   "metadata": {
    "execution": {
     "iopub.execute_input": "2022-11-16T15:23:05.054218Z",
     "iopub.status.busy": "2022-11-16T15:23:05.053455Z",
     "iopub.status.idle": "2022-11-16T15:23:05.063551Z",
     "shell.execute_reply": "2022-11-16T15:23:05.062279Z"
    },
    "papermill": {
     "duration": 0.048745,
     "end_time": "2022-11-16T15:23:05.066453",
     "exception": false,
     "start_time": "2022-11-16T15:23:05.017708",
     "status": "completed"
    },
    "tags": []
   },
   "outputs": [],
   "source": [
    "df_train.loc[df_train[\"rank\"].isna(),\"rank_missing\"] = 1\n",
    "df_train.loc[df_train[\"atmosphere rating\"].isna(),\"atmosphere_missing\"] = 1\n",
    "df_train.loc[df_train[\"value rating\"].isna(),\"value_missing\"] = 1\n",
    "df_train.loc[df_train[\"general rating\"].isna(),\"general_missing\"] = 1"
   ]
  },
  {
   "cell_type": "markdown",
   "id": "6c518a80",
   "metadata": {
    "papermill": {
     "duration": 0.033306,
     "end_time": "2022-11-16T15:23:05.134302",
     "exception": false,
     "start_time": "2022-11-16T15:23:05.100996",
     "status": "completed"
    },
    "tags": []
   },
   "source": [
    "Imputing our missing values with the median."
   ]
  },
  {
   "cell_type": "code",
   "execution_count": 26,
   "id": "5237512c",
   "metadata": {
    "execution": {
     "iopub.execute_input": "2022-11-16T15:23:05.204548Z",
     "iopub.status.busy": "2022-11-16T15:23:05.204097Z",
     "iopub.status.idle": "2022-11-16T15:23:05.223560Z",
     "shell.execute_reply": "2022-11-16T15:23:05.222501Z"
    },
    "papermill": {
     "duration": 0.057622,
     "end_time": "2022-11-16T15:23:05.225936",
     "exception": false,
     "start_time": "2022-11-16T15:23:05.168314",
     "status": "completed"
    },
    "tags": []
   },
   "outputs": [
    {
     "data": {
      "text/plain": [
       "array([[4. , 3.5, 3. , 4. ],\n",
       "       [2. , 3.5, 3.5, 4. ],\n",
       "       [1. , 4. , 4. , 3.5],\n",
       "       ...,\n",
       "       [2. , 4.5, 5. , 4. ],\n",
       "       [1. , 4. , 4.5, 4. ],\n",
       "       [1. , 4. , 4.5, 4. ]])"
      ]
     },
     "execution_count": 26,
     "metadata": {},
     "output_type": "execute_result"
    }
   ],
   "source": [
    "import numpy as np\n",
    "from sklearn.impute import SimpleImputer\n",
    "imp_mean = SimpleImputer(missing_values=np.nan, strategy='median')\n",
    "imputed_data=imp_mean.fit_transform(df_train[[\"rank\",\"general rating\",\"value rating\",\"atmosphere rating\"]])\n",
    "imputed_data"
   ]
  },
  {
   "cell_type": "code",
   "execution_count": 27,
   "id": "5acd734a",
   "metadata": {
    "execution": {
     "iopub.execute_input": "2022-11-16T15:23:05.299146Z",
     "iopub.status.busy": "2022-11-16T15:23:05.297261Z",
     "iopub.status.idle": "2022-11-16T15:23:05.305747Z",
     "shell.execute_reply": "2022-11-16T15:23:05.304431Z"
    },
    "papermill": {
     "duration": 0.046489,
     "end_time": "2022-11-16T15:23:05.308291",
     "exception": false,
     "start_time": "2022-11-16T15:23:05.261802",
     "status": "completed"
    },
    "tags": []
   },
   "outputs": [],
   "source": [
    "df_train[\"rank\"]=imputed_data[:,0]\n",
    "df_train[\"general rating\"]=imputed_data[:,1]\n",
    "df_train[\"value rating\"]=imputed_data[:,2]\n",
    "df_train[\"atmosphere rating\"]=imputed_data[:,3]"
   ]
  },
  {
   "cell_type": "markdown",
   "id": "fde319ea",
   "metadata": {
    "papermill": {
     "duration": 0.035525,
     "end_time": "2022-11-16T15:23:05.378748",
     "exception": false,
     "start_time": "2022-11-16T15:23:05.343223",
     "status": "completed"
    },
    "tags": []
   },
   "source": [
    "Scaling and then standardising"
   ]
  },
  {
   "cell_type": "code",
   "execution_count": 28,
   "id": "86d7ef2f",
   "metadata": {
    "execution": {
     "iopub.execute_input": "2022-11-16T15:23:05.450370Z",
     "iopub.status.busy": "2022-11-16T15:23:05.449795Z",
     "iopub.status.idle": "2022-11-16T15:23:05.459626Z",
     "shell.execute_reply": "2022-11-16T15:23:05.458747Z"
    },
    "papermill": {
     "duration": 0.047744,
     "end_time": "2022-11-16T15:23:05.462021",
     "exception": false,
     "start_time": "2022-11-16T15:23:05.414277",
     "status": "completed"
    },
    "tags": []
   },
   "outputs": [],
   "source": [
    "df_train[\"lg_rank\"]=np.log(df_train[\"rank\"])\n",
    "df_train[\"lg_reviews\"]=np.log(df_train[\"number of reviews\"]+1)\n",
    "df_train.drop(columns=[\"rank\",\"number of reviews\"],inplace=True)"
   ]
  },
  {
   "cell_type": "code",
   "execution_count": 29,
   "id": "e09ec8f1",
   "metadata": {
    "execution": {
     "iopub.execute_input": "2022-11-16T15:23:05.533470Z",
     "iopub.status.busy": "2022-11-16T15:23:05.532574Z",
     "iopub.status.idle": "2022-11-16T15:23:05.554238Z",
     "shell.execute_reply": "2022-11-16T15:23:05.553058Z"
    },
    "papermill": {
     "duration": 0.059607,
     "end_time": "2022-11-16T15:23:05.556528",
     "exception": false,
     "start_time": "2022-11-16T15:23:05.496921",
     "status": "completed"
    },
    "tags": []
   },
   "outputs": [
    {
     "data": {
      "text/html": [
       "<div>\n",
       "<style scoped>\n",
       "    .dataframe tbody tr th:only-of-type {\n",
       "        vertical-align: middle;\n",
       "    }\n",
       "\n",
       "    .dataframe tbody tr th {\n",
       "        vertical-align: top;\n",
       "    }\n",
       "\n",
       "    .dataframe thead th {\n",
       "        text-align: right;\n",
       "    }\n",
       "</style>\n",
       "<table border=\"1\" class=\"dataframe\">\n",
       "  <thead>\n",
       "    <tr style=\"text-align: right;\">\n",
       "      <th></th>\n",
       "      <th>general rating</th>\n",
       "      <th>travelers choice</th>\n",
       "      <th>michelin</th>\n",
       "      <th>value rating</th>\n",
       "      <th>atmosphere rating</th>\n",
       "      <th>cuisines</th>\n",
       "      <th>special diets</th>\n",
       "      <th>meals</th>\n",
       "      <th>restaurant features</th>\n",
       "      <th>city</th>\n",
       "      <th>price_tag</th>\n",
       "      <th>latitude</th>\n",
       "      <th>longitude</th>\n",
       "      <th>rank_missing</th>\n",
       "      <th>atmosphere_missing</th>\n",
       "      <th>value_missing</th>\n",
       "      <th>general_missing</th>\n",
       "      <th>lg_rank</th>\n",
       "      <th>lg_reviews</th>\n",
       "    </tr>\n",
       "  </thead>\n",
       "  <tbody>\n",
       "    <tr>\n",
       "      <th>0</th>\n",
       "      <td>3.5</td>\n",
       "      <td>False</td>\n",
       "      <td>False</td>\n",
       "      <td>3.0</td>\n",
       "      <td>4.0</td>\n",
       "      <td>Seafood, Belgian, European</td>\n",
       "      <td>NaN</td>\n",
       "      <td>Dinner</td>\n",
       "      <td>Reservations, Seating, Table Service, Wheelchair Accessible</td>\n",
       "      <td>Denderleeuw</td>\n",
       "      <td>$$ - $$$</td>\n",
       "      <td>50.888222</td>\n",
       "      <td>4.076788</td>\n",
       "      <td>0</td>\n",
       "      <td>1</td>\n",
       "      <td>0</td>\n",
       "      <td>0</td>\n",
       "      <td>1.386294</td>\n",
       "      <td>3.091042</td>\n",
       "    </tr>\n",
       "  </tbody>\n",
       "</table>\n",
       "</div>"
      ],
      "text/plain": [
       "   general rating  travelers choice  michelin  value rating  \\\n",
       "0             3.5             False     False           3.0   \n",
       "\n",
       "   atmosphere rating                    cuisines special diets   meals  \\\n",
       "0                4.0  Seafood, Belgian, European           NaN  Dinner   \n",
       "\n",
       "                                           restaurant features         city  \\\n",
       "0  Reservations, Seating, Table Service, Wheelchair Accessible  Denderleeuw   \n",
       "\n",
       "  price_tag   latitude  longitude  rank_missing  atmosphere_missing  \\\n",
       "0  $$ - $$$  50.888222   4.076788             0                   1   \n",
       "\n",
       "   value_missing  general_missing   lg_rank  lg_reviews  \n",
       "0              0                0  1.386294    3.091042  "
      ]
     },
     "execution_count": 29,
     "metadata": {},
     "output_type": "execute_result"
    }
   ],
   "source": [
    "df_train.head(1)"
   ]
  },
  {
   "cell_type": "markdown",
   "id": "9b64d618",
   "metadata": {
    "papermill": {
     "duration": 0.034924,
     "end_time": "2022-11-16T15:23:05.627040",
     "exception": false,
     "start_time": "2022-11-16T15:23:05.592116",
     "status": "completed"
    },
    "tags": []
   },
   "source": [
    "### Booleans"
   ]
  },
  {
   "cell_type": "code",
   "execution_count": 30,
   "id": "034f78ae",
   "metadata": {
    "execution": {
     "iopub.execute_input": "2022-11-16T15:23:05.698395Z",
     "iopub.status.busy": "2022-11-16T15:23:05.697378Z",
     "iopub.status.idle": "2022-11-16T15:23:05.714103Z",
     "shell.execute_reply": "2022-11-16T15:23:05.712903Z"
    },
    "papermill": {
     "duration": 0.055306,
     "end_time": "2022-11-16T15:23:05.716674",
     "exception": false,
     "start_time": "2022-11-16T15:23:05.661368",
     "status": "completed"
    },
    "tags": []
   },
   "outputs": [
    {
     "data": {
      "text/html": [
       "<div>\n",
       "<style scoped>\n",
       "    .dataframe tbody tr th:only-of-type {\n",
       "        vertical-align: middle;\n",
       "    }\n",
       "\n",
       "    .dataframe tbody tr th {\n",
       "        vertical-align: top;\n",
       "    }\n",
       "\n",
       "    .dataframe thead th {\n",
       "        text-align: right;\n",
       "    }\n",
       "</style>\n",
       "<table border=\"1\" class=\"dataframe\">\n",
       "  <thead>\n",
       "    <tr style=\"text-align: right;\">\n",
       "      <th></th>\n",
       "      <th>travelers choice</th>\n",
       "      <th>michelin</th>\n",
       "    </tr>\n",
       "  </thead>\n",
       "  <tbody>\n",
       "    <tr>\n",
       "      <th>0</th>\n",
       "      <td>False</td>\n",
       "      <td>False</td>\n",
       "    </tr>\n",
       "    <tr>\n",
       "      <th>1</th>\n",
       "      <td>False</td>\n",
       "      <td>False</td>\n",
       "    </tr>\n",
       "    <tr>\n",
       "      <th>2</th>\n",
       "      <td>False</td>\n",
       "      <td>False</td>\n",
       "    </tr>\n",
       "    <tr>\n",
       "      <th>3</th>\n",
       "      <td>False</td>\n",
       "      <td>False</td>\n",
       "    </tr>\n",
       "    <tr>\n",
       "      <th>4</th>\n",
       "      <td>False</td>\n",
       "      <td>False</td>\n",
       "    </tr>\n",
       "    <tr>\n",
       "      <th>...</th>\n",
       "      <td>...</td>\n",
       "      <td>...</td>\n",
       "    </tr>\n",
       "    <tr>\n",
       "      <th>1549</th>\n",
       "      <td>False</td>\n",
       "      <td>False</td>\n",
       "    </tr>\n",
       "    <tr>\n",
       "      <th>1550</th>\n",
       "      <td>False</td>\n",
       "      <td>False</td>\n",
       "    </tr>\n",
       "    <tr>\n",
       "      <th>1551</th>\n",
       "      <td>False</td>\n",
       "      <td>False</td>\n",
       "    </tr>\n",
       "    <tr>\n",
       "      <th>1552</th>\n",
       "      <td>False</td>\n",
       "      <td>False</td>\n",
       "    </tr>\n",
       "    <tr>\n",
       "      <th>1553</th>\n",
       "      <td>False</td>\n",
       "      <td>False</td>\n",
       "    </tr>\n",
       "  </tbody>\n",
       "</table>\n",
       "<p>1554 rows × 2 columns</p>\n",
       "</div>"
      ],
      "text/plain": [
       "      travelers choice  michelin\n",
       "0                False     False\n",
       "1                False     False\n",
       "2                False     False\n",
       "3                False     False\n",
       "4                False     False\n",
       "...                ...       ...\n",
       "1549             False     False\n",
       "1550             False     False\n",
       "1551             False     False\n",
       "1552             False     False\n",
       "1553             False     False\n",
       "\n",
       "[1554 rows x 2 columns]"
      ]
     },
     "execution_count": 30,
     "metadata": {},
     "output_type": "execute_result"
    }
   ],
   "source": [
    "df_train.select_dtypes(bool)"
   ]
  },
  {
   "cell_type": "code",
   "execution_count": 31,
   "id": "3af0ed3f",
   "metadata": {
    "execution": {
     "iopub.execute_input": "2022-11-16T15:23:05.790258Z",
     "iopub.status.busy": "2022-11-16T15:23:05.789818Z",
     "iopub.status.idle": "2022-11-16T15:23:05.799735Z",
     "shell.execute_reply": "2022-11-16T15:23:05.798854Z"
    },
    "papermill": {
     "duration": 0.049867,
     "end_time": "2022-11-16T15:23:05.801908",
     "exception": false,
     "start_time": "2022-11-16T15:23:05.752041",
     "status": "completed"
    },
    "tags": []
   },
   "outputs": [
    {
     "data": {
      "text/plain": [
       "travelers choice    0\n",
       "michelin            0\n",
       "dtype: int64"
      ]
     },
     "execution_count": 31,
     "metadata": {},
     "output_type": "execute_result"
    }
   ],
   "source": [
    "df_train.select_dtypes(bool).isna().sum()"
   ]
  },
  {
   "cell_type": "markdown",
   "id": "f517b151",
   "metadata": {
    "papermill": {
     "duration": 0.036654,
     "end_time": "2022-11-16T15:23:05.874545",
     "exception": false,
     "start_time": "2022-11-16T15:23:05.837891",
     "status": "completed"
    },
    "tags": []
   },
   "source": [
    "no missing values! turn these into zeros and ones"
   ]
  },
  {
   "cell_type": "code",
   "execution_count": 32,
   "id": "48f952bf",
   "metadata": {
    "execution": {
     "iopub.execute_input": "2022-11-16T15:23:05.946854Z",
     "iopub.status.busy": "2022-11-16T15:23:05.946376Z",
     "iopub.status.idle": "2022-11-16T15:23:05.954206Z",
     "shell.execute_reply": "2022-11-16T15:23:05.953250Z"
    },
    "papermill": {
     "duration": 0.046316,
     "end_time": "2022-11-16T15:23:05.956597",
     "exception": false,
     "start_time": "2022-11-16T15:23:05.910281",
     "status": "completed"
    },
    "tags": []
   },
   "outputs": [],
   "source": [
    "df_train[\"travelers choice\"]=df_train[\"travelers choice\"].astype(int)\n",
    "df_train[\"michelin\"]=df_train[\"michelin\"].astype(int)"
   ]
  },
  {
   "cell_type": "markdown",
   "id": "9e13fb6d",
   "metadata": {
    "papermill": {
     "duration": 0.034993,
     "end_time": "2022-11-16T15:23:06.027485",
     "exception": false,
     "start_time": "2022-11-16T15:23:05.992492",
     "status": "completed"
    },
    "tags": []
   },
   "source": [
    "### Encoding categorical variables\n",
    "\n",
    "We already explained how we did this and used it in our sprint 1 notebook so excuse us for just copy pasting the code 😅"
   ]
  },
  {
   "cell_type": "code",
   "execution_count": 33,
   "id": "b115b0e2",
   "metadata": {
    "execution": {
     "iopub.execute_input": "2022-11-16T15:23:06.100614Z",
     "iopub.status.busy": "2022-11-16T15:23:06.100105Z",
     "iopub.status.idle": "2022-11-16T15:23:06.106304Z",
     "shell.execute_reply": "2022-11-16T15:23:06.104928Z"
    },
    "papermill": {
     "duration": 0.045849,
     "end_time": "2022-11-16T15:23:06.108717",
     "exception": false,
     "start_time": "2022-11-16T15:23:06.062868",
     "status": "completed"
    },
    "tags": []
   },
   "outputs": [],
   "source": [
    "mutlihot_col = ['cuisines','special diets',\"meals\",\"restaurant features\"]"
   ]
  },
  {
   "cell_type": "code",
   "execution_count": 34,
   "id": "122393a6",
   "metadata": {
    "execution": {
     "iopub.execute_input": "2022-11-16T15:23:06.180634Z",
     "iopub.status.busy": "2022-11-16T15:23:06.180169Z",
     "iopub.status.idle": "2022-11-16T15:23:06.202466Z",
     "shell.execute_reply": "2022-11-16T15:23:06.201268Z"
    },
    "papermill": {
     "duration": 0.061865,
     "end_time": "2022-11-16T15:23:06.205262",
     "exception": false,
     "start_time": "2022-11-16T15:23:06.143397",
     "status": "completed"
    },
    "tags": []
   },
   "outputs": [],
   "source": [
    "for col in mutlihot_col:\n",
    "    df_train[col]=df_train[col].fillna(col+\"_missing\").str.replace(\" \",\"\").str.split(\",\")"
   ]
  },
  {
   "cell_type": "code",
   "execution_count": 35,
   "id": "e1d2e444",
   "metadata": {
    "execution": {
     "iopub.execute_input": "2022-11-16T15:23:06.278236Z",
     "iopub.status.busy": "2022-11-16T15:23:06.277814Z",
     "iopub.status.idle": "2022-11-16T15:23:06.306863Z",
     "shell.execute_reply": "2022-11-16T15:23:06.305607Z"
    },
    "papermill": {
     "duration": 0.068471,
     "end_time": "2022-11-16T15:23:06.309236",
     "exception": false,
     "start_time": "2022-11-16T15:23:06.240765",
     "status": "completed"
    },
    "tags": []
   },
   "outputs": [
    {
     "data": {
      "text/html": [
       "<div>\n",
       "<style scoped>\n",
       "    .dataframe tbody tr th:only-of-type {\n",
       "        vertical-align: middle;\n",
       "    }\n",
       "\n",
       "    .dataframe tbody tr th {\n",
       "        vertical-align: top;\n",
       "    }\n",
       "\n",
       "    .dataframe thead th {\n",
       "        text-align: right;\n",
       "    }\n",
       "</style>\n",
       "<table border=\"1\" class=\"dataframe\">\n",
       "  <thead>\n",
       "    <tr style=\"text-align: right;\">\n",
       "      <th></th>\n",
       "      <th>cuisines</th>\n",
       "      <th>special diets</th>\n",
       "      <th>meals</th>\n",
       "      <th>restaurant features</th>\n",
       "    </tr>\n",
       "  </thead>\n",
       "  <tbody>\n",
       "    <tr>\n",
       "      <th>0</th>\n",
       "      <td>[Seafood, Belgian, European]</td>\n",
       "      <td>[specialdiets_missing]</td>\n",
       "      <td>[Dinner]</td>\n",
       "      <td>[Reservations, Seating, TableService, WheelchairAccessible]</td>\n",
       "    </tr>\n",
       "    <tr>\n",
       "      <th>1</th>\n",
       "      <td>[Italian, Pizza]</td>\n",
       "      <td>[VegetarianFriendly]</td>\n",
       "      <td>[Dinner]</td>\n",
       "      <td>[Takeout, Reservations, Seating, WheelchairAccessible, TableService, ServesAlcohol]</td>\n",
       "    </tr>\n",
       "    <tr>\n",
       "      <th>2</th>\n",
       "      <td>[Belgian, Bar, European]</td>\n",
       "      <td>[VegetarianFriendly]</td>\n",
       "      <td>[Lunch, Dinner, LateNight]</td>\n",
       "      <td>[Reservations, OutdoorSeating, Seating, WheelchairAccessible, ServesAlcohol, FullBar, TableService, HighchairsAvailable]</td>\n",
       "    </tr>\n",
       "    <tr>\n",
       "      <th>3</th>\n",
       "      <td>[Belgian, Dutch, European]</td>\n",
       "      <td>[VegetarianFriendly]</td>\n",
       "      <td>[Dinner, Drinks]</td>\n",
       "      <td>[Reservations, Seating, ServesAlcohol, TableService]</td>\n",
       "    </tr>\n",
       "    <tr>\n",
       "      <th>4</th>\n",
       "      <td>[Belgian, Dutch, European]</td>\n",
       "      <td>[specialdiets_missing]</td>\n",
       "      <td>[Dinner, Breakfast, Lunch]</td>\n",
       "      <td>[Reservations, Seating, TableService, WheelchairAccessible]</td>\n",
       "    </tr>\n",
       "    <tr>\n",
       "      <th>...</th>\n",
       "      <td>...</td>\n",
       "      <td>...</td>\n",
       "      <td>...</td>\n",
       "      <td>...</td>\n",
       "    </tr>\n",
       "    <tr>\n",
       "      <th>1549</th>\n",
       "      <td>[cuisines_missing]</td>\n",
       "      <td>[specialdiets_missing]</td>\n",
       "      <td>[Lunch, Dinner]</td>\n",
       "      <td>[Reservations, Seating, TableService]</td>\n",
       "    </tr>\n",
       "    <tr>\n",
       "      <th>1550</th>\n",
       "      <td>[cuisines_missing]</td>\n",
       "      <td>[specialdiets_missing]</td>\n",
       "      <td>[Lunch, Dinner]</td>\n",
       "      <td>[restaurantfeatures_missing]</td>\n",
       "    </tr>\n",
       "    <tr>\n",
       "      <th>1551</th>\n",
       "      <td>[French, Belgian, Cafe, Seafood, European, Pub]</td>\n",
       "      <td>[specialdiets_missing]</td>\n",
       "      <td>[Lunch, Dinner, Drinks]</td>\n",
       "      <td>[Reservations, Takeout, PrivateDining, StreetParking, Television, ServesAlcohol, WineandBeer, FreeWifi, AcceptsCreditCards, TableService, DogFriendly, Familystyle, Non-smokingrestaurants, GiftCardsAvailable]</td>\n",
       "    </tr>\n",
       "    <tr>\n",
       "      <th>1552</th>\n",
       "      <td>[Deli, Healthy, European]</td>\n",
       "      <td>[specialdiets_missing]</td>\n",
       "      <td>[Breakfast, Brunch, Lunch]</td>\n",
       "      <td>[Reservations, OutdoorSeating, Buffet, Seating, ParkingAvailable, StreetParking, HighchairsAvailable, ServesAlcohol, WineandBeer, CashOnly, FreeWifi, TableService, Takeout]</td>\n",
       "    </tr>\n",
       "    <tr>\n",
       "      <th>1553</th>\n",
       "      <td>[Belgian, Dutch]</td>\n",
       "      <td>[specialdiets_missing]</td>\n",
       "      <td>[Lunch, Dinner]</td>\n",
       "      <td>[Reservations, TableService, Seating, WheelchairAccessible]</td>\n",
       "    </tr>\n",
       "  </tbody>\n",
       "</table>\n",
       "<p>1554 rows × 4 columns</p>\n",
       "</div>"
      ],
      "text/plain": [
       "                                             cuisines           special diets  \\\n",
       "0                        [Seafood, Belgian, European]  [specialdiets_missing]   \n",
       "1                                    [Italian, Pizza]    [VegetarianFriendly]   \n",
       "2                            [Belgian, Bar, European]    [VegetarianFriendly]   \n",
       "3                          [Belgian, Dutch, European]    [VegetarianFriendly]   \n",
       "4                          [Belgian, Dutch, European]  [specialdiets_missing]   \n",
       "...                                               ...                     ...   \n",
       "1549                               [cuisines_missing]  [specialdiets_missing]   \n",
       "1550                               [cuisines_missing]  [specialdiets_missing]   \n",
       "1551  [French, Belgian, Cafe, Seafood, European, Pub]  [specialdiets_missing]   \n",
       "1552                        [Deli, Healthy, European]  [specialdiets_missing]   \n",
       "1553                                 [Belgian, Dutch]  [specialdiets_missing]   \n",
       "\n",
       "                           meals  \\\n",
       "0                       [Dinner]   \n",
       "1                       [Dinner]   \n",
       "2     [Lunch, Dinner, LateNight]   \n",
       "3               [Dinner, Drinks]   \n",
       "4     [Dinner, Breakfast, Lunch]   \n",
       "...                          ...   \n",
       "1549             [Lunch, Dinner]   \n",
       "1550             [Lunch, Dinner]   \n",
       "1551     [Lunch, Dinner, Drinks]   \n",
       "1552  [Breakfast, Brunch, Lunch]   \n",
       "1553             [Lunch, Dinner]   \n",
       "\n",
       "                                                                                                                                                                                                  restaurant features  \n",
       "0                                                                                                                                                         [Reservations, Seating, TableService, WheelchairAccessible]  \n",
       "1                                                                                                                                 [Takeout, Reservations, Seating, WheelchairAccessible, TableService, ServesAlcohol]  \n",
       "2                                                                                            [Reservations, OutdoorSeating, Seating, WheelchairAccessible, ServesAlcohol, FullBar, TableService, HighchairsAvailable]  \n",
       "3                                                                                                                                                                [Reservations, Seating, ServesAlcohol, TableService]  \n",
       "4                                                                                                                                                         [Reservations, Seating, TableService, WheelchairAccessible]  \n",
       "...                                                                                                                                                                                                               ...  \n",
       "1549                                                                                                                                                                            [Reservations, Seating, TableService]  \n",
       "1550                                                                                                                                                                                     [restaurantfeatures_missing]  \n",
       "1551  [Reservations, Takeout, PrivateDining, StreetParking, Television, ServesAlcohol, WineandBeer, FreeWifi, AcceptsCreditCards, TableService, DogFriendly, Familystyle, Non-smokingrestaurants, GiftCardsAvailable]  \n",
       "1552                                     [Reservations, OutdoorSeating, Buffet, Seating, ParkingAvailable, StreetParking, HighchairsAvailable, ServesAlcohol, WineandBeer, CashOnly, FreeWifi, TableService, Takeout]  \n",
       "1553                                                                                                                                                      [Reservations, TableService, Seating, WheelchairAccessible]  \n",
       "\n",
       "[1554 rows x 4 columns]"
      ]
     },
     "execution_count": 35,
     "metadata": {},
     "output_type": "execute_result"
    }
   ],
   "source": [
    "df_train[mutlihot_col]"
   ]
  },
  {
   "cell_type": "code",
   "execution_count": 36,
   "id": "776f5cd3",
   "metadata": {
    "execution": {
     "iopub.execute_input": "2022-11-16T15:23:06.381827Z",
     "iopub.status.busy": "2022-11-16T15:23:06.380910Z",
     "iopub.status.idle": "2022-11-16T15:23:06.399419Z",
     "shell.execute_reply": "2022-11-16T15:23:06.397891Z"
    },
    "papermill": {
     "duration": 0.057732,
     "end_time": "2022-11-16T15:23:06.402130",
     "exception": false,
     "start_time": "2022-11-16T15:23:06.344398",
     "status": "completed"
    },
    "tags": []
   },
   "outputs": [],
   "source": [
    "#multi hot encoding of the meals, restaurant features ,cuisines and diets\n",
    "from sklearn.preprocessing import MultiLabelBinarizer\n",
    "\n",
    "mlbs=[]\n",
    "columns=[\"meals\",\"restaurant features\",\"cuisines\",\"special diets\"]\n",
    "mh_encodings=[]\n",
    "for col in columns:\n",
    "    mlb= MultiLabelBinarizer()\n",
    "    mlbs.append(mlb)\n",
    "    # X=df_train[col].str.replace(\" \",\"\").str.split(\",\").fillna(\"X\").to_list()\n",
    "    #I want a list of sets that i can then pass to the MultiLabelBinarizer\n",
    "    # lijst=[set(i) for i in X]\n",
    "    mh_encodings.append(mlb.fit_transform(df_train[col]))\n"
   ]
  },
  {
   "cell_type": "code",
   "execution_count": 37,
   "id": "fbbaaa41",
   "metadata": {
    "execution": {
     "iopub.execute_input": "2022-11-16T15:23:06.477627Z",
     "iopub.status.busy": "2022-11-16T15:23:06.477176Z",
     "iopub.status.idle": "2022-11-16T15:23:06.483835Z",
     "shell.execute_reply": "2022-11-16T15:23:06.482127Z"
    },
    "papermill": {
     "duration": 0.047897,
     "end_time": "2022-11-16T15:23:06.486291",
     "exception": false,
     "start_time": "2022-11-16T15:23:06.438394",
     "status": "completed"
    },
    "tags": []
   },
   "outputs": [
    {
     "name": "stdout",
     "output_type": "stream",
     "text": [
      "(1554, 7)\n",
      "(1554, 39)\n",
      "(1554, 91)\n",
      "(1554, 5)\n"
     ]
    }
   ],
   "source": [
    "for i in mh_encodings:\n",
    "    print(i.shape)"
   ]
  },
  {
   "cell_type": "code",
   "execution_count": 38,
   "id": "cc49b6dc",
   "metadata": {
    "execution": {
     "iopub.execute_input": "2022-11-16T15:23:06.560604Z",
     "iopub.status.busy": "2022-11-16T15:23:06.560178Z",
     "iopub.status.idle": "2022-11-16T15:23:06.566481Z",
     "shell.execute_reply": "2022-11-16T15:23:06.565267Z"
    },
    "papermill": {
     "duration": 0.047159,
     "end_time": "2022-11-16T15:23:06.569244",
     "exception": false,
     "start_time": "2022-11-16T15:23:06.522085",
     "status": "completed"
    },
    "tags": []
   },
   "outputs": [
    {
     "name": "stdout",
     "output_type": "stream",
     "text": [
      "['Breakfast' 'Brunch' 'Dinner' 'Drinks' 'LateNight' 'Lunch'\n",
      " 'meals_missing']\n",
      "['AcceptsAmericanExpress' 'AcceptsCreditCards' 'AcceptsDiscover'\n",
      " 'AcceptsMastercard' 'AcceptsVisa' 'BYOB' 'Beach' 'Buffet' 'CashOnly'\n",
      " 'Delivery' 'DigitalPayments' 'DogFriendly' 'Familystyle' 'FreeWifi'\n",
      " 'Freeoff-streetparking' 'FullBar' 'GiftCardsAvailable'\n",
      " 'HighchairsAvailable' 'JazzBar' 'LiveMusic' 'Non-smokingrestaurants'\n",
      " 'OutdoorSeating' 'ParkingAvailable' 'Playgrounds' 'PrivateDining'\n",
      " 'Reservations' 'Seating' 'ServesAlcohol' 'Sportsbars' 'StreetParking'\n",
      " 'TableService' 'Takeout' 'Television' 'ValetParking' 'ValidatedParking'\n",
      " 'Waterfront' 'WheelchairAccessible' 'WineandBeer'\n",
      " 'restaurantfeatures_missing']\n",
      "['Afghan' 'African' 'Albanian' 'American' 'Apulian' 'Arabic' 'Argentinean'\n",
      " 'Asian' 'Assyrian' 'Australian' 'Bar' 'Barbecue' 'Beerrestaurants'\n",
      " 'Belgian' 'Brazilian' 'BrewPub' 'British' 'Cafe' 'Cajun&Creole'\n",
      " 'Campania' 'Caribbean' 'Central-Italian' 'CentralAmerican' 'CentralAsian'\n",
      " 'CentralEuropean' 'Chinese' 'Contemporary' 'Croatian' 'Danish' 'Deli'\n",
      " 'Diner' 'Diningbars' 'Dutch' 'EasternEuropean' 'Egyptian' 'European'\n",
      " 'FastFood' 'French' 'Fusion' 'Gastropub' 'Georgian' 'German' 'Greek'\n",
      " 'Grill' 'Hawaiian' 'Healthy' 'Indian' 'Indonesian' 'International'\n",
      " 'Irish' 'Italian' 'Japanese' 'JapaneseFusion' 'Korean' 'Latin' 'Lazio'\n",
      " 'Lebanese' 'Medicinalfoods' 'Mediterranean' 'Mexican' 'MiddleEastern'\n",
      " 'Moroccan' 'Neapolitan' 'Nepali' 'Northern-Italian' 'Norwegian'\n",
      " 'Pakistani' 'Persian' 'Peruvian' 'Pizza' 'Portuguese' 'Pub' 'Romana'\n",
      " 'Scandinavian' 'Seafood' 'Sicilian' 'Soups' 'SouthAmerican'\n",
      " 'Southern-Italian' 'Spanish' 'Steakhouse' 'StreetFood' 'Sushi' 'Swedish'\n",
      " 'Thai' 'Tunisian' 'Turkish' 'Tuscan' 'Vietnamese' 'WineBar'\n",
      " 'cuisines_missing']\n",
      "['GlutenFreeOptions' 'Halal' 'VeganOptions' 'VegetarianFriendly'\n",
      " 'specialdiets_missing']\n"
     ]
    }
   ],
   "source": [
    "for i in mlbs:\n",
    "    print(i.classes_)"
   ]
  },
  {
   "cell_type": "markdown",
   "id": "2a08d645",
   "metadata": {
    "papermill": {
     "duration": 0.036851,
     "end_time": "2022-11-16T15:23:06.642848",
     "exception": false,
     "start_time": "2022-11-16T15:23:06.605997",
     "status": "completed"
    },
    "tags": []
   },
   "source": [
    "One hot encode the city dropped this featue because it is redundant if we have latitude and longitude of the restaurant"
   ]
  },
  {
   "cell_type": "code",
   "execution_count": 39,
   "id": "06dafb83",
   "metadata": {
    "execution": {
     "iopub.execute_input": "2022-11-16T15:23:06.718171Z",
     "iopub.status.busy": "2022-11-16T15:23:06.717749Z",
     "iopub.status.idle": "2022-11-16T15:23:06.723116Z",
     "shell.execute_reply": "2022-11-16T15:23:06.721726Z"
    },
    "papermill": {
     "duration": 0.046478,
     "end_time": "2022-11-16T15:23:06.725559",
     "exception": false,
     "start_time": "2022-11-16T15:23:06.679081",
     "status": "completed"
    },
    "tags": []
   },
   "outputs": [],
   "source": [
    "# from sklearn.preprocessing import OneHotEncoder\n",
    "# enc=OneHotEncoder(sparse=False,handle_unknown=\"ignore\")\n",
    "# enc.fit(np.array(df_train[\"city\"]).reshape(-1,1))\n",
    "# oh_cities=enc.transform(np.array(df_train[\"city\"]).reshape(-1,1))\n",
    "# oh_cities"
   ]
  },
  {
   "cell_type": "code",
   "execution_count": 40,
   "id": "7ac9de6f",
   "metadata": {
    "execution": {
     "iopub.execute_input": "2022-11-16T15:23:06.799075Z",
     "iopub.status.busy": "2022-11-16T15:23:06.798674Z",
     "iopub.status.idle": "2022-11-16T15:23:06.827809Z",
     "shell.execute_reply": "2022-11-16T15:23:06.826606Z"
    },
    "papermill": {
     "duration": 0.068171,
     "end_time": "2022-11-16T15:23:06.830433",
     "exception": false,
     "start_time": "2022-11-16T15:23:06.762262",
     "status": "completed"
    },
    "tags": []
   },
   "outputs": [
    {
     "data": {
      "text/html": [
       "<div>\n",
       "<style scoped>\n",
       "    .dataframe tbody tr th:only-of-type {\n",
       "        vertical-align: middle;\n",
       "    }\n",
       "\n",
       "    .dataframe tbody tr th {\n",
       "        vertical-align: top;\n",
       "    }\n",
       "\n",
       "    .dataframe thead th {\n",
       "        text-align: right;\n",
       "    }\n",
       "</style>\n",
       "<table border=\"1\" class=\"dataframe\">\n",
       "  <thead>\n",
       "    <tr style=\"text-align: right;\">\n",
       "      <th></th>\n",
       "      <th>general rating</th>\n",
       "      <th>travelers choice</th>\n",
       "      <th>michelin</th>\n",
       "      <th>value rating</th>\n",
       "      <th>atmosphere rating</th>\n",
       "      <th>price_tag</th>\n",
       "      <th>latitude</th>\n",
       "      <th>longitude</th>\n",
       "      <th>rank_missing</th>\n",
       "      <th>atmosphere_missing</th>\n",
       "      <th>value_missing</th>\n",
       "      <th>general_missing</th>\n",
       "      <th>lg_rank</th>\n",
       "      <th>lg_reviews</th>\n",
       "    </tr>\n",
       "  </thead>\n",
       "  <tbody>\n",
       "    <tr>\n",
       "      <th>0</th>\n",
       "      <td>3.5</td>\n",
       "      <td>0</td>\n",
       "      <td>0</td>\n",
       "      <td>3.0</td>\n",
       "      <td>4.0</td>\n",
       "      <td>$$ - $$$</td>\n",
       "      <td>50.888222</td>\n",
       "      <td>4.076788</td>\n",
       "      <td>0</td>\n",
       "      <td>1</td>\n",
       "      <td>0</td>\n",
       "      <td>0</td>\n",
       "      <td>1.386294</td>\n",
       "      <td>3.091042</td>\n",
       "    </tr>\n",
       "    <tr>\n",
       "      <th>1</th>\n",
       "      <td>3.5</td>\n",
       "      <td>0</td>\n",
       "      <td>0</td>\n",
       "      <td>3.5</td>\n",
       "      <td>4.0</td>\n",
       "      <td>$$ - $$$</td>\n",
       "      <td>50.891975</td>\n",
       "      <td>4.073112</td>\n",
       "      <td>0</td>\n",
       "      <td>1</td>\n",
       "      <td>0</td>\n",
       "      <td>0</td>\n",
       "      <td>0.693147</td>\n",
       "      <td>3.806662</td>\n",
       "    </tr>\n",
       "    <tr>\n",
       "      <th>2</th>\n",
       "      <td>4.0</td>\n",
       "      <td>0</td>\n",
       "      <td>0</td>\n",
       "      <td>4.0</td>\n",
       "      <td>3.5</td>\n",
       "      <td>$$ - $$$</td>\n",
       "      <td>50.872612</td>\n",
       "      <td>4.079612</td>\n",
       "      <td>0</td>\n",
       "      <td>0</td>\n",
       "      <td>0</td>\n",
       "      <td>0</td>\n",
       "      <td>0.000000</td>\n",
       "      <td>5.337538</td>\n",
       "    </tr>\n",
       "    <tr>\n",
       "      <th>3</th>\n",
       "      <td>4.0</td>\n",
       "      <td>0</td>\n",
       "      <td>0</td>\n",
       "      <td>4.0</td>\n",
       "      <td>4.0</td>\n",
       "      <td>$$ - $$$</td>\n",
       "      <td>50.797974</td>\n",
       "      <td>3.762778</td>\n",
       "      <td>0</td>\n",
       "      <td>1</td>\n",
       "      <td>0</td>\n",
       "      <td>0</td>\n",
       "      <td>1.791759</td>\n",
       "      <td>3.806662</td>\n",
       "    </tr>\n",
       "    <tr>\n",
       "      <th>4</th>\n",
       "      <td>4.5</td>\n",
       "      <td>0</td>\n",
       "      <td>0</td>\n",
       "      <td>4.0</td>\n",
       "      <td>4.0</td>\n",
       "      <td>$$ - $$$</td>\n",
       "      <td>50.803700</td>\n",
       "      <td>3.764335</td>\n",
       "      <td>0</td>\n",
       "      <td>1</td>\n",
       "      <td>1</td>\n",
       "      <td>0</td>\n",
       "      <td>2.079442</td>\n",
       "      <td>3.258097</td>\n",
       "    </tr>\n",
       "    <tr>\n",
       "      <th>...</th>\n",
       "      <td>...</td>\n",
       "      <td>...</td>\n",
       "      <td>...</td>\n",
       "      <td>...</td>\n",
       "      <td>...</td>\n",
       "      <td>...</td>\n",
       "      <td>...</td>\n",
       "      <td>...</td>\n",
       "      <td>...</td>\n",
       "      <td>...</td>\n",
       "      <td>...</td>\n",
       "      <td>...</td>\n",
       "      <td>...</td>\n",
       "      <td>...</td>\n",
       "    </tr>\n",
       "    <tr>\n",
       "      <th>1549</th>\n",
       "      <td>3.0</td>\n",
       "      <td>0</td>\n",
       "      <td>0</td>\n",
       "      <td>3.5</td>\n",
       "      <td>4.0</td>\n",
       "      <td>$$ - $$$</td>\n",
       "      <td>51.218950</td>\n",
       "      <td>3.617083</td>\n",
       "      <td>0</td>\n",
       "      <td>1</td>\n",
       "      <td>0</td>\n",
       "      <td>0</td>\n",
       "      <td>0.000000</td>\n",
       "      <td>3.135494</td>\n",
       "    </tr>\n",
       "    <tr>\n",
       "      <th>1550</th>\n",
       "      <td>4.5</td>\n",
       "      <td>0</td>\n",
       "      <td>0</td>\n",
       "      <td>4.0</td>\n",
       "      <td>4.0</td>\n",
       "      <td>$$ - $$$</td>\n",
       "      <td>50.801908</td>\n",
       "      <td>3.592342</td>\n",
       "      <td>0</td>\n",
       "      <td>1</td>\n",
       "      <td>1</td>\n",
       "      <td>0</td>\n",
       "      <td>0.693147</td>\n",
       "      <td>2.197225</td>\n",
       "    </tr>\n",
       "    <tr>\n",
       "      <th>1551</th>\n",
       "      <td>4.5</td>\n",
       "      <td>0</td>\n",
       "      <td>0</td>\n",
       "      <td>5.0</td>\n",
       "      <td>4.0</td>\n",
       "      <td>$$ - $$$</td>\n",
       "      <td>50.871780</td>\n",
       "      <td>4.018084</td>\n",
       "      <td>0</td>\n",
       "      <td>1</td>\n",
       "      <td>0</td>\n",
       "      <td>0</td>\n",
       "      <td>0.693147</td>\n",
       "      <td>2.079442</td>\n",
       "    </tr>\n",
       "    <tr>\n",
       "      <th>1552</th>\n",
       "      <td>4.0</td>\n",
       "      <td>0</td>\n",
       "      <td>0</td>\n",
       "      <td>4.5</td>\n",
       "      <td>4.0</td>\n",
       "      <td>$$ - $$$</td>\n",
       "      <td>50.891996</td>\n",
       "      <td>3.949188</td>\n",
       "      <td>0</td>\n",
       "      <td>1</td>\n",
       "      <td>0</td>\n",
       "      <td>0</td>\n",
       "      <td>0.000000</td>\n",
       "      <td>2.890372</td>\n",
       "    </tr>\n",
       "    <tr>\n",
       "      <th>1553</th>\n",
       "      <td>4.0</td>\n",
       "      <td>0</td>\n",
       "      <td>0</td>\n",
       "      <td>4.5</td>\n",
       "      <td>4.0</td>\n",
       "      <td>$$ - $$$</td>\n",
       "      <td>51.156890</td>\n",
       "      <td>4.041720</td>\n",
       "      <td>0</td>\n",
       "      <td>1</td>\n",
       "      <td>0</td>\n",
       "      <td>0</td>\n",
       "      <td>0.000000</td>\n",
       "      <td>2.772589</td>\n",
       "    </tr>\n",
       "  </tbody>\n",
       "</table>\n",
       "<p>1554 rows × 14 columns</p>\n",
       "</div>"
      ],
      "text/plain": [
       "      general rating  travelers choice  michelin  value rating  \\\n",
       "0                3.5                 0         0           3.0   \n",
       "1                3.5                 0         0           3.5   \n",
       "2                4.0                 0         0           4.0   \n",
       "3                4.0                 0         0           4.0   \n",
       "4                4.5                 0         0           4.0   \n",
       "...              ...               ...       ...           ...   \n",
       "1549             3.0                 0         0           3.5   \n",
       "1550             4.5                 0         0           4.0   \n",
       "1551             4.5                 0         0           5.0   \n",
       "1552             4.0                 0         0           4.5   \n",
       "1553             4.0                 0         0           4.5   \n",
       "\n",
       "      atmosphere rating price_tag   latitude  longitude  rank_missing  \\\n",
       "0                   4.0  $$ - $$$  50.888222   4.076788             0   \n",
       "1                   4.0  $$ - $$$  50.891975   4.073112             0   \n",
       "2                   3.5  $$ - $$$  50.872612   4.079612             0   \n",
       "3                   4.0  $$ - $$$  50.797974   3.762778             0   \n",
       "4                   4.0  $$ - $$$  50.803700   3.764335             0   \n",
       "...                 ...       ...        ...        ...           ...   \n",
       "1549                4.0  $$ - $$$  51.218950   3.617083             0   \n",
       "1550                4.0  $$ - $$$  50.801908   3.592342             0   \n",
       "1551                4.0  $$ - $$$  50.871780   4.018084             0   \n",
       "1552                4.0  $$ - $$$  50.891996   3.949188             0   \n",
       "1553                4.0  $$ - $$$  51.156890   4.041720             0   \n",
       "\n",
       "      atmosphere_missing  value_missing  general_missing   lg_rank  lg_reviews  \n",
       "0                      1              0                0  1.386294    3.091042  \n",
       "1                      1              0                0  0.693147    3.806662  \n",
       "2                      0              0                0  0.000000    5.337538  \n",
       "3                      1              0                0  1.791759    3.806662  \n",
       "4                      1              1                0  2.079442    3.258097  \n",
       "...                  ...            ...              ...       ...         ...  \n",
       "1549                   1              0                0  0.000000    3.135494  \n",
       "1550                   1              1                0  0.693147    2.197225  \n",
       "1551                   1              0                0  0.693147    2.079442  \n",
       "1552                   1              0                0  0.000000    2.890372  \n",
       "1553                   1              0                0  0.000000    2.772589  \n",
       "\n",
       "[1554 rows x 14 columns]"
      ]
     },
     "execution_count": 40,
     "metadata": {},
     "output_type": "execute_result"
    }
   ],
   "source": [
    "df_train.drop(columns=[\"cuisines\",\"special diets\",\"meals\",\"restaurant features\",\"city\"],inplace=True)\n",
    "df_train"
   ]
  },
  {
   "cell_type": "markdown",
   "id": "7527793a",
   "metadata": {
    "papermill": {
     "duration": 0.04191,
     "end_time": "2022-11-16T15:23:06.911166",
     "exception": false,
     "start_time": "2022-11-16T15:23:06.869256",
     "status": "completed"
    },
    "tags": []
   },
   "source": [
    "### Standardizing"
   ]
  },
  {
   "cell_type": "code",
   "execution_count": 41,
   "id": "e964c17a",
   "metadata": {
    "execution": {
     "iopub.execute_input": "2022-11-16T15:23:06.985204Z",
     "iopub.status.busy": "2022-11-16T15:23:06.984328Z",
     "iopub.status.idle": "2022-11-16T15:23:06.996399Z",
     "shell.execute_reply": "2022-11-16T15:23:06.995587Z"
    },
    "papermill": {
     "duration": 0.052103,
     "end_time": "2022-11-16T15:23:06.999161",
     "exception": false,
     "start_time": "2022-11-16T15:23:06.947058",
     "status": "completed"
    },
    "tags": []
   },
   "outputs": [
    {
     "data": {
      "text/plain": [
       "(1554, 7)"
      ]
     },
     "execution_count": 41,
     "metadata": {},
     "output_type": "execute_result"
    }
   ],
   "source": [
    "from sklearn.preprocessing import StandardScaler\n",
    "scaler = StandardScaler()\n",
    "scaled_data=scaler.fit_transform(df_train[[\"general rating\",\"value rating\",\"atmosphere rating\",\"latitude\",\"longitude\",\"lg_rank\",\"lg_reviews\"]])\n",
    "scaled_data.shape"
   ]
  },
  {
   "cell_type": "code",
   "execution_count": 42,
   "id": "7178757b",
   "metadata": {
    "execution": {
     "iopub.execute_input": "2022-11-16T15:23:07.074637Z",
     "iopub.status.busy": "2022-11-16T15:23:07.073627Z",
     "iopub.status.idle": "2022-11-16T15:23:07.081757Z",
     "shell.execute_reply": "2022-11-16T15:23:07.080766Z"
    },
    "papermill": {
     "duration": 0.048755,
     "end_time": "2022-11-16T15:23:07.084249",
     "exception": false,
     "start_time": "2022-11-16T15:23:07.035494",
     "status": "completed"
    },
    "tags": []
   },
   "outputs": [],
   "source": [
    "df_train[\"general rating\"]=scaled_data[:,0]\n",
    "df_train[\"value rating\"]=scaled_data[:,1]\n",
    "df_train[\"atmosphere rating\"]=scaled_data[:,2]\n",
    "df_train[\"latitude\"]=scaled_data[:,3]\n",
    "df_train[\"longitude\"]=scaled_data[:,4]\n",
    "df_train[\"lg_rank\"]=scaled_data[:,5]\n",
    "df_train[\"lg_reviews\"]=scaled_data[:,6]"
   ]
  },
  {
   "cell_type": "markdown",
   "id": "ae2520aa",
   "metadata": {
    "papermill": {
     "duration": 0.035991,
     "end_time": "2022-11-16T15:23:07.156677",
     "exception": false,
     "start_time": "2022-11-16T15:23:07.120686",
     "status": "completed"
    },
    "tags": []
   },
   "source": [
    "### Label"
   ]
  },
  {
   "cell_type": "markdown",
   "id": "e798f5b0",
   "metadata": {
    "papermill": {
     "duration": 0.035529,
     "end_time": "2022-11-16T15:23:07.229565",
     "exception": false,
     "start_time": "2022-11-16T15:23:07.194036",
     "status": "completed"
    },
    "tags": []
   },
   "source": [
    "Our label is the pice tag, we will ordinal encode this"
   ]
  },
  {
   "cell_type": "code",
   "execution_count": 43,
   "id": "67fa3e9e",
   "metadata": {
    "execution": {
     "iopub.execute_input": "2022-11-16T15:23:07.304125Z",
     "iopub.status.busy": "2022-11-16T15:23:07.303697Z",
     "iopub.status.idle": "2022-11-16T15:23:07.313730Z",
     "shell.execute_reply": "2022-11-16T15:23:07.312687Z"
    },
    "papermill": {
     "duration": 0.0491,
     "end_time": "2022-11-16T15:23:07.316198",
     "exception": false,
     "start_time": "2022-11-16T15:23:07.267098",
     "status": "completed"
    },
    "tags": []
   },
   "outputs": [],
   "source": [
    "df_train.loc[df_train.price_tag==\"$\",\"price_tag\"]=0\n",
    "df_train.loc[df_train.price_tag==\"$$ - $$$\",\"price_tag\"]=1\n",
    "df_train.loc[df_train.price_tag==\"$$$$\",\"price_tag\"]=2"
   ]
  },
  {
   "cell_type": "code",
   "execution_count": 44,
   "id": "6dc4055e",
   "metadata": {
    "execution": {
     "iopub.execute_input": "2022-11-16T15:23:07.389605Z",
     "iopub.status.busy": "2022-11-16T15:23:07.388681Z",
     "iopub.status.idle": "2022-11-16T15:23:07.397450Z",
     "shell.execute_reply": "2022-11-16T15:23:07.396500Z"
    },
    "papermill": {
     "duration": 0.048464,
     "end_time": "2022-11-16T15:23:07.400122",
     "exception": false,
     "start_time": "2022-11-16T15:23:07.351658",
     "status": "completed"
    },
    "tags": []
   },
   "outputs": [],
   "source": [
    "y_train=df_train[\"price_tag\"].astype(int)\n",
    "df_train.drop(columns=[\"price_tag\"],inplace=True)"
   ]
  },
  {
   "cell_type": "markdown",
   "id": "b9ee6890",
   "metadata": {
    "papermill": {
     "duration": 0.040653,
     "end_time": "2022-11-16T15:23:07.476575",
     "exception": false,
     "start_time": "2022-11-16T15:23:07.435922",
     "status": "completed"
    },
    "tags": []
   },
   "source": [
    "Finally putting it all together"
   ]
  },
  {
   "cell_type": "code",
   "execution_count": 45,
   "id": "1bddb200",
   "metadata": {
    "execution": {
     "iopub.execute_input": "2022-11-16T15:23:07.571177Z",
     "iopub.status.busy": "2022-11-16T15:23:07.570732Z",
     "iopub.status.idle": "2022-11-16T15:23:07.579235Z",
     "shell.execute_reply": "2022-11-16T15:23:07.578026Z"
    },
    "papermill": {
     "duration": 0.057514,
     "end_time": "2022-11-16T15:23:07.581685",
     "exception": false,
     "start_time": "2022-11-16T15:23:07.524171",
     "status": "completed"
    },
    "tags": []
   },
   "outputs": [
    {
     "data": {
      "text/plain": [
       "(1554, 7)"
      ]
     },
     "execution_count": 45,
     "metadata": {},
     "output_type": "execute_result"
    }
   ],
   "source": [
    "# oh_cities.shape\n",
    "mh_encodings[0].shape"
   ]
  },
  {
   "cell_type": "code",
   "execution_count": 46,
   "id": "513eed22",
   "metadata": {
    "execution": {
     "iopub.execute_input": "2022-11-16T15:23:07.660169Z",
     "iopub.status.busy": "2022-11-16T15:23:07.659414Z",
     "iopub.status.idle": "2022-11-16T15:23:07.665454Z",
     "shell.execute_reply": "2022-11-16T15:23:07.664593Z"
    },
    "papermill": {
     "duration": 0.047115,
     "end_time": "2022-11-16T15:23:07.667660",
     "exception": false,
     "start_time": "2022-11-16T15:23:07.620545",
     "status": "completed"
    },
    "tags": []
   },
   "outputs": [
    {
     "data": {
      "text/plain": [
       "(1554, 39)"
      ]
     },
     "execution_count": 46,
     "metadata": {},
     "output_type": "execute_result"
    }
   ],
   "source": [
    "mh_encodings[1].shape"
   ]
  },
  {
   "cell_type": "code",
   "execution_count": 47,
   "id": "e5b805b0",
   "metadata": {
    "execution": {
     "iopub.execute_input": "2022-11-16T15:23:07.743673Z",
     "iopub.status.busy": "2022-11-16T15:23:07.742846Z",
     "iopub.status.idle": "2022-11-16T15:23:07.751253Z",
     "shell.execute_reply": "2022-11-16T15:23:07.749926Z"
    },
    "papermill": {
     "duration": 0.050517,
     "end_time": "2022-11-16T15:23:07.755344",
     "exception": false,
     "start_time": "2022-11-16T15:23:07.704827",
     "status": "completed"
    },
    "tags": []
   },
   "outputs": [
    {
     "data": {
      "text/plain": [
       "(1554, 46)"
      ]
     },
     "execution_count": 47,
     "metadata": {},
     "output_type": "execute_result"
    }
   ],
   "source": [
    "##testing if the shape is correct\n",
    "np.concatenate((mh_encodings[0],mh_encodings[1]),axis=1).shape"
   ]
  },
  {
   "cell_type": "code",
   "execution_count": 48,
   "id": "400f0827",
   "metadata": {
    "execution": {
     "iopub.execute_input": "2022-11-16T15:23:07.829104Z",
     "iopub.status.busy": "2022-11-16T15:23:07.828681Z",
     "iopub.status.idle": "2022-11-16T15:23:07.854208Z",
     "shell.execute_reply": "2022-11-16T15:23:07.853015Z"
    },
    "papermill": {
     "duration": 0.065694,
     "end_time": "2022-11-16T15:23:07.856827",
     "exception": false,
     "start_time": "2022-11-16T15:23:07.791133",
     "status": "completed"
    },
    "tags": []
   },
   "outputs": [
    {
     "data": {
      "text/html": [
       "<div>\n",
       "<style scoped>\n",
       "    .dataframe tbody tr th:only-of-type {\n",
       "        vertical-align: middle;\n",
       "    }\n",
       "\n",
       "    .dataframe tbody tr th {\n",
       "        vertical-align: top;\n",
       "    }\n",
       "\n",
       "    .dataframe thead th {\n",
       "        text-align: right;\n",
       "    }\n",
       "</style>\n",
       "<table border=\"1\" class=\"dataframe\">\n",
       "  <thead>\n",
       "    <tr style=\"text-align: right;\">\n",
       "      <th></th>\n",
       "      <th>general rating</th>\n",
       "      <th>travelers choice</th>\n",
       "      <th>michelin</th>\n",
       "      <th>value rating</th>\n",
       "      <th>atmosphere rating</th>\n",
       "      <th>latitude</th>\n",
       "      <th>longitude</th>\n",
       "      <th>rank_missing</th>\n",
       "      <th>atmosphere_missing</th>\n",
       "      <th>value_missing</th>\n",
       "      <th>general_missing</th>\n",
       "      <th>lg_rank</th>\n",
       "      <th>lg_reviews</th>\n",
       "    </tr>\n",
       "  </thead>\n",
       "  <tbody>\n",
       "    <tr>\n",
       "      <th>0</th>\n",
       "      <td>-0.942944</td>\n",
       "      <td>0</td>\n",
       "      <td>0</td>\n",
       "      <td>-2.093911</td>\n",
       "      <td>0.134304</td>\n",
       "      <td>-1.228275</td>\n",
       "      <td>1.240307</td>\n",
       "      <td>0</td>\n",
       "      <td>1</td>\n",
       "      <td>0</td>\n",
       "      <td>0</td>\n",
       "      <td>-0.920493</td>\n",
       "      <td>-0.286641</td>\n",
       "    </tr>\n",
       "    <tr>\n",
       "      <th>1</th>\n",
       "      <td>-0.942944</td>\n",
       "      <td>0</td>\n",
       "      <td>0</td>\n",
       "      <td>-1.007092</td>\n",
       "      <td>0.134304</td>\n",
       "      <td>-1.194586</td>\n",
       "      <td>1.223032</td>\n",
       "      <td>0</td>\n",
       "      <td>1</td>\n",
       "      <td>0</td>\n",
       "      <td>0</td>\n",
       "      <td>-1.272906</td>\n",
       "      <td>0.255239</td>\n",
       "    </tr>\n",
       "    <tr>\n",
       "      <th>2</th>\n",
       "      <td>-0.032798</td>\n",
       "      <td>0</td>\n",
       "      <td>0</td>\n",
       "      <td>0.079728</td>\n",
       "      <td>-1.696477</td>\n",
       "      <td>-1.368416</td>\n",
       "      <td>1.253582</td>\n",
       "      <td>0</td>\n",
       "      <td>0</td>\n",
       "      <td>0</td>\n",
       "      <td>0</td>\n",
       "      <td>-1.625319</td>\n",
       "      <td>1.414445</td>\n",
       "    </tr>\n",
       "    <tr>\n",
       "      <th>3</th>\n",
       "      <td>-0.032798</td>\n",
       "      <td>0</td>\n",
       "      <td>0</td>\n",
       "      <td>0.079728</td>\n",
       "      <td>0.134304</td>\n",
       "      <td>-2.038458</td>\n",
       "      <td>-0.235375</td>\n",
       "      <td>0</td>\n",
       "      <td>1</td>\n",
       "      <td>0</td>\n",
       "      <td>0</td>\n",
       "      <td>-0.714345</td>\n",
       "      <td>0.255239</td>\n",
       "    </tr>\n",
       "    <tr>\n",
       "      <th>4</th>\n",
       "      <td>0.877348</td>\n",
       "      <td>0</td>\n",
       "      <td>0</td>\n",
       "      <td>0.079728</td>\n",
       "      <td>0.134304</td>\n",
       "      <td>-1.987050</td>\n",
       "      <td>-0.228057</td>\n",
       "      <td>0</td>\n",
       "      <td>1</td>\n",
       "      <td>1</td>\n",
       "      <td>0</td>\n",
       "      <td>-0.568081</td>\n",
       "      <td>-0.160145</td>\n",
       "    </tr>\n",
       "    <tr>\n",
       "      <th>...</th>\n",
       "      <td>...</td>\n",
       "      <td>...</td>\n",
       "      <td>...</td>\n",
       "      <td>...</td>\n",
       "      <td>...</td>\n",
       "      <td>...</td>\n",
       "      <td>...</td>\n",
       "      <td>...</td>\n",
       "      <td>...</td>\n",
       "      <td>...</td>\n",
       "      <td>...</td>\n",
       "      <td>...</td>\n",
       "      <td>...</td>\n",
       "    </tr>\n",
       "    <tr>\n",
       "      <th>1549</th>\n",
       "      <td>-1.853091</td>\n",
       "      <td>0</td>\n",
       "      <td>0</td>\n",
       "      <td>-1.007092</td>\n",
       "      <td>0.134304</td>\n",
       "      <td>1.740752</td>\n",
       "      <td>-0.920066</td>\n",
       "      <td>0</td>\n",
       "      <td>1</td>\n",
       "      <td>0</td>\n",
       "      <td>0</td>\n",
       "      <td>-1.625319</td>\n",
       "      <td>-0.252981</td>\n",
       "    </tr>\n",
       "    <tr>\n",
       "      <th>1550</th>\n",
       "      <td>0.877348</td>\n",
       "      <td>0</td>\n",
       "      <td>0</td>\n",
       "      <td>0.079728</td>\n",
       "      <td>0.134304</td>\n",
       "      <td>-2.003139</td>\n",
       "      <td>-1.036335</td>\n",
       "      <td>0</td>\n",
       "      <td>1</td>\n",
       "      <td>1</td>\n",
       "      <td>0</td>\n",
       "      <td>-1.272906</td>\n",
       "      <td>-0.963455</td>\n",
       "    </tr>\n",
       "    <tr>\n",
       "      <th>1551</th>\n",
       "      <td>0.877348</td>\n",
       "      <td>0</td>\n",
       "      <td>0</td>\n",
       "      <td>2.253367</td>\n",
       "      <td>0.134304</td>\n",
       "      <td>-1.375886</td>\n",
       "      <td>0.964430</td>\n",
       "      <td>0</td>\n",
       "      <td>1</td>\n",
       "      <td>0</td>\n",
       "      <td>0</td>\n",
       "      <td>-1.272906</td>\n",
       "      <td>-1.052643</td>\n",
       "    </tr>\n",
       "    <tr>\n",
       "      <th>1552</th>\n",
       "      <td>-0.032798</td>\n",
       "      <td>0</td>\n",
       "      <td>0</td>\n",
       "      <td>1.166548</td>\n",
       "      <td>0.134304</td>\n",
       "      <td>-1.194395</td>\n",
       "      <td>0.640657</td>\n",
       "      <td>0</td>\n",
       "      <td>1</td>\n",
       "      <td>0</td>\n",
       "      <td>0</td>\n",
       "      <td>-1.625319</td>\n",
       "      <td>-0.438592</td>\n",
       "    </tr>\n",
       "    <tr>\n",
       "      <th>1553</th>\n",
       "      <td>-0.032798</td>\n",
       "      <td>0</td>\n",
       "      <td>0</td>\n",
       "      <td>1.166548</td>\n",
       "      <td>0.134304</td>\n",
       "      <td>1.183622</td>\n",
       "      <td>1.075507</td>\n",
       "      <td>0</td>\n",
       "      <td>1</td>\n",
       "      <td>0</td>\n",
       "      <td>0</td>\n",
       "      <td>-1.625319</td>\n",
       "      <td>-0.527780</td>\n",
       "    </tr>\n",
       "  </tbody>\n",
       "</table>\n",
       "<p>1554 rows × 13 columns</p>\n",
       "</div>"
      ],
      "text/plain": [
       "      general rating  travelers choice  michelin  value rating  \\\n",
       "0          -0.942944                 0         0     -2.093911   \n",
       "1          -0.942944                 0         0     -1.007092   \n",
       "2          -0.032798                 0         0      0.079728   \n",
       "3          -0.032798                 0         0      0.079728   \n",
       "4           0.877348                 0         0      0.079728   \n",
       "...              ...               ...       ...           ...   \n",
       "1549       -1.853091                 0         0     -1.007092   \n",
       "1550        0.877348                 0         0      0.079728   \n",
       "1551        0.877348                 0         0      2.253367   \n",
       "1552       -0.032798                 0         0      1.166548   \n",
       "1553       -0.032798                 0         0      1.166548   \n",
       "\n",
       "      atmosphere rating  latitude  longitude  rank_missing  \\\n",
       "0              0.134304 -1.228275   1.240307             0   \n",
       "1              0.134304 -1.194586   1.223032             0   \n",
       "2             -1.696477 -1.368416   1.253582             0   \n",
       "3              0.134304 -2.038458  -0.235375             0   \n",
       "4              0.134304 -1.987050  -0.228057             0   \n",
       "...                 ...       ...        ...           ...   \n",
       "1549           0.134304  1.740752  -0.920066             0   \n",
       "1550           0.134304 -2.003139  -1.036335             0   \n",
       "1551           0.134304 -1.375886   0.964430             0   \n",
       "1552           0.134304 -1.194395   0.640657             0   \n",
       "1553           0.134304  1.183622   1.075507             0   \n",
       "\n",
       "      atmosphere_missing  value_missing  general_missing   lg_rank  lg_reviews  \n",
       "0                      1              0                0 -0.920493   -0.286641  \n",
       "1                      1              0                0 -1.272906    0.255239  \n",
       "2                      0              0                0 -1.625319    1.414445  \n",
       "3                      1              0                0 -0.714345    0.255239  \n",
       "4                      1              1                0 -0.568081   -0.160145  \n",
       "...                  ...            ...              ...       ...         ...  \n",
       "1549                   1              0                0 -1.625319   -0.252981  \n",
       "1550                   1              1                0 -1.272906   -0.963455  \n",
       "1551                   1              0                0 -1.272906   -1.052643  \n",
       "1552                   1              0                0 -1.625319   -0.438592  \n",
       "1553                   1              0                0 -1.625319   -0.527780  \n",
       "\n",
       "[1554 rows x 13 columns]"
      ]
     },
     "execution_count": 48,
     "metadata": {},
     "output_type": "execute_result"
    }
   ],
   "source": [
    "df_train"
   ]
  },
  {
   "cell_type": "code",
   "execution_count": 49,
   "id": "0300d942",
   "metadata": {
    "execution": {
     "iopub.execute_input": "2022-11-16T15:23:07.934318Z",
     "iopub.status.busy": "2022-11-16T15:23:07.933490Z",
     "iopub.status.idle": "2022-11-16T15:23:07.943576Z",
     "shell.execute_reply": "2022-11-16T15:23:07.942563Z"
    },
    "papermill": {
     "duration": 0.052269,
     "end_time": "2022-11-16T15:23:07.945923",
     "exception": false,
     "start_time": "2022-11-16T15:23:07.893654",
     "status": "completed"
    },
    "tags": []
   },
   "outputs": [
    {
     "data": {
      "text/plain": [
       "(1554, 155)"
      ]
     },
     "execution_count": 49,
     "metadata": {},
     "output_type": "execute_result"
    }
   ],
   "source": [
    "X_train=np.concatenate((mh_encodings[0],mh_encodings[1],mh_encodings[2],mh_encodings[3],df_train),axis=1)\n",
    "X_train.shape"
   ]
  },
  {
   "cell_type": "markdown",
   "id": "98e55942",
   "metadata": {
    "papermill": {
     "duration": 0.036823,
     "end_time": "2022-11-16T15:23:08.019174",
     "exception": false,
     "start_time": "2022-11-16T15:23:07.982351",
     "status": "completed"
    },
    "tags": []
   },
   "source": [
    "We will also make a variable, feature labels, that will tell us where each feature in our array comes from."
   ]
  },
  {
   "cell_type": "code",
   "execution_count": 50,
   "id": "1a5c64e7",
   "metadata": {
    "execution": {
     "iopub.execute_input": "2022-11-16T15:23:08.098342Z",
     "iopub.status.busy": "2022-11-16T15:23:08.097589Z",
     "iopub.status.idle": "2022-11-16T15:23:08.102382Z",
     "shell.execute_reply": "2022-11-16T15:23:08.101593Z"
    },
    "papermill": {
     "duration": 0.04772,
     "end_time": "2022-11-16T15:23:08.104755",
     "exception": false,
     "start_time": "2022-11-16T15:23:08.057035",
     "status": "completed"
    },
    "tags": []
   },
   "outputs": [],
   "source": [
    "feature_labels=[]"
   ]
  },
  {
   "cell_type": "code",
   "execution_count": 51,
   "id": "733b1ce6",
   "metadata": {
    "execution": {
     "iopub.execute_input": "2022-11-16T15:23:08.183351Z",
     "iopub.status.busy": "2022-11-16T15:23:08.182572Z",
     "iopub.status.idle": "2022-11-16T15:23:08.188318Z",
     "shell.execute_reply": "2022-11-16T15:23:08.187410Z"
    },
    "papermill": {
     "duration": 0.04779,
     "end_time": "2022-11-16T15:23:08.191179",
     "exception": false,
     "start_time": "2022-11-16T15:23:08.143389",
     "status": "completed"
    },
    "tags": []
   },
   "outputs": [],
   "source": [
    "# feature_labels.extend(enc.categories_[0])\n",
    "for i in mlbs:\n",
    "    feature_labels.extend(i.classes_)\n",
    "feature_labels.extend(df_train.columns)"
   ]
  },
  {
   "cell_type": "code",
   "execution_count": 52,
   "id": "360c8d0d",
   "metadata": {
    "execution": {
     "iopub.execute_input": "2022-11-16T15:23:08.341166Z",
     "iopub.status.busy": "2022-11-16T15:23:08.340387Z",
     "iopub.status.idle": "2022-11-16T15:23:08.348053Z",
     "shell.execute_reply": "2022-11-16T15:23:08.346900Z"
    },
    "papermill": {
     "duration": 0.050038,
     "end_time": "2022-11-16T15:23:08.350483",
     "exception": false,
     "start_time": "2022-11-16T15:23:08.300445",
     "status": "completed"
    },
    "tags": []
   },
   "outputs": [
    {
     "data": {
      "text/plain": [
       "(155, ['Breakfast', 'Brunch', 'Dinner'])"
      ]
     },
     "execution_count": 52,
     "metadata": {},
     "output_type": "execute_result"
    }
   ],
   "source": [
    "len(feature_labels), feature_labels[:3]"
   ]
  },
  {
   "cell_type": "markdown",
   "id": "8e94f95e",
   "metadata": {
    "papermill": {
     "duration": 0.036959,
     "end_time": "2022-11-16T15:23:08.425953",
     "exception": false,
     "start_time": "2022-11-16T15:23:08.388994",
     "status": "completed"
    },
    "tags": []
   },
   "source": [
    "#### Now apply the same preprocessing for our test set\n"
   ]
  },
  {
   "cell_type": "markdown",
   "id": "e7881278",
   "metadata": {
    "papermill": {
     "duration": 0.037703,
     "end_time": "2022-11-16T15:23:08.501098",
     "exception": false,
     "start_time": "2022-11-16T15:23:08.463395",
     "status": "completed"
    },
    "tags": []
   },
   "source": [
    "First, fill in the missing locations with the city_centers"
   ]
  },
  {
   "cell_type": "code",
   "execution_count": 53,
   "id": "2cae3ea7",
   "metadata": {
    "execution": {
     "iopub.execute_input": "2022-11-16T15:23:08.580159Z",
     "iopub.status.busy": "2022-11-16T15:23:08.579766Z",
     "iopub.status.idle": "2022-11-16T15:23:08.590104Z",
     "shell.execute_reply": "2022-11-16T15:23:08.589187Z"
    },
    "papermill": {
     "duration": 0.053962,
     "end_time": "2022-11-16T15:23:08.592680",
     "exception": false,
     "start_time": "2022-11-16T15:23:08.538718",
     "status": "completed"
    },
    "tags": []
   },
   "outputs": [],
   "source": [
    "df_test=df_test.merge(city_centers,on=\"city\")"
   ]
  },
  {
   "cell_type": "code",
   "execution_count": 54,
   "id": "e2193aa2",
   "metadata": {
    "execution": {
     "iopub.execute_input": "2022-11-16T15:23:08.678499Z",
     "iopub.status.busy": "2022-11-16T15:23:08.677479Z",
     "iopub.status.idle": "2022-11-16T15:23:08.686703Z",
     "shell.execute_reply": "2022-11-16T15:23:08.685844Z"
    },
    "papermill": {
     "duration": 0.053966,
     "end_time": "2022-11-16T15:23:08.689167",
     "exception": false,
     "start_time": "2022-11-16T15:23:08.635201",
     "status": "completed"
    },
    "tags": []
   },
   "outputs": [],
   "source": [
    "df_test.loc[df_test.latitude.isna(),\"latitude\"]=df_test[df_test.latitude.isna()].latitude_center\n",
    "df_test.loc[df_test.longitude.isna(),\"longitude\"]=df_test[df_test.longitude.isna()].longitude_center"
   ]
  },
  {
   "cell_type": "code",
   "execution_count": 55,
   "id": "5ea30402",
   "metadata": {
    "execution": {
     "iopub.execute_input": "2022-11-16T15:23:08.768325Z",
     "iopub.status.busy": "2022-11-16T15:23:08.767678Z",
     "iopub.status.idle": "2022-11-16T15:23:08.775578Z",
     "shell.execute_reply": "2022-11-16T15:23:08.774425Z"
    },
    "papermill": {
     "duration": 0.051396,
     "end_time": "2022-11-16T15:23:08.778391",
     "exception": false,
     "start_time": "2022-11-16T15:23:08.726995",
     "status": "completed"
    },
    "tags": []
   },
   "outputs": [
    {
     "data": {
      "text/plain": [
       "0"
      ]
     },
     "execution_count": 55,
     "metadata": {},
     "output_type": "execute_result"
    }
   ],
   "source": [
    "df_test.latitude.isna().sum()"
   ]
  },
  {
   "cell_type": "code",
   "execution_count": 56,
   "id": "742408ac",
   "metadata": {
    "execution": {
     "iopub.execute_input": "2022-11-16T15:23:08.855562Z",
     "iopub.status.busy": "2022-11-16T15:23:08.854670Z",
     "iopub.status.idle": "2022-11-16T15:23:08.861385Z",
     "shell.execute_reply": "2022-11-16T15:23:08.860270Z"
    },
    "papermill": {
     "duration": 0.04919,
     "end_time": "2022-11-16T15:23:08.865021",
     "exception": false,
     "start_time": "2022-11-16T15:23:08.815831",
     "status": "completed"
    },
    "tags": []
   },
   "outputs": [],
   "source": [
    "df_test.drop(columns=[\"Unnamed: 0\",\"latitude_center\",\"longitude_center\"],inplace=True)"
   ]
  },
  {
   "cell_type": "code",
   "execution_count": 57,
   "id": "236b2741",
   "metadata": {
    "execution": {
     "iopub.execute_input": "2022-11-16T15:23:08.945901Z",
     "iopub.status.busy": "2022-11-16T15:23:08.944667Z",
     "iopub.status.idle": "2022-11-16T15:23:08.959524Z",
     "shell.execute_reply": "2022-11-16T15:23:08.958653Z"
    },
    "papermill": {
     "duration": 0.058757,
     "end_time": "2022-11-16T15:23:08.962182",
     "exception": false,
     "start_time": "2022-11-16T15:23:08.903425",
     "status": "completed"
    },
    "tags": []
   },
   "outputs": [],
   "source": [
    "#inserting the missing columns\n",
    "df_test[\"rank_missing\"]=0\n",
    "df_test[\"atmosphere_missing\"]=0\n",
    "df_test[\"value_missing\"]=0\n",
    "df_test[\"general_missing\"]=0\n",
    "df_test[\"atmosphere rating\"]=df_test[\"atmosphere rating\"].replace(-1,np.nan)\n",
    "df_test[\"value rating\"]=df_test[\"value rating\"].replace(-1,np.nan)\n",
    "df_test[\"general rating\"]=df_test[\"general rating\"].replace(-1,np.nan)\n",
    "df_test.loc[df_test[\"rank\"].isna(),\"rank_missing\"] = 1\n",
    "df_test.loc[df_test[\"atmosphere rating\"].isna(),\"atmosphere_missing\"] = 1\n",
    "df_test.loc[df_test[\"value rating\"].isna(),\"value_missing\"] = 1\n",
    "df_test.loc[df_test[\"general rating\"].isna(),\"general_missing\"] = 1\n"
   ]
  },
  {
   "cell_type": "markdown",
   "id": "cd31d2a1",
   "metadata": {
    "papermill": {
     "duration": 0.039686,
     "end_time": "2022-11-16T15:23:09.040652",
     "exception": false,
     "start_time": "2022-11-16T15:23:09.000966",
     "status": "completed"
    },
    "tags": []
   },
   "source": [
    "Imputing our data"
   ]
  },
  {
   "cell_type": "code",
   "execution_count": 58,
   "id": "9732fb8f",
   "metadata": {
    "execution": {
     "iopub.execute_input": "2022-11-16T15:23:09.124734Z",
     "iopub.status.busy": "2022-11-16T15:23:09.123909Z",
     "iopub.status.idle": "2022-11-16T15:23:09.141772Z",
     "shell.execute_reply": "2022-11-16T15:23:09.140195Z"
    },
    "papermill": {
     "duration": 0.064297,
     "end_time": "2022-11-16T15:23:09.146220",
     "exception": false,
     "start_time": "2022-11-16T15:23:09.081923",
     "status": "completed"
    },
    "tags": []
   },
   "outputs": [
    {
     "name": "stdout",
     "output_type": "stream",
     "text": [
      "(389, 4)\n"
     ]
    }
   ],
   "source": [
    "#inputing our data\n",
    "imputed_data=imp_mean.transform(df_test[[\"rank\",\"general rating\",\"value rating\",\"atmosphere rating\"]])\n",
    "print(imputed_data.shape)\n",
    "df_test[\"rank\"]=imputed_data[:,0]\n",
    "df_test[\"general rating\"]=imputed_data[:,1]\n",
    "df_test[\"value rating\"]=imputed_data[:,2]\n",
    "df_test[\"atmosphere rating\"]=imputed_data[:,3]\n",
    "df_test[\"lg_rank\"]=np.log(df_test[\"rank\"])\n",
    "df_test[\"lg_reviews\"]=np.log(df_test[\"number of reviews\"]+1)\n",
    "df_test.drop(columns=[\"rank\",\"number of reviews\"],inplace=True)\n",
    "df_test[\"travelers choice\"]=df_test[\"travelers choice\"].astype(int)\n",
    "df_test[\"michelin\"]=df_test[\"michelin\"].astype(int)"
   ]
  },
  {
   "cell_type": "markdown",
   "id": "a0b69f5e",
   "metadata": {
    "papermill": {
     "duration": 0.046774,
     "end_time": "2022-11-16T15:23:09.236634",
     "exception": false,
     "start_time": "2022-11-16T15:23:09.189860",
     "status": "completed"
    },
    "tags": []
   },
   "source": [
    "Multihot encoding"
   ]
  },
  {
   "cell_type": "code",
   "execution_count": 59,
   "id": "86b8ee7c",
   "metadata": {
    "execution": {
     "iopub.execute_input": "2022-11-16T15:23:09.317837Z",
     "iopub.status.busy": "2022-11-16T15:23:09.317389Z",
     "iopub.status.idle": "2022-11-16T15:23:09.546913Z",
     "shell.execute_reply": "2022-11-16T15:23:09.545625Z"
    },
    "papermill": {
     "duration": 0.27357,
     "end_time": "2022-11-16T15:23:09.550205",
     "exception": false,
     "start_time": "2022-11-16T15:23:09.276635",
     "status": "completed"
    },
    "tags": []
   },
   "outputs": [],
   "source": [
    "for col in mutlihot_col:\n",
    "    df_test[col]=df_test[col].fillna(col+\"_missing\").str.replace(\" \",\"\").str.split(\",\")"
   ]
  },
  {
   "cell_type": "code",
   "execution_count": 60,
   "id": "f19e8e5f",
   "metadata": {
    "execution": {
     "iopub.execute_input": "2022-11-16T15:23:09.632204Z",
     "iopub.status.busy": "2022-11-16T15:23:09.631554Z",
     "iopub.status.idle": "2022-11-16T15:23:09.647068Z",
     "shell.execute_reply": "2022-11-16T15:23:09.645416Z"
    },
    "papermill": {
     "duration": 0.061395,
     "end_time": "2022-11-16T15:23:09.649610",
     "exception": false,
     "start_time": "2022-11-16T15:23:09.588215",
     "status": "completed"
    },
    "tags": []
   },
   "outputs": [
    {
     "name": "stderr",
     "output_type": "stream",
     "text": [
      "/opt/conda/lib/python3.7/site-packages/sklearn/preprocessing/_label.py:876: UserWarning: unknown class(es) ['DriveThru'] will be ignored\n",
      "  \"unknown class(es) {0} will be ignored\".format(sorted(unknown, key=str))\n",
      "/opt/conda/lib/python3.7/site-packages/sklearn/preprocessing/_label.py:876: UserWarning: unknown class(es) ['Ethiopian', 'Filipino', 'Malaysian', 'Taiwanese'] will be ignored\n",
      "  \"unknown class(es) {0} will be ignored\".format(sorted(unknown, key=str))\n"
     ]
    }
   ],
   "source": [
    "#multihot encoding\n",
    "# mlbs=[]\n",
    "columns=[\"meals\",\"restaurant features\",\"cuisines\",\"special diets\"]\n",
    "mh_encodings=[]\n",
    "for i,col in enumerate(columns):\n",
    "    mlb= mlbs[i]\n",
    "    mh_encodings.append(mlb.transform(df_test[col]))\n"
   ]
  },
  {
   "cell_type": "markdown",
   "id": "9ff71e32",
   "metadata": {
    "papermill": {
     "duration": 0.040536,
     "end_time": "2022-11-16T15:23:09.730162",
     "exception": false,
     "start_time": "2022-11-16T15:23:09.689626",
     "status": "completed"
    },
    "tags": []
   },
   "source": [
    "We can already see that there are classs in our test set that don't appear in our trainingsset, we will ignore these"
   ]
  },
  {
   "cell_type": "code",
   "execution_count": 61,
   "id": "5ee69c30",
   "metadata": {
    "execution": {
     "iopub.execute_input": "2022-11-16T15:23:09.812439Z",
     "iopub.status.busy": "2022-11-16T15:23:09.811782Z",
     "iopub.status.idle": "2022-11-16T15:23:09.820211Z",
     "shell.execute_reply": "2022-11-16T15:23:09.819260Z"
    },
    "papermill": {
     "duration": 0.053468,
     "end_time": "2022-11-16T15:23:09.823607",
     "exception": false,
     "start_time": "2022-11-16T15:23:09.770139",
     "status": "completed"
    },
    "tags": []
   },
   "outputs": [],
   "source": [
    "#OH encoding\n",
    "# enc=OneHotEncoder(sparse=False,handle_unknown=\"infrequent_if_exist\")\n",
    "# enc.transform(np.array(df_test[\"city\"]).reshape(-1,1))\n",
    "# oh_cities=enc.transform(np.array(df_test[\"city\"]).reshape(-1,1))\n",
    "df_test.drop(columns=[\"cuisines\",\"special diets\",\"meals\",\"restaurant features\",\"city\"],inplace=True)\n"
   ]
  },
  {
   "cell_type": "code",
   "execution_count": 62,
   "id": "9ece82d8",
   "metadata": {
    "execution": {
     "iopub.execute_input": "2022-11-16T15:23:09.907560Z",
     "iopub.status.busy": "2022-11-16T15:23:09.906883Z",
     "iopub.status.idle": "2022-11-16T15:23:09.923051Z",
     "shell.execute_reply": "2022-11-16T15:23:09.921983Z"
    },
    "papermill": {
     "duration": 0.061001,
     "end_time": "2022-11-16T15:23:09.925625",
     "exception": false,
     "start_time": "2022-11-16T15:23:09.864624",
     "status": "completed"
    },
    "tags": []
   },
   "outputs": [],
   "source": [
    "#scaling\n",
    "# scaler = StandardScaler()\n",
    "scaled_data=scaler.transform(df_test[[\"general rating\",\"value rating\",\"atmosphere rating\",\"latitude\",\"longitude\",\"lg_rank\",\"lg_reviews\"]])\n",
    "scaled_data.shape\n",
    "df_test[\"general rating\"]=scaled_data[:,0]\n",
    "df_test[\"value rating\"]=scaled_data[:,1]\n",
    "df_test[\"atmosphere rating\"]=scaled_data[:,2]\n",
    "df_test[\"latitude\"]=scaled_data[:,3]\n",
    "df_test[\"longitude\"]=scaled_data[:,4]\n",
    "df_test[\"lg_rank\"]=scaled_data[:,5]\n",
    "df_test[\"lg_reviews\"]=scaled_data[:,6]\n",
    "df_test.loc[df_test.price_tag==\"$\",\"price_tag\"]=0\n",
    "df_test.loc[df_test.price_tag==\"$$ - $$$\",\"price_tag\"]=1\n",
    "df_test.loc[df_test.price_tag==\"$$$$\",\"price_tag\"]=2\n",
    "\n",
    "y_test=df_test[\"price_tag\"].astype(int)\n",
    "df_test.drop(columns=[\"price_tag\"],inplace=True)\n",
    "\n"
   ]
  },
  {
   "cell_type": "code",
   "execution_count": 63,
   "id": "eb5bde5b",
   "metadata": {
    "execution": {
     "iopub.execute_input": "2022-11-16T15:23:10.006378Z",
     "iopub.status.busy": "2022-11-16T15:23:10.005758Z",
     "iopub.status.idle": "2022-11-16T15:23:10.012859Z",
     "shell.execute_reply": "2022-11-16T15:23:10.011698Z"
    },
    "papermill": {
     "duration": 0.050456,
     "end_time": "2022-11-16T15:23:10.015570",
     "exception": false,
     "start_time": "2022-11-16T15:23:09.965114",
     "status": "completed"
    },
    "tags": []
   },
   "outputs": [],
   "source": [
    "X_test=np.concatenate((mh_encodings[0],mh_encodings[1],mh_encodings[2],mh_encodings[3],df_test),axis=1)"
   ]
  },
  {
   "cell_type": "code",
   "execution_count": 64,
   "id": "e97f4c6a",
   "metadata": {
    "execution": {
     "iopub.execute_input": "2022-11-16T15:23:10.097714Z",
     "iopub.status.busy": "2022-11-16T15:23:10.096987Z",
     "iopub.status.idle": "2022-11-16T15:23:10.105590Z",
     "shell.execute_reply": "2022-11-16T15:23:10.104316Z"
    },
    "papermill": {
     "duration": 0.053416,
     "end_time": "2022-11-16T15:23:10.108398",
     "exception": false,
     "start_time": "2022-11-16T15:23:10.054982",
     "status": "completed"
    },
    "tags": []
   },
   "outputs": [
    {
     "data": {
      "text/plain": [
       "((1554, 155), (1554,), (389, 155), (389,))"
      ]
     },
     "execution_count": 64,
     "metadata": {},
     "output_type": "execute_result"
    }
   ],
   "source": [
    "X_train.shape,y_train.shape, X_test.shape,y_test.shape"
   ]
  },
  {
   "cell_type": "markdown",
   "id": "547e7d59",
   "metadata": {
    "papermill": {
     "duration": 0.03717,
     "end_time": "2022-11-16T15:23:10.184176",
     "exception": false,
     "start_time": "2022-11-16T15:23:10.147006",
     "status": "completed"
    },
    "tags": []
   },
   "source": [
    "### Baseline"
   ]
  },
  {
   "cell_type": "code",
   "execution_count": 65,
   "id": "d6396569",
   "metadata": {
    "execution": {
     "iopub.execute_input": "2022-11-16T15:23:10.264459Z",
     "iopub.status.busy": "2022-11-16T15:23:10.264037Z",
     "iopub.status.idle": "2022-11-16T15:23:10.574449Z",
     "shell.execute_reply": "2022-11-16T15:23:10.573365Z"
    },
    "papermill": {
     "duration": 0.354187,
     "end_time": "2022-11-16T15:23:10.577269",
     "exception": false,
     "start_time": "2022-11-16T15:23:10.223082",
     "status": "completed"
    },
    "tags": []
   },
   "outputs": [
    {
     "data": {
      "text/plain": [
       "0.7660668380462725"
      ]
     },
     "execution_count": 65,
     "metadata": {},
     "output_type": "execute_result"
    }
   ],
   "source": [
    "from sklearn.metrics import accuracy_score\n",
    "from sklearn.ensemble import RandomForestClassifier\n",
    "\n",
    "rf = RandomForestClassifier(100, min_samples_leaf=5)\n",
    "rf.fit(X_train, y_train)\n",
    "accuracy_score(y_test, rf.predict(X_test))"
   ]
  },
  {
   "cell_type": "markdown",
   "id": "98c76fd0",
   "metadata": {
    "papermill": {
     "duration": 0.037016,
     "end_time": "2022-11-16T15:23:10.652543",
     "exception": false,
     "start_time": "2022-11-16T15:23:10.615527",
     "status": "completed"
    },
    "tags": []
   },
   "source": [
    "This is already a good result, we can also find the features that were used the most in the descision trees to make splits (the important features)"
   ]
  },
  {
   "cell_type": "code",
   "execution_count": 66,
   "id": "7ac6d995",
   "metadata": {
    "execution": {
     "iopub.execute_input": "2022-11-16T15:23:10.728803Z",
     "iopub.status.busy": "2022-11-16T15:23:10.728235Z",
     "iopub.status.idle": "2022-11-16T15:23:10.746913Z",
     "shell.execute_reply": "2022-11-16T15:23:10.746056Z"
    },
    "papermill": {
     "duration": 0.059628,
     "end_time": "2022-11-16T15:23:10.749214",
     "exception": false,
     "start_time": "2022-11-16T15:23:10.689586",
     "status": "completed"
    },
    "tags": []
   },
   "outputs": [
    {
     "data": {
      "text/plain": [
       "array([4.10291547e-03, 3.71751723e-03, 2.69687957e-02, 3.22500418e-03,\n",
       "       1.97404979e-03, 7.05451047e-03, 1.05630309e-02, 4.17187988e-04,\n",
       "       5.36557618e-03, 0.00000000e+00, 2.51314335e-03, 1.80998988e-03,\n",
       "       0.00000000e+00, 0.00000000e+00, 3.56434556e-04, 4.09723050e-04,\n",
       "       4.32329076e-03, 3.61857540e-03, 3.33269176e-04, 7.71155635e-04,\n",
       "       4.47179006e-03, 1.18242183e-03, 3.96217357e-03, 3.21939793e-03,\n",
       "       9.25648674e-03, 0.00000000e+00, 0.00000000e+00, 6.99421440e-04,\n",
       "       7.03373284e-03, 5.56913131e-03, 0.00000000e+00, 3.65971552e-03,\n",
       "       8.68639189e-02, 1.79016365e-02, 2.41483027e-02, 0.00000000e+00,\n",
       "       1.83330549e-03, 7.41434828e-02, 3.03199912e-02, 1.88601450e-03,\n",
       "       0.00000000e+00, 2.32071718e-03, 0.00000000e+00, 1.27715554e-02,\n",
       "       2.74371148e-03, 3.14036400e-02, 0.00000000e+00, 0.00000000e+00,\n",
       "       0.00000000e+00, 0.00000000e+00, 0.00000000e+00, 0.00000000e+00,\n",
       "       0.00000000e+00, 6.16271739e-03, 0.00000000e+00, 0.00000000e+00,\n",
       "       1.83312314e-03, 0.00000000e+00, 0.00000000e+00, 1.76652316e-02,\n",
       "       0.00000000e+00, 0.00000000e+00, 0.00000000e+00, 6.25940808e-03,\n",
       "       0.00000000e+00, 0.00000000e+00, 0.00000000e+00, 0.00000000e+00,\n",
       "       0.00000000e+00, 0.00000000e+00, 5.73416749e-04, 3.66654020e-03,\n",
       "       1.77162775e-03, 0.00000000e+00, 0.00000000e+00, 4.69591234e-04,\n",
       "       1.73513291e-03, 0.00000000e+00, 3.18619955e-03, 0.00000000e+00,\n",
       "       0.00000000e+00, 2.92814635e-02, 2.38965333e-02, 1.66771713e-02,\n",
       "       5.00452469e-05, 1.49591665e-03, 0.00000000e+00, 0.00000000e+00,\n",
       "       2.53000465e-04, 7.23158488e-04, 0.00000000e+00, 1.69521823e-03,\n",
       "       3.95313442e-04, 0.00000000e+00, 3.73562306e-04, 0.00000000e+00,\n",
       "       3.83639762e-03, 1.42533143e-03, 0.00000000e+00, 0.00000000e+00,\n",
       "       0.00000000e+00, 0.00000000e+00, 0.00000000e+00, 0.00000000e+00,\n",
       "       1.55037849e-03, 0.00000000e+00, 5.11564930e-03, 0.00000000e+00,\n",
       "       0.00000000e+00, 0.00000000e+00, 0.00000000e+00, 0.00000000e+00,\n",
       "       0.00000000e+00, 0.00000000e+00, 0.00000000e+00, 2.52486015e-03,\n",
       "       0.00000000e+00, 2.29134946e-03, 0.00000000e+00, 0.00000000e+00,\n",
       "       1.11720411e-02, 0.00000000e+00, 1.89827169e-03, 0.00000000e+00,\n",
       "       0.00000000e+00, 2.45407499e-04, 0.00000000e+00, 7.70828007e-05,\n",
       "       9.06841508e-04, 0.00000000e+00, 8.76493799e-04, 0.00000000e+00,\n",
       "       9.22996756e-03, 0.00000000e+00, 0.00000000e+00, 0.00000000e+00,\n",
       "       3.92503533e-03, 1.46884430e-02, 0.00000000e+00, 5.56376532e-03,\n",
       "       8.62881243e-03, 8.96096797e-03, 2.90781518e-02, 1.61577397e-03,\n",
       "       3.43024861e-02, 3.04612858e-02, 4.19121141e-03, 5.82474176e-02,\n",
       "       4.75175375e-02, 7.14551562e-03, 1.18189883e-02, 1.92792014e-02,\n",
       "       3.31127848e-03, 6.70930184e-02, 8.19419486e-02])"
      ]
     },
     "execution_count": 66,
     "metadata": {},
     "output_type": "execute_result"
    }
   ],
   "source": [
    "rf.feature_importances_"
   ]
  },
  {
   "cell_type": "code",
   "execution_count": 67,
   "id": "b479097d",
   "metadata": {
    "execution": {
     "iopub.execute_input": "2022-11-16T15:23:10.831852Z",
     "iopub.status.busy": "2022-11-16T15:23:10.830949Z",
     "iopub.status.idle": "2022-11-16T15:23:10.849011Z",
     "shell.execute_reply": "2022-11-16T15:23:10.847699Z"
    },
    "papermill": {
     "duration": 0.064562,
     "end_time": "2022-11-16T15:23:10.852148",
     "exception": false,
     "start_time": "2022-11-16T15:23:10.787586",
     "status": "completed"
    },
    "tags": []
   },
   "outputs": [],
   "source": [
    "importances=pd.DataFrame(dict(cols=feature_labels, imp=rf.feature_importances_))"
   ]
  },
  {
   "cell_type": "code",
   "execution_count": 68,
   "id": "d4ce3b6e",
   "metadata": {
    "execution": {
     "iopub.execute_input": "2022-11-16T15:23:10.931580Z",
     "iopub.status.busy": "2022-11-16T15:23:10.930793Z",
     "iopub.status.idle": "2022-11-16T15:23:10.944188Z",
     "shell.execute_reply": "2022-11-16T15:23:10.942540Z"
    },
    "papermill": {
     "duration": 0.055581,
     "end_time": "2022-11-16T15:23:10.946737",
     "exception": false,
     "start_time": "2022-11-16T15:23:10.891156",
     "status": "completed"
    },
    "tags": []
   },
   "outputs": [
    {
     "data": {
      "text/html": [
       "<div>\n",
       "<style scoped>\n",
       "    .dataframe tbody tr th:only-of-type {\n",
       "        vertical-align: middle;\n",
       "    }\n",
       "\n",
       "    .dataframe tbody tr th {\n",
       "        vertical-align: top;\n",
       "    }\n",
       "\n",
       "    .dataframe thead th {\n",
       "        text-align: right;\n",
       "    }\n",
       "</style>\n",
       "<table border=\"1\" class=\"dataframe\">\n",
       "  <thead>\n",
       "    <tr style=\"text-align: right;\">\n",
       "      <th></th>\n",
       "      <th>cols</th>\n",
       "      <th>imp</th>\n",
       "    </tr>\n",
       "  </thead>\n",
       "  <tbody>\n",
       "    <tr>\n",
       "      <th>32</th>\n",
       "      <td>Reservations</td>\n",
       "      <td>0.086864</td>\n",
       "    </tr>\n",
       "    <tr>\n",
       "      <th>154</th>\n",
       "      <td>lg_reviews</td>\n",
       "      <td>0.081942</td>\n",
       "    </tr>\n",
       "    <tr>\n",
       "      <th>37</th>\n",
       "      <td>TableService</td>\n",
       "      <td>0.074143</td>\n",
       "    </tr>\n",
       "    <tr>\n",
       "      <th>153</th>\n",
       "      <td>lg_rank</td>\n",
       "      <td>0.067093</td>\n",
       "    </tr>\n",
       "    <tr>\n",
       "      <th>147</th>\n",
       "      <td>latitude</td>\n",
       "      <td>0.058247</td>\n",
       "    </tr>\n",
       "    <tr>\n",
       "      <th>148</th>\n",
       "      <td>longitude</td>\n",
       "      <td>0.047518</td>\n",
       "    </tr>\n",
       "    <tr>\n",
       "      <th>144</th>\n",
       "      <td>michelin</td>\n",
       "      <td>0.034302</td>\n",
       "    </tr>\n",
       "    <tr>\n",
       "      <th>45</th>\n",
       "      <td>restaurantfeatures_missing</td>\n",
       "      <td>0.031404</td>\n",
       "    </tr>\n",
       "    <tr>\n",
       "      <th>145</th>\n",
       "      <td>value rating</td>\n",
       "      <td>0.030461</td>\n",
       "    </tr>\n",
       "    <tr>\n",
       "      <th>38</th>\n",
       "      <td>Takeout</td>\n",
       "      <td>0.030320</td>\n",
       "    </tr>\n",
       "  </tbody>\n",
       "</table>\n",
       "</div>"
      ],
      "text/plain": [
       "                           cols       imp\n",
       "32                 Reservations  0.086864\n",
       "154                  lg_reviews  0.081942\n",
       "37                 TableService  0.074143\n",
       "153                     lg_rank  0.067093\n",
       "147                    latitude  0.058247\n",
       "148                   longitude  0.047518\n",
       "144                    michelin  0.034302\n",
       "45   restaurantfeatures_missing  0.031404\n",
       "145                value rating  0.030461\n",
       "38                      Takeout  0.030320"
      ]
     },
     "execution_count": 68,
     "metadata": {},
     "output_type": "execute_result"
    }
   ],
   "source": [
    "importances.sort_values(\"imp\",ascending=False).head(10)"
   ]
  },
  {
   "cell_type": "markdown",
   "id": "c11e5b55",
   "metadata": {
    "papermill": {
     "duration": 0.040561,
     "end_time": "2022-11-16T15:23:11.027349",
     "exception": false,
     "start_time": "2022-11-16T15:23:10.986788",
     "status": "completed"
    },
    "tags": []
   },
   "source": [
    "Above we can see  the 10 most important features for our random forest ensemble. It is interesting to see that we were right, the fact that a feature is missing is important for the classifier, \"restaurant features missing\" is in the top 10 as a feature. It is also interesting to see that Table service and reviews are the most inmortant features to determine our price tag."
   ]
  },
  {
   "cell_type": "markdown",
   "id": "a43c3623",
   "metadata": {
    "papermill": {
     "duration": 0.040302,
     "end_time": "2022-11-16T15:23:11.106899",
     "exception": false,
     "start_time": "2022-11-16T15:23:11.066597",
     "status": "completed"
    },
    "tags": []
   },
   "source": [
    "### Model selection\n",
    "\n",
    "Our first idea was to try out a lot of different classifiers with default parameters, look which ones have the best accuracy and then do a grid search on the best three models and pick the best one. When we finished this we realised that our dataset is heavily imbalanced and we have to do something about this.\n",
    "\n",
    "\n",
    "*NOTE: we have class imabalance so we chose models that have the class weight property*\n",
    "\n",
    "we must choose our performance metric carefully because of the class imbalance [this article](\"https://towardsdatascience.com/multiclass-classification-evaluation-with-roc-curves-and-roc-auc-294fd4617e3a\") for inspiration"
   ]
  },
  {
   "cell_type": "code",
   "execution_count": 69,
   "id": "75783fe7",
   "metadata": {
    "execution": {
     "iopub.execute_input": "2022-11-16T15:23:11.187319Z",
     "iopub.status.busy": "2022-11-16T15:23:11.186531Z",
     "iopub.status.idle": "2022-11-16T15:23:11.194628Z",
     "shell.execute_reply": "2022-11-16T15:23:11.192829Z"
    },
    "papermill": {
     "duration": 0.052688,
     "end_time": "2022-11-16T15:23:11.197526",
     "exception": false,
     "start_time": "2022-11-16T15:23:11.144838",
     "status": "completed"
    },
    "tags": []
   },
   "outputs": [],
   "source": [
    "from sklearn.metrics import confusion_matrix\n",
    "from sklearn.metrics import balanced_accuracy_score\n",
    "def plot_cm(classifier):\n",
    "    cm=confusion_matrix(y_test, classifier.predict(X_test))\n",
    "    df_cm = pd.DataFrame(cm, columns=np.unique(y_test), index = np.unique(y_test))\n",
    "    df_cm.index.name = 'Actual'\n",
    "    df_cm.columns.name = 'Predicted'\n",
    "\n",
    "    sns.heatmap(df_cm, cbar=False, annot=True, square=True, fmt='.0f',\n",
    "                annot_kws={'size': 10})"
   ]
  },
  {
   "cell_type": "code",
   "execution_count": 70,
   "id": "a3fc8d8a",
   "metadata": {
    "execution": {
     "iopub.execute_input": "2022-11-16T15:23:11.278855Z",
     "iopub.status.busy": "2022-11-16T15:23:11.278124Z",
     "iopub.status.idle": "2022-11-16T15:23:11.282570Z",
     "shell.execute_reply": "2022-11-16T15:23:11.281769Z"
    },
    "papermill": {
     "duration": 0.048035,
     "end_time": "2022-11-16T15:23:11.284916",
     "exception": false,
     "start_time": "2022-11-16T15:23:11.236881",
     "status": "completed"
    },
    "tags": []
   },
   "outputs": [],
   "source": [
    "classifiers=[\"svc linear\",\"svc rbf\",\"Logistic Regression\",\"Naive Bayes\",\"Light Gradient Boosting machine(LGBM)\",\"xgboost\",\"catboost\"]\n",
    "scores_list=[]"
   ]
  },
  {
   "cell_type": "markdown",
   "id": "a7e5be25",
   "metadata": {
    "papermill": {
     "duration": 0.039874,
     "end_time": "2022-11-16T15:23:11.364422",
     "exception": false,
     "start_time": "2022-11-16T15:23:11.324548",
     "status": "completed"
    },
    "tags": []
   },
   "source": [
    "**SVC linear**"
   ]
  },
  {
   "cell_type": "markdown",
   "id": "a3189921",
   "metadata": {
    "papermill": {
     "duration": 0.040225,
     "end_time": "2022-11-16T15:23:11.444125",
     "exception": false,
     "start_time": "2022-11-16T15:23:11.403900",
     "status": "completed"
    },
    "tags": []
   },
   "source": [
    "Quick experiment to see the effect of the class weight."
   ]
  },
  {
   "cell_type": "code",
   "execution_count": 71,
   "id": "f114bf69",
   "metadata": {
    "execution": {
     "iopub.execute_input": "2022-11-16T15:23:11.527216Z",
     "iopub.status.busy": "2022-11-16T15:23:11.526768Z",
     "iopub.status.idle": "2022-11-16T15:23:11.716411Z",
     "shell.execute_reply": "2022-11-16T15:23:11.714330Z"
    },
    "papermill": {
     "duration": 0.235793,
     "end_time": "2022-11-16T15:23:11.720222",
     "exception": false,
     "start_time": "2022-11-16T15:23:11.484429",
     "status": "completed"
    },
    "tags": []
   },
   "outputs": [
    {
     "name": "stdout",
     "output_type": "stream",
     "text": [
      "The score is:  0.7634961439588689\n",
      "The balanced accuracy is:  0.33749999999999997\n"
     ]
    }
   ],
   "source": [
    "clf=SVC(kernel=\"linear\", C=0.025)\n",
    "clf.fit(X_train,y_train)\n",
    "pred=clf.predict(X_test)\n",
    "mscore=clf.score(X_test,y_test)\n",
    "balanced_score=balanced_accuracy_score(y_test,pred)\n",
    "print(\"The score is: \",mscore)\n",
    "print(\"The balanced accuracy is: \",balanced_score)"
   ]
  },
  {
   "cell_type": "code",
   "execution_count": 72,
   "id": "344098d7",
   "metadata": {
    "execution": {
     "iopub.execute_input": "2022-11-16T15:23:11.802136Z",
     "iopub.status.busy": "2022-11-16T15:23:11.801705Z",
     "iopub.status.idle": "2022-11-16T15:23:12.144083Z",
     "shell.execute_reply": "2022-11-16T15:23:12.142554Z"
    },
    "papermill": {
     "duration": 0.386631,
     "end_time": "2022-11-16T15:23:12.146630",
     "exception": false,
     "start_time": "2022-11-16T15:23:11.759999",
     "status": "completed"
    },
    "tags": []
   },
   "outputs": [
    {
     "name": "stdout",
     "output_type": "stream",
     "text": [
      "The score is:  0.6683804627249358\n",
      "The balanced accuracy is:  0.6683038808038808\n"
     ]
    }
   ],
   "source": [
    "clf=SVC(kernel=\"linear\", C=0.025,class_weight=\"balanced\")\n",
    "clf.fit(X_train,y_train)\n",
    "pred=clf.predict(X_test)\n",
    "mscore=clf.score(X_test,y_test)\n",
    "balanced_score=balanced_accuracy_score(y_test,pred)\n",
    "print(\"The score is: \",mscore)\n",
    "print(\"The balanced accuracy is: \",balanced_score)\n",
    "scores_list.append(balanced_score)"
   ]
  },
  {
   "cell_type": "code",
   "execution_count": 73,
   "id": "e7aeb24f",
   "metadata": {
    "execution": {
     "iopub.execute_input": "2022-11-16T15:23:12.236492Z",
     "iopub.status.busy": "2022-11-16T15:23:12.235668Z",
     "iopub.status.idle": "2022-11-16T15:23:12.408538Z",
     "shell.execute_reply": "2022-11-16T15:23:12.406837Z"
    },
    "papermill": {
     "duration": 0.222183,
     "end_time": "2022-11-16T15:23:12.413025",
     "exception": false,
     "start_time": "2022-11-16T15:23:12.190842",
     "status": "completed"
    },
    "tags": []
   },
   "outputs": [
    {
     "data": {
      "image/png": "[encoded data removed]",
      "text/plain": [
       "<Figure size 432x288 with 1 Axes>"
      ]
     },
     "metadata": {
      "needs_background": "light"
     },
     "output_type": "display_data"
    }
   ],
   "source": [
    "plot_cm(clf)"
   ]
  },
  {
   "cell_type": "markdown",
   "id": "1e208cc4",
   "metadata": {
    "papermill": {
     "duration": 0.03785,
     "end_time": "2022-11-16T15:23:12.494719",
     "exception": false,
     "start_time": "2022-11-16T15:23:12.456869",
     "status": "completed"
    },
    "tags": []
   },
   "source": [
    "**SVC rbf**\n"
   ]
  },
  {
   "cell_type": "code",
   "execution_count": 74,
   "id": "e4ba0270",
   "metadata": {
    "execution": {
     "iopub.execute_input": "2022-11-16T15:23:12.573389Z",
     "iopub.status.busy": "2022-11-16T15:23:12.572660Z",
     "iopub.status.idle": "2022-11-16T15:23:13.450943Z",
     "shell.execute_reply": "2022-11-16T15:23:13.449495Z"
    },
    "papermill": {
     "duration": 0.92308,
     "end_time": "2022-11-16T15:23:13.456045",
     "exception": false,
     "start_time": "2022-11-16T15:23:12.532965",
     "status": "completed"
    },
    "tags": []
   },
   "outputs": [
    {
     "name": "stdout",
     "output_type": "stream",
     "text": [
      "The score is:  0.7583547557840618\n",
      "The balanced accuracy is:  0.3322072072072072\n"
     ]
    }
   ],
   "source": [
    "clf = SVC(gamma=2, C=1,class_weight=\"balanced\")\n",
    "clf.fit(X_train,y_train)\n",
    "pred=clf.predict(X_test)\n",
    "mscore=clf.score(X_test,y_test)\n",
    "balanced_score=balanced_accuracy_score(y_test,pred)\n",
    "print(\"The score is: \",mscore)\n",
    "print(\"The balanced accuracy is: \",balanced_score)\n",
    "scores_list.append(balanced_score)"
   ]
  },
  {
   "cell_type": "code",
   "execution_count": 75,
   "id": "3bfe33f5",
   "metadata": {
    "execution": {
     "iopub.execute_input": "2022-11-16T15:23:13.542694Z",
     "iopub.status.busy": "2022-11-16T15:23:13.542261Z",
     "iopub.status.idle": "2022-11-16T15:23:13.903255Z",
     "shell.execute_reply": "2022-11-16T15:23:13.901743Z"
    },
    "papermill": {
     "duration": 0.407881,
     "end_time": "2022-11-16T15:23:13.906104",
     "exception": false,
     "start_time": "2022-11-16T15:23:13.498223",
     "status": "completed"
    },
    "tags": []
   },
   "outputs": [
    {
     "data": {
      "image/png": "[encoded data removed]",
      "text/plain": [
       "<Figure size 432x288 with 1 Axes>"
      ]
     },
     "metadata": {
      "needs_background": "light"
     },
     "output_type": "display_data"
    }
   ],
   "source": [
    "plot_cm(clf)"
   ]
  },
  {
   "cell_type": "markdown",
   "id": "83a2dd63",
   "metadata": {
    "papermill": {
     "duration": 0.038533,
     "end_time": "2022-11-16T15:23:13.986487",
     "exception": false,
     "start_time": "2022-11-16T15:23:13.947954",
     "status": "completed"
    },
    "tags": []
   },
   "source": [
    "We can already see that by carefully looking at the confusion matrix and not blindly at our classification score we can already see that eventhough this classifier has a better score that the linear SVC, it predicts 1 for almost every input so the model is actually really bad.\n",
    "\n",
    "We can also confirm that the balanced accuracy is a better performance metric."
   ]
  },
  {
   "cell_type": "markdown",
   "id": "1324e6ee",
   "metadata": {
    "papermill": {
     "duration": 0.039891,
     "end_time": "2022-11-16T15:23:14.065327",
     "exception": false,
     "start_time": "2022-11-16T15:23:14.025436",
     "status": "completed"
    },
    "tags": []
   },
   "source": [
    "**Logistic geression**"
   ]
  },
  {
   "cell_type": "code",
   "execution_count": 76,
   "id": "61ccb5ee",
   "metadata": {
    "execution": {
     "iopub.execute_input": "2022-11-16T15:23:14.148970Z",
     "iopub.status.busy": "2022-11-16T15:23:14.148548Z",
     "iopub.status.idle": "2022-11-16T15:23:14.632034Z",
     "shell.execute_reply": "2022-11-16T15:23:14.630817Z"
    },
    "papermill": {
     "duration": 0.527576,
     "end_time": "2022-11-16T15:23:14.635957",
     "exception": false,
     "start_time": "2022-11-16T15:23:14.108381",
     "status": "completed"
    },
    "tags": []
   },
   "outputs": [
    {
     "name": "stdout",
     "output_type": "stream",
     "text": [
      "The score is:  0.6863753213367609\n",
      "The balanced accuracy is:  0.6547124047124048\n"
     ]
    }
   ],
   "source": [
    "clf=LogisticRegression(random_state=0,max_iter=500,class_weight=\"balanced\")\n",
    "clf.fit(X_train,y_train)\n",
    "pred=clf.predict(X_test)\n",
    "mscore=clf.score(X_test,y_test)\n",
    "balanced_score=balanced_accuracy_score(y_test,pred)\n",
    "print(\"The score is: \",mscore)\n",
    "print(\"The balanced accuracy is: \",balanced_score)\n",
    "scores_list.append(balanced_score)"
   ]
  },
  {
   "cell_type": "code",
   "execution_count": 77,
   "id": "ae579112",
   "metadata": {
    "execution": {
     "iopub.execute_input": "2022-11-16T15:23:14.787667Z",
     "iopub.status.busy": "2022-11-16T15:23:14.787224Z",
     "iopub.status.idle": "2022-11-16T15:23:14.985739Z",
     "shell.execute_reply": "2022-11-16T15:23:14.984152Z"
    },
    "papermill": {
     "duration": 0.245648,
     "end_time": "2022-11-16T15:23:14.989309",
     "exception": false,
     "start_time": "2022-11-16T15:23:14.743661",
     "status": "completed"
    },
    "tags": []
   },
   "outputs": [
    {
     "data": {
      "image/png": "[encoded data removed]",
      "text/plain": [
       "<Figure size 432x288 with 1 Axes>"
      ]
     },
     "metadata": {
      "needs_background": "light"
     },
     "output_type": "display_data"
    }
   ],
   "source": [
    "plot_cm(clf)"
   ]
  },
  {
   "cell_type": "markdown",
   "id": "fe526c60",
   "metadata": {
    "papermill": {
     "duration": 0.042536,
     "end_time": "2022-11-16T15:23:15.076300",
     "exception": false,
     "start_time": "2022-11-16T15:23:15.033764",
     "status": "completed"
    },
    "tags": []
   },
   "source": [
    "**Naieve Bayes**"
   ]
  },
  {
   "cell_type": "code",
   "execution_count": 78,
   "id": "3e0cdaf2",
   "metadata": {
    "execution": {
     "iopub.execute_input": "2022-11-16T15:23:15.168854Z",
     "iopub.status.busy": "2022-11-16T15:23:15.166898Z",
     "iopub.status.idle": "2022-11-16T15:23:15.189936Z",
     "shell.execute_reply": "2022-11-16T15:23:15.188366Z"
    },
    "papermill": {
     "duration": 0.073467,
     "end_time": "2022-11-16T15:23:15.193338",
     "exception": false,
     "start_time": "2022-11-16T15:23:15.119871",
     "status": "completed"
    },
    "tags": []
   },
   "outputs": [
    {
     "name": "stdout",
     "output_type": "stream",
     "text": [
      "The score is:  0.19023136246786632\n",
      "The balanced accuracy is:  0.4253984753984754\n"
     ]
    }
   ],
   "source": [
    "clf=GaussianNB() ##here we don't need class weights because the probabilities are calculated from our classes\n",
    "clf.fit(X_train,y_train)\n",
    "pred=clf.predict(X_test)\n",
    "mscore=clf.score(X_test,y_test)\n",
    "balanced_score=balanced_accuracy_score(y_test,pred)\n",
    "print(\"The score is: \",mscore)\n",
    "print(\"The balanced accuracy is: \",balanced_score)\n",
    "scores_list.append(balanced_score)"
   ]
  },
  {
   "cell_type": "code",
   "execution_count": 79,
   "id": "5273eef0",
   "metadata": {
    "execution": {
     "iopub.execute_input": "2022-11-16T15:23:15.286522Z",
     "iopub.status.busy": "2022-11-16T15:23:15.286023Z",
     "iopub.status.idle": "2022-11-16T15:23:15.482064Z",
     "shell.execute_reply": "2022-11-16T15:23:15.480860Z"
    },
    "papermill": {
     "duration": 0.244902,
     "end_time": "2022-11-16T15:23:15.484593",
     "exception": false,
     "start_time": "2022-11-16T15:23:15.239691",
     "status": "completed"
    },
    "tags": []
   },
   "outputs": [
    {
     "data": {
      "image/png": "[encoded data removed]",
      "text/plain": [
       "<Figure size 432x288 with 1 Axes>"
      ]
     },
     "metadata": {
      "needs_background": "light"
     },
     "output_type": "display_data"
    }
   ],
   "source": [
    "plot_cm(clf)"
   ]
  },
  {
   "cell_type": "markdown",
   "id": "859a4304",
   "metadata": {
    "papermill": {
     "duration": 0.041787,
     "end_time": "2022-11-16T15:23:15.568261",
     "exception": false,
     "start_time": "2022-11-16T15:23:15.526474",
     "status": "completed"
    },
    "tags": []
   },
   "source": [
    "**KNN**"
   ]
  },
  {
   "cell_type": "code",
   "execution_count": 80,
   "id": "f61a4e86",
   "metadata": {
    "execution": {
     "iopub.execute_input": "2022-11-16T15:23:15.658407Z",
     "iopub.status.busy": "2022-11-16T15:23:15.657213Z",
     "iopub.status.idle": "2022-11-16T15:23:15.662875Z",
     "shell.execute_reply": "2022-11-16T15:23:15.661872Z"
    },
    "papermill": {
     "duration": 0.052951,
     "end_time": "2022-11-16T15:23:15.665448",
     "exception": false,
     "start_time": "2022-11-16T15:23:15.612497",
     "status": "completed"
    },
    "tags": []
   },
   "outputs": [],
   "source": [
    "# clf=KNeighborsClassifier()\n",
    "# clf.fit(X_train,y_train)\n",
    "# mscore=clf.score(X_test,y_test)\n",
    "# print(\"The score is: \",mscore)\n",
    "# scores_list.append(mscore)"
   ]
  },
  {
   "cell_type": "markdown",
   "id": "5ff15cfd",
   "metadata": {
    "papermill": {
     "duration": 0.042551,
     "end_time": "2022-11-16T15:23:15.751587",
     "exception": false,
     "start_time": "2022-11-16T15:23:15.709036",
     "status": "completed"
    },
    "tags": []
   },
   "source": [
    "**Random forest**"
   ]
  },
  {
   "cell_type": "code",
   "execution_count": 81,
   "id": "42151c76",
   "metadata": {
    "execution": {
     "iopub.execute_input": "2022-11-16T15:23:15.836681Z",
     "iopub.status.busy": "2022-11-16T15:23:15.835686Z",
     "iopub.status.idle": "2022-11-16T15:23:15.841604Z",
     "shell.execute_reply": "2022-11-16T15:23:15.840370Z"
    },
    "papermill": {
     "duration": 0.051566,
     "end_time": "2022-11-16T15:23:15.844441",
     "exception": false,
     "start_time": "2022-11-16T15:23:15.792875",
     "status": "completed"
    },
    "tags": []
   },
   "outputs": [],
   "source": [
    "# clf=RandomForestClassifier(300)\n",
    "# clf.fit(X_train,y_train)\n",
    "# mscore=clf.score(X_test,y_test)\n",
    "# print(\"The score is: \",mscore)\n",
    "# scores_list.append(mscore)"
   ]
  },
  {
   "cell_type": "markdown",
   "id": "40d83dbc",
   "metadata": {
    "papermill": {
     "duration": 0.042421,
     "end_time": "2022-11-16T15:23:15.929605",
     "exception": false,
     "start_time": "2022-11-16T15:23:15.887184",
     "status": "completed"
    },
    "tags": []
   },
   "source": [
    "**Light gradient boosting machine (LGBM)**"
   ]
  },
  {
   "cell_type": "code",
   "execution_count": 82,
   "id": "7c55d63b",
   "metadata": {
    "execution": {
     "iopub.execute_input": "2022-11-16T15:23:16.019570Z",
     "iopub.status.busy": "2022-11-16T15:23:16.018907Z",
     "iopub.status.idle": "2022-11-16T15:23:16.593390Z",
     "shell.execute_reply": "2022-11-16T15:23:16.592463Z"
    },
    "papermill": {
     "duration": 0.623507,
     "end_time": "2022-11-16T15:23:16.596977",
     "exception": false,
     "start_time": "2022-11-16T15:23:15.973470",
     "status": "completed"
    },
    "tags": []
   },
   "outputs": [
    {
     "name": "stdout",
     "output_type": "stream",
     "text": [
      "The score is:  0.7712082262210797\n",
      "The balanced accuracy is:  0.5698717948717948\n"
     ]
    }
   ],
   "source": [
    "clf=LGBMClassifier(random_state=0,class_weight=\"balanced\")\n",
    "clf.fit(X_train,y_train)\n",
    "pred=clf.predict(X_test)\n",
    "mscore=clf.score(X_test,y_test)\n",
    "balanced_score=balanced_accuracy_score(y_test,pred)\n",
    "print(\"The score is: \",mscore)\n",
    "print(\"The balanced accuracy is: \",balanced_score)\n",
    "scores_list.append(balanced_score)"
   ]
  },
  {
   "cell_type": "code",
   "execution_count": 83,
   "id": "feb4d12a",
   "metadata": {
    "execution": {
     "iopub.execute_input": "2022-11-16T15:23:16.688641Z",
     "iopub.status.busy": "2022-11-16T15:23:16.687556Z",
     "iopub.status.idle": "2022-11-16T15:23:16.885398Z",
     "shell.execute_reply": "2022-11-16T15:23:16.884210Z"
    },
    "papermill": {
     "duration": 0.244375,
     "end_time": "2022-11-16T15:23:16.888049",
     "exception": false,
     "start_time": "2022-11-16T15:23:16.643674",
     "status": "completed"
    },
    "tags": []
   },
   "outputs": [
    {
     "data": {
      "image/png": "[encoded data removed]",
      "text/plain": [
       "<Figure size 432x288 with 1 Axes>"
      ]
     },
     "metadata": {
      "needs_background": "light"
     },
     "output_type": "display_data"
    }
   ],
   "source": [
    "plot_cm(clf)"
   ]
  },
  {
   "cell_type": "markdown",
   "id": "5fb6ab17",
   "metadata": {
    "papermill": {
     "duration": 0.043118,
     "end_time": "2022-11-16T15:23:16.974826",
     "exception": false,
     "start_time": "2022-11-16T15:23:16.931708",
     "status": "completed"
    },
    "tags": []
   },
   "source": [
    "**XGBOOST**"
   ]
  },
  {
   "cell_type": "markdown",
   "id": "79a486b6",
   "metadata": {
    "papermill": {
     "duration": 0.04012,
     "end_time": "2022-11-16T15:23:17.056905",
     "exception": false,
     "start_time": "2022-11-16T15:23:17.016785",
     "status": "completed"
    },
    "tags": []
   },
   "source": [
    "With help from [Unbalanced multiclass data with XGBoost](\"https://datascience.stackexchange.com/questions/16342/unbalanced-multiclass-data-with-xgboost\")"
   ]
  },
  {
   "cell_type": "code",
   "execution_count": 84,
   "id": "d7888c84",
   "metadata": {
    "execution": {
     "iopub.execute_input": "2022-11-16T15:23:17.142633Z",
     "iopub.status.busy": "2022-11-16T15:23:17.141919Z",
     "iopub.status.idle": "2022-11-16T15:23:17.147491Z",
     "shell.execute_reply": "2022-11-16T15:23:17.146577Z"
    },
    "papermill": {
     "duration": 0.051689,
     "end_time": "2022-11-16T15:23:17.150368",
     "exception": false,
     "start_time": "2022-11-16T15:23:17.098679",
     "status": "completed"
    },
    "tags": []
   },
   "outputs": [],
   "source": [
    "from sklearn.utils import class_weight\n",
    "classes_weights = class_weight.compute_sample_weight(\n",
    "    class_weight='balanced',\n",
    "    y=y_train\n",
    ")"
   ]
  },
  {
   "cell_type": "code",
   "execution_count": 85,
   "id": "89cd8670",
   "metadata": {
    "execution": {
     "iopub.execute_input": "2022-11-16T15:23:17.235710Z",
     "iopub.status.busy": "2022-11-16T15:23:17.235005Z",
     "iopub.status.idle": "2022-11-16T15:23:19.279574Z",
     "shell.execute_reply": "2022-11-16T15:23:19.278536Z"
    },
    "papermill": {
     "duration": 2.090227,
     "end_time": "2022-11-16T15:23:19.282162",
     "exception": false,
     "start_time": "2022-11-16T15:23:17.191935",
     "status": "completed"
    },
    "tags": []
   },
   "outputs": [
    {
     "name": "stdout",
     "output_type": "stream",
     "text": [
      "The score is:  0.7737789203084833\n",
      "The balanced accuracy is:  0.5525641025641026\n"
     ]
    }
   ],
   "source": [
    "clf=XGBClassifier(use_label_encoder=False,random_state=0)\n",
    "clf.fit(X_train,y_train,sample_weight=classes_weights)\n",
    "pred=clf.predict(X_test)\n",
    "mscore=clf.score(X_test,y_test)\n",
    "balanced_score=balanced_accuracy_score(y_test,pred)\n",
    "print(\"The score is: \",mscore)\n",
    "print(\"The balanced accuracy is: \",balanced_score)\n",
    "scores_list.append(balanced_score)"
   ]
  },
  {
   "cell_type": "code",
   "execution_count": 86,
   "id": "f54e5dbf",
   "metadata": {
    "execution": {
     "iopub.execute_input": "2022-11-16T15:23:19.367044Z",
     "iopub.status.busy": "2022-11-16T15:23:19.366667Z",
     "iopub.status.idle": "2022-11-16T15:23:19.558382Z",
     "shell.execute_reply": "2022-11-16T15:23:19.557167Z"
    },
    "papermill": {
     "duration": 0.235952,
     "end_time": "2022-11-16T15:23:19.560877",
     "exception": false,
     "start_time": "2022-11-16T15:23:19.324925",
     "status": "completed"
    },
    "tags": []
   },
   "outputs": [
    {
     "data": {
      "image/png": "[encoded data removed]",
      "text/plain": [
       "<Figure size 432x288 with 1 Axes>"
      ]
     },
     "metadata": {
      "needs_background": "light"
     },
     "output_type": "display_data"
    }
   ],
   "source": [
    "plot_cm(clf)"
   ]
  },
  {
   "cell_type": "markdown",
   "id": "f4b81393",
   "metadata": {
    "papermill": {
     "duration": 0.041227,
     "end_time": "2022-11-16T15:23:19.643532",
     "exception": false,
     "start_time": "2022-11-16T15:23:19.602305",
     "status": "completed"
    },
    "tags": []
   },
   "source": [
    "**Catboost**"
   ]
  },
  {
   "cell_type": "code",
   "execution_count": 87,
   "id": "b00a7e8b",
   "metadata": {
    "execution": {
     "iopub.execute_input": "2022-11-16T15:23:19.728687Z",
     "iopub.status.busy": "2022-11-16T15:23:19.728233Z",
     "iopub.status.idle": "2022-11-16T15:23:19.734525Z",
     "shell.execute_reply": "2022-11-16T15:23:19.733776Z"
    },
    "papermill": {
     "duration": 0.052155,
     "end_time": "2022-11-16T15:23:19.736677",
     "exception": false,
     "start_time": "2022-11-16T15:23:19.684522",
     "status": "completed"
    },
    "tags": []
   },
   "outputs": [
    {
     "data": {
      "text/plain": [
       "array([0.41639871, 0.41639871, 0.41639871, ..., 0.41639871, 0.41639871,\n",
       "       0.41639871])"
      ]
     },
     "execution_count": 87,
     "metadata": {},
     "output_type": "execute_result"
    }
   ],
   "source": [
    "classes_weights"
   ]
  },
  {
   "cell_type": "code",
   "execution_count": 88,
   "id": "c223d07f",
   "metadata": {
    "execution": {
     "iopub.execute_input": "2022-11-16T15:23:19.820489Z",
     "iopub.status.busy": "2022-11-16T15:23:19.819807Z",
     "iopub.status.idle": "2022-11-16T15:23:19.828688Z",
     "shell.execute_reply": "2022-11-16T15:23:19.827575Z"
    },
    "papermill": {
     "duration": 0.05395,
     "end_time": "2022-11-16T15:23:19.831258",
     "exception": false,
     "start_time": "2022-11-16T15:23:19.777308",
     "status": "completed"
    },
    "tags": []
   },
   "outputs": [
    {
     "data": {
      "text/plain": [
       "{0: 2.072, 1: 0.41639871382636656, 2: 8.633333333333333}"
      ]
     },
     "execution_count": 88,
     "metadata": {},
     "output_type": "execute_result"
    }
   ],
   "source": [
    "classes = np.unique(y_train)\n",
    "weights = class_weight.compute_class_weight(class_weight='balanced', classes=classes, y=y_train)\n",
    "class_weights = dict(zip(classes, weights))\n",
    "class_weights"
   ]
  },
  {
   "cell_type": "code",
   "execution_count": 89,
   "id": "4039c1de",
   "metadata": {
    "execution": {
     "iopub.execute_input": "2022-11-16T15:23:19.916660Z",
     "iopub.status.busy": "2022-11-16T15:23:19.916023Z",
     "iopub.status.idle": "2022-11-16T15:23:27.738209Z",
     "shell.execute_reply": "2022-11-16T15:23:27.736788Z"
    },
    "papermill": {
     "duration": 7.867795,
     "end_time": "2022-11-16T15:23:27.740832",
     "exception": false,
     "start_time": "2022-11-16T15:23:19.873037",
     "status": "completed"
    },
    "tags": []
   },
   "outputs": [
    {
     "name": "stdout",
     "output_type": "stream",
     "text": [
      "The score is:  0.7506426735218509\n",
      "The balanced accuracy is:  0.5760654885654884\n"
     ]
    }
   ],
   "source": [
    "clf=CatBoostClassifier(random_state=0,class_weights=class_weights,silent=True)\n",
    "clf.fit(X_train,y_train)\n",
    "pred=clf.predict(X_test)\n",
    "mscore=clf.score(X_test,y_test)\n",
    "balanced_score=balanced_accuracy_score(y_test,pred)\n",
    "print(\"The score is: \",mscore)\n",
    "print(\"The balanced accuracy is: \",balanced_score)\n",
    "scores_list.append(balanced_score)"
   ]
  },
  {
   "cell_type": "code",
   "execution_count": 90,
   "id": "032677e0",
   "metadata": {
    "execution": {
     "iopub.execute_input": "2022-11-16T15:23:27.828592Z",
     "iopub.status.busy": "2022-11-16T15:23:27.827875Z",
     "iopub.status.idle": "2022-11-16T15:23:28.038489Z",
     "shell.execute_reply": "2022-11-16T15:23:28.037268Z"
    },
    "papermill": {
     "duration": 0.258128,
     "end_time": "2022-11-16T15:23:28.041020",
     "exception": false,
     "start_time": "2022-11-16T15:23:27.782892",
     "status": "completed"
    },
    "tags": []
   },
   "outputs": [
    {
     "data": {
      "image/png": "[encoded data removed]",
      "text/plain": [
       "<Figure size 432x288 with 1 Axes>"
      ]
     },
     "metadata": {
      "needs_background": "light"
     },
     "output_type": "display_data"
    }
   ],
   "source": [
    "plot_cm(clf)"
   ]
  },
  {
   "cell_type": "markdown",
   "id": "c91f6f1c",
   "metadata": {
    "papermill": {
     "duration": 0.041257,
     "end_time": "2022-11-16T15:23:28.123212",
     "exception": false,
     "start_time": "2022-11-16T15:23:28.081955",
     "status": "completed"
    },
    "tags": []
   },
   "source": [
    "Putting it all together"
   ]
  },
  {
   "cell_type": "code",
   "execution_count": 91,
   "id": "14a89730",
   "metadata": {
    "execution": {
     "iopub.execute_input": "2022-11-16T15:23:28.211879Z",
     "iopub.status.busy": "2022-11-16T15:23:28.211184Z",
     "iopub.status.idle": "2022-11-16T15:23:28.217491Z",
     "shell.execute_reply": "2022-11-16T15:23:28.216728Z"
    },
    "papermill": {
     "duration": 0.051853,
     "end_time": "2022-11-16T15:23:28.219606",
     "exception": false,
     "start_time": "2022-11-16T15:23:28.167753",
     "status": "completed"
    },
    "tags": []
   },
   "outputs": [
    {
     "data": {
      "text/plain": [
       "[0.6683038808038808,\n",
       " 0.3322072072072072,\n",
       " 0.6547124047124048,\n",
       " 0.4253984753984754,\n",
       " 0.5698717948717948,\n",
       " 0.5525641025641026,\n",
       " 0.5760654885654884]"
      ]
     },
     "execution_count": 91,
     "metadata": {},
     "output_type": "execute_result"
    }
   ],
   "source": [
    "scores_list"
   ]
  },
  {
   "cell_type": "code",
   "execution_count": 92,
   "id": "5a183560",
   "metadata": {
    "execution": {
     "iopub.execute_input": "2022-11-16T15:23:28.307711Z",
     "iopub.status.busy": "2022-11-16T15:23:28.307089Z",
     "iopub.status.idle": "2022-11-16T15:23:28.319007Z",
     "shell.execute_reply": "2022-11-16T15:23:28.317840Z"
    },
    "papermill": {
     "duration": 0.059145,
     "end_time": "2022-11-16T15:23:28.321564",
     "exception": false,
     "start_time": "2022-11-16T15:23:28.262419",
     "status": "completed"
    },
    "tags": []
   },
   "outputs": [
    {
     "data": {
      "text/html": [
       "<div>\n",
       "<style scoped>\n",
       "    .dataframe tbody tr th:only-of-type {\n",
       "        vertical-align: middle;\n",
       "    }\n",
       "\n",
       "    .dataframe tbody tr th {\n",
       "        vertical-align: top;\n",
       "    }\n",
       "\n",
       "    .dataframe thead th {\n",
       "        text-align: right;\n",
       "    }\n",
       "</style>\n",
       "<table border=\"1\" class=\"dataframe\">\n",
       "  <thead>\n",
       "    <tr style=\"text-align: right;\">\n",
       "      <th></th>\n",
       "      <th>Classifier</th>\n",
       "      <th>Score</th>\n",
       "    </tr>\n",
       "  </thead>\n",
       "  <tbody>\n",
       "    <tr>\n",
       "      <th>1</th>\n",
       "      <td>svc rbf</td>\n",
       "      <td>0.332207</td>\n",
       "    </tr>\n",
       "    <tr>\n",
       "      <th>3</th>\n",
       "      <td>Naive Bayes</td>\n",
       "      <td>0.425398</td>\n",
       "    </tr>\n",
       "    <tr>\n",
       "      <th>5</th>\n",
       "      <td>xgboost</td>\n",
       "      <td>0.552564</td>\n",
       "    </tr>\n",
       "    <tr>\n",
       "      <th>4</th>\n",
       "      <td>Light Gradient Boosting machine(LGBM)</td>\n",
       "      <td>0.569872</td>\n",
       "    </tr>\n",
       "    <tr>\n",
       "      <th>6</th>\n",
       "      <td>catboost</td>\n",
       "      <td>0.576065</td>\n",
       "    </tr>\n",
       "    <tr>\n",
       "      <th>2</th>\n",
       "      <td>Logistic Regression</td>\n",
       "      <td>0.654712</td>\n",
       "    </tr>\n",
       "    <tr>\n",
       "      <th>0</th>\n",
       "      <td>svc linear</td>\n",
       "      <td>0.668304</td>\n",
       "    </tr>\n",
       "  </tbody>\n",
       "</table>\n",
       "</div>"
      ],
      "text/plain": [
       "                              Classifier     Score\n",
       "1                                svc rbf  0.332207\n",
       "3                            Naive Bayes  0.425398\n",
       "5                                xgboost  0.552564\n",
       "4  Light Gradient Boosting machine(LGBM)  0.569872\n",
       "6                               catboost  0.576065\n",
       "2                    Logistic Regression  0.654712\n",
       "0                             svc linear  0.668304"
      ]
     },
     "execution_count": 92,
     "metadata": {},
     "output_type": "execute_result"
    }
   ],
   "source": [
    "sb=pd.DataFrame(list(zip(classifiers,scores_list)),columns=['Classifier','Score'])\n",
    "sb.sort_values(\"Score\")"
   ]
  },
  {
   "cell_type": "markdown",
   "id": "4fc60eae",
   "metadata": {
    "papermill": {
     "duration": 0.041251,
     "end_time": "2022-11-16T15:23:28.406793",
     "exception": false,
     "start_time": "2022-11-16T15:23:28.365542",
     "status": "completed"
    },
    "tags": []
   },
   "source": [
    "### RandomisedSearch\n",
    "Now we will try to squeeze the last drops of performance out of our best models.\n",
    "\n",
    "We wil make sure to adjust our performance metric and use StratifiedKFold to maintain the same distribution of classes in our folds."
   ]
  },
  {
   "cell_type": "code",
   "execution_count": 93,
   "id": "f582d559",
   "metadata": {
    "execution": {
     "iopub.execute_input": "2022-11-16T15:23:28.494180Z",
     "iopub.status.busy": "2022-11-16T15:23:28.493794Z",
     "iopub.status.idle": "2022-11-16T15:23:28.503399Z",
     "shell.execute_reply": "2022-11-16T15:23:28.502060Z"
    },
    "papermill": {
     "duration": 0.056944,
     "end_time": "2022-11-16T15:23:28.505931",
     "exception": false,
     "start_time": "2022-11-16T15:23:28.448987",
     "status": "completed"
    },
    "tags": []
   },
   "outputs": [],
   "source": [
    "from sklearn.model_selection import StratifiedKFold\n",
    "\n",
    "linear_svc_grid={\n",
    "    \"C\":[0.01,0.1,1,10,100],\n",
    "}\n",
    "# LGBM_grid = {'n_estimators': [50, 100, 150, 200],\n",
    "#         'max_depth': [4, 8, 12],\n",
    "#         'learning_rate': [0.05, 0.1, 0.15]}\n",
    "xgboost_grid = {\n",
    "        'min_child_weight': [1, 5, 10],\n",
    "        'gamma': [0.5, 1, 2, 5],\n",
    "        'subsample': [0.6, 0.8, 1.0],\n",
    "        'colsample_bytree': [0.6, 0.8, 1.0],\n",
    "        'max_depth': [3, 5]\n",
    "        }\n",
    "\n",
    "catboost_grid={'learning_rate': [0.01, 0.1,1],\n",
    "        'n_estimators':[100,200,400],\n",
    "        'depth': [4, 10,20,30],\n",
    "        'l2_leaf_reg': [0,2, 5, 9]\n",
    "              }\n",
    "\n",
    "# rf_grid={\n",
    "#     \"n_estimators\":[100,200,300,400],\n",
    "#     \"max_depth\":[1,2,3,4,5,6,7,8],\n",
    "#     'min_samples_leaf':[2,4]\n",
    "# }\n",
    "\n",
    "log_grid={\n",
    "    \"penalty\":[\"l1\", \"l2\", \"elasticnet\" , \"none\" ],\n",
    "    \"C\":[0.01,0.1,1,10],\n",
    "    \"max_iter\":[100,150,200,300]\n",
    "}\n",
    "final_class=['linear_svc','xgboost_classifier','catboost_classifier','logistic_regression']\n",
    "final_scores=[]"
   ]
  },
  {
   "cell_type": "code",
   "execution_count": 94,
   "id": "f9815260",
   "metadata": {
    "execution": {
     "iopub.execute_input": "2022-11-16T15:23:28.594095Z",
     "iopub.status.busy": "2022-11-16T15:23:28.593681Z",
     "iopub.status.idle": "2022-11-16T15:23:28.599634Z",
     "shell.execute_reply": "2022-11-16T15:23:28.598126Z"
    },
    "papermill": {
     "duration": 0.053646,
     "end_time": "2022-11-16T15:23:28.602114",
     "exception": false,
     "start_time": "2022-11-16T15:23:28.548468",
     "status": "completed"
    },
    "tags": []
   },
   "outputs": [],
   "source": [
    "from joblib import dump, load\n"
   ]
  },
  {
   "cell_type": "code",
   "execution_count": 95,
   "id": "b4266373",
   "metadata": {
    "execution": {
     "iopub.execute_input": "2022-11-16T15:23:28.691303Z",
     "iopub.status.busy": "2022-11-16T15:23:28.690864Z",
     "iopub.status.idle": "2022-11-16T15:23:47.165993Z",
     "shell.execute_reply": "2022-11-16T15:23:47.164487Z"
    },
    "papermill": {
     "duration": 18.523234,
     "end_time": "2022-11-16T15:23:47.169669",
     "exception": false,
     "start_time": "2022-11-16T15:23:28.646435",
     "status": "completed"
    },
    "tags": []
   },
   "outputs": [
    {
     "name": "stderr",
     "output_type": "stream",
     "text": [
      "/opt/conda/lib/python3.7/site-packages/sklearn/model_selection/_search.py:296: UserWarning: The total space of parameters 5 is smaller than n_iter=100. Running 5 iterations. For exhaustive searches, use GridSearchCV.\n",
      "  UserWarning,\n"
     ]
    },
    {
     "data": {
      "image/png": "[encoded data removed]",
      "text/plain": [
       "<Figure size 432x288 with 1 Axes>"
      ]
     },
     "metadata": {
      "needs_background": "light"
     },
     "output_type": "display_data"
    }
   ],
   "source": [
    "linear_svc_clf=RandomizedSearchCV(estimator=SVC(kernel=\"linear\",class_weight=\"balanced\"),param_distributions=linear_svc_grid,scoring=\"balanced_accuracy\",n_jobs=-1,cv=StratifiedKFold(),n_iter=100)\n",
    "linear_svc_clf.fit(X_train,y_train)\n",
    "dump(linear_svc_clf, 'linear_svc_clf.joblib')\n",
    "\n",
    "pred=linear_svc_clf.predict(X_test)\n",
    "balanced_score=balanced_accuracy_score(y_test,pred)\n",
    "final_scores.append(balanced_score)\n",
    "plot_cm(linear_svc_clf)"
   ]
  },
  {
   "cell_type": "code",
   "execution_count": 96,
   "id": "9dc8ebee",
   "metadata": {
    "execution": {
     "iopub.execute_input": "2022-11-16T15:23:47.257201Z",
     "iopub.status.busy": "2022-11-16T15:23:47.256186Z",
     "iopub.status.idle": "2022-11-16T15:30:36.832784Z",
     "shell.execute_reply": "2022-11-16T15:30:36.831555Z"
    },
    "papermill": {
     "duration": 409.663772,
     "end_time": "2022-11-16T15:30:36.876325",
     "exception": false,
     "start_time": "2022-11-16T15:23:47.212553",
     "status": "completed"
    },
    "tags": []
   },
   "outputs": [
    {
     "data": {
      "image/png": "[encoded data removed]",
      "text/plain": [
       "<Figure size 432x288 with 1 Axes>"
      ]
     },
     "metadata": {
      "needs_background": "light"
     },
     "output_type": "display_data"
    }
   ],
   "source": [
    "xgboost_clf=RandomizedSearchCV(estimator=XGBClassifier(use_label_encoder=False),param_distributions=xgboost_grid,scoring=\"balanced_accuracy\",n_jobs=-1,cv=StratifiedKFold(),n_iter=100)\n",
    "\n",
    "#Fit the model\n",
    "xgboost_clf.fit(X_train,y_train,sample_weight=classes_weights)\n",
    "#Score and Store the model\n",
    "dump(xgboost_clf, 'xgboost_clf.joblib') \n",
    "\n",
    "pred=xgboost_clf.predict(X_test)\n",
    "balanced_score=balanced_accuracy_score(y_test,pred)\n",
    "final_scores.append(balanced_score)\n",
    "plot_cm(xgboost_clf)"
   ]
  },
  {
   "cell_type": "code",
   "execution_count": 97,
   "id": "de92ac7f",
   "metadata": {
    "execution": {
     "iopub.execute_input": "2022-11-16T15:30:36.962098Z",
     "iopub.status.busy": "2022-11-16T15:30:36.961722Z",
     "iopub.status.idle": "2022-11-16T16:14:12.488638Z",
     "shell.execute_reply": "2022-11-16T16:14:12.487289Z"
    },
    "papermill": {
     "duration": 2615.572908,
     "end_time": "2022-11-16T16:14:12.491239",
     "exception": false,
     "start_time": "2022-11-16T15:30:36.918331",
     "status": "completed"
    },
    "tags": []
   },
   "outputs": [
    {
     "name": "stderr",
     "output_type": "stream",
     "text": [
      "/opt/conda/lib/python3.7/site-packages/sklearn/model_selection/_validation.py:372: FitFailedWarning: \n",
      "287 fits failed out of a total of 500.\n",
      "The score on these train-test partitions for these parameters will be set to nan.\n",
      "If these failures are not expected, you can try to debug them by setting error_score='raise'.\n",
      "\n",
      "Below are more details about the failures:\n",
      "--------------------------------------------------------------------------------\n",
      "265 fits failed with the following error:\n",
      "Traceback (most recent call last):\n",
      "  File \"/opt/conda/lib/python3.7/site-packages/sklearn/model_selection/_validation.py\", line 680, in _fit_and_score\n",
      "    estimator.fit(X_train, y_train, **fit_params)\n",
      "  File \"/opt/conda/lib/python3.7/site-packages/catboost/core.py\", line 5130, in fit\n",
      "    silent, early_stopping_rounds, save_snapshot, snapshot_file, snapshot_interval, init_model, callbacks, log_cout, log_cerr)\n",
      "  File \"/opt/conda/lib/python3.7/site-packages/catboost/core.py\", line 2347, in _fit\n",
      "    callbacks=callbacks\n",
      "  File \"/opt/conda/lib/python3.7/site-packages/catboost/core.py\", line 2266, in _prepare_train_params\n",
      "    _check_train_params(params)\n",
      "  File \"_catboost.pyx\", line 6079, in _catboost._check_train_params\n",
      "  File \"_catboost.pyx\", line 6098, in _catboost._check_train_params\n",
      "_catboost.CatBoostError: catboost/private/libs/options/oblivious_tree_options.cpp:125: Maximum tree depth is 16\n",
      "\n",
      "--------------------------------------------------------------------------------\n",
      "22 fits failed with the following error:\n",
      "Traceback (most recent call last):\n",
      "  File \"/opt/conda/lib/python3.7/site-packages/sklearn/model_selection/_validation.py\", line 680, in _fit_and_score\n",
      "    estimator.fit(X_train, y_train, **fit_params)\n",
      "  File \"/opt/conda/lib/python3.7/site-packages/catboost/core.py\", line 5130, in fit\n",
      "    silent, early_stopping_rounds, save_snapshot, snapshot_file, snapshot_interval, init_model, callbacks, log_cout, log_cerr)\n",
      "  File \"/opt/conda/lib/python3.7/site-packages/catboost/core.py\", line 2360, in _fit\n",
      "    train_params[\"init_model\"]\n",
      "  File \"/opt/conda/lib/python3.7/site-packages/catboost/core.py\", line 1759, in _train\n",
      "    self._object._train(train_pool, test_pool, params, allow_clear_pool, init_model._object if init_model else None)\n",
      "  File \"_catboost.pyx\", line 4622, in _catboost._CatBoost._train\n",
      "  File \"_catboost.pyx\", line 4671, in _catboost._CatBoost._train\n",
      "_catboost.CatBoostError: catboost/private/libs/lapack/linear_system.cpp:31: System of linear equations is not positive definite\n",
      "\n",
      "  warnings.warn(some_fits_failed_message, FitFailedWarning)\n",
      "/opt/conda/lib/python3.7/site-packages/sklearn/model_selection/_search.py:972: UserWarning: One or more of the test scores are non-finite: [0.68436002        nan        nan        nan        nan 0.56444\n",
      " 0.6007773         nan 0.71934128 0.49375839 0.55016846        nan\n",
      " 0.72810096        nan 0.61850957        nan        nan        nan\n",
      " 0.58504508        nan        nan        nan        nan        nan\n",
      "        nan        nan        nan 0.64786635        nan        nan\n",
      "        nan        nan        nan 0.57078365 0.7270225  0.73057978\n",
      " 0.72826756        nan 0.64537047        nan        nan        nan\n",
      "        nan        nan        nan 0.71333446        nan        nan\n",
      " 0.72194205 0.65052343 0.72775999 0.51668208 0.7011416         nan\n",
      " 0.70095479        nan        nan        nan 0.64937112 0.51401434\n",
      " 0.7108546  0.72889131 0.5584732  0.68268239        nan        nan\n",
      "        nan        nan        nan 0.52104077 0.67563385        nan\n",
      "        nan 0.7046459         nan        nan 0.5109075         nan\n",
      " 0.64882968        nan 0.49362076        nan        nan        nan\n",
      " 0.46008399 0.51094982        nan 0.47783819 0.54910282 0.53964317\n",
      " 0.54354523        nan        nan        nan 0.71128998        nan\n",
      "        nan        nan        nan        nan]\n",
      "  category=UserWarning,\n"
     ]
    },
    {
     "data": {
      "image/png": "[encoded data removed]",
      "text/plain": [
       "<Figure size 432x288 with 1 Axes>"
      ]
     },
     "metadata": {
      "needs_background": "light"
     },
     "output_type": "display_data"
    }
   ],
   "source": [
    "catboost_clf=RandomizedSearchCV(estimator=CatBoostClassifier(class_weights=class_weights,silent=True),param_distributions=catboost_grid,scoring=\"balanced_accuracy\",n_jobs=-1,cv=StratifiedKFold(),n_iter=100)\n",
    "\n",
    "#Fit the model\n",
    "catboost_clf.fit(X_train,y_train)\n",
    "dump(catboost_clf, 'catboost_clf.joblib') \n",
    "\n",
    "pred=catboost_clf.predict(X_test)\n",
    "balanced_score=balanced_accuracy_score(y_test,pred)\n",
    "final_scores.append(balanced_score)\n",
    "plot_cm(catboost_clf)"
   ]
  },
  {
   "cell_type": "code",
   "execution_count": 98,
   "id": "689b4f7d",
   "metadata": {
    "execution": {
     "iopub.execute_input": "2022-11-16T16:14:12.579747Z",
     "iopub.status.busy": "2022-11-16T16:14:12.579331Z",
     "iopub.status.idle": "2022-11-16T16:14:26.383828Z",
     "shell.execute_reply": "2022-11-16T16:14:26.382913Z"
    },
    "papermill": {
     "duration": 13.851665,
     "end_time": "2022-11-16T16:14:26.386183",
     "exception": false,
     "start_time": "2022-11-16T16:14:12.534518",
     "status": "completed"
    },
    "tags": []
   },
   "outputs": [
    {
     "name": "stderr",
     "output_type": "stream",
     "text": [
      "/opt/conda/lib/python3.7/site-packages/sklearn/model_selection/_search.py:296: UserWarning: The total space of parameters 64 is smaller than n_iter=100. Running 64 iterations. For exhaustive searches, use GridSearchCV.\n",
      "  UserWarning,\n",
      "/opt/conda/lib/python3.7/site-packages/sklearn/linear_model/_logistic.py:1484: UserWarning: Setting penalty='none' will ignore the C and l1_ratio parameters\n",
      "  \"Setting penalty='none' will ignore the C and l1_ratio parameters\"\n",
      "/opt/conda/lib/python3.7/site-packages/sklearn/linear_model/_logistic.py:818: ConvergenceWarning: lbfgs failed to converge (status=1):\n",
      "STOP: TOTAL NO. of ITERATIONS REACHED LIMIT.\n",
      "\n",
      "Increase the number of iterations (max_iter) or scale the data as shown in:\n",
      "    https://scikit-learn.org/stable/modules/preprocessing.html\n",
      "Please also refer to the documentation for alternative solver options:\n",
      "    https://scikit-learn.org/stable/modules/linear_model.html#logistic-regression\n",
      "  extra_warning_msg=_LOGISTIC_SOLVER_CONVERGENCE_MSG,\n",
      "/opt/conda/lib/python3.7/site-packages/sklearn/linear_model/_logistic.py:1484: UserWarning: Setting penalty='none' will ignore the C and l1_ratio parameters\n",
      "  \"Setting penalty='none' will ignore the C and l1_ratio parameters\"\n",
      "/opt/conda/lib/python3.7/site-packages/sklearn/linear_model/_logistic.py:818: ConvergenceWarning: lbfgs failed to converge (status=1):\n",
      "STOP: TOTAL NO. of ITERATIONS REACHED LIMIT.\n",
      "\n",
      "Increase the number of iterations (max_iter) or scale the data as shown in:\n",
      "    https://scikit-learn.org/stable/modules/preprocessing.html\n",
      "Please also refer to the documentation for alternative solver options:\n",
      "    https://scikit-learn.org/stable/modules/linear_model.html#logistic-regression\n",
      "  extra_warning_msg=_LOGISTIC_SOLVER_CONVERGENCE_MSG,\n",
      "/opt/conda/lib/python3.7/site-packages/sklearn/linear_model/_logistic.py:1484: UserWarning: Setting penalty='none' will ignore the C and l1_ratio parameters\n",
      "  \"Setting penalty='none' will ignore the C and l1_ratio parameters\"\n",
      "/opt/conda/lib/python3.7/site-packages/sklearn/linear_model/_logistic.py:818: ConvergenceWarning: lbfgs failed to converge (status=1):\n",
      "STOP: TOTAL NO. of ITERATIONS REACHED LIMIT.\n",
      "\n",
      "Increase the number of iterations (max_iter) or scale the data as shown in:\n",
      "    https://scikit-learn.org/stable/modules/preprocessing.html\n",
      "Please also refer to the documentation for alternative solver options:\n",
      "    https://scikit-learn.org/stable/modules/linear_model.html#logistic-regression\n",
      "  extra_warning_msg=_LOGISTIC_SOLVER_CONVERGENCE_MSG,\n",
      "/opt/conda/lib/python3.7/site-packages/sklearn/linear_model/_logistic.py:1484: UserWarning: Setting penalty='none' will ignore the C and l1_ratio parameters\n",
      "  \"Setting penalty='none' will ignore the C and l1_ratio parameters\"\n",
      "/opt/conda/lib/python3.7/site-packages/sklearn/linear_model/_logistic.py:818: ConvergenceWarning: lbfgs failed to converge (status=1):\n",
      "STOP: TOTAL NO. of ITERATIONS REACHED LIMIT.\n",
      "\n",
      "Increase the number of iterations (max_iter) or scale the data as shown in:\n",
      "    https://scikit-learn.org/stable/modules/preprocessing.html\n",
      "Please also refer to the documentation for alternative solver options:\n",
      "    https://scikit-learn.org/stable/modules/linear_model.html#logistic-regression\n",
      "  extra_warning_msg=_LOGISTIC_SOLVER_CONVERGENCE_MSG,\n",
      "/opt/conda/lib/python3.7/site-packages/sklearn/linear_model/_logistic.py:1484: UserWarning: Setting penalty='none' will ignore the C and l1_ratio parameters\n",
      "  \"Setting penalty='none' will ignore the C and l1_ratio parameters\"\n",
      "/opt/conda/lib/python3.7/site-packages/sklearn/linear_model/_logistic.py:818: ConvergenceWarning: lbfgs failed to converge (status=1):\n",
      "STOP: TOTAL NO. of ITERATIONS REACHED LIMIT.\n",
      "\n",
      "Increase the number of iterations (max_iter) or scale the data as shown in:\n",
      "    https://scikit-learn.org/stable/modules/preprocessing.html\n",
      "Please also refer to the documentation for alternative solver options:\n",
      "    https://scikit-learn.org/stable/modules/linear_model.html#logistic-regression\n",
      "  extra_warning_msg=_LOGISTIC_SOLVER_CONVERGENCE_MSG,\n",
      "/opt/conda/lib/python3.7/site-packages/sklearn/linear_model/_logistic.py:1484: UserWarning: Setting penalty='none' will ignore the C and l1_ratio parameters\n",
      "  \"Setting penalty='none' will ignore the C and l1_ratio parameters\"\n",
      "/opt/conda/lib/python3.7/site-packages/sklearn/linear_model/_logistic.py:818: ConvergenceWarning: lbfgs failed to converge (status=1):\n",
      "STOP: TOTAL NO. of ITERATIONS REACHED LIMIT.\n",
      "\n",
      "Increase the number of iterations (max_iter) or scale the data as shown in:\n",
      "    https://scikit-learn.org/stable/modules/preprocessing.html\n",
      "Please also refer to the documentation for alternative solver options:\n",
      "    https://scikit-learn.org/stable/modules/linear_model.html#logistic-regression\n",
      "  extra_warning_msg=_LOGISTIC_SOLVER_CONVERGENCE_MSG,\n",
      "/opt/conda/lib/python3.7/site-packages/sklearn/linear_model/_logistic.py:1484: UserWarning: Setting penalty='none' will ignore the C and l1_ratio parameters\n",
      "  \"Setting penalty='none' will ignore the C and l1_ratio parameters\"\n",
      "/opt/conda/lib/python3.7/site-packages/sklearn/linear_model/_logistic.py:818: ConvergenceWarning: lbfgs failed to converge (status=1):\n",
      "STOP: TOTAL NO. of ITERATIONS REACHED LIMIT.\n",
      "\n",
      "Increase the number of iterations (max_iter) or scale the data as shown in:\n",
      "    https://scikit-learn.org/stable/modules/preprocessing.html\n",
      "Please also refer to the documentation for alternative solver options:\n",
      "    https://scikit-learn.org/stable/modules/linear_model.html#logistic-regression\n",
      "  extra_warning_msg=_LOGISTIC_SOLVER_CONVERGENCE_MSG,\n",
      "/opt/conda/lib/python3.7/site-packages/sklearn/linear_model/_logistic.py:1484: UserWarning: Setting penalty='none' will ignore the C and l1_ratio parameters\n",
      "  \"Setting penalty='none' will ignore the C and l1_ratio parameters\"\n",
      "/opt/conda/lib/python3.7/site-packages/sklearn/linear_model/_logistic.py:818: ConvergenceWarning: lbfgs failed to converge (status=1):\n",
      "STOP: TOTAL NO. of ITERATIONS REACHED LIMIT.\n",
      "\n",
      "Increase the number of iterations (max_iter) or scale the data as shown in:\n",
      "    https://scikit-learn.org/stable/modules/preprocessing.html\n",
      "Please also refer to the documentation for alternative solver options:\n",
      "    https://scikit-learn.org/stable/modules/linear_model.html#logistic-regression\n",
      "  extra_warning_msg=_LOGISTIC_SOLVER_CONVERGENCE_MSG,\n",
      "/opt/conda/lib/python3.7/site-packages/sklearn/linear_model/_logistic.py:1484: UserWarning: Setting penalty='none' will ignore the C and l1_ratio parameters\n",
      "  \"Setting penalty='none' will ignore the C and l1_ratio parameters\"\n",
      "/opt/conda/lib/python3.7/site-packages/sklearn/linear_model/_logistic.py:818: ConvergenceWarning: lbfgs failed to converge (status=1):\n",
      "STOP: TOTAL NO. of ITERATIONS REACHED LIMIT.\n",
      "\n",
      "Increase the number of iterations (max_iter) or scale the data as shown in:\n",
      "    https://scikit-learn.org/stable/modules/preprocessing.html\n",
      "Please also refer to the documentation for alternative solver options:\n",
      "    https://scikit-learn.org/stable/modules/linear_model.html#logistic-regression\n",
      "  extra_warning_msg=_LOGISTIC_SOLVER_CONVERGENCE_MSG,\n",
      "/opt/conda/lib/python3.7/site-packages/sklearn/linear_model/_logistic.py:1484: UserWarning: Setting penalty='none' will ignore the C and l1_ratio parameters\n",
      "  \"Setting penalty='none' will ignore the C and l1_ratio parameters\"\n",
      "/opt/conda/lib/python3.7/site-packages/sklearn/linear_model/_logistic.py:818: ConvergenceWarning: lbfgs failed to converge (status=1):\n",
      "STOP: TOTAL NO. of ITERATIONS REACHED LIMIT.\n",
      "\n",
      "Increase the number of iterations (max_iter) or scale the data as shown in:\n",
      "    https://scikit-learn.org/stable/modules/preprocessing.html\n",
      "Please also refer to the documentation for alternative solver options:\n",
      "    https://scikit-learn.org/stable/modules/linear_model.html#logistic-regression\n",
      "  extra_warning_msg=_LOGISTIC_SOLVER_CONVERGENCE_MSG,\n",
      "/opt/conda/lib/python3.7/site-packages/sklearn/linear_model/_logistic.py:1484: UserWarning: Setting penalty='none' will ignore the C and l1_ratio parameters\n",
      "  \"Setting penalty='none' will ignore the C and l1_ratio parameters\"\n",
      "/opt/conda/lib/python3.7/site-packages/sklearn/linear_model/_logistic.py:818: ConvergenceWarning: lbfgs failed to converge (status=1):\n",
      "STOP: TOTAL NO. of ITERATIONS REACHED LIMIT.\n",
      "\n",
      "Increase the number of iterations (max_iter) or scale the data as shown in:\n",
      "    https://scikit-learn.org/stable/modules/preprocessing.html\n",
      "Please also refer to the documentation for alternative solver options:\n",
      "    https://scikit-learn.org/stable/modules/linear_model.html#logistic-regression\n",
      "  extra_warning_msg=_LOGISTIC_SOLVER_CONVERGENCE_MSG,\n",
      "/opt/conda/lib/python3.7/site-packages/sklearn/linear_model/_logistic.py:1484: UserWarning: Setting penalty='none' will ignore the C and l1_ratio parameters\n",
      "  \"Setting penalty='none' will ignore the C and l1_ratio parameters\"\n",
      "/opt/conda/lib/python3.7/site-packages/sklearn/linear_model/_logistic.py:818: ConvergenceWarning: lbfgs failed to converge (status=1):\n",
      "STOP: TOTAL NO. of ITERATIONS REACHED LIMIT.\n",
      "\n",
      "Increase the number of iterations (max_iter) or scale the data as shown in:\n",
      "    https://scikit-learn.org/stable/modules/preprocessing.html\n",
      "Please also refer to the documentation for alternative solver options:\n",
      "    https://scikit-learn.org/stable/modules/linear_model.html#logistic-regression\n",
      "  extra_warning_msg=_LOGISTIC_SOLVER_CONVERGENCE_MSG,\n",
      "/opt/conda/lib/python3.7/site-packages/sklearn/linear_model/_logistic.py:1484: UserWarning: Setting penalty='none' will ignore the C and l1_ratio parameters\n",
      "  \"Setting penalty='none' will ignore the C and l1_ratio parameters\"\n",
      "/opt/conda/lib/python3.7/site-packages/sklearn/linear_model/_logistic.py:818: ConvergenceWarning: lbfgs failed to converge (status=1):\n",
      "STOP: TOTAL NO. of ITERATIONS REACHED LIMIT.\n",
      "\n",
      "Increase the number of iterations (max_iter) or scale the data as shown in:\n",
      "    https://scikit-learn.org/stable/modules/preprocessing.html\n",
      "Please also refer to the documentation for alternative solver options:\n",
      "    https://scikit-learn.org/stable/modules/linear_model.html#logistic-regression\n",
      "  extra_warning_msg=_LOGISTIC_SOLVER_CONVERGENCE_MSG,\n",
      "/opt/conda/lib/python3.7/site-packages/sklearn/linear_model/_logistic.py:1484: UserWarning: Setting penalty='none' will ignore the C and l1_ratio parameters\n",
      "  \"Setting penalty='none' will ignore the C and l1_ratio parameters\"\n",
      "/opt/conda/lib/python3.7/site-packages/sklearn/linear_model/_logistic.py:818: ConvergenceWarning: lbfgs failed to converge (status=1):\n",
      "STOP: TOTAL NO. of ITERATIONS REACHED LIMIT.\n",
      "\n",
      "Increase the number of iterations (max_iter) or scale the data as shown in:\n",
      "    https://scikit-learn.org/stable/modules/preprocessing.html\n",
      "Please also refer to the documentation for alternative solver options:\n",
      "    https://scikit-learn.org/stable/modules/linear_model.html#logistic-regression\n",
      "  extra_warning_msg=_LOGISTIC_SOLVER_CONVERGENCE_MSG,\n",
      "/opt/conda/lib/python3.7/site-packages/sklearn/linear_model/_logistic.py:1484: UserWarning: Setting penalty='none' will ignore the C and l1_ratio parameters\n",
      "  \"Setting penalty='none' will ignore the C and l1_ratio parameters\"\n",
      "/opt/conda/lib/python3.7/site-packages/sklearn/linear_model/_logistic.py:818: ConvergenceWarning: lbfgs failed to converge (status=1):\n",
      "STOP: TOTAL NO. of ITERATIONS REACHED LIMIT.\n",
      "\n",
      "Increase the number of iterations (max_iter) or scale the data as shown in:\n",
      "    https://scikit-learn.org/stable/modules/preprocessing.html\n",
      "Please also refer to the documentation for alternative solver options:\n",
      "    https://scikit-learn.org/stable/modules/linear_model.html#logistic-regression\n",
      "  extra_warning_msg=_LOGISTIC_SOLVER_CONVERGENCE_MSG,\n",
      "/opt/conda/lib/python3.7/site-packages/sklearn/linear_model/_logistic.py:1484: UserWarning: Setting penalty='none' will ignore the C and l1_ratio parameters\n",
      "  \"Setting penalty='none' will ignore the C and l1_ratio parameters\"\n",
      "/opt/conda/lib/python3.7/site-packages/sklearn/linear_model/_logistic.py:818: ConvergenceWarning: lbfgs failed to converge (status=1):\n",
      "STOP: TOTAL NO. of ITERATIONS REACHED LIMIT.\n",
      "\n",
      "Increase the number of iterations (max_iter) or scale the data as shown in:\n",
      "    https://scikit-learn.org/stable/modules/preprocessing.html\n",
      "Please also refer to the documentation for alternative solver options:\n",
      "    https://scikit-learn.org/stable/modules/linear_model.html#logistic-regression\n",
      "  extra_warning_msg=_LOGISTIC_SOLVER_CONVERGENCE_MSG,\n",
      "/opt/conda/lib/python3.7/site-packages/sklearn/linear_model/_logistic.py:1484: UserWarning: Setting penalty='none' will ignore the C and l1_ratio parameters\n",
      "  \"Setting penalty='none' will ignore the C and l1_ratio parameters\"\n",
      "/opt/conda/lib/python3.7/site-packages/sklearn/linear_model/_logistic.py:818: ConvergenceWarning: lbfgs failed to converge (status=1):\n",
      "STOP: TOTAL NO. of ITERATIONS REACHED LIMIT.\n",
      "\n",
      "Increase the number of iterations (max_iter) or scale the data as shown in:\n",
      "    https://scikit-learn.org/stable/modules/preprocessing.html\n",
      "Please also refer to the documentation for alternative solver options:\n",
      "    https://scikit-learn.org/stable/modules/linear_model.html#logistic-regression\n",
      "  extra_warning_msg=_LOGISTIC_SOLVER_CONVERGENCE_MSG,\n",
      "/opt/conda/lib/python3.7/site-packages/sklearn/linear_model/_logistic.py:1484: UserWarning: Setting penalty='none' will ignore the C and l1_ratio parameters\n",
      "  \"Setting penalty='none' will ignore the C and l1_ratio parameters\"\n",
      "/opt/conda/lib/python3.7/site-packages/sklearn/linear_model/_logistic.py:818: ConvergenceWarning: lbfgs failed to converge (status=1):\n",
      "STOP: TOTAL NO. of ITERATIONS REACHED LIMIT.\n",
      "\n",
      "Increase the number of iterations (max_iter) or scale the data as shown in:\n",
      "    https://scikit-learn.org/stable/modules/preprocessing.html\n",
      "Please also refer to the documentation for alternative solver options:\n",
      "    https://scikit-learn.org/stable/modules/linear_model.html#logistic-regression\n",
      "  extra_warning_msg=_LOGISTIC_SOLVER_CONVERGENCE_MSG,\n",
      "/opt/conda/lib/python3.7/site-packages/sklearn/linear_model/_logistic.py:1484: UserWarning: Setting penalty='none' will ignore the C and l1_ratio parameters\n",
      "  \"Setting penalty='none' will ignore the C and l1_ratio parameters\"\n",
      "/opt/conda/lib/python3.7/site-packages/sklearn/linear_model/_logistic.py:818: ConvergenceWarning: lbfgs failed to converge (status=1):\n",
      "STOP: TOTAL NO. of ITERATIONS REACHED LIMIT.\n",
      "\n",
      "Increase the number of iterations (max_iter) or scale the data as shown in:\n",
      "    https://scikit-learn.org/stable/modules/preprocessing.html\n",
      "Please also refer to the documentation for alternative solver options:\n",
      "    https://scikit-learn.org/stable/modules/linear_model.html#logistic-regression\n",
      "  extra_warning_msg=_LOGISTIC_SOLVER_CONVERGENCE_MSG,\n",
      "/opt/conda/lib/python3.7/site-packages/sklearn/linear_model/_logistic.py:1484: UserWarning: Setting penalty='none' will ignore the C and l1_ratio parameters\n",
      "  \"Setting penalty='none' will ignore the C and l1_ratio parameters\"\n",
      "/opt/conda/lib/python3.7/site-packages/sklearn/linear_model/_logistic.py:818: ConvergenceWarning: lbfgs failed to converge (status=1):\n",
      "STOP: TOTAL NO. of ITERATIONS REACHED LIMIT.\n",
      "\n",
      "Increase the number of iterations (max_iter) or scale the data as shown in:\n",
      "    https://scikit-learn.org/stable/modules/preprocessing.html\n",
      "Please also refer to the documentation for alternative solver options:\n",
      "    https://scikit-learn.org/stable/modules/linear_model.html#logistic-regression\n",
      "  extra_warning_msg=_LOGISTIC_SOLVER_CONVERGENCE_MSG,\n",
      "/opt/conda/lib/python3.7/site-packages/sklearn/linear_model/_logistic.py:1484: UserWarning: Setting penalty='none' will ignore the C and l1_ratio parameters\n",
      "  \"Setting penalty='none' will ignore the C and l1_ratio parameters\"\n",
      "/opt/conda/lib/python3.7/site-packages/sklearn/linear_model/_logistic.py:818: ConvergenceWarning: lbfgs failed to converge (status=1):\n",
      "STOP: TOTAL NO. of ITERATIONS REACHED LIMIT.\n",
      "\n",
      "Increase the number of iterations (max_iter) or scale the data as shown in:\n",
      "    https://scikit-learn.org/stable/modules/preprocessing.html\n",
      "Please also refer to the documentation for alternative solver options:\n",
      "    https://scikit-learn.org/stable/modules/linear_model.html#logistic-regression\n",
      "  extra_warning_msg=_LOGISTIC_SOLVER_CONVERGENCE_MSG,\n",
      "/opt/conda/lib/python3.7/site-packages/sklearn/linear_model/_logistic.py:818: ConvergenceWarning: lbfgs failed to converge (status=1):\n",
      "STOP: TOTAL NO. of ITERATIONS REACHED LIMIT.\n",
      "\n",
      "Increase the number of iterations (max_iter) or scale the data as shown in:\n",
      "    https://scikit-learn.org/stable/modules/preprocessing.html\n",
      "Please also refer to the documentation for alternative solver options:\n",
      "    https://scikit-learn.org/stable/modules/linear_model.html#logistic-regression\n",
      "  extra_warning_msg=_LOGISTIC_SOLVER_CONVERGENCE_MSG,\n",
      "/opt/conda/lib/python3.7/site-packages/sklearn/linear_model/_logistic.py:818: ConvergenceWarning: lbfgs failed to converge (status=1):\n",
      "STOP: TOTAL NO. of ITERATIONS REACHED LIMIT.\n",
      "\n",
      "Increase the number of iterations (max_iter) or scale the data as shown in:\n",
      "    https://scikit-learn.org/stable/modules/preprocessing.html\n",
      "Please also refer to the documentation for alternative solver options:\n",
      "    https://scikit-learn.org/stable/modules/linear_model.html#logistic-regression\n",
      "  extra_warning_msg=_LOGISTIC_SOLVER_CONVERGENCE_MSG,\n",
      "/opt/conda/lib/python3.7/site-packages/sklearn/linear_model/_logistic.py:1484: UserWarning: Setting penalty='none' will ignore the C and l1_ratio parameters\n",
      "  \"Setting penalty='none' will ignore the C and l1_ratio parameters\"\n",
      "/opt/conda/lib/python3.7/site-packages/sklearn/linear_model/_logistic.py:818: ConvergenceWarning: lbfgs failed to converge (status=1):\n",
      "STOP: TOTAL NO. of ITERATIONS REACHED LIMIT.\n",
      "\n",
      "Increase the number of iterations (max_iter) or scale the data as shown in:\n",
      "    https://scikit-learn.org/stable/modules/preprocessing.html\n",
      "Please also refer to the documentation for alternative solver options:\n",
      "    https://scikit-learn.org/stable/modules/linear_model.html#logistic-regression\n",
      "  extra_warning_msg=_LOGISTIC_SOLVER_CONVERGENCE_MSG,\n",
      "/opt/conda/lib/python3.7/site-packages/sklearn/linear_model/_logistic.py:1484: UserWarning: Setting penalty='none' will ignore the C and l1_ratio parameters\n",
      "  \"Setting penalty='none' will ignore the C and l1_ratio parameters\"\n",
      "/opt/conda/lib/python3.7/site-packages/sklearn/linear_model/_logistic.py:818: ConvergenceWarning: lbfgs failed to converge (status=1):\n",
      "STOP: TOTAL NO. of ITERATIONS REACHED LIMIT.\n",
      "\n",
      "Increase the number of iterations (max_iter) or scale the data as shown in:\n",
      "    https://scikit-learn.org/stable/modules/preprocessing.html\n",
      "Please also refer to the documentation for alternative solver options:\n",
      "    https://scikit-learn.org/stable/modules/linear_model.html#logistic-regression\n",
      "  extra_warning_msg=_LOGISTIC_SOLVER_CONVERGENCE_MSG,\n",
      "/opt/conda/lib/python3.7/site-packages/sklearn/linear_model/_logistic.py:1484: UserWarning: Setting penalty='none' will ignore the C and l1_ratio parameters\n",
      "  \"Setting penalty='none' will ignore the C and l1_ratio parameters\"\n",
      "/opt/conda/lib/python3.7/site-packages/sklearn/linear_model/_logistic.py:818: ConvergenceWarning: lbfgs failed to converge (status=1):\n",
      "STOP: TOTAL NO. of ITERATIONS REACHED LIMIT.\n",
      "\n",
      "Increase the number of iterations (max_iter) or scale the data as shown in:\n",
      "    https://scikit-learn.org/stable/modules/preprocessing.html\n",
      "Please also refer to the documentation for alternative solver options:\n",
      "    https://scikit-learn.org/stable/modules/linear_model.html#logistic-regression\n",
      "  extra_warning_msg=_LOGISTIC_SOLVER_CONVERGENCE_MSG,\n",
      "/opt/conda/lib/python3.7/site-packages/sklearn/linear_model/_logistic.py:1484: UserWarning: Setting penalty='none' will ignore the C and l1_ratio parameters\n",
      "  \"Setting penalty='none' will ignore the C and l1_ratio parameters\"\n",
      "/opt/conda/lib/python3.7/site-packages/sklearn/linear_model/_logistic.py:818: ConvergenceWarning: lbfgs failed to converge (status=1):\n",
      "STOP: TOTAL NO. of ITERATIONS REACHED LIMIT.\n",
      "\n",
      "Increase the number of iterations (max_iter) or scale the data as shown in:\n",
      "    https://scikit-learn.org/stable/modules/preprocessing.html\n",
      "Please also refer to the documentation for alternative solver options:\n",
      "    https://scikit-learn.org/stable/modules/linear_model.html#logistic-regression\n",
      "  extra_warning_msg=_LOGISTIC_SOLVER_CONVERGENCE_MSG,\n",
      "/opt/conda/lib/python3.7/site-packages/sklearn/linear_model/_logistic.py:1484: UserWarning: Setting penalty='none' will ignore the C and l1_ratio parameters\n",
      "  \"Setting penalty='none' will ignore the C and l1_ratio parameters\"\n",
      "/opt/conda/lib/python3.7/site-packages/sklearn/linear_model/_logistic.py:818: ConvergenceWarning: lbfgs failed to converge (status=1):\n",
      "STOP: TOTAL NO. of ITERATIONS REACHED LIMIT.\n",
      "\n",
      "Increase the number of iterations (max_iter) or scale the data as shown in:\n",
      "    https://scikit-learn.org/stable/modules/preprocessing.html\n",
      "Please also refer to the documentation for alternative solver options:\n",
      "    https://scikit-learn.org/stable/modules/linear_model.html#logistic-regression\n",
      "  extra_warning_msg=_LOGISTIC_SOLVER_CONVERGENCE_MSG,\n",
      "/opt/conda/lib/python3.7/site-packages/sklearn/linear_model/_logistic.py:1484: UserWarning: Setting penalty='none' will ignore the C and l1_ratio parameters\n",
      "  \"Setting penalty='none' will ignore the C and l1_ratio parameters\"\n",
      "/opt/conda/lib/python3.7/site-packages/sklearn/linear_model/_logistic.py:818: ConvergenceWarning: lbfgs failed to converge (status=1):\n",
      "STOP: TOTAL NO. of ITERATIONS REACHED LIMIT.\n",
      "\n",
      "Increase the number of iterations (max_iter) or scale the data as shown in:\n",
      "    https://scikit-learn.org/stable/modules/preprocessing.html\n",
      "Please also refer to the documentation for alternative solver options:\n",
      "    https://scikit-learn.org/stable/modules/linear_model.html#logistic-regression\n",
      "  extra_warning_msg=_LOGISTIC_SOLVER_CONVERGENCE_MSG,\n",
      "/opt/conda/lib/python3.7/site-packages/sklearn/linear_model/_logistic.py:1484: UserWarning: Setting penalty='none' will ignore the C and l1_ratio parameters\n",
      "  \"Setting penalty='none' will ignore the C and l1_ratio parameters\"\n",
      "/opt/conda/lib/python3.7/site-packages/sklearn/linear_model/_logistic.py:818: ConvergenceWarning: lbfgs failed to converge (status=1):\n",
      "STOP: TOTAL NO. of ITERATIONS REACHED LIMIT.\n",
      "\n",
      "Increase the number of iterations (max_iter) or scale the data as shown in:\n",
      "    https://scikit-learn.org/stable/modules/preprocessing.html\n",
      "Please also refer to the documentation for alternative solver options:\n",
      "    https://scikit-learn.org/stable/modules/linear_model.html#logistic-regression\n",
      "  extra_warning_msg=_LOGISTIC_SOLVER_CONVERGENCE_MSG,\n",
      "/opt/conda/lib/python3.7/site-packages/sklearn/linear_model/_logistic.py:1484: UserWarning: Setting penalty='none' will ignore the C and l1_ratio parameters\n",
      "  \"Setting penalty='none' will ignore the C and l1_ratio parameters\"\n",
      "/opt/conda/lib/python3.7/site-packages/sklearn/linear_model/_logistic.py:818: ConvergenceWarning: lbfgs failed to converge (status=1):\n",
      "STOP: TOTAL NO. of ITERATIONS REACHED LIMIT.\n",
      "\n",
      "Increase the number of iterations (max_iter) or scale the data as shown in:\n",
      "    https://scikit-learn.org/stable/modules/preprocessing.html\n",
      "Please also refer to the documentation for alternative solver options:\n",
      "    https://scikit-learn.org/stable/modules/linear_model.html#logistic-regression\n",
      "  extra_warning_msg=_LOGISTIC_SOLVER_CONVERGENCE_MSG,\n",
      "/opt/conda/lib/python3.7/site-packages/sklearn/linear_model/_logistic.py:818: ConvergenceWarning: lbfgs failed to converge (status=1):\n",
      "STOP: TOTAL NO. of ITERATIONS REACHED LIMIT.\n",
      "\n",
      "Increase the number of iterations (max_iter) or scale the data as shown in:\n",
      "    https://scikit-learn.org/stable/modules/preprocessing.html\n",
      "Please also refer to the documentation for alternative solver options:\n",
      "    https://scikit-learn.org/stable/modules/linear_model.html#logistic-regression\n",
      "  extra_warning_msg=_LOGISTIC_SOLVER_CONVERGENCE_MSG,\n",
      "/opt/conda/lib/python3.7/site-packages/sklearn/linear_model/_logistic.py:818: ConvergenceWarning: lbfgs failed to converge (status=1):\n",
      "STOP: TOTAL NO. of ITERATIONS REACHED LIMIT.\n",
      "\n",
      "Increase the number of iterations (max_iter) or scale the data as shown in:\n",
      "    https://scikit-learn.org/stable/modules/preprocessing.html\n",
      "Please also refer to the documentation for alternative solver options:\n",
      "    https://scikit-learn.org/stable/modules/linear_model.html#logistic-regression\n",
      "  extra_warning_msg=_LOGISTIC_SOLVER_CONVERGENCE_MSG,\n",
      "/opt/conda/lib/python3.7/site-packages/sklearn/linear_model/_logistic.py:818: ConvergenceWarning: lbfgs failed to converge (status=1):\n",
      "STOP: TOTAL NO. of ITERATIONS REACHED LIMIT.\n",
      "\n",
      "Increase the number of iterations (max_iter) or scale the data as shown in:\n",
      "    https://scikit-learn.org/stable/modules/preprocessing.html\n",
      "Please also refer to the documentation for alternative solver options:\n",
      "    https://scikit-learn.org/stable/modules/linear_model.html#logistic-regression\n",
      "  extra_warning_msg=_LOGISTIC_SOLVER_CONVERGENCE_MSG,\n",
      "/opt/conda/lib/python3.7/site-packages/sklearn/linear_model/_logistic.py:818: ConvergenceWarning: lbfgs failed to converge (status=1):\n",
      "STOP: TOTAL NO. of ITERATIONS REACHED LIMIT.\n",
      "\n",
      "Increase the number of iterations (max_iter) or scale the data as shown in:\n",
      "    https://scikit-learn.org/stable/modules/preprocessing.html\n",
      "Please also refer to the documentation for alternative solver options:\n",
      "    https://scikit-learn.org/stable/modules/linear_model.html#logistic-regression\n",
      "  extra_warning_msg=_LOGISTIC_SOLVER_CONVERGENCE_MSG,\n",
      "/opt/conda/lib/python3.7/site-packages/sklearn/linear_model/_logistic.py:818: ConvergenceWarning: lbfgs failed to converge (status=1):\n",
      "STOP: TOTAL NO. of ITERATIONS REACHED LIMIT.\n",
      "\n",
      "Increase the number of iterations (max_iter) or scale the data as shown in:\n",
      "    https://scikit-learn.org/stable/modules/preprocessing.html\n",
      "Please also refer to the documentation for alternative solver options:\n",
      "    https://scikit-learn.org/stable/modules/linear_model.html#logistic-regression\n",
      "  extra_warning_msg=_LOGISTIC_SOLVER_CONVERGENCE_MSG,\n",
      "/opt/conda/lib/python3.7/site-packages/sklearn/linear_model/_logistic.py:1484: UserWarning: Setting penalty='none' will ignore the C and l1_ratio parameters\n",
      "  \"Setting penalty='none' will ignore the C and l1_ratio parameters\"\n",
      "/opt/conda/lib/python3.7/site-packages/sklearn/linear_model/_logistic.py:818: ConvergenceWarning: lbfgs failed to converge (status=1):\n",
      "STOP: TOTAL NO. of ITERATIONS REACHED LIMIT.\n",
      "\n",
      "Increase the number of iterations (max_iter) or scale the data as shown in:\n",
      "    https://scikit-learn.org/stable/modules/preprocessing.html\n",
      "Please also refer to the documentation for alternative solver options:\n",
      "    https://scikit-learn.org/stable/modules/linear_model.html#logistic-regression\n",
      "  extra_warning_msg=_LOGISTIC_SOLVER_CONVERGENCE_MSG,\n",
      "/opt/conda/lib/python3.7/site-packages/sklearn/linear_model/_logistic.py:1484: UserWarning: Setting penalty='none' will ignore the C and l1_ratio parameters\n",
      "  \"Setting penalty='none' will ignore the C and l1_ratio parameters\"\n",
      "/opt/conda/lib/python3.7/site-packages/sklearn/linear_model/_logistic.py:818: ConvergenceWarning: lbfgs failed to converge (status=1):\n",
      "STOP: TOTAL NO. of ITERATIONS REACHED LIMIT.\n",
      "\n",
      "Increase the number of iterations (max_iter) or scale the data as shown in:\n",
      "    https://scikit-learn.org/stable/modules/preprocessing.html\n",
      "Please also refer to the documentation for alternative solver options:\n",
      "    https://scikit-learn.org/stable/modules/linear_model.html#logistic-regression\n",
      "  extra_warning_msg=_LOGISTIC_SOLVER_CONVERGENCE_MSG,\n",
      "/opt/conda/lib/python3.7/site-packages/sklearn/linear_model/_logistic.py:1484: UserWarning: Setting penalty='none' will ignore the C and l1_ratio parameters\n",
      "  \"Setting penalty='none' will ignore the C and l1_ratio parameters\"\n",
      "/opt/conda/lib/python3.7/site-packages/sklearn/linear_model/_logistic.py:818: ConvergenceWarning: lbfgs failed to converge (status=1):\n",
      "STOP: TOTAL NO. of ITERATIONS REACHED LIMIT.\n",
      "\n",
      "Increase the number of iterations (max_iter) or scale the data as shown in:\n",
      "    https://scikit-learn.org/stable/modules/preprocessing.html\n",
      "Please also refer to the documentation for alternative solver options:\n",
      "    https://scikit-learn.org/stable/modules/linear_model.html#logistic-regression\n",
      "  extra_warning_msg=_LOGISTIC_SOLVER_CONVERGENCE_MSG,\n",
      "/opt/conda/lib/python3.7/site-packages/sklearn/linear_model/_logistic.py:1484: UserWarning: Setting penalty='none' will ignore the C and l1_ratio parameters\n",
      "  \"Setting penalty='none' will ignore the C and l1_ratio parameters\"\n",
      "/opt/conda/lib/python3.7/site-packages/sklearn/linear_model/_logistic.py:818: ConvergenceWarning: lbfgs failed to converge (status=1):\n",
      "STOP: TOTAL NO. of ITERATIONS REACHED LIMIT.\n",
      "\n",
      "Increase the number of iterations (max_iter) or scale the data as shown in:\n",
      "    https://scikit-learn.org/stable/modules/preprocessing.html\n",
      "Please also refer to the documentation for alternative solver options:\n",
      "    https://scikit-learn.org/stable/modules/linear_model.html#logistic-regression\n",
      "  extra_warning_msg=_LOGISTIC_SOLVER_CONVERGENCE_MSG,\n",
      "/opt/conda/lib/python3.7/site-packages/sklearn/linear_model/_logistic.py:1484: UserWarning: Setting penalty='none' will ignore the C and l1_ratio parameters\n",
      "  \"Setting penalty='none' will ignore the C and l1_ratio parameters\"\n",
      "/opt/conda/lib/python3.7/site-packages/sklearn/linear_model/_logistic.py:818: ConvergenceWarning: lbfgs failed to converge (status=1):\n",
      "STOP: TOTAL NO. of ITERATIONS REACHED LIMIT.\n",
      "\n",
      "Increase the number of iterations (max_iter) or scale the data as shown in:\n",
      "    https://scikit-learn.org/stable/modules/preprocessing.html\n",
      "Please also refer to the documentation for alternative solver options:\n",
      "    https://scikit-learn.org/stable/modules/linear_model.html#logistic-regression\n",
      "  extra_warning_msg=_LOGISTIC_SOLVER_CONVERGENCE_MSG,\n",
      "/opt/conda/lib/python3.7/site-packages/sklearn/linear_model/_logistic.py:1484: UserWarning: Setting penalty='none' will ignore the C and l1_ratio parameters\n",
      "  \"Setting penalty='none' will ignore the C and l1_ratio parameters\"\n",
      "/opt/conda/lib/python3.7/site-packages/sklearn/linear_model/_logistic.py:818: ConvergenceWarning: lbfgs failed to converge (status=1):\n",
      "STOP: TOTAL NO. of ITERATIONS REACHED LIMIT.\n",
      "\n",
      "Increase the number of iterations (max_iter) or scale the data as shown in:\n",
      "    https://scikit-learn.org/stable/modules/preprocessing.html\n",
      "Please also refer to the documentation for alternative solver options:\n",
      "    https://scikit-learn.org/stable/modules/linear_model.html#logistic-regression\n",
      "  extra_warning_msg=_LOGISTIC_SOLVER_CONVERGENCE_MSG,\n",
      "/opt/conda/lib/python3.7/site-packages/sklearn/linear_model/_logistic.py:1484: UserWarning: Setting penalty='none' will ignore the C and l1_ratio parameters\n",
      "  \"Setting penalty='none' will ignore the C and l1_ratio parameters\"\n",
      "/opt/conda/lib/python3.7/site-packages/sklearn/linear_model/_logistic.py:818: ConvergenceWarning: lbfgs failed to converge (status=1):\n",
      "STOP: TOTAL NO. of ITERATIONS REACHED LIMIT.\n",
      "\n",
      "Increase the number of iterations (max_iter) or scale the data as shown in:\n",
      "    https://scikit-learn.org/stable/modules/preprocessing.html\n",
      "Please also refer to the documentation for alternative solver options:\n",
      "    https://scikit-learn.org/stable/modules/linear_model.html#logistic-regression\n",
      "  extra_warning_msg=_LOGISTIC_SOLVER_CONVERGENCE_MSG,\n",
      "/opt/conda/lib/python3.7/site-packages/sklearn/linear_model/_logistic.py:1484: UserWarning: Setting penalty='none' will ignore the C and l1_ratio parameters\n",
      "  \"Setting penalty='none' will ignore the C and l1_ratio parameters\"\n",
      "/opt/conda/lib/python3.7/site-packages/sklearn/linear_model/_logistic.py:818: ConvergenceWarning: lbfgs failed to converge (status=1):\n",
      "STOP: TOTAL NO. of ITERATIONS REACHED LIMIT.\n",
      "\n",
      "Increase the number of iterations (max_iter) or scale the data as shown in:\n",
      "    https://scikit-learn.org/stable/modules/preprocessing.html\n",
      "Please also refer to the documentation for alternative solver options:\n",
      "    https://scikit-learn.org/stable/modules/linear_model.html#logistic-regression\n",
      "  extra_warning_msg=_LOGISTIC_SOLVER_CONVERGENCE_MSG,\n",
      "/opt/conda/lib/python3.7/site-packages/sklearn/linear_model/_logistic.py:1484: UserWarning: Setting penalty='none' will ignore the C and l1_ratio parameters\n",
      "  \"Setting penalty='none' will ignore the C and l1_ratio parameters\"\n",
      "/opt/conda/lib/python3.7/site-packages/sklearn/linear_model/_logistic.py:818: ConvergenceWarning: lbfgs failed to converge (status=1):\n",
      "STOP: TOTAL NO. of ITERATIONS REACHED LIMIT.\n",
      "\n",
      "Increase the number of iterations (max_iter) or scale the data as shown in:\n",
      "    https://scikit-learn.org/stable/modules/preprocessing.html\n",
      "Please also refer to the documentation for alternative solver options:\n",
      "    https://scikit-learn.org/stable/modules/linear_model.html#logistic-regression\n",
      "  extra_warning_msg=_LOGISTIC_SOLVER_CONVERGENCE_MSG,\n",
      "/opt/conda/lib/python3.7/site-packages/sklearn/linear_model/_logistic.py:1484: UserWarning: Setting penalty='none' will ignore the C and l1_ratio parameters\n",
      "  \"Setting penalty='none' will ignore the C and l1_ratio parameters\"\n",
      "/opt/conda/lib/python3.7/site-packages/sklearn/linear_model/_logistic.py:818: ConvergenceWarning: lbfgs failed to converge (status=1):\n",
      "STOP: TOTAL NO. of ITERATIONS REACHED LIMIT.\n",
      "\n",
      "Increase the number of iterations (max_iter) or scale the data as shown in:\n",
      "    https://scikit-learn.org/stable/modules/preprocessing.html\n",
      "Please also refer to the documentation for alternative solver options:\n",
      "    https://scikit-learn.org/stable/modules/linear_model.html#logistic-regression\n",
      "  extra_warning_msg=_LOGISTIC_SOLVER_CONVERGENCE_MSG,\n",
      "/opt/conda/lib/python3.7/site-packages/sklearn/linear_model/_logistic.py:818: ConvergenceWarning: lbfgs failed to converge (status=1):\n",
      "STOP: TOTAL NO. of ITERATIONS REACHED LIMIT.\n",
      "\n",
      "Increase the number of iterations (max_iter) or scale the data as shown in:\n",
      "    https://scikit-learn.org/stable/modules/preprocessing.html\n",
      "Please also refer to the documentation for alternative solver options:\n",
      "    https://scikit-learn.org/stable/modules/linear_model.html#logistic-regression\n",
      "  extra_warning_msg=_LOGISTIC_SOLVER_CONVERGENCE_MSG,\n",
      "/opt/conda/lib/python3.7/site-packages/sklearn/linear_model/_logistic.py:818: ConvergenceWarning: lbfgs failed to converge (status=1):\n",
      "STOP: TOTAL NO. of ITERATIONS REACHED LIMIT.\n",
      "\n",
      "Increase the number of iterations (max_iter) or scale the data as shown in:\n",
      "    https://scikit-learn.org/stable/modules/preprocessing.html\n",
      "Please also refer to the documentation for alternative solver options:\n",
      "    https://scikit-learn.org/stable/modules/linear_model.html#logistic-regression\n",
      "  extra_warning_msg=_LOGISTIC_SOLVER_CONVERGENCE_MSG,\n",
      "/opt/conda/lib/python3.7/site-packages/sklearn/linear_model/_logistic.py:818: ConvergenceWarning: lbfgs failed to converge (status=1):\n",
      "STOP: TOTAL NO. of ITERATIONS REACHED LIMIT.\n",
      "\n",
      "Increase the number of iterations (max_iter) or scale the data as shown in:\n",
      "    https://scikit-learn.org/stable/modules/preprocessing.html\n",
      "Please also refer to the documentation for alternative solver options:\n",
      "    https://scikit-learn.org/stable/modules/linear_model.html#logistic-regression\n",
      "  extra_warning_msg=_LOGISTIC_SOLVER_CONVERGENCE_MSG,\n",
      "/opt/conda/lib/python3.7/site-packages/sklearn/linear_model/_logistic.py:818: ConvergenceWarning: lbfgs failed to converge (status=1):\n",
      "STOP: TOTAL NO. of ITERATIONS REACHED LIMIT.\n",
      "\n",
      "Increase the number of iterations (max_iter) or scale the data as shown in:\n",
      "    https://scikit-learn.org/stable/modules/preprocessing.html\n",
      "Please also refer to the documentation for alternative solver options:\n",
      "    https://scikit-learn.org/stable/modules/linear_model.html#logistic-regression\n",
      "  extra_warning_msg=_LOGISTIC_SOLVER_CONVERGENCE_MSG,\n",
      "/opt/conda/lib/python3.7/site-packages/sklearn/linear_model/_logistic.py:818: ConvergenceWarning: lbfgs failed to converge (status=1):\n",
      "STOP: TOTAL NO. of ITERATIONS REACHED LIMIT.\n",
      "\n",
      "Increase the number of iterations (max_iter) or scale the data as shown in:\n",
      "    https://scikit-learn.org/stable/modules/preprocessing.html\n",
      "Please also refer to the documentation for alternative solver options:\n",
      "    https://scikit-learn.org/stable/modules/linear_model.html#logistic-regression\n",
      "  extra_warning_msg=_LOGISTIC_SOLVER_CONVERGENCE_MSG,\n",
      "/opt/conda/lib/python3.7/site-packages/sklearn/linear_model/_logistic.py:818: ConvergenceWarning: lbfgs failed to converge (status=1):\n",
      "STOP: TOTAL NO. of ITERATIONS REACHED LIMIT.\n",
      "\n",
      "Increase the number of iterations (max_iter) or scale the data as shown in:\n",
      "    https://scikit-learn.org/stable/modules/preprocessing.html\n",
      "Please also refer to the documentation for alternative solver options:\n",
      "    https://scikit-learn.org/stable/modules/linear_model.html#logistic-regression\n",
      "  extra_warning_msg=_LOGISTIC_SOLVER_CONVERGENCE_MSG,\n",
      "/opt/conda/lib/python3.7/site-packages/sklearn/linear_model/_logistic.py:818: ConvergenceWarning: lbfgs failed to converge (status=1):\n",
      "STOP: TOTAL NO. of ITERATIONS REACHED LIMIT.\n",
      "\n",
      "Increase the number of iterations (max_iter) or scale the data as shown in:\n",
      "    https://scikit-learn.org/stable/modules/preprocessing.html\n",
      "Please also refer to the documentation for alternative solver options:\n",
      "    https://scikit-learn.org/stable/modules/linear_model.html#logistic-regression\n",
      "  extra_warning_msg=_LOGISTIC_SOLVER_CONVERGENCE_MSG,\n",
      "/opt/conda/lib/python3.7/site-packages/sklearn/linear_model/_logistic.py:818: ConvergenceWarning: lbfgs failed to converge (status=1):\n",
      "STOP: TOTAL NO. of ITERATIONS REACHED LIMIT.\n",
      "\n",
      "Increase the number of iterations (max_iter) or scale the data as shown in:\n",
      "    https://scikit-learn.org/stable/modules/preprocessing.html\n",
      "Please also refer to the documentation for alternative solver options:\n",
      "    https://scikit-learn.org/stable/modules/linear_model.html#logistic-regression\n",
      "  extra_warning_msg=_LOGISTIC_SOLVER_CONVERGENCE_MSG,\n",
      "/opt/conda/lib/python3.7/site-packages/sklearn/linear_model/_logistic.py:818: ConvergenceWarning: lbfgs failed to converge (status=1):\n",
      "STOP: TOTAL NO. of ITERATIONS REACHED LIMIT.\n",
      "\n",
      "Increase the number of iterations (max_iter) or scale the data as shown in:\n",
      "    https://scikit-learn.org/stable/modules/preprocessing.html\n",
      "Please also refer to the documentation for alternative solver options:\n",
      "    https://scikit-learn.org/stable/modules/linear_model.html#logistic-regression\n",
      "  extra_warning_msg=_LOGISTIC_SOLVER_CONVERGENCE_MSG,\n",
      "/opt/conda/lib/python3.7/site-packages/sklearn/linear_model/_logistic.py:818: ConvergenceWarning: lbfgs failed to converge (status=1):\n",
      "STOP: TOTAL NO. of ITERATIONS REACHED LIMIT.\n",
      "\n",
      "Increase the number of iterations (max_iter) or scale the data as shown in:\n",
      "    https://scikit-learn.org/stable/modules/preprocessing.html\n",
      "Please also refer to the documentation for alternative solver options:\n",
      "    https://scikit-learn.org/stable/modules/linear_model.html#logistic-regression\n",
      "  extra_warning_msg=_LOGISTIC_SOLVER_CONVERGENCE_MSG,\n",
      "/opt/conda/lib/python3.7/site-packages/sklearn/linear_model/_logistic.py:818: ConvergenceWarning: lbfgs failed to converge (status=1):\n",
      "STOP: TOTAL NO. of ITERATIONS REACHED LIMIT.\n",
      "\n",
      "Increase the number of iterations (max_iter) or scale the data as shown in:\n",
      "    https://scikit-learn.org/stable/modules/preprocessing.html\n",
      "Please also refer to the documentation for alternative solver options:\n",
      "    https://scikit-learn.org/stable/modules/linear_model.html#logistic-regression\n",
      "  extra_warning_msg=_LOGISTIC_SOLVER_CONVERGENCE_MSG,\n",
      "/opt/conda/lib/python3.7/site-packages/sklearn/linear_model/_logistic.py:818: ConvergenceWarning: lbfgs failed to converge (status=1):\n",
      "STOP: TOTAL NO. of ITERATIONS REACHED LIMIT.\n",
      "\n",
      "Increase the number of iterations (max_iter) or scale the data as shown in:\n",
      "    https://scikit-learn.org/stable/modules/preprocessing.html\n",
      "Please also refer to the documentation for alternative solver options:\n",
      "    https://scikit-learn.org/stable/modules/linear_model.html#logistic-regression\n",
      "  extra_warning_msg=_LOGISTIC_SOLVER_CONVERGENCE_MSG,\n",
      "/opt/conda/lib/python3.7/site-packages/sklearn/linear_model/_logistic.py:818: ConvergenceWarning: lbfgs failed to converge (status=1):\n",
      "STOP: TOTAL NO. of ITERATIONS REACHED LIMIT.\n",
      "\n",
      "Increase the number of iterations (max_iter) or scale the data as shown in:\n",
      "    https://scikit-learn.org/stable/modules/preprocessing.html\n",
      "Please also refer to the documentation for alternative solver options:\n",
      "    https://scikit-learn.org/stable/modules/linear_model.html#logistic-regression\n",
      "  extra_warning_msg=_LOGISTIC_SOLVER_CONVERGENCE_MSG,\n",
      "/opt/conda/lib/python3.7/site-packages/sklearn/linear_model/_logistic.py:818: ConvergenceWarning: lbfgs failed to converge (status=1):\n",
      "STOP: TOTAL NO. of ITERATIONS REACHED LIMIT.\n",
      "\n",
      "Increase the number of iterations (max_iter) or scale the data as shown in:\n",
      "    https://scikit-learn.org/stable/modules/preprocessing.html\n",
      "Please also refer to the documentation for alternative solver options:\n",
      "    https://scikit-learn.org/stable/modules/linear_model.html#logistic-regression\n",
      "  extra_warning_msg=_LOGISTIC_SOLVER_CONVERGENCE_MSG,\n",
      "/opt/conda/lib/python3.7/site-packages/sklearn/linear_model/_logistic.py:1484: UserWarning: Setting penalty='none' will ignore the C and l1_ratio parameters\n",
      "  \"Setting penalty='none' will ignore the C and l1_ratio parameters\"\n",
      "/opt/conda/lib/python3.7/site-packages/sklearn/linear_model/_logistic.py:818: ConvergenceWarning: lbfgs failed to converge (status=1):\n",
      "STOP: TOTAL NO. of ITERATIONS REACHED LIMIT.\n",
      "\n",
      "Increase the number of iterations (max_iter) or scale the data as shown in:\n",
      "    https://scikit-learn.org/stable/modules/preprocessing.html\n",
      "Please also refer to the documentation for alternative solver options:\n",
      "    https://scikit-learn.org/stable/modules/linear_model.html#logistic-regression\n",
      "  extra_warning_msg=_LOGISTIC_SOLVER_CONVERGENCE_MSG,\n",
      "/opt/conda/lib/python3.7/site-packages/sklearn/linear_model/_logistic.py:1484: UserWarning: Setting penalty='none' will ignore the C and l1_ratio parameters\n",
      "  \"Setting penalty='none' will ignore the C and l1_ratio parameters\"\n",
      "/opt/conda/lib/python3.7/site-packages/sklearn/linear_model/_logistic.py:818: ConvergenceWarning: lbfgs failed to converge (status=1):\n",
      "STOP: TOTAL NO. of ITERATIONS REACHED LIMIT.\n",
      "\n",
      "Increase the number of iterations (max_iter) or scale the data as shown in:\n",
      "    https://scikit-learn.org/stable/modules/preprocessing.html\n",
      "Please also refer to the documentation for alternative solver options:\n",
      "    https://scikit-learn.org/stable/modules/linear_model.html#logistic-regression\n",
      "  extra_warning_msg=_LOGISTIC_SOLVER_CONVERGENCE_MSG,\n",
      "/opt/conda/lib/python3.7/site-packages/sklearn/linear_model/_logistic.py:1484: UserWarning: Setting penalty='none' will ignore the C and l1_ratio parameters\n",
      "  \"Setting penalty='none' will ignore the C and l1_ratio parameters\"\n",
      "/opt/conda/lib/python3.7/site-packages/sklearn/linear_model/_logistic.py:818: ConvergenceWarning: lbfgs failed to converge (status=1):\n",
      "STOP: TOTAL NO. of ITERATIONS REACHED LIMIT.\n",
      "\n",
      "Increase the number of iterations (max_iter) or scale the data as shown in:\n",
      "    https://scikit-learn.org/stable/modules/preprocessing.html\n",
      "Please also refer to the documentation for alternative solver options:\n",
      "    https://scikit-learn.org/stable/modules/linear_model.html#logistic-regression\n",
      "  extra_warning_msg=_LOGISTIC_SOLVER_CONVERGENCE_MSG,\n",
      "/opt/conda/lib/python3.7/site-packages/sklearn/linear_model/_logistic.py:818: ConvergenceWarning: lbfgs failed to converge (status=1):\n",
      "STOP: TOTAL NO. of ITERATIONS REACHED LIMIT.\n",
      "\n",
      "Increase the number of iterations (max_iter) or scale the data as shown in:\n",
      "    https://scikit-learn.org/stable/modules/preprocessing.html\n",
      "Please also refer to the documentation for alternative solver options:\n",
      "    https://scikit-learn.org/stable/modules/linear_model.html#logistic-regression\n",
      "  extra_warning_msg=_LOGISTIC_SOLVER_CONVERGENCE_MSG,\n",
      "/opt/conda/lib/python3.7/site-packages/sklearn/linear_model/_logistic.py:818: ConvergenceWarning: lbfgs failed to converge (status=1):\n",
      "STOP: TOTAL NO. of ITERATIONS REACHED LIMIT.\n",
      "\n",
      "Increase the number of iterations (max_iter) or scale the data as shown in:\n",
      "    https://scikit-learn.org/stable/modules/preprocessing.html\n",
      "Please also refer to the documentation for alternative solver options:\n",
      "    https://scikit-learn.org/stable/modules/linear_model.html#logistic-regression\n",
      "  extra_warning_msg=_LOGISTIC_SOLVER_CONVERGENCE_MSG,\n",
      "/opt/conda/lib/python3.7/site-packages/sklearn/linear_model/_logistic.py:818: ConvergenceWarning: lbfgs failed to converge (status=1):\n",
      "STOP: TOTAL NO. of ITERATIONS REACHED LIMIT.\n",
      "\n",
      "Increase the number of iterations (max_iter) or scale the data as shown in:\n",
      "    https://scikit-learn.org/stable/modules/preprocessing.html\n",
      "Please also refer to the documentation for alternative solver options:\n",
      "    https://scikit-learn.org/stable/modules/linear_model.html#logistic-regression\n",
      "  extra_warning_msg=_LOGISTIC_SOLVER_CONVERGENCE_MSG,\n",
      "/opt/conda/lib/python3.7/site-packages/sklearn/linear_model/_logistic.py:818: ConvergenceWarning: lbfgs failed to converge (status=1):\n",
      "STOP: TOTAL NO. of ITERATIONS REACHED LIMIT.\n",
      "\n",
      "Increase the number of iterations (max_iter) or scale the data as shown in:\n",
      "    https://scikit-learn.org/stable/modules/preprocessing.html\n",
      "Please also refer to the documentation for alternative solver options:\n",
      "    https://scikit-learn.org/stable/modules/linear_model.html#logistic-regression\n",
      "  extra_warning_msg=_LOGISTIC_SOLVER_CONVERGENCE_MSG,\n",
      "/opt/conda/lib/python3.7/site-packages/sklearn/linear_model/_logistic.py:818: ConvergenceWarning: lbfgs failed to converge (status=1):\n",
      "STOP: TOTAL NO. of ITERATIONS REACHED LIMIT.\n",
      "\n",
      "Increase the number of iterations (max_iter) or scale the data as shown in:\n",
      "    https://scikit-learn.org/stable/modules/preprocessing.html\n",
      "Please also refer to the documentation for alternative solver options:\n",
      "    https://scikit-learn.org/stable/modules/linear_model.html#logistic-regression\n",
      "  extra_warning_msg=_LOGISTIC_SOLVER_CONVERGENCE_MSG,\n",
      "/opt/conda/lib/python3.7/site-packages/sklearn/linear_model/_logistic.py:1484: UserWarning: Setting penalty='none' will ignore the C and l1_ratio parameters\n",
      "  \"Setting penalty='none' will ignore the C and l1_ratio parameters\"\n",
      "/opt/conda/lib/python3.7/site-packages/sklearn/linear_model/_logistic.py:818: ConvergenceWarning: lbfgs failed to converge (status=1):\n",
      "STOP: TOTAL NO. of ITERATIONS REACHED LIMIT.\n",
      "\n",
      "Increase the number of iterations (max_iter) or scale the data as shown in:\n",
      "    https://scikit-learn.org/stable/modules/preprocessing.html\n",
      "Please also refer to the documentation for alternative solver options:\n",
      "    https://scikit-learn.org/stable/modules/linear_model.html#logistic-regression\n",
      "  extra_warning_msg=_LOGISTIC_SOLVER_CONVERGENCE_MSG,\n",
      "/opt/conda/lib/python3.7/site-packages/sklearn/linear_model/_logistic.py:818: ConvergenceWarning: lbfgs failed to converge (status=1):\n",
      "STOP: TOTAL NO. of ITERATIONS REACHED LIMIT.\n",
      "\n",
      "Increase the number of iterations (max_iter) or scale the data as shown in:\n",
      "    https://scikit-learn.org/stable/modules/preprocessing.html\n",
      "Please also refer to the documentation for alternative solver options:\n",
      "    https://scikit-learn.org/stable/modules/linear_model.html#logistic-regression\n",
      "  extra_warning_msg=_LOGISTIC_SOLVER_CONVERGENCE_MSG,\n",
      "/opt/conda/lib/python3.7/site-packages/sklearn/linear_model/_logistic.py:818: ConvergenceWarning: lbfgs failed to converge (status=1):\n",
      "STOP: TOTAL NO. of ITERATIONS REACHED LIMIT.\n",
      "\n",
      "Increase the number of iterations (max_iter) or scale the data as shown in:\n",
      "    https://scikit-learn.org/stable/modules/preprocessing.html\n",
      "Please also refer to the documentation for alternative solver options:\n",
      "    https://scikit-learn.org/stable/modules/linear_model.html#logistic-regression\n",
      "  extra_warning_msg=_LOGISTIC_SOLVER_CONVERGENCE_MSG,\n",
      "/opt/conda/lib/python3.7/site-packages/sklearn/linear_model/_logistic.py:1484: UserWarning: Setting penalty='none' will ignore the C and l1_ratio parameters\n",
      "  \"Setting penalty='none' will ignore the C and l1_ratio parameters\"\n",
      "/opt/conda/lib/python3.7/site-packages/sklearn/linear_model/_logistic.py:818: ConvergenceWarning: lbfgs failed to converge (status=1):\n",
      "STOP: TOTAL NO. of ITERATIONS REACHED LIMIT.\n",
      "\n",
      "Increase the number of iterations (max_iter) or scale the data as shown in:\n",
      "    https://scikit-learn.org/stable/modules/preprocessing.html\n",
      "Please also refer to the documentation for alternative solver options:\n",
      "    https://scikit-learn.org/stable/modules/linear_model.html#logistic-regression\n",
      "  extra_warning_msg=_LOGISTIC_SOLVER_CONVERGENCE_MSG,\n",
      "/opt/conda/lib/python3.7/site-packages/sklearn/linear_model/_logistic.py:818: ConvergenceWarning: lbfgs failed to converge (status=1):\n",
      "STOP: TOTAL NO. of ITERATIONS REACHED LIMIT.\n",
      "\n",
      "Increase the number of iterations (max_iter) or scale the data as shown in:\n",
      "    https://scikit-learn.org/stable/modules/preprocessing.html\n",
      "Please also refer to the documentation for alternative solver options:\n",
      "    https://scikit-learn.org/stable/modules/linear_model.html#logistic-regression\n",
      "  extra_warning_msg=_LOGISTIC_SOLVER_CONVERGENCE_MSG,\n",
      "/opt/conda/lib/python3.7/site-packages/sklearn/linear_model/_logistic.py:818: ConvergenceWarning: lbfgs failed to converge (status=1):\n",
      "STOP: TOTAL NO. of ITERATIONS REACHED LIMIT.\n",
      "\n",
      "Increase the number of iterations (max_iter) or scale the data as shown in:\n",
      "    https://scikit-learn.org/stable/modules/preprocessing.html\n",
      "Please also refer to the documentation for alternative solver options:\n",
      "    https://scikit-learn.org/stable/modules/linear_model.html#logistic-regression\n",
      "  extra_warning_msg=_LOGISTIC_SOLVER_CONVERGENCE_MSG,\n",
      "/opt/conda/lib/python3.7/site-packages/sklearn/linear_model/_logistic.py:1484: UserWarning: Setting penalty='none' will ignore the C and l1_ratio parameters\n",
      "  \"Setting penalty='none' will ignore the C and l1_ratio parameters\"\n",
      "/opt/conda/lib/python3.7/site-packages/sklearn/linear_model/_logistic.py:818: ConvergenceWarning: lbfgs failed to converge (status=1):\n",
      "STOP: TOTAL NO. of ITERATIONS REACHED LIMIT.\n",
      "\n",
      "Increase the number of iterations (max_iter) or scale the data as shown in:\n",
      "    https://scikit-learn.org/stable/modules/preprocessing.html\n",
      "Please also refer to the documentation for alternative solver options:\n",
      "    https://scikit-learn.org/stable/modules/linear_model.html#logistic-regression\n",
      "  extra_warning_msg=_LOGISTIC_SOLVER_CONVERGENCE_MSG,\n",
      "/opt/conda/lib/python3.7/site-packages/sklearn/linear_model/_logistic.py:1484: UserWarning: Setting penalty='none' will ignore the C and l1_ratio parameters\n",
      "  \"Setting penalty='none' will ignore the C and l1_ratio parameters\"\n",
      "/opt/conda/lib/python3.7/site-packages/sklearn/linear_model/_logistic.py:818: ConvergenceWarning: lbfgs failed to converge (status=1):\n",
      "STOP: TOTAL NO. of ITERATIONS REACHED LIMIT.\n",
      "\n",
      "Increase the number of iterations (max_iter) or scale the data as shown in:\n",
      "    https://scikit-learn.org/stable/modules/preprocessing.html\n",
      "Please also refer to the documentation for alternative solver options:\n",
      "    https://scikit-learn.org/stable/modules/linear_model.html#logistic-regression\n",
      "  extra_warning_msg=_LOGISTIC_SOLVER_CONVERGENCE_MSG,\n",
      "/opt/conda/lib/python3.7/site-packages/sklearn/linear_model/_logistic.py:1484: UserWarning: Setting penalty='none' will ignore the C and l1_ratio parameters\n",
      "  \"Setting penalty='none' will ignore the C and l1_ratio parameters\"\n",
      "/opt/conda/lib/python3.7/site-packages/sklearn/linear_model/_logistic.py:818: ConvergenceWarning: lbfgs failed to converge (status=1):\n",
      "STOP: TOTAL NO. of ITERATIONS REACHED LIMIT.\n",
      "\n",
      "Increase the number of iterations (max_iter) or scale the data as shown in:\n",
      "    https://scikit-learn.org/stable/modules/preprocessing.html\n",
      "Please also refer to the documentation for alternative solver options:\n",
      "    https://scikit-learn.org/stable/modules/linear_model.html#logistic-regression\n",
      "  extra_warning_msg=_LOGISTIC_SOLVER_CONVERGENCE_MSG,\n",
      "/opt/conda/lib/python3.7/site-packages/sklearn/model_selection/_validation.py:372: FitFailedWarning: \n",
      "160 fits failed out of a total of 320.\n",
      "The score on these train-test partitions for these parameters will be set to nan.\n",
      "If these failures are not expected, you can try to debug them by setting error_score='raise'.\n",
      "\n",
      "Below are more details about the failures:\n",
      "--------------------------------------------------------------------------------\n",
      "80 fits failed with the following error:\n",
      "Traceback (most recent call last):\n",
      "  File \"/opt/conda/lib/python3.7/site-packages/sklearn/model_selection/_validation.py\", line 680, in _fit_and_score\n",
      "    estimator.fit(X_train, y_train, **fit_params)\n",
      "  File \"/opt/conda/lib/python3.7/site-packages/sklearn/linear_model/_logistic.py\", line 1461, in fit\n",
      "    solver = _check_solver(self.solver, self.penalty, self.dual)\n",
      "  File \"/opt/conda/lib/python3.7/site-packages/sklearn/linear_model/_logistic.py\", line 449, in _check_solver\n",
      "    % (solver, penalty)\n",
      "ValueError: Solver lbfgs supports only 'l2' or 'none' penalties, got l1 penalty.\n",
      "\n",
      "--------------------------------------------------------------------------------\n",
      "80 fits failed with the following error:\n",
      "Traceback (most recent call last):\n",
      "  File \"/opt/conda/lib/python3.7/site-packages/sklearn/model_selection/_validation.py\", line 680, in _fit_and_score\n",
      "    estimator.fit(X_train, y_train, **fit_params)\n",
      "  File \"/opt/conda/lib/python3.7/site-packages/sklearn/linear_model/_logistic.py\", line 1461, in fit\n",
      "    solver = _check_solver(self.solver, self.penalty, self.dual)\n",
      "  File \"/opt/conda/lib/python3.7/site-packages/sklearn/linear_model/_logistic.py\", line 449, in _check_solver\n",
      "    % (solver, penalty)\n",
      "ValueError: Solver lbfgs supports only 'l2' or 'none' penalties, got elasticnet penalty.\n",
      "\n",
      "  warnings.warn(some_fits_failed_message, FitFailedWarning)\n",
      "/opt/conda/lib/python3.7/site-packages/sklearn/model_selection/_search.py:972: UserWarning: One or more of the test scores are non-finite: [       nan 0.72423868        nan 0.64086717        nan 0.72423868\n",
      "        nan 0.61757184        nan 0.72423868        nan 0.62654748\n",
      "        nan 0.72423868        nan 0.6133009         nan 0.72230898\n",
      "        nan 0.64086717        nan 0.72230898        nan 0.61757184\n",
      "        nan 0.72230898        nan 0.62654748        nan 0.72230898\n",
      "        nan 0.6133009         nan 0.69252282        nan 0.64086717\n",
      "        nan 0.69358842        nan 0.61757184        nan 0.69358842\n",
      "        nan 0.62654748        nan 0.69358842        nan 0.6133009\n",
      "        nan 0.65622347        nan 0.64086717        nan 0.64879803\n",
      "        nan 0.61757184        nan 0.64906685        nan 0.62654748\n",
      "        nan 0.65040018        nan 0.6133009 ]\n",
      "  category=UserWarning,\n"
     ]
    },
    {
     "data": {
      "image/png": "[encoded data removed]",
      "text/plain": [
       "<Figure size 432x288 with 1 Axes>"
      ]
     },
     "metadata": {
      "needs_background": "light"
     },
     "output_type": "display_data"
    }
   ],
   "source": [
    "log_reg_clf=RandomizedSearchCV(estimator=LogisticRegression(class_weight=\"balanced\"),param_distributions=log_grid,scoring=\"balanced_accuracy\",n_jobs=-1,cv=StratifiedKFold(),n_iter=100)\n",
    "\n",
    "#Fit the model\n",
    "log_reg_clf.fit(X_train,y_train)\n",
    "\n",
    "dump(log_reg_clf, 'logistic_regression.joblib') \n",
    "#Score and Store the model\n",
    "pred=log_reg_clf.predict(X_test)\n",
    "balanced_score=balanced_accuracy_score(y_test,pred)\n",
    "final_scores.append(balanced_score)\n",
    "plot_cm(log_reg_clf)"
   ]
  },
  {
   "cell_type": "code",
   "execution_count": 99,
   "id": "894b2275",
   "metadata": {
    "execution": {
     "iopub.execute_input": "2022-11-16T16:14:26.481709Z",
     "iopub.status.busy": "2022-11-16T16:14:26.481275Z",
     "iopub.status.idle": "2022-11-16T16:14:26.488231Z",
     "shell.execute_reply": "2022-11-16T16:14:26.487480Z"
    },
    "papermill": {
     "duration": 0.057692,
     "end_time": "2022-11-16T16:14:26.490313",
     "exception": false,
     "start_time": "2022-11-16T16:14:26.432621",
     "status": "completed"
    },
    "tags": []
   },
   "outputs": [
    {
     "data": {
      "text/plain": [
       "[0.6551282051282051,\n",
       " 0.6026074151074151,\n",
       " 0.6018970893970894,\n",
       " 0.6257709632709633]"
      ]
     },
     "execution_count": 99,
     "metadata": {},
     "output_type": "execute_result"
    }
   ],
   "source": [
    "final_scores"
   ]
  },
  {
   "cell_type": "code",
   "execution_count": 100,
   "id": "c53ab665",
   "metadata": {
    "execution": {
     "iopub.execute_input": "2022-11-16T16:14:26.583811Z",
     "iopub.status.busy": "2022-11-16T16:14:26.583386Z",
     "iopub.status.idle": "2022-11-16T16:14:26.589483Z",
     "shell.execute_reply": "2022-11-16T16:14:26.588593Z"
    },
    "papermill": {
     "duration": 0.056121,
     "end_time": "2022-11-16T16:14:26.591782",
     "exception": false,
     "start_time": "2022-11-16T16:14:26.535661",
     "status": "completed"
    },
    "tags": []
   },
   "outputs": [
    {
     "data": {
      "text/plain": [
       "['linear_svc',\n",
       " 'xgboost_classifier',\n",
       " 'catboost_classifier',\n",
       " 'logistic_regression']"
      ]
     },
     "execution_count": 100,
     "metadata": {},
     "output_type": "execute_result"
    }
   ],
   "source": [
    "final_class"
   ]
  },
  {
   "cell_type": "code",
   "execution_count": 101,
   "id": "3b63eb0a",
   "metadata": {
    "execution": {
     "iopub.execute_input": "2022-11-16T16:14:26.685204Z",
     "iopub.status.busy": "2022-11-16T16:14:26.684564Z",
     "iopub.status.idle": "2022-11-16T16:14:26.696021Z",
     "shell.execute_reply": "2022-11-16T16:14:26.694928Z"
    },
    "papermill": {
     "duration": 0.060797,
     "end_time": "2022-11-16T16:14:26.698269",
     "exception": false,
     "start_time": "2022-11-16T16:14:26.637472",
     "status": "completed"
    },
    "tags": []
   },
   "outputs": [
    {
     "data": {
      "text/html": [
       "<div>\n",
       "<style scoped>\n",
       "    .dataframe tbody tr th:only-of-type {\n",
       "        vertical-align: middle;\n",
       "    }\n",
       "\n",
       "    .dataframe tbody tr th {\n",
       "        vertical-align: top;\n",
       "    }\n",
       "\n",
       "    .dataframe thead th {\n",
       "        text-align: right;\n",
       "    }\n",
       "</style>\n",
       "<table border=\"1\" class=\"dataframe\">\n",
       "  <thead>\n",
       "    <tr style=\"text-align: right;\">\n",
       "      <th></th>\n",
       "      <th>Classifier</th>\n",
       "      <th>Score</th>\n",
       "    </tr>\n",
       "  </thead>\n",
       "  <tbody>\n",
       "    <tr>\n",
       "      <th>0</th>\n",
       "      <td>linear_svc</td>\n",
       "      <td>0.655128</td>\n",
       "    </tr>\n",
       "    <tr>\n",
       "      <th>1</th>\n",
       "      <td>xgboost_classifier</td>\n",
       "      <td>0.602607</td>\n",
       "    </tr>\n",
       "    <tr>\n",
       "      <th>2</th>\n",
       "      <td>catboost_classifier</td>\n",
       "      <td>0.601897</td>\n",
       "    </tr>\n",
       "    <tr>\n",
       "      <th>3</th>\n",
       "      <td>logistic_regression</td>\n",
       "      <td>0.625771</td>\n",
       "    </tr>\n",
       "  </tbody>\n",
       "</table>\n",
       "</div>"
      ],
      "text/plain": [
       "            Classifier     Score\n",
       "0           linear_svc  0.655128\n",
       "1   xgboost_classifier  0.602607\n",
       "2  catboost_classifier  0.601897\n",
       "3  logistic_regression  0.625771"
      ]
     },
     "execution_count": 101,
     "metadata": {},
     "output_type": "execute_result"
    }
   ],
   "source": [
    "final_sb=pd.DataFrame(list(zip(final_class,final_scores)),columns=['Classifier','Score'])\n",
    "final_sb"
   ]
  },
  {
   "cell_type": "code",
   "execution_count": 102,
   "id": "70deecae",
   "metadata": {
    "execution": {
     "iopub.execute_input": "2022-11-16T16:14:26.790142Z",
     "iopub.status.busy": "2022-11-16T16:14:26.789748Z",
     "iopub.status.idle": "2022-11-16T16:14:26.813108Z",
     "shell.execute_reply": "2022-11-16T16:14:26.811571Z"
    },
    "papermill": {
     "duration": 0.073875,
     "end_time": "2022-11-16T16:14:26.817238",
     "exception": false,
     "start_time": "2022-11-16T16:14:26.743363",
     "status": "completed"
    },
    "tags": []
   },
   "outputs": [
    {
     "data": {
      "text/html": [
       "<div>\n",
       "<style scoped>\n",
       "    .dataframe tbody tr th:only-of-type {\n",
       "        vertical-align: middle;\n",
       "    }\n",
       "\n",
       "    .dataframe tbody tr th {\n",
       "        vertical-align: top;\n",
       "    }\n",
       "\n",
       "    .dataframe thead th {\n",
       "        text-align: right;\n",
       "    }\n",
       "</style>\n",
       "<table border=\"1\" class=\"dataframe\">\n",
       "  <thead>\n",
       "    <tr style=\"text-align: right;\">\n",
       "      <th></th>\n",
       "      <th>cols</th>\n",
       "      <th>imp</th>\n",
       "    </tr>\n",
       "  </thead>\n",
       "  <tbody>\n",
       "    <tr>\n",
       "      <th>38</th>\n",
       "      <td>Takeout</td>\n",
       "      <td>0.377797</td>\n",
       "    </tr>\n",
       "    <tr>\n",
       "      <th>153</th>\n",
       "      <td>lg_rank</td>\n",
       "      <td>0.288305</td>\n",
       "    </tr>\n",
       "    <tr>\n",
       "      <th>145</th>\n",
       "      <td>value rating</td>\n",
       "      <td>0.199507</td>\n",
       "    </tr>\n",
       "    <tr>\n",
       "      <th>82</th>\n",
       "      <td>FastFood</td>\n",
       "      <td>0.177117</td>\n",
       "    </tr>\n",
       "    <tr>\n",
       "      <th>43</th>\n",
       "      <td>WheelchairAccessible</td>\n",
       "      <td>0.136139</td>\n",
       "    </tr>\n",
       "    <tr>\n",
       "      <th>63</th>\n",
       "      <td>Cafe</td>\n",
       "      <td>0.135535</td>\n",
       "    </tr>\n",
       "    <tr>\n",
       "      <th>106</th>\n",
       "      <td>MiddleEastern</td>\n",
       "      <td>0.125464</td>\n",
       "    </tr>\n",
       "    <tr>\n",
       "      <th>44</th>\n",
       "      <td>WineandBeer</td>\n",
       "      <td>0.121143</td>\n",
       "    </tr>\n",
       "    <tr>\n",
       "      <th>39</th>\n",
       "      <td>Television</td>\n",
       "      <td>0.115692</td>\n",
       "    </tr>\n",
       "    <tr>\n",
       "      <th>132</th>\n",
       "      <td>Turkish</td>\n",
       "      <td>0.111528</td>\n",
       "    </tr>\n",
       "  </tbody>\n",
       "</table>\n",
       "</div>"
      ],
      "text/plain": [
       "                     cols       imp\n",
       "38                Takeout  0.377797\n",
       "153               lg_rank  0.288305\n",
       "145          value rating  0.199507\n",
       "82               FastFood  0.177117\n",
       "43   WheelchairAccessible  0.136139\n",
       "63                   Cafe  0.135535\n",
       "106         MiddleEastern  0.125464\n",
       "44            WineandBeer  0.121143\n",
       "39             Television  0.115692\n",
       "132               Turkish  0.111528"
      ]
     },
     "execution_count": 102,
     "metadata": {},
     "output_type": "execute_result"
    }
   ],
   "source": [
    "importances=pd.DataFrame(dict(cols=feature_labels, imp=linear_svc_clf.best_estimator_.coef_[0]))\n",
    "importances.sort_values(\"imp\",ascending=False).head(10)"
   ]
  },
  {
   "cell_type": "code",
   "execution_count": 103,
   "id": "796b197e",
   "metadata": {
    "execution": {
     "iopub.execute_input": "2022-11-16T16:14:26.971615Z",
     "iopub.status.busy": "2022-11-16T16:14:26.971169Z",
     "iopub.status.idle": "2022-11-16T16:14:26.986041Z",
     "shell.execute_reply": "2022-11-16T16:14:26.984704Z"
    },
    "papermill": {
     "duration": 0.06451,
     "end_time": "2022-11-16T16:14:26.988520",
     "exception": false,
     "start_time": "2022-11-16T16:14:26.924010",
     "status": "completed"
    },
    "tags": []
   },
   "outputs": [
    {
     "data": {
      "text/html": [
       "<div>\n",
       "<style scoped>\n",
       "    .dataframe tbody tr th:only-of-type {\n",
       "        vertical-align: middle;\n",
       "    }\n",
       "\n",
       "    .dataframe tbody tr th {\n",
       "        vertical-align: top;\n",
       "    }\n",
       "\n",
       "    .dataframe thead th {\n",
       "        text-align: right;\n",
       "    }\n",
       "</style>\n",
       "<table border=\"1\" class=\"dataframe\">\n",
       "  <thead>\n",
       "    <tr style=\"text-align: right;\">\n",
       "      <th></th>\n",
       "      <th>cols</th>\n",
       "      <th>imp</th>\n",
       "    </tr>\n",
       "  </thead>\n",
       "  <tbody>\n",
       "    <tr>\n",
       "      <th>32</th>\n",
       "      <td>Reservations</td>\n",
       "      <td>0.148109</td>\n",
       "    </tr>\n",
       "    <tr>\n",
       "      <th>83</th>\n",
       "      <td>French</td>\n",
       "      <td>0.082906</td>\n",
       "    </tr>\n",
       "    <tr>\n",
       "      <th>144</th>\n",
       "      <td>michelin</td>\n",
       "      <td>0.074347</td>\n",
       "    </tr>\n",
       "    <tr>\n",
       "      <th>37</th>\n",
       "      <td>TableService</td>\n",
       "      <td>0.057006</td>\n",
       "    </tr>\n",
       "    <tr>\n",
       "      <th>137</th>\n",
       "      <td>GlutenFreeOptions</td>\n",
       "      <td>0.054946</td>\n",
       "    </tr>\n",
       "    <tr>\n",
       "      <th>81</th>\n",
       "      <td>European</td>\n",
       "      <td>0.041466</td>\n",
       "    </tr>\n",
       "    <tr>\n",
       "      <th>120</th>\n",
       "      <td>Seafood</td>\n",
       "      <td>0.036413</td>\n",
       "    </tr>\n",
       "    <tr>\n",
       "      <th>38</th>\n",
       "      <td>Takeout</td>\n",
       "      <td>0.031936</td>\n",
       "    </tr>\n",
       "    <tr>\n",
       "      <th>149</th>\n",
       "      <td>rank_missing</td>\n",
       "      <td>0.029421</td>\n",
       "    </tr>\n",
       "    <tr>\n",
       "      <th>146</th>\n",
       "      <td>atmosphere rating</td>\n",
       "      <td>0.029314</td>\n",
       "    </tr>\n",
       "  </tbody>\n",
       "</table>\n",
       "</div>"
      ],
      "text/plain": [
       "                  cols       imp\n",
       "32        Reservations  0.148109\n",
       "83              French  0.082906\n",
       "144           michelin  0.074347\n",
       "37        TableService  0.057006\n",
       "137  GlutenFreeOptions  0.054946\n",
       "81            European  0.041466\n",
       "120            Seafood  0.036413\n",
       "38             Takeout  0.031936\n",
       "149       rank_missing  0.029421\n",
       "146  atmosphere rating  0.029314"
      ]
     },
     "execution_count": 103,
     "metadata": {},
     "output_type": "execute_result"
    }
   ],
   "source": [
    "importances=pd.DataFrame(dict(cols=feature_labels, imp=xgboost_clf.best_estimator_.feature_importances_))\n",
    "importances.sort_values(\"imp\",ascending=False).head(10)"
   ]
  },
  {
   "cell_type": "code",
   "execution_count": 104,
   "id": "5a7577be",
   "metadata": {
    "execution": {
     "iopub.execute_input": "2022-11-16T16:14:27.082911Z",
     "iopub.status.busy": "2022-11-16T16:14:27.082485Z",
     "iopub.status.idle": "2022-11-16T16:14:27.097258Z",
     "shell.execute_reply": "2022-11-16T16:14:27.096088Z"
    },
    "papermill": {
     "duration": 0.06546,
     "end_time": "2022-11-16T16:14:27.099724",
     "exception": false,
     "start_time": "2022-11-16T16:14:27.034264",
     "status": "completed"
    },
    "tags": []
   },
   "outputs": [
    {
     "data": {
      "text/html": [
       "<div>\n",
       "<style scoped>\n",
       "    .dataframe tbody tr th:only-of-type {\n",
       "        vertical-align: middle;\n",
       "    }\n",
       "\n",
       "    .dataframe tbody tr th {\n",
       "        vertical-align: top;\n",
       "    }\n",
       "\n",
       "    .dataframe thead th {\n",
       "        text-align: right;\n",
       "    }\n",
       "</style>\n",
       "<table border=\"1\" class=\"dataframe\">\n",
       "  <thead>\n",
       "    <tr style=\"text-align: right;\">\n",
       "      <th></th>\n",
       "      <th>cols</th>\n",
       "      <th>imp</th>\n",
       "    </tr>\n",
       "  </thead>\n",
       "  <tbody>\n",
       "    <tr>\n",
       "      <th>83</th>\n",
       "      <td>French</td>\n",
       "      <td>21.362781</td>\n",
       "    </tr>\n",
       "    <tr>\n",
       "      <th>144</th>\n",
       "      <td>michelin</td>\n",
       "      <td>16.037678</td>\n",
       "    </tr>\n",
       "    <tr>\n",
       "      <th>154</th>\n",
       "      <td>lg_reviews</td>\n",
       "      <td>7.938330</td>\n",
       "    </tr>\n",
       "    <tr>\n",
       "      <th>120</th>\n",
       "      <td>Seafood</td>\n",
       "      <td>7.504201</td>\n",
       "    </tr>\n",
       "    <tr>\n",
       "      <th>32</th>\n",
       "      <td>Reservations</td>\n",
       "      <td>6.506453</td>\n",
       "    </tr>\n",
       "    <tr>\n",
       "      <th>153</th>\n",
       "      <td>lg_rank</td>\n",
       "      <td>6.302685</td>\n",
       "    </tr>\n",
       "    <tr>\n",
       "      <th>37</th>\n",
       "      <td>TableService</td>\n",
       "      <td>5.345717</td>\n",
       "    </tr>\n",
       "    <tr>\n",
       "      <th>150</th>\n",
       "      <td>atmosphere_missing</td>\n",
       "      <td>4.296200</td>\n",
       "    </tr>\n",
       "    <tr>\n",
       "      <th>137</th>\n",
       "      <td>GlutenFreeOptions</td>\n",
       "      <td>3.303151</td>\n",
       "    </tr>\n",
       "    <tr>\n",
       "      <th>31</th>\n",
       "      <td>PrivateDining</td>\n",
       "      <td>2.831799</td>\n",
       "    </tr>\n",
       "  </tbody>\n",
       "</table>\n",
       "</div>"
      ],
      "text/plain": [
       "                   cols        imp\n",
       "83               French  21.362781\n",
       "144            michelin  16.037678\n",
       "154          lg_reviews   7.938330\n",
       "120             Seafood   7.504201\n",
       "32         Reservations   6.506453\n",
       "153             lg_rank   6.302685\n",
       "37         TableService   5.345717\n",
       "150  atmosphere_missing   4.296200\n",
       "137   GlutenFreeOptions   3.303151\n",
       "31        PrivateDining   2.831799"
      ]
     },
     "execution_count": 104,
     "metadata": {},
     "output_type": "execute_result"
    }
   ],
   "source": [
    "importances=pd.DataFrame(dict(cols=feature_labels, imp=catboost_clf.best_estimator_.feature_importances_))\n",
    "importances.sort_values(\"imp\",ascending=False).head(10)"
   ]
  },
  {
   "cell_type": "code",
   "execution_count": 105,
   "id": "9d2e32ab",
   "metadata": {
    "execution": {
     "iopub.execute_input": "2022-11-16T16:14:27.194154Z",
     "iopub.status.busy": "2022-11-16T16:14:27.193732Z",
     "iopub.status.idle": "2022-11-16T16:14:27.208487Z",
     "shell.execute_reply": "2022-11-16T16:14:27.207465Z"
    },
    "papermill": {
     "duration": 0.064479,
     "end_time": "2022-11-16T16:14:27.210568",
     "exception": false,
     "start_time": "2022-11-16T16:14:27.146089",
     "status": "completed"
    },
    "tags": []
   },
   "outputs": [
    {
     "data": {
      "text/html": [
       "<div>\n",
       "<style scoped>\n",
       "    .dataframe tbody tr th:only-of-type {\n",
       "        vertical-align: middle;\n",
       "    }\n",
       "\n",
       "    .dataframe tbody tr th {\n",
       "        vertical-align: top;\n",
       "    }\n",
       "\n",
       "    .dataframe thead th {\n",
       "        text-align: right;\n",
       "    }\n",
       "</style>\n",
       "<table border=\"1\" class=\"dataframe\">\n",
       "  <thead>\n",
       "    <tr style=\"text-align: right;\">\n",
       "      <th></th>\n",
       "      <th>cols</th>\n",
       "      <th>imp</th>\n",
       "    </tr>\n",
       "  </thead>\n",
       "  <tbody>\n",
       "    <tr>\n",
       "      <th>153</th>\n",
       "      <td>lg_rank</td>\n",
       "      <td>0.353711</td>\n",
       "    </tr>\n",
       "    <tr>\n",
       "      <th>38</th>\n",
       "      <td>Takeout</td>\n",
       "      <td>0.340482</td>\n",
       "    </tr>\n",
       "    <tr>\n",
       "      <th>150</th>\n",
       "      <td>atmosphere_missing</td>\n",
       "      <td>0.199693</td>\n",
       "    </tr>\n",
       "    <tr>\n",
       "      <th>145</th>\n",
       "      <td>value rating</td>\n",
       "      <td>0.157130</td>\n",
       "    </tr>\n",
       "    <tr>\n",
       "      <th>82</th>\n",
       "      <td>FastFood</td>\n",
       "      <td>0.138581</td>\n",
       "    </tr>\n",
       "    <tr>\n",
       "      <th>63</th>\n",
       "      <td>Cafe</td>\n",
       "      <td>0.129901</td>\n",
       "    </tr>\n",
       "    <tr>\n",
       "      <th>3</th>\n",
       "      <td>Drinks</td>\n",
       "      <td>0.110485</td>\n",
       "    </tr>\n",
       "    <tr>\n",
       "      <th>43</th>\n",
       "      <td>WheelchairAccessible</td>\n",
       "      <td>0.074743</td>\n",
       "    </tr>\n",
       "    <tr>\n",
       "      <th>0</th>\n",
       "      <td>Breakfast</td>\n",
       "      <td>0.074630</td>\n",
       "    </tr>\n",
       "    <tr>\n",
       "      <th>136</th>\n",
       "      <td>cuisines_missing</td>\n",
       "      <td>0.066204</td>\n",
       "    </tr>\n",
       "  </tbody>\n",
       "</table>\n",
       "</div>"
      ],
      "text/plain": [
       "                     cols       imp\n",
       "153               lg_rank  0.353711\n",
       "38                Takeout  0.340482\n",
       "150    atmosphere_missing  0.199693\n",
       "145          value rating  0.157130\n",
       "82               FastFood  0.138581\n",
       "63                   Cafe  0.129901\n",
       "3                  Drinks  0.110485\n",
       "43   WheelchairAccessible  0.074743\n",
       "0               Breakfast  0.074630\n",
       "136      cuisines_missing  0.066204"
      ]
     },
     "execution_count": 105,
     "metadata": {},
     "output_type": "execute_result"
    }
   ],
   "source": [
    "importances=pd.DataFrame(dict(cols=feature_labels, imp=log_reg_clf.best_estimator_.coef_[0]))\n",
    "importances.sort_values(\"imp\",ascending=False).head(10)"
   ]
  },
  {
   "cell_type": "markdown",
   "id": "1a3c1488",
   "metadata": {
    "papermill": {
     "duration": 0.045899,
     "end_time": "2022-11-16T16:14:27.304599",
     "exception": false,
     "start_time": "2022-11-16T16:14:27.258700",
     "status": "completed"
    },
    "tags": []
   },
   "source": [
    "Last resort if nothing works to extract expensive restaurants, use anomaly based approach using isolation forest or PCA and binary classification on cheap restaurants."
   ]
  },
  {
   "cell_type": "markdown",
   "id": "dc38bf5c",
   "metadata": {},
   "source": [
    "TODO: conclusie schrijven van dat x de beste is en dan als input restaurants krijgen van idea1 en die predicten."
   ]
  }
 ],
 "metadata": {
  "kernelspec": {
   "display_name": "Python 3.10.2 64-bit",
   "language": "python",
   "name": "python3"
  },
  "language_info": {
   "codemirror_mode": {
    "name": "ipython",
    "version": 3
   },
   "file_extension": ".py",
   "mimetype": "text/x-python",
   "name": "python",
   "nbconvert_exporter": "python",
   "pygments_lexer": "ipython3",
   "version": "3.10.2"
  },
  "papermill": {
   "default_parameters": {},
   "duration": 3104.221154,
   "end_time": "2022-11-16T16:14:29.979297",
   "environment_variables": {},
   "exception": null,
   "input_path": "__notebook__.ipynb",
   "output_path": "__notebook__.ipynb",
   "parameters": {},
   "start_time": "2022-11-16T15:22:45.758143",
   "version": "2.3.4"
  },
  "vscode": {
   "interpreter": {
    "hash": "218548c374b4bbf341f954c1c86cc69d1fe99eef78085dfb9916d33ba2c70687"
   }
  }
 },
 "nbformat": 4,
 "nbformat_minor": 5
}
